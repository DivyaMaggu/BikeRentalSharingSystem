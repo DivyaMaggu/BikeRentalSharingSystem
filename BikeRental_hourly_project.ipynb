{
 "cells": [
  {
   "cell_type": "markdown",
   "id": "9963708b",
   "metadata": {
    "id": "9963708b"
   },
   "source": [
    "### Problem: Prediction of bike rental count on hourly basis based on the environmental and seasonal settings."
   ]
  },
  {
   "cell_type": "markdown",
   "id": "0fd64e26",
   "metadata": {
    "id": "0fd64e26"
   },
   "source": [
    "# Importing Libraries"
   ]
  },
  {
   "cell_type": "code",
   "execution_count": 1,
   "id": "442217ae",
   "metadata": {
    "id": "442217ae"
   },
   "outputs": [],
   "source": [
    "import numpy as np\n",
    "import pandas as pd\n",
    "from matplotlib import pyplot as plt\n",
    "%matplotlib inline\n",
    "import seaborn as sns "
   ]
  },
  {
   "cell_type": "markdown",
   "id": "412f5538",
   "metadata": {
    "id": "412f5538"
   },
   "source": [
    "#  Loading/Reading the data"
   ]
  },
  {
   "cell_type": "code",
   "execution_count": 2,
   "id": "6087b2c6",
   "metadata": {
    "id": "6087b2c6"
   },
   "outputs": [],
   "source": [
    "data = pd.read_csv(\"hour.csv\")"
   ]
  },
  {
   "cell_type": "markdown",
   "id": "ae497628",
   "metadata": {
    "id": "ae497628"
   },
   "source": [
    "# First five rows of the dataset"
   ]
  },
  {
   "cell_type": "code",
   "execution_count": 3,
   "id": "2110745d",
   "metadata": {
    "colab": {
     "base_uri": "https://localhost:8080/",
     "height": 206
    },
    "id": "2110745d",
    "outputId": "ebfe8267-6378-40a9-e654-a7da8c11f043"
   },
   "outputs": [
    {
     "data": {
      "text/html": [
       "<div>\n",
       "<style scoped>\n",
       "    .dataframe tbody tr th:only-of-type {\n",
       "        vertical-align: middle;\n",
       "    }\n",
       "\n",
       "    .dataframe tbody tr th {\n",
       "        vertical-align: top;\n",
       "    }\n",
       "\n",
       "    .dataframe thead th {\n",
       "        text-align: right;\n",
       "    }\n",
       "</style>\n",
       "<table border=\"1\" class=\"dataframe\">\n",
       "  <thead>\n",
       "    <tr style=\"text-align: right;\">\n",
       "      <th></th>\n",
       "      <th>instant</th>\n",
       "      <th>dteday</th>\n",
       "      <th>season</th>\n",
       "      <th>yr</th>\n",
       "      <th>mnth</th>\n",
       "      <th>hr</th>\n",
       "      <th>holiday</th>\n",
       "      <th>weekday</th>\n",
       "      <th>workingday</th>\n",
       "      <th>weathersit</th>\n",
       "      <th>temp</th>\n",
       "      <th>atemp</th>\n",
       "      <th>hum</th>\n",
       "      <th>windspeed</th>\n",
       "      <th>casual</th>\n",
       "      <th>registered</th>\n",
       "      <th>cnt</th>\n",
       "    </tr>\n",
       "  </thead>\n",
       "  <tbody>\n",
       "    <tr>\n",
       "      <th>0</th>\n",
       "      <td>1</td>\n",
       "      <td>2011-01-01</td>\n",
       "      <td>1</td>\n",
       "      <td>0</td>\n",
       "      <td>1</td>\n",
       "      <td>0</td>\n",
       "      <td>0</td>\n",
       "      <td>6</td>\n",
       "      <td>0</td>\n",
       "      <td>1</td>\n",
       "      <td>0.24</td>\n",
       "      <td>0.2879</td>\n",
       "      <td>0.81</td>\n",
       "      <td>0.0</td>\n",
       "      <td>3</td>\n",
       "      <td>13</td>\n",
       "      <td>16</td>\n",
       "    </tr>\n",
       "    <tr>\n",
       "      <th>1</th>\n",
       "      <td>2</td>\n",
       "      <td>2011-01-01</td>\n",
       "      <td>1</td>\n",
       "      <td>0</td>\n",
       "      <td>1</td>\n",
       "      <td>1</td>\n",
       "      <td>0</td>\n",
       "      <td>6</td>\n",
       "      <td>0</td>\n",
       "      <td>1</td>\n",
       "      <td>0.22</td>\n",
       "      <td>0.2727</td>\n",
       "      <td>0.80</td>\n",
       "      <td>0.0</td>\n",
       "      <td>8</td>\n",
       "      <td>32</td>\n",
       "      <td>40</td>\n",
       "    </tr>\n",
       "    <tr>\n",
       "      <th>2</th>\n",
       "      <td>3</td>\n",
       "      <td>2011-01-01</td>\n",
       "      <td>1</td>\n",
       "      <td>0</td>\n",
       "      <td>1</td>\n",
       "      <td>2</td>\n",
       "      <td>0</td>\n",
       "      <td>6</td>\n",
       "      <td>0</td>\n",
       "      <td>1</td>\n",
       "      <td>0.22</td>\n",
       "      <td>0.2727</td>\n",
       "      <td>0.80</td>\n",
       "      <td>0.0</td>\n",
       "      <td>5</td>\n",
       "      <td>27</td>\n",
       "      <td>32</td>\n",
       "    </tr>\n",
       "    <tr>\n",
       "      <th>3</th>\n",
       "      <td>4</td>\n",
       "      <td>2011-01-01</td>\n",
       "      <td>1</td>\n",
       "      <td>0</td>\n",
       "      <td>1</td>\n",
       "      <td>3</td>\n",
       "      <td>0</td>\n",
       "      <td>6</td>\n",
       "      <td>0</td>\n",
       "      <td>1</td>\n",
       "      <td>0.24</td>\n",
       "      <td>0.2879</td>\n",
       "      <td>0.75</td>\n",
       "      <td>0.0</td>\n",
       "      <td>3</td>\n",
       "      <td>10</td>\n",
       "      <td>13</td>\n",
       "    </tr>\n",
       "    <tr>\n",
       "      <th>4</th>\n",
       "      <td>5</td>\n",
       "      <td>2011-01-01</td>\n",
       "      <td>1</td>\n",
       "      <td>0</td>\n",
       "      <td>1</td>\n",
       "      <td>4</td>\n",
       "      <td>0</td>\n",
       "      <td>6</td>\n",
       "      <td>0</td>\n",
       "      <td>1</td>\n",
       "      <td>0.24</td>\n",
       "      <td>0.2879</td>\n",
       "      <td>0.75</td>\n",
       "      <td>0.0</td>\n",
       "      <td>0</td>\n",
       "      <td>1</td>\n",
       "      <td>1</td>\n",
       "    </tr>\n",
       "  </tbody>\n",
       "</table>\n",
       "</div>"
      ],
      "text/plain": [
       "   instant      dteday  season  yr  mnth  hr  holiday  weekday  workingday  \\\n",
       "0        1  2011-01-01       1   0     1   0        0        6           0   \n",
       "1        2  2011-01-01       1   0     1   1        0        6           0   \n",
       "2        3  2011-01-01       1   0     1   2        0        6           0   \n",
       "3        4  2011-01-01       1   0     1   3        0        6           0   \n",
       "4        5  2011-01-01       1   0     1   4        0        6           0   \n",
       "\n",
       "   weathersit  temp   atemp   hum  windspeed  casual  registered  cnt  \n",
       "0           1  0.24  0.2879  0.81        0.0       3          13   16  \n",
       "1           1  0.22  0.2727  0.80        0.0       8          32   40  \n",
       "2           1  0.22  0.2727  0.80        0.0       5          27   32  \n",
       "3           1  0.24  0.2879  0.75        0.0       3          10   13  \n",
       "4           1  0.24  0.2879  0.75        0.0       0           1    1  "
      ]
     },
     "execution_count": 3,
     "metadata": {},
     "output_type": "execute_result"
    }
   ],
   "source": [
    "data.head()"
   ]
  },
  {
   "cell_type": "markdown",
   "id": "2dd71031",
   "metadata": {
    "id": "2dd71031"
   },
   "source": [
    "# Renaming the features for better understanding"
   ]
  },
  {
   "cell_type": "code",
   "execution_count": 4,
   "id": "c862ccb1",
   "metadata": {
    "id": "c862ccb1"
   },
   "outputs": [],
   "source": [
    "data.rename(columns={\"instant\":\"record_id\",\"dteday\":\"date\",\"yr\":\"year\",\"mnth\":\"month\",\"weathersit\":\"weather_condition\",\n",
    "                     \"hum\":\"humidity\",\"cnt\":\"total_counts\"},inplace=True)"
   ]
  },
  {
   "cell_type": "code",
   "execution_count": 5,
   "id": "35647a30",
   "metadata": {
    "colab": {
     "base_uri": "https://localhost:8080/",
     "height": 206
    },
    "id": "35647a30",
    "outputId": "b0142c43-eae8-474a-9482-da234e57088b"
   },
   "outputs": [
    {
     "data": {
      "text/html": [
       "<div>\n",
       "<style scoped>\n",
       "    .dataframe tbody tr th:only-of-type {\n",
       "        vertical-align: middle;\n",
       "    }\n",
       "\n",
       "    .dataframe tbody tr th {\n",
       "        vertical-align: top;\n",
       "    }\n",
       "\n",
       "    .dataframe thead th {\n",
       "        text-align: right;\n",
       "    }\n",
       "</style>\n",
       "<table border=\"1\" class=\"dataframe\">\n",
       "  <thead>\n",
       "    <tr style=\"text-align: right;\">\n",
       "      <th></th>\n",
       "      <th>record_id</th>\n",
       "      <th>date</th>\n",
       "      <th>season</th>\n",
       "      <th>year</th>\n",
       "      <th>month</th>\n",
       "      <th>hr</th>\n",
       "      <th>holiday</th>\n",
       "      <th>weekday</th>\n",
       "      <th>workingday</th>\n",
       "      <th>weather_condition</th>\n",
       "      <th>temp</th>\n",
       "      <th>atemp</th>\n",
       "      <th>humidity</th>\n",
       "      <th>windspeed</th>\n",
       "      <th>casual</th>\n",
       "      <th>registered</th>\n",
       "      <th>total_counts</th>\n",
       "    </tr>\n",
       "  </thead>\n",
       "  <tbody>\n",
       "    <tr>\n",
       "      <th>0</th>\n",
       "      <td>1</td>\n",
       "      <td>2011-01-01</td>\n",
       "      <td>1</td>\n",
       "      <td>0</td>\n",
       "      <td>1</td>\n",
       "      <td>0</td>\n",
       "      <td>0</td>\n",
       "      <td>6</td>\n",
       "      <td>0</td>\n",
       "      <td>1</td>\n",
       "      <td>0.24</td>\n",
       "      <td>0.2879</td>\n",
       "      <td>0.81</td>\n",
       "      <td>0.0</td>\n",
       "      <td>3</td>\n",
       "      <td>13</td>\n",
       "      <td>16</td>\n",
       "    </tr>\n",
       "    <tr>\n",
       "      <th>1</th>\n",
       "      <td>2</td>\n",
       "      <td>2011-01-01</td>\n",
       "      <td>1</td>\n",
       "      <td>0</td>\n",
       "      <td>1</td>\n",
       "      <td>1</td>\n",
       "      <td>0</td>\n",
       "      <td>6</td>\n",
       "      <td>0</td>\n",
       "      <td>1</td>\n",
       "      <td>0.22</td>\n",
       "      <td>0.2727</td>\n",
       "      <td>0.80</td>\n",
       "      <td>0.0</td>\n",
       "      <td>8</td>\n",
       "      <td>32</td>\n",
       "      <td>40</td>\n",
       "    </tr>\n",
       "    <tr>\n",
       "      <th>2</th>\n",
       "      <td>3</td>\n",
       "      <td>2011-01-01</td>\n",
       "      <td>1</td>\n",
       "      <td>0</td>\n",
       "      <td>1</td>\n",
       "      <td>2</td>\n",
       "      <td>0</td>\n",
       "      <td>6</td>\n",
       "      <td>0</td>\n",
       "      <td>1</td>\n",
       "      <td>0.22</td>\n",
       "      <td>0.2727</td>\n",
       "      <td>0.80</td>\n",
       "      <td>0.0</td>\n",
       "      <td>5</td>\n",
       "      <td>27</td>\n",
       "      <td>32</td>\n",
       "    </tr>\n",
       "    <tr>\n",
       "      <th>3</th>\n",
       "      <td>4</td>\n",
       "      <td>2011-01-01</td>\n",
       "      <td>1</td>\n",
       "      <td>0</td>\n",
       "      <td>1</td>\n",
       "      <td>3</td>\n",
       "      <td>0</td>\n",
       "      <td>6</td>\n",
       "      <td>0</td>\n",
       "      <td>1</td>\n",
       "      <td>0.24</td>\n",
       "      <td>0.2879</td>\n",
       "      <td>0.75</td>\n",
       "      <td>0.0</td>\n",
       "      <td>3</td>\n",
       "      <td>10</td>\n",
       "      <td>13</td>\n",
       "    </tr>\n",
       "    <tr>\n",
       "      <th>4</th>\n",
       "      <td>5</td>\n",
       "      <td>2011-01-01</td>\n",
       "      <td>1</td>\n",
       "      <td>0</td>\n",
       "      <td>1</td>\n",
       "      <td>4</td>\n",
       "      <td>0</td>\n",
       "      <td>6</td>\n",
       "      <td>0</td>\n",
       "      <td>1</td>\n",
       "      <td>0.24</td>\n",
       "      <td>0.2879</td>\n",
       "      <td>0.75</td>\n",
       "      <td>0.0</td>\n",
       "      <td>0</td>\n",
       "      <td>1</td>\n",
       "      <td>1</td>\n",
       "    </tr>\n",
       "  </tbody>\n",
       "</table>\n",
       "</div>"
      ],
      "text/plain": [
       "   record_id        date  season  year  month  hr  holiday  weekday  \\\n",
       "0          1  2011-01-01       1     0      1   0        0        6   \n",
       "1          2  2011-01-01       1     0      1   1        0        6   \n",
       "2          3  2011-01-01       1     0      1   2        0        6   \n",
       "3          4  2011-01-01       1     0      1   3        0        6   \n",
       "4          5  2011-01-01       1     0      1   4        0        6   \n",
       "\n",
       "   workingday  weather_condition  temp   atemp  humidity  windspeed  casual  \\\n",
       "0           0                  1  0.24  0.2879      0.81        0.0       3   \n",
       "1           0                  1  0.22  0.2727      0.80        0.0       8   \n",
       "2           0                  1  0.22  0.2727      0.80        0.0       5   \n",
       "3           0                  1  0.24  0.2879      0.75        0.0       3   \n",
       "4           0                  1  0.24  0.2879      0.75        0.0       0   \n",
       "\n",
       "   registered  total_counts  \n",
       "0          13            16  \n",
       "1          32            40  \n",
       "2          27            32  \n",
       "3          10            13  \n",
       "4           1             1  "
      ]
     },
     "execution_count": 5,
     "metadata": {},
     "output_type": "execute_result"
    }
   ],
   "source": [
    "data.head()"
   ]
  },
  {
   "cell_type": "markdown",
   "id": "8ef3e347",
   "metadata": {
    "id": "8ef3e347"
   },
   "source": [
    "# Attributes detail - \n",
    "What each feature of data is all about"
   ]
  },
  {
   "cell_type": "markdown",
   "id": "c084eca9",
   "metadata": {
    "id": "c084eca9"
   },
   "source": [
    "### TARGET FEATURE - TOTAL_COUNTS\n",
    "* Count of total rental bikes including both casual and registered"
   ]
  },
  {
   "cell_type": "markdown",
   "id": "222165fe",
   "metadata": {
    "id": "222165fe"
   },
   "source": [
    "### - CASUAL AND REGISTERD\n",
    "* CASUAL: count of casual users\n",
    "* REGISTERED : count of registered users"
   ]
  },
  {
   "cell_type": "markdown",
   "id": "246002ea",
   "metadata": {
    "id": "246002ea"
   },
   "source": [
    "### 1. INSTANT\n",
    "\n",
    "* Record index"
   ]
  },
  {
   "cell_type": "markdown",
   "id": "b4e79628",
   "metadata": {
    "id": "b4e79628"
   },
   "source": [
    "### 2. DATE\n",
    "* Given date"
   ]
  },
  {
   "cell_type": "markdown",
   "id": "2fa128e8",
   "metadata": {
    "id": "2fa128e8"
   },
   "source": [
    "### 3. SEASON\n",
    "* 1 is winter\n",
    "* 2  is spring \n",
    "* 3  is  summer\n",
    "* 4 is fall (rain)"
   ]
  },
  {
   "cell_type": "markdown",
   "id": "e2e70dfd",
   "metadata": {
    "id": "e2e70dfd"
   },
   "source": [
    "### 4. MONTH\n",
    "* Months from 1  to  12"
   ]
  },
  {
   "cell_type": "markdown",
   "id": "aeb67163",
   "metadata": {
    "id": "aeb67163"
   },
   "source": [
    "### 5. HR\n",
    "* Hours starting from 0 - 23"
   ]
  },
  {
   "cell_type": "markdown",
   "id": "8097a1cb",
   "metadata": {
    "id": "8097a1cb"
   },
   "source": [
    "### 6. HOLIDAY\n",
    "* 1 means holiday 0 means not"
   ]
  },
  {
   "cell_type": "markdown",
   "id": "a001f537",
   "metadata": {
    "id": "a001f537"
   },
   "source": [
    "### 7. WEEKDAY\n",
    "* Days of week from (0-6)"
   ]
  },
  {
   "cell_type": "markdown",
   "id": "d7e8d45b",
   "metadata": {
    "id": "d7e8d45b"
   },
   "source": [
    "### 8. WORKING DAY\n",
    "\n",
    "*  If day is neither weekend nor holiday is 1, otherwise is 0. "
   ]
  },
  {
   "cell_type": "markdown",
   "id": "f61f1aa8",
   "metadata": {
    "id": "f61f1aa8"
   },
   "source": [
    "### 9.  WEATHER_CONDITION\n",
    "\n",
    "* 1: Clear, Few clouds, Partly cloudy, Partly cloudy\n",
    "* 2: Mist + Cloudy, Mist + Broken clouds, Mist + Few clouds, Mist\n",
    "* 3: Light Snow, Light Rain + Thunderstorm + Scattered clouds, Light Rain + Scattered clouds\n",
    "* 4: Heavy Rain + Ice Pallets + Thunderstorm + Mist, Snow + Fog"
   ]
  },
  {
   "cell_type": "markdown",
   "id": "5169e26e",
   "metadata": {
    "id": "5169e26e"
   },
   "source": [
    "### 10. TEMP AND ATEMP\n",
    "\n",
    "* temp : Normalized temperature in Celsius. The values are derived via (t-t_min)/(t_max-t_min), t_min=-8, t_max=+39 (only in hourly scale)\n",
    "* atemp : Normalized feeling temperature in Celsius. The values are derived via (t-t_min)/(t_max-t_min), t_min=-16, t_max=+50 (only in hourly scale)"
   ]
  },
  {
   "cell_type": "markdown",
   "id": "22b711b7",
   "metadata": {
    "id": "22b711b7"
   },
   "source": [
    "### 11. HUMIDITY\n",
    "\n",
    "* Humidity: Normalized humidity. The values are divided to 100 (max)"
   ]
  },
  {
   "cell_type": "markdown",
   "id": "cc231cb8",
   "metadata": {
    "id": "cc231cb8"
   },
   "source": [
    "### 12. WINDSPEED\n",
    "* Windspeed: Normalized wind speed. The values are divided to 67 (max)"
   ]
  },
  {
   "cell_type": "markdown",
   "id": "04bbb937",
   "metadata": {
    "id": "04bbb937"
   },
   "source": [
    "# Basic Checks"
   ]
  },
  {
   "cell_type": "markdown",
   "id": "fb0bdfa7",
   "metadata": {
    "id": "fb0bdfa7"
   },
   "source": [
    "#### SHAPE AND SIZE  OF THE DATASET"
   ]
  },
  {
   "cell_type": "code",
   "execution_count": 8,
   "id": "5aa399ca",
   "metadata": {
    "colab": {
     "base_uri": "https://localhost:8080/"
    },
    "id": "5aa399ca",
    "outputId": "1cc7d5d9-c4c1-4c51-d5d0-c72f42e0cd6c"
   },
   "outputs": [
    {
     "data": {
      "text/plain": [
       "(17379, 17)"
      ]
     },
     "execution_count": 8,
     "metadata": {},
     "output_type": "execute_result"
    }
   ],
   "source": [
    "data.shape"
   ]
  },
  {
   "cell_type": "markdown",
   "id": "5def2064",
   "metadata": {
    "id": "5def2064"
   },
   "source": [
    "* From this we get to know that in this dataset 17379 number of rows and 17 features are present."
   ]
  },
  {
   "cell_type": "code",
   "execution_count": 9,
   "id": "86454d7a",
   "metadata": {
    "colab": {
     "base_uri": "https://localhost:8080/"
    },
    "id": "86454d7a",
    "outputId": "2eea3dea-487d-42b2-b97d-78de9247f480"
   },
   "outputs": [
    {
     "data": {
      "text/plain": [
       "295443"
      ]
     },
     "execution_count": 9,
     "metadata": {},
     "output_type": "execute_result"
    }
   ],
   "source": [
    "data.size"
   ]
  },
  {
   "cell_type": "markdown",
   "id": "5af76b6a",
   "metadata": {
    "id": "5af76b6a"
   },
   "source": [
    "* And size is telling us that 295443 entries of records are there in this dataset"
   ]
  },
  {
   "cell_type": "markdown",
   "id": "a8ec64f1",
   "metadata": {
    "id": "a8ec64f1"
   },
   "source": [
    "#### CHECKING THE DATA TYPE OF ALL FEATURES"
   ]
  },
  {
   "cell_type": "code",
   "execution_count": 10,
   "id": "8da4cfe0",
   "metadata": {
    "colab": {
     "base_uri": "https://localhost:8080/"
    },
    "id": "8da4cfe0",
    "outputId": "864f234a-38b1-4618-8552-55815d314481"
   },
   "outputs": [
    {
     "name": "stdout",
     "output_type": "stream",
     "text": [
      "<class 'pandas.core.frame.DataFrame'>\n",
      "RangeIndex: 17379 entries, 0 to 17378\n",
      "Data columns (total 17 columns):\n",
      " #   Column             Non-Null Count  Dtype  \n",
      "---  ------             --------------  -----  \n",
      " 0   record_id          17379 non-null  int64  \n",
      " 1   date               17379 non-null  object \n",
      " 2   season             17379 non-null  int64  \n",
      " 3   year               17379 non-null  int64  \n",
      " 4   month              17379 non-null  int64  \n",
      " 5   hr                 17379 non-null  int64  \n",
      " 6   holiday            17379 non-null  int64  \n",
      " 7   weekday            17379 non-null  int64  \n",
      " 8   workingday         17379 non-null  int64  \n",
      " 9   weather_condition  17379 non-null  int64  \n",
      " 10  temp               17379 non-null  float64\n",
      " 11  atemp              17379 non-null  float64\n",
      " 12  humidity           17379 non-null  float64\n",
      " 13  windspeed          17379 non-null  float64\n",
      " 14  casual             17379 non-null  int64  \n",
      " 15  registered         17379 non-null  int64  \n",
      " 16  total_counts       17379 non-null  int64  \n",
      "dtypes: float64(4), int64(12), object(1)\n",
      "memory usage: 2.3+ MB\n"
     ]
    }
   ],
   "source": [
    "data.info()"
   ]
  },
  {
   "cell_type": "markdown",
   "id": "8b0d1a25",
   "metadata": {
    "id": "8b0d1a25"
   },
   "source": [
    "* Well all the attributes are of numeric type except one i.e. date which is of categorical type"
   ]
  },
  {
   "cell_type": "markdown",
   "id": "602a2812",
   "metadata": {
    "id": "602a2812"
   },
   "source": [
    "#### SOME STATISTICAL ANALYSIS"
   ]
  },
  {
   "cell_type": "code",
   "execution_count": 11,
   "id": "ec6bdc6b",
   "metadata": {
    "colab": {
     "base_uri": "https://localhost:8080/",
     "height": 364
    },
    "id": "ec6bdc6b",
    "outputId": "1781b21a-a445-446b-e9e8-44055e8aed9b"
   },
   "outputs": [
    {
     "data": {
      "text/html": [
       "\n",
       "  <div id=\"df-b7c6b818-35c4-4073-a303-785b274bf8ec\">\n",
       "    <div class=\"colab-df-container\">\n",
       "      <div>\n",
       "<style scoped>\n",
       "    .dataframe tbody tr th:only-of-type {\n",
       "        vertical-align: middle;\n",
       "    }\n",
       "\n",
       "    .dataframe tbody tr th {\n",
       "        vertical-align: top;\n",
       "    }\n",
       "\n",
       "    .dataframe thead th {\n",
       "        text-align: right;\n",
       "    }\n",
       "</style>\n",
       "<table border=\"1\" class=\"dataframe\">\n",
       "  <thead>\n",
       "    <tr style=\"text-align: right;\">\n",
       "      <th></th>\n",
       "      <th>record_id</th>\n",
       "      <th>season</th>\n",
       "      <th>year</th>\n",
       "      <th>month</th>\n",
       "      <th>hr</th>\n",
       "      <th>holiday</th>\n",
       "      <th>weekday</th>\n",
       "      <th>workingday</th>\n",
       "      <th>weather_condition</th>\n",
       "      <th>temp</th>\n",
       "      <th>atemp</th>\n",
       "      <th>humidity</th>\n",
       "      <th>windspeed</th>\n",
       "      <th>casual</th>\n",
       "      <th>registered</th>\n",
       "      <th>total_counts</th>\n",
       "    </tr>\n",
       "  </thead>\n",
       "  <tbody>\n",
       "    <tr>\n",
       "      <th>count</th>\n",
       "      <td>17379.0000</td>\n",
       "      <td>17379.000000</td>\n",
       "      <td>17379.000000</td>\n",
       "      <td>17379.000000</td>\n",
       "      <td>17379.000000</td>\n",
       "      <td>17379.000000</td>\n",
       "      <td>17379.000000</td>\n",
       "      <td>17379.000000</td>\n",
       "      <td>17379.000000</td>\n",
       "      <td>17379.000000</td>\n",
       "      <td>17379.000000</td>\n",
       "      <td>17379.000000</td>\n",
       "      <td>17379.000000</td>\n",
       "      <td>17379.000000</td>\n",
       "      <td>17379.000000</td>\n",
       "      <td>17379.000000</td>\n",
       "    </tr>\n",
       "    <tr>\n",
       "      <th>mean</th>\n",
       "      <td>8690.0000</td>\n",
       "      <td>2.501640</td>\n",
       "      <td>0.502561</td>\n",
       "      <td>6.537775</td>\n",
       "      <td>11.546752</td>\n",
       "      <td>0.028770</td>\n",
       "      <td>3.003683</td>\n",
       "      <td>0.682721</td>\n",
       "      <td>1.425283</td>\n",
       "      <td>0.496987</td>\n",
       "      <td>0.475775</td>\n",
       "      <td>0.627229</td>\n",
       "      <td>0.190098</td>\n",
       "      <td>35.676218</td>\n",
       "      <td>153.786869</td>\n",
       "      <td>189.463088</td>\n",
       "    </tr>\n",
       "    <tr>\n",
       "      <th>std</th>\n",
       "      <td>5017.0295</td>\n",
       "      <td>1.106918</td>\n",
       "      <td>0.500008</td>\n",
       "      <td>3.438776</td>\n",
       "      <td>6.914405</td>\n",
       "      <td>0.167165</td>\n",
       "      <td>2.005771</td>\n",
       "      <td>0.465431</td>\n",
       "      <td>0.639357</td>\n",
       "      <td>0.192556</td>\n",
       "      <td>0.171850</td>\n",
       "      <td>0.192930</td>\n",
       "      <td>0.122340</td>\n",
       "      <td>49.305030</td>\n",
       "      <td>151.357286</td>\n",
       "      <td>181.387599</td>\n",
       "    </tr>\n",
       "    <tr>\n",
       "      <th>min</th>\n",
       "      <td>1.0000</td>\n",
       "      <td>1.000000</td>\n",
       "      <td>0.000000</td>\n",
       "      <td>1.000000</td>\n",
       "      <td>0.000000</td>\n",
       "      <td>0.000000</td>\n",
       "      <td>0.000000</td>\n",
       "      <td>0.000000</td>\n",
       "      <td>1.000000</td>\n",
       "      <td>0.020000</td>\n",
       "      <td>0.000000</td>\n",
       "      <td>0.000000</td>\n",
       "      <td>0.000000</td>\n",
       "      <td>0.000000</td>\n",
       "      <td>0.000000</td>\n",
       "      <td>1.000000</td>\n",
       "    </tr>\n",
       "    <tr>\n",
       "      <th>25%</th>\n",
       "      <td>4345.5000</td>\n",
       "      <td>2.000000</td>\n",
       "      <td>0.000000</td>\n",
       "      <td>4.000000</td>\n",
       "      <td>6.000000</td>\n",
       "      <td>0.000000</td>\n",
       "      <td>1.000000</td>\n",
       "      <td>0.000000</td>\n",
       "      <td>1.000000</td>\n",
       "      <td>0.340000</td>\n",
       "      <td>0.333300</td>\n",
       "      <td>0.480000</td>\n",
       "      <td>0.104500</td>\n",
       "      <td>4.000000</td>\n",
       "      <td>34.000000</td>\n",
       "      <td>40.000000</td>\n",
       "    </tr>\n",
       "    <tr>\n",
       "      <th>50%</th>\n",
       "      <td>8690.0000</td>\n",
       "      <td>3.000000</td>\n",
       "      <td>1.000000</td>\n",
       "      <td>7.000000</td>\n",
       "      <td>12.000000</td>\n",
       "      <td>0.000000</td>\n",
       "      <td>3.000000</td>\n",
       "      <td>1.000000</td>\n",
       "      <td>1.000000</td>\n",
       "      <td>0.500000</td>\n",
       "      <td>0.484800</td>\n",
       "      <td>0.630000</td>\n",
       "      <td>0.194000</td>\n",
       "      <td>17.000000</td>\n",
       "      <td>115.000000</td>\n",
       "      <td>142.000000</td>\n",
       "    </tr>\n",
       "    <tr>\n",
       "      <th>75%</th>\n",
       "      <td>13034.5000</td>\n",
       "      <td>3.000000</td>\n",
       "      <td>1.000000</td>\n",
       "      <td>10.000000</td>\n",
       "      <td>18.000000</td>\n",
       "      <td>0.000000</td>\n",
       "      <td>5.000000</td>\n",
       "      <td>1.000000</td>\n",
       "      <td>2.000000</td>\n",
       "      <td>0.660000</td>\n",
       "      <td>0.621200</td>\n",
       "      <td>0.780000</td>\n",
       "      <td>0.253700</td>\n",
       "      <td>48.000000</td>\n",
       "      <td>220.000000</td>\n",
       "      <td>281.000000</td>\n",
       "    </tr>\n",
       "    <tr>\n",
       "      <th>max</th>\n",
       "      <td>17379.0000</td>\n",
       "      <td>4.000000</td>\n",
       "      <td>1.000000</td>\n",
       "      <td>12.000000</td>\n",
       "      <td>23.000000</td>\n",
       "      <td>1.000000</td>\n",
       "      <td>6.000000</td>\n",
       "      <td>1.000000</td>\n",
       "      <td>4.000000</td>\n",
       "      <td>1.000000</td>\n",
       "      <td>1.000000</td>\n",
       "      <td>1.000000</td>\n",
       "      <td>0.850700</td>\n",
       "      <td>367.000000</td>\n",
       "      <td>886.000000</td>\n",
       "      <td>977.000000</td>\n",
       "    </tr>\n",
       "  </tbody>\n",
       "</table>\n",
       "</div>\n",
       "      <button class=\"colab-df-convert\" onclick=\"convertToInteractive('df-b7c6b818-35c4-4073-a303-785b274bf8ec')\"\n",
       "              title=\"Convert this dataframe to an interactive table.\"\n",
       "              style=\"display:none;\">\n",
       "        \n",
       "  <svg xmlns=\"http://www.w3.org/2000/svg\" height=\"24px\"viewBox=\"0 0 24 24\"\n",
       "       width=\"24px\">\n",
       "    <path d=\"M0 0h24v24H0V0z\" fill=\"none\"/>\n",
       "    <path d=\"M18.56 5.44l.94 2.06.94-2.06 2.06-.94-2.06-.94-.94-2.06-.94 2.06-2.06.94zm-11 1L8.5 8.5l.94-2.06 2.06-.94-2.06-.94L8.5 2.5l-.94 2.06-2.06.94zm10 10l.94 2.06.94-2.06 2.06-.94-2.06-.94-.94-2.06-.94 2.06-2.06.94z\"/><path d=\"M17.41 7.96l-1.37-1.37c-.4-.4-.92-.59-1.43-.59-.52 0-1.04.2-1.43.59L10.3 9.45l-7.72 7.72c-.78.78-.78 2.05 0 2.83L4 21.41c.39.39.9.59 1.41.59.51 0 1.02-.2 1.41-.59l7.78-7.78 2.81-2.81c.8-.78.8-2.07 0-2.86zM5.41 20L4 18.59l7.72-7.72 1.47 1.35L5.41 20z\"/>\n",
       "  </svg>\n",
       "      </button>\n",
       "      \n",
       "  <style>\n",
       "    .colab-df-container {\n",
       "      display:flex;\n",
       "      flex-wrap:wrap;\n",
       "      gap: 12px;\n",
       "    }\n",
       "\n",
       "    .colab-df-convert {\n",
       "      background-color: #E8F0FE;\n",
       "      border: none;\n",
       "      border-radius: 50%;\n",
       "      cursor: pointer;\n",
       "      display: none;\n",
       "      fill: #1967D2;\n",
       "      height: 32px;\n",
       "      padding: 0 0 0 0;\n",
       "      width: 32px;\n",
       "    }\n",
       "\n",
       "    .colab-df-convert:hover {\n",
       "      background-color: #E2EBFA;\n",
       "      box-shadow: 0px 1px 2px rgba(60, 64, 67, 0.3), 0px 1px 3px 1px rgba(60, 64, 67, 0.15);\n",
       "      fill: #174EA6;\n",
       "    }\n",
       "\n",
       "    [theme=dark] .colab-df-convert {\n",
       "      background-color: #3B4455;\n",
       "      fill: #D2E3FC;\n",
       "    }\n",
       "\n",
       "    [theme=dark] .colab-df-convert:hover {\n",
       "      background-color: #434B5C;\n",
       "      box-shadow: 0px 1px 3px 1px rgba(0, 0, 0, 0.15);\n",
       "      filter: drop-shadow(0px 1px 2px rgba(0, 0, 0, 0.3));\n",
       "      fill: #FFFFFF;\n",
       "    }\n",
       "  </style>\n",
       "\n",
       "      <script>\n",
       "        const buttonEl =\n",
       "          document.querySelector('#df-b7c6b818-35c4-4073-a303-785b274bf8ec button.colab-df-convert');\n",
       "        buttonEl.style.display =\n",
       "          google.colab.kernel.accessAllowed ? 'block' : 'none';\n",
       "\n",
       "        async function convertToInteractive(key) {\n",
       "          const element = document.querySelector('#df-b7c6b818-35c4-4073-a303-785b274bf8ec');\n",
       "          const dataTable =\n",
       "            await google.colab.kernel.invokeFunction('convertToInteractive',\n",
       "                                                     [key], {});\n",
       "          if (!dataTable) return;\n",
       "\n",
       "          const docLinkHtml = 'Like what you see? Visit the ' +\n",
       "            '<a target=\"_blank\" href=https://colab.research.google.com/notebooks/data_table.ipynb>data table notebook</a>'\n",
       "            + ' to learn more about interactive tables.';\n",
       "          element.innerHTML = '';\n",
       "          dataTable['output_type'] = 'display_data';\n",
       "          await google.colab.output.renderOutput(dataTable, element);\n",
       "          const docLink = document.createElement('div');\n",
       "          docLink.innerHTML = docLinkHtml;\n",
       "          element.appendChild(docLink);\n",
       "        }\n",
       "      </script>\n",
       "    </div>\n",
       "  </div>\n",
       "  "
      ],
      "text/plain": [
       "        record_id        season          year         month            hr  \\\n",
       "count  17379.0000  17379.000000  17379.000000  17379.000000  17379.000000   \n",
       "mean    8690.0000      2.501640      0.502561      6.537775     11.546752   \n",
       "std     5017.0295      1.106918      0.500008      3.438776      6.914405   \n",
       "min        1.0000      1.000000      0.000000      1.000000      0.000000   \n",
       "25%     4345.5000      2.000000      0.000000      4.000000      6.000000   \n",
       "50%     8690.0000      3.000000      1.000000      7.000000     12.000000   \n",
       "75%    13034.5000      3.000000      1.000000     10.000000     18.000000   \n",
       "max    17379.0000      4.000000      1.000000     12.000000     23.000000   \n",
       "\n",
       "            holiday       weekday    workingday  weather_condition  \\\n",
       "count  17379.000000  17379.000000  17379.000000       17379.000000   \n",
       "mean       0.028770      3.003683      0.682721           1.425283   \n",
       "std        0.167165      2.005771      0.465431           0.639357   \n",
       "min        0.000000      0.000000      0.000000           1.000000   \n",
       "25%        0.000000      1.000000      0.000000           1.000000   \n",
       "50%        0.000000      3.000000      1.000000           1.000000   \n",
       "75%        0.000000      5.000000      1.000000           2.000000   \n",
       "max        1.000000      6.000000      1.000000           4.000000   \n",
       "\n",
       "               temp         atemp      humidity     windspeed        casual  \\\n",
       "count  17379.000000  17379.000000  17379.000000  17379.000000  17379.000000   \n",
       "mean       0.496987      0.475775      0.627229      0.190098     35.676218   \n",
       "std        0.192556      0.171850      0.192930      0.122340     49.305030   \n",
       "min        0.020000      0.000000      0.000000      0.000000      0.000000   \n",
       "25%        0.340000      0.333300      0.480000      0.104500      4.000000   \n",
       "50%        0.500000      0.484800      0.630000      0.194000     17.000000   \n",
       "75%        0.660000      0.621200      0.780000      0.253700     48.000000   \n",
       "max        1.000000      1.000000      1.000000      0.850700    367.000000   \n",
       "\n",
       "         registered  total_counts  \n",
       "count  17379.000000  17379.000000  \n",
       "mean     153.786869    189.463088  \n",
       "std      151.357286    181.387599  \n",
       "min        0.000000      1.000000  \n",
       "25%       34.000000     40.000000  \n",
       "50%      115.000000    142.000000  \n",
       "75%      220.000000    281.000000  \n",
       "max      886.000000    977.000000  "
      ]
     },
     "execution_count": 11,
     "metadata": {},
     "output_type": "execute_result"
    }
   ],
   "source": [
    "data.describe()"
   ]
  },
  {
   "cell_type": "markdown",
   "id": "45fe0871",
   "metadata": {
    "id": "45fe0871"
   },
   "source": [
    "* No constant column is there in this dataset\n",
    "* Max. windspeed is 0.85\n",
    "* Max. casual users are 367 in number.\n",
    "* Max. Registered users are 886 in number. which means the registered users are more than the casual ones.\n",
    "* 50% of the records are present who take bikes on rent are in 7th month of 2012 in summers season at 12pm where humidity is 0.63 and windspeed is 0.194 and maximum are the registered users. "
   ]
  },
  {
   "cell_type": "markdown",
   "id": "86e2e370",
   "metadata": {
    "id": "86e2e370"
   },
   "source": [
    "# Missing Values -"
   ]
  },
  {
   "cell_type": "code",
   "execution_count": 12,
   "id": "d45e5594",
   "metadata": {
    "colab": {
     "base_uri": "https://localhost:8080/"
    },
    "id": "d45e5594",
    "outputId": "602ca381-65ec-4f6d-8ddd-81fe05860574"
   },
   "outputs": [
    {
     "data": {
      "text/plain": [
       "record_id            0\n",
       "date                 0\n",
       "season               0\n",
       "year                 0\n",
       "month                0\n",
       "hr                   0\n",
       "holiday              0\n",
       "weekday              0\n",
       "workingday           0\n",
       "weather_condition    0\n",
       "temp                 0\n",
       "atemp                0\n",
       "humidity             0\n",
       "windspeed            0\n",
       "casual               0\n",
       "registered           0\n",
       "total_counts         0\n",
       "dtype: int64"
      ]
     },
     "execution_count": 12,
     "metadata": {},
     "output_type": "execute_result"
    }
   ],
   "source": [
    "data.isnull().sum()"
   ]
  },
  {
   "cell_type": "markdown",
   "id": "cbad8e94",
   "metadata": {
    "id": "cbad8e94"
   },
   "source": [
    "* No missing values present in the dataset."
   ]
  },
  {
   "cell_type": "markdown",
   "id": "ecc1a41c",
   "metadata": {
    "id": "ecc1a41c"
   },
   "source": [
    "# Exploratory Data Analysis"
   ]
  },
  {
   "cell_type": "markdown",
   "id": "72633491",
   "metadata": {
    "id": "72633491"
   },
   "source": [
    "### a.) Univariate Analysis"
   ]
  },
  {
   "cell_type": "code",
   "execution_count": 1,
   "id": "7b596382",
   "metadata": {
    "colab": {
     "base_uri": "https://localhost:8080/",
     "height": 356
    },
    "id": "7b596382",
    "outputId": "42b698c8-34a5-4529-c831-a1ac1af24450"
   },
   "outputs": [],
   "source": [
    "import sweetviz as sv\n",
    "univariate_report = sv.analyze(data)\n",
    "univariate_report.show_html()"
   ]
  },
  {
   "cell_type": "markdown",
   "id": "8d3ca17f",
   "metadata": {
    "id": "8d3ca17f"
   },
   "source": [
    "From univariate analysis we observed that this data is having :\n",
    "* 17379 ROWS\n",
    "* 0 DUPLICATES\n",
    "* 3.4 MB RAM\n",
    "* 17 FEATURES\n",
    "* 6 CATEGORICAL FEATURES\n",
    "* 10 NUMERICAL FEATURES\n",
    "* 1 TEXT TYPE OF FEATURE i.e. \"date\" is in text format\n",
    "\n",
    "And Many more is that we get to know every bit of every feature like the distribution of that particular record and some statistical ideas about that. "
   ]
  },
  {
   "cell_type": "markdown",
   "id": "de832f00",
   "metadata": {
    "id": "de832f00"
   },
   "source": [
    "### b.) Bivariate Analysis "
   ]
  },
  {
   "cell_type": "markdown",
   "id": "3e8df547",
   "metadata": {
    "id": "3e8df547"
   },
   "source": [
    "### COMPARING SEASON AND COUNT"
   ]
  },
  {
   "cell_type": "code",
   "execution_count": 6,
   "id": "c41586ba",
   "metadata": {
    "id": "c41586ba"
   },
   "outputs": [],
   "source": [
    "data.loc[data[\"season\"]==1,\"season\"]=\"winter\"\n",
    "data.loc[data[\"season\"]==2,\"season\"]=\"spring\"\n",
    "data.loc[data[\"season\"]==3,\"season\"]=\"summer\"\n",
    "data.loc[data[\"season\"]==4,\"season\"]=\"rain\""
   ]
  },
  {
   "cell_type": "code",
   "execution_count": 7,
   "id": "0c4d86d0",
   "metadata": {
    "id": "0c4d86d0"
   },
   "outputs": [
    {
     "data": {
      "image/png": "iVBORw0KGgoAAAANSUhEUgAAAYYAAAEWCAYAAABi5jCmAAAAOXRFWHRTb2Z0d2FyZQBNYXRwbG90bGliIHZlcnNpb24zLjMuNCwgaHR0cHM6Ly9tYXRwbG90bGliLm9yZy8QVMy6AAAACXBIWXMAAAsTAAALEwEAmpwYAABHgElEQVR4nO3dd3xcZ5no8d+jGZVRlyxZstzkHtvpMU6hBEhIQg1LTXaBwLKwcGEpCyzLcu+yLZe7C0u/3F0W2AQIARayEFpiUgglTnGCU9wSO5bc1Ov0mXPOc/84R/LIluyxpFGxnu/n449Hp8y8MyPNM+95n/d5RVUxxhhjRhTNdgOMMcbMLRYYjDHGjGGBwRhjzBgWGIwxxoxhgcEYY8wYFhiMMcaMYYHBnBVE5E9EZNs03+fbReR3p9j/SxG5KZ9j5wsR+TsR+c5st8PMLgsMC5CIvEBEHhSRIRHpF5Hfi8jzZrtdU6Gqt6nqNTP8mC9X1Vtn8jHPlIj8WkT+bLbbMVki8mIROTLb7VhowrPdADOzRKQa+BnwXuAHQAnwQiA9m+0y4xORsKo6s90Os7BYj2HhWQ+gqrerqquqSVXdpqpPjhwgIn8qIntEZEBE7haRlTn7vigih0VkWEQeE5EX5uzbKiI7gn1dIvK5nH2vEZFdIjIYfIvdmLOvTUQ+KiJPBr2Y74tIWbDvARF5fXD7BSKiIvKK4OerRWRncHv0Uo74Pi8i3cH9PSki5wb7SkXksyJyKGjjv4lI5BSvl4jIl4P72SsiV+XsmPDbuIh8RkR+JyI1wb9viEiHiBwVkX8SkdAE5/2diPxQRL4jIsPA2091/sjzDp7TgIgcFJGXB/tuxg/6XxGRmIh85XTv4emIyPUisjM494CIXBdsbxGRO4Me6H4ReVfOObeIyD/l/DymFzDR+y8iFcAvgZag/bHgcSb8PTPTwwLDwvMM4IrIrSLychGpy90pIq8F/gZ4HdAI/Ba4PeeQR4ELgXrgu8B/jXyIA18Evqiq1cAa/B4JIrI+uI8PBff5C+CnIlKSc79vAq4DVgHnA28Ptj8AvDi4/SLgOeDKnJ8fGOc5XhPsWw/UAm8G+oJ9/xxsvxBYCywF/nac+xhxafCYDcCngDtEpH6ig0WkSET+I3gO16jqEHAr4ASPd1HQvlNd3rke+GHQ9tvyOP9SYF/Qxn8BviEioqqfxH//3q+qlar6/uD4U72HExKRrcC3gI8FbXsR0Bbsvh04ArQAbwD+d24QzcNJ77+qxoGXA8eC9leq6jEm+D0z08cCwwKjqsPACwAF/gPoCb7pNQWH/DnwaVXdE1zC+N/AhRL0GlT1O6rap6qOqv4rUApsCM7NAmtFpEFVY6r6ULD9zcDPVfVXqpoFPgtEgCtymvYlVT2mqv3AT/E/uMD/4M8NBJ/O+flKxg8MWaAKOAeQ4Ll0iIgA7wI+rKr9qhoNnt8Np3jJuoEvqGpWVb+P/wH8ygmOLcb/gKwHXq2qieB1fTnwIVWNq2o38PnTPOZ2Vf2xqnpAdR7nt6vqf6iqix9ElgBNJ91r4DTv4am8E/hm8D56qnpUVfeKyHL836mPq2pKVXcCXwfemsd9jpjo/R/PRL9nZppYYFiAgg/Kt6vqMuBc/G95Xwh2rwS+KP4ln0GgHxD8b9aIyEfEv8w0FOyvwf+mCv4Hx3pgr4g8KiKvCra3AO05j+8Bh0fuM9CZczsBVAa3twPrgw/YC/G/sS4XkQZgK/CbcZ7ffcBXgP8LdInI18QfW2kEyoHHcp7fXcH2iRzVsZUm24PnM561+N/2/15VM8G2lfgBoyPnMf8dWHyKxzycczuf80dfO1VNBDcrmcBp3sNTWQ4cGGd7CzASaEe0M/b9PZ2J3v/xTPR7ZqaJBYYFTlX3ArfgBwjwP5T+XFVrc/5FVPXB4Fr0x/G7/XWqWgsM4QcOVPVZVb0R/0Prn4EfBteJj+F/wAH+RXv8D5mjebQvATwGfBB4OvjAfRD4S+CAqvZOcN6XVPUSYDP+h8jHgF4gCWzOeW41qnqqD6GlQXtHrAiez3j2AO8AfikiI9/AD+MP7DfkPGa1qm4+1dPOuT2Z8ye6L073Hp7GYfxLNyc6BtSLSFXOthUcf3/j+AF5RHNeLfedVP75FL9nZppYYFhgROSc4BvjsuDn5cCNwEh3/N+AT4jI5mB/jYi8MdhXhX+tuwcIi8jf4l/qGLnvt4hIY9AjGAw2u/jXgF8pIleJSDHwEfwPuwfzbPYDwPs5ftno1yf8fOJzfJ6IXBo8VhxIAW7Qrv8APi8ii4Njl4rItad47MXAB0SkOHgdNuKPkYxLVW/HH6O5R0TWqGoHsA34VxGpDsYg1ojIlRPdxwn3N6XzgS5gdc7Pp3wPT+MbwDuC97EoeO3OUdXD+O/lp4NB4/Pxv9XfFpy3E3iFiNSLSDP+WFO+uoBFIlIzsuEUv2dmmlhgWHii+IOVD4tIHD8gPI3/YY2q/jf+t7DviZ8V8zT+NW6Au/GzRJ7Bv1SQYuxlj+uAXSISwx8gvCG45rwPeAvwZfxv7a/GvwafIT8P4H+g/WaCn09UjR8ABoJ29uGPa4D/bXk/8FDw/O7h1NfXHwbWBe2+GXiDqvad4niCuQ3/ANwnIq3A2/DTgncHbfoh/jhAvqZy/heBN4ifsfQlTv8eTkhVH8HvEX0ev5fxAMd7gjcCrfi9h/8GPqWqvwr2fRt4An+gehvw/TzbPtKjvR14LriU1sIEv2f53qc5PbGFeowxxuSyHoMxxpgxLDAYY4wZwwKDMcaYMSwwGGOMGWPeF9FraGjQ1tbW2W6GMcbMK4899livqo47uXPeB4bW1lZ27Ngx280wxph5RUTaJ9pnl5KMMcaMYYHBGGPMGBYYjDHGjGGBwRhjzBgWGIwxxoxhgcEYY8wYFhiMMcaMYYHBGGPMGPN+gpsxprDiaYeu4RSVpWEaKkspKspnsTcznxW0xyAiy0Xk/mB92V0i8sET9n9URDRYv3dk2ydEZL+I7DvNylrGmAJxPaU3lubxQwM8crCfIwNJdnUM8Vh7PwPxDLaOy9mt0D0GB/iIqj4erAf7mIj8SlV3B0tKvgw4NHKwiGwCbsBfp7cFf3nE9apqy/YZMwOSGZfu4RSHBxJkPY/yYr+XkLv/D4cHWFRRyurGCqrKimextaZQChoYgvVqO4LbURHZAyzFX6Lw88BfAT/JOeV64HuqmgYOish+YCuwvZDtNGYh8zxlKJnlyECCvniGIhGqSsOEQydfUIiUhIiUhIilHB492E9LXYTWRRWUFYdmoeWmUGZsjCFY+/Yi/LWGXwMcVdUnRMZcr1zK8UXpAY4E2068r3cD7wZYsWJFoZpszFktlXXpjaU51J8g43iUhUPUl5dwwt/kuCrLwlSUhuiNpukcSrFqUQUtdRGKxwkmZv6ZkcAgIpXAj4AP4V9e+iRwzXiHjrPtpIuZqvo14GsAW7ZssYudxuRJVRlOOhwdTNIVTSFAdVkxVaVnfklIRKiJlOB6Slt/nMMDCdY0VtJUXWYD1PNcwQODiBTjB4XbVPUOETkPWAWM9BaWAY+LyFb8HsLynNOXAccK3UZjznYZx6Mv6B0kMi6l4SIW5dk7OJ1QkVBfXkrW9djbGeVQf4J1TVXUlRdPy/2bmVfQwCD+b8U3gD2q+jkAVX0KWJxzTBuwRVV7ReRO4Lsi8jn8wed1wCOFbKMxZ7NoKkvnUIpjQ0lUGU05LYTiUBENlaWksi5PHB6gtryENYsrqbYB6nmn0D2G5wNvBZ4SkZ3Btr9R1V+Md7Cq7hKRH+APTjvA+ywjyZgz47ge/fEMhwYSRJMOxaEiaiMlFM3Qt/ey4hBlxSHiaYcdbQMsqSmjdVEFkRIboJ4vZL7nI2/ZskVtBTdjjk9EOzqYxPWUipLwlLOFOodT/Gp3F8/1xHjFeUvYsrLujC4PqSrDKYes67FyUTnL6sopCdsA9VwgIo+p6pbx9tnMZ2PmMddTBhMZDvcnGEhkCIeKqCotJjSFwV/H9Xj4YD/bdnfyh0ODiEB1pJh/+NluNrdU8/bLWzlnSXVe9+UPUBfjesrh/gRHB5OsaaikqaZsSm00hWWBwZh5KJX1J6Id6k+SdT3KS0I0VJZN6T47hpJs29XFPXu7GExkaags4catK7h6YxO15cVs293F9x49xMd+9CSXrqrnbZe3sqK+PK/7DhUJ9RWlOK7HM91R2vvjrF1cSUNlqQ1Qz0F2KcmYeULVn4h2dDBJ93CaIvFTTcebiJavbNA7uHtXJzsPD1Ik8LzWeq7d3MzFK+pO+lafzLjc+eQx7nj8CKmsy0s2LOaPL13B4qozC0ppxyWacqiOhFnbWEVNuQ1Qz7RTXUqywGDMHJd2XPqiGdr746SyHmXFISpKQlP6pn1sMMm23Z3cs6eboWSWxqpSrtnUxNUbm/LKWhpKZvnhY4f52ZMdiMArz1vCGy9ZTnXkzD7gExmHeMahubqM1oYKykvsIsZMscBgzDwzMmjbMZSkc8ifiFZZWjylgdus6/HQc33ctauTJ48MUSSwdZXfO7ho+cm9g3x0R1N89+FD3L+vm7LiEK+7eBnXX9ByRoPeqko05ZD1PJbVlbO8PkJp2DKYCs0CgzHzRNb16A8mosXSLiWhIirLwlNKNT06kOTu3Z3cu6eL4ZTD4qpSrtnczNXnLGbRNM1paO+L8+2H2nn4YD915cXc8LwVXLOp6Ywuc3nBpTJQVjVUsqSmbEqXycypWWAwZo6LpR06h5IcG0zhekpl6dRSTTOOx/bn+rh7VydPHR0iVCRcGvQOLlxeW7A5Dbs7hrn1wTZ2dwyzpKaMt162kuevbTijx3Ncj6FUlpJwEWsbK20NiAKxwGDMHOR6Sn88zaH+JEPJrN87KA1PKY3z8ECCbbs6uXdvN9GUf+3+ms1NXH1OE3UVJVNqa5GQ17iGqrKjfYBvbW+jrS/BmsYK3nZ5Kxctrz2jcZGM4zGcylJVGmZtUyW15ZNvvzmZBQZj5pBExqF7OM2RgQSOp5QXh6c0KzjtuDx4wO8d7Do2TKhIuGz1Iq7b3Mz5y2qm1DtIZBySWZciERzXI1IcprIsvwFi11MeeKaH2x5upzua5vxlNdx0eSvrm6rOqA3JjEss49BQWcLqxkoqS22AejpYYDBmlnmeMpjMcnggQX8sQ7hIqCqb2kS09r4423Z3cd/ebmJphyU1ZVy7uZmXnrOYuil8u3Y9JZrK4ngeteUlLK8vpzZSTDLrcrA3Tm8sTUVJOO8Moqzr8cunO/j+o4cZTjk8f80i3nLZSpbV5TcHYkQ0lSXteCyri7C8vtzWgJgiCwzGzJJU1qUnmubwQIK04xEJhyifQqpp2nH5/f5e7trVxZ6OYcJFwuVrFnHt5mbOWzo9vYNwkbC0LkJTddm4H/5DiSz7e6IMJ50zGgtJZBx+/Iej/HjnMdKOy8s2NnHj1hVnNADuqTKcyuJ5yqqGCpbU2hoQk2WBwZgZlLvmQXc0BfgT0abyAdbeF+euXZ3cv6+beNqlJegdXLWxiZoznDuQy3E9omkHz1PqKopZVldObXnJaXsyqkp/PMP+7hiJrENNWUnez28wkeH7Ow5z19OdFInw6gtaeMPFy/K+RAV+r2YomSEUEtY2VLLY1oA4YxYYjJkBI2setPcnSGUdSkP+KmeT7R2ksi6/29/L3bs62dsZJVwkXLGmges2N3Hu0ppJ36+qksi4pByXcFERy+siLK4um9Q4h+cpvbE0z3bHyLoeNWcwE7tzKMVtj7TzwL4eyktDvPGS5bzq/CVnNIch63oMpTJUloRZu7iKWlsDIm8WGIwpoOFUlo5BfyKaAlVTnIh2sDfG3bu6+PW+buIZl2V1Ea7d3MxLNiyeUu8g63pEU1kUqK8o8XsHkeJp+abtuB6dwykO9sbxPKUmcvpex4iDvTFu3d7OY+0DLKo4Xp/pTMZfUlmXWDpLfUUpqxsrqLI1IE7LAoMx02x0zYP+BNFUluJQiKopTERLZV1++2wPd+/qYl9XlOKQ8Py1DVy3uZlNS6qn1DuIZ1zSjktJuIhltX7voFADtxnH4+hggva+BKEiobqsOO/X5KmjQ9z6YBv7uqIsrY3w1stWcsWaRWf03GNph2TGoaUuQuuiChugPgULDMZMk3jaGV0RbTrWPDjQE+PuXZ38el8PyazL8roI153r9w6m8q036/pzAFRhcXUpLTURaqapd5CPVNYdLbNdXFREVVk47zkQDx3s59vb2zg8kGR9UyU3Xd7K+ctq835sDQaoHU9H14CwAeqTWWAwZgpG1jw41J9gMJElHJIprXmQyDj89tle7trVyf7uGCWhIl6wtoFrz21mY3PV1HoHaZe066/pvLy+nIbK0ln91hxPO7T3xekaTlNWHMp7DoLrKfft7eK7jxyiN5bh4hW1vO3yVtY0Vub92K6nDCb91OA1jf4Ata0BcZwFBmMmIZlx6YmmONTvT0SLFIemVP1zf3eMu3Z18ptn/N7Byvry0bGDM8nIOVHG8Yils3hAU1UZLbVl/iWcOfQhOJzKcrAnTn88Q0VJ/hP60o7LL57q4L92HCGadnjRugbectlKltRE8n7skd5TWXGIdYsrqa8osQFqLDAYkzfP8wu5HRlI0BfPUCRCVWl40sXcEhmHB57p4e5dnRzoiVMSLuKFwdjBhin0DjxV4mmHjOtRFg6xor6cRVUlc7oqqaoymMhyoDtGNONQVRrOu72xtMMdjx/hJ08cw/WUazc3c8OW5WdU5mNkgLq2vIQ1iyupXuAD1BYYjDmNtBNMROtPTHnNA1Xl2W5/7OA3z/aQynq0Lirnus3NXLlh8ZRKOqQdl1jaAaC5powl1RGqI/ldv58rVP0U1wM9cVJZ94zmePTHM3zv0UPcvauT4lARr71wKX900VIqzuA1jacdElmXJTVltC6qmFI5kvls1gKDiCwHvgU0Ax7wNVX9ooh8Bng1kAEOAO9Q1cHgnE8A7wRc4AOqevepHsMCg5msE9c8gKlNRIunj/cOnuuNUxou4kXrG7luczPrFldOqXcQC9YriBT7vYP6yrndO8iH6yndwykO9MZwXKX2DFJcjw0m+c7D7fz22V6qysK8actyXnHukrzThEfe+6zrjQ5QTyXFeD6azcCwBFiiqo+LSBXwGPBaYBlwn6o6IvLPAKr6cRHZBNwObAVagHuA9arqTvQYFhjMmRpZ86CtL0Ei4w/UVpROLtVUVXmm63jvIO14rG6o4Lpzm7lyfeOUxiRSWZd4xu8dLKkpo7kmQnWe2T3zSdb16BhM0tYXB8TPnsrzOe7vjnHr9jZ2Hh6ksaqUP966gpdsWJx3gPHUTywoKhK/xEZNZMEMUM+ZS0ki8hPgK6r6q5xtfwS8QVX/JOgtoKqfDvbdDfydqm6f6D4tMJh8RVPZ0VRTVag8g2vcJ4qlHX69r5u7d3XS1pegrLiIK9c1cu3mZtZOoXfgekos7eC4HhWlfu+grqJ0QXybTTsuR/qTHB5IEA7mQOT7Oj5xeJBbtrexvzvGivpy3nb5Sra21ud9vuN6DCazlBUXsXaxvwbE2RaATzQnAoOItAK/Ac5V1eGc7T8Fvq+q3xGRrwAPqep3gn3fAH6pqj884b7eDbwbYMWKFZe0t7fPyHMw88/oRLSBBNGkQ/EU1jxQVfZ2RrlrVye/299LxvFY21jJtZubedH6hin3DmJph6IiaKmJ0FRTRlXp2dc7yEcy49LeH6djMElpOJT3fA5V5fcH+vj29jaODaXYuKSamy5fyeaWmrwfO+24RNMOVWVh1jVWUVN+9g5Qz3pgEJFK4AHgZlW9I2f7J4EtwOtUVUXk/wLbTwgMv1DVH01039ZjMONJZBy6hlMcHUhOec2DWMrhvqB3cKg/QaQ4xJXrj/cOJmukd5B1ParKwkHvIP9idGe7WNqhrTdGTzRN+RmU+XZcj1/t6eJ7jxymP5Hhea11vO2yVlobKvJ+7ETGIZ7xl0Fd1VB5RoPb88WpAkPBn62IFAM/Am47ISjcBLwKuEqPR6cjwPKc05cBxwrdRnN2GF3zoN/Plw8XFU16zQNVZXfHMHfv6uT3+/vIuB7rFlfy/pes5UXrGqeUyZLMuCSyDqEiYUlNGU3VZVbbZxyVpWHOXVrLUDLLgZ4YvbEUlaXFp52wFw4V8fJzl/CSDYv56ZPH+NFjR/jA9/7Aizc08ieXrqSpuuy0jz0SiIYSWR5t62dZXTnL6yPzfsA/X4UefBbgVqBfVT+Us/064HPAlarak7N9M/Bdjg8+3wuss8FncyqprEv3cIrDA0myrjeliWjDySz3B72DwwNJIsUhXrzB7x2cyazbEx1f/EapjhSzvC5CfUWJLXafJ1VlIJFlf3eURMY9o0KF0VSWHz52hJ892YGnyivOW8KbtizPuyChp8pwMouirGqoZElN2Vnxvs1mVtILgN8CT+GnqwL8DfAloBToC7Y9pKrvCc75JPCngAN8SFV/earHsMCwMKn6E9GODibpHk5TJFA1yVRTVWXXsaB3cKCXrKtsaKrius3NvGBdw5RKSuQufrMkGDuwpSknb6TM9/6eGOmsR20k/zLfvbE0tz9yiHv2dFEaDvFHFy3l+gtb8v4SMVJiozhUxLpggHouzS4/U7M+xlBIFhgWlozj0RtNc6g/QcqZ2poHQ8ks9+/t5q5dnRwdTFJREuIlGxZzzeZmVp3B9egTuZ4STWdxPaUmUjy6NObZ8C1zrnA9pWsoxXO9MVxVasrynwNxeCDBt7e3s/25Pmoixbx5y3KuO7c57y8VGccvsVFVGmZtUyW1U1hGdTZZYDDzmqoSTTvTsuaBqvLU0SHu3tXJgwf6cDxlY3MV125u5vlrp693sLQuwuKqsrNy0HIuyboexwb8ORBFIlSfwRyIfZ1Rbt3exlNHh2iqLuUtl67kResb8z4/mXGJZRwaKktY3Vg573qCFhjMvJR1PQbiGdr74sTSLiWhIionuebBYCLDfXv9sYNjQykqSkO8dMNirt3czMpFk+8dOK5HLO3gnuHSmGZ6pbIuRwYSHO5PUhwqynsioKry+KFBbt3exsHeOKsaKnjb5Su5ZEVd3r3QWMoh5TgsrYuwon7+rAFhgcHMK/G0Q8dQimOD/poHZ7LgfC5PlaeODHHXrk4ees7vHWxaUh30DhZNOsNkZGnMZNalODS1pTHN9EpkHNr7EnQOpSgLh/KuWuup8ptnerjt4UN0Dqc4t6Wam65o5Zzm6rzOV1WGUlk8T/0Z1LWROZ92bIHBzBtDiSyPHxogXCSTTjUdSGS4d08323Z30jGUorI0zEvP8XsHK+rLJ922bNA78FRHl8asiUx+XQZTONFUloO9cXpjGSpK8s9Sy7oe23Z18r1HDzOYzHLZ6nredlkry/P8vXE9ZSiZIRQS1jb4a0DM1QFqCwxmXsi6Hjva+gkXFZ1xD8FT5YnDg9y9q5OHDvbjesrmlmqu29zMFWsaJl1SYmRpzJTj11RaVhuhscp6B/PFYCLD/p4Y0aRzRj3PZMblJ08c5Y7Hj5J2XK46p4kbt66gsao0r/OzrsdQKkN5cZh1TVXUledf3mOmWGAw88LezmG6hlLUV+T3xwcwEM9wz54u7t7dSddwmqqyMFed42cWLa+bWu9gZGnMxqpSltbO7NKYZvqoKn2xNPsnUeZ7KJnlBzsO84unOhCBV53fwhsuXkZ1nnMgRtaAqK8oZXVjxZyayGiBwcx5vdEUTxwZojGP4mWeKjsPDXLXrk4eafN7B+ctreHazc1cvnrR1HoHab93UFZcxLK6chqrZndpTDN9vNEy33GyrkdNWf4pxN3DKW575BD37+2mvCTE6y5exmsuaMn7dyOWdkhlXZbU+mtAzIXfKQsMZk5LZV0ebeunvDh8yg/1vliae/Z0sW13F93RNNVlYa7e2MQ1m5pZWpf/Uo8nyjge0XQWBZqqSmmpjcy5pTHN9HFcj46hFG29cTxVas5gHYj2vjjf2t7OI2391JUXc+PWFbxsY1NeAWYk7XpkDYiltbO7BoQFBjNnqSpPHxtiOOmMu9Si6yl/ODTAXbs6ebStH0/hgmV+7+Cy1YsmnflxfGlMl7JwmOX1ERZVWu9gIck4HkcHE7T3nXmZ713Hhrh1ezt7OoZpqSnjLZet5PlrG/JKpR6ZQR0uEtY0+gPUs5HAYIHBzFkdg0n2dERPGtTrjaX51W6/d9AbS1MbKeaqjU1cs6mJltqp9w4AmqrLaKmZf0tjmumVyrq098U5NpiiJFRE1RnMgXi0rZ9bt7dzqD/B2sZKbrqilQuX1+b1uCPjWGXFIdY2VrBohteAsMBg5qRExuGRg/1jrvXuOjbEHY8fZUe73zu4cHkt121uZuuq+in1DnKXxlxeV86iqvm/NKaZXvG0Q3tfnM7hFOXF4bxnrbue8ut93dz2yCF6omkuXF7L2y5bybqmqrzOHxmgrikvYU1jZd7F/abKAoOZczxP+cPhATJZHZ2EdKg/wYe/v5Py0hAvC8YOmmtOXyJ5ImnHX/xGgOazeGlMM72Gklme64kxmMhQUVKcd2py1vX4xVMdfH/HYaIph+evbeCtl67Me/wrnvZLqjRVl9LaUDGlhZ/yYYHBzDmH+uI81xtnUZCamnU9PvJfT9Afz/DlGy6irmJyhck8VaKp40tjLqsrZ1Hlwlga00wfVWUwkeVAd2x0Rbd8e5iJjMMdfzjKT3YeJeN4XLOpmRuet5xFladPw1ZVhlP+APWK+nKW1xdugNoCg5lThlNZdrT1U19eOjro9vXfPsdPnjjG/3rlJrauqj/j+8xdGnNJTYTmBbw0ppk+I2W+D/TESDveGc2BGEhk+MGjh7lrVydFRcJrzm/h9Zcsy6vYnheUlRdgVWMFS2oi0z5AbYHBzBmO6/FY+wDAaFf58UMDfOrOXbzyvCW858o1ed/XyNKYjudRWRJmxSJbGtMUhjsyB6InFpRTzz/FtXMoxXcebueBZ3qoLA3zxkuW8crzl+TVA3Fcj8FklrLiItYGa0BM15cdCwxmzni2K8qxweTo7OahZJa/uP1xqsqK+dybLsjrjyWVdYlnHIpEaKm1pTHNzMm6Hh2DfplvEH82fJ4f1M/1xLh1ezuPHxqgobKEG7eu4KpzmvIKMGnHHb2kta6xipryqf++W2Awc0J/PMMfDg/QWOF/61FV/vHnu9l5eJB/feOFp1wcZ2RpTNdTKiNhVtSV29KYZtakHZfD/UkO9yfOqMw3wFNHBrllexvPdMVYVhfhbZet5LLVi/I6P5FxiGccFleVsqqhckrrfVhgMLMu7fizm8vCodFewc+f6uDfHjjAu164itdcsHTc80YWvwkVCS22NKaZY5IZl/b+OB2DScrC4bzLfKsq25/r41vb2zk6mGRDUxU3XdHKeUtr8jp/OJkl43qsWVzBivrJrSdyqsBgf2Gm4FSVA90xVBkNCu19cb75u4NcvKKOV5/fMub43KUxqyPFrG6soK7cegdm7omUhDinuZpldeU81xOjJ5aioiR82lRTEeGKNQ1cumoR9+7t4rsPH+Jv/vspLl5Rx02Xr2R1Y+Upz6+OFJPKuvTGMpMODKdigcEUXPdwmq7hFA2V/pyEjOPx2W37iJSE+NDV68Z0oUfGD1YuKrelMc28UVka5vxltQwlsuzvidIbS1FZWnzaEiuhIuGaTc1cub6Rnz/ZwX89doQPfn8nV65v5C2XrpzSPJ6pKOhXMBFZLiL3i8geEdklIh8MtteLyK9E5Nng/7qccz4hIvtFZJ+IXFvI9pnCS2Zc9nYOUxM5Pi/h1u1ttPUl+OBV66jLWUjdzzLKctGKuilfPzVmNtSUF3PxijrOX1aLp0pvPEXG8U57XmnYr9j6H2/bwhsuXsb25/p4722P8e8PHGAgkZmBlo9V6L65A3xEVTcClwHvE5FNwF8D96rqOuDe4GeCfTcAm4HrgK+KiNUtmKc8T9nXFaU4VDSaQvpY+wB3PnGMV523hOe1jp2vMJDIzGhJAGMKQURYVFnK81rr2bykhrTr0hdP47inDxCVpWFuuqKVr73lEq7e2MQvnu7g3d/ewXcebieRcWag9b6CBgZV7VDVx4PbUWAPsBS4Hrg1OOxW4LXB7euB76lqWlUPAvuBrYVsoymco4NJBhLp0VTSwUSGL9z7DCvry3n781vHHDuczI4ul2nM2aCoSFhcXcbW1nrWLq4klnHoi6dxvdMn/CyqLOV9L1nLV//4Ei5ZWc/3Hz3Mu761g5/sPEo2jwAz5bYX/BECItIKXAQ8DDSpagf4wQNYHBy2FDicc9qRYJuZZ6KpLPu7Y9RF/PkKqsqX7nuWeNrho9dsGDNfIeN4eCgbmqtsDQRz1gmH/EWfLl21iNZFFQwmMwwmM3h5ZIQurYvw19edw+feeAGrGir4+u8O8p7vPMZ9e7vyCjCTNSOBQUQqgR8BH1LV4VMdOs62k569iLxbRHaIyI6enp7paqaZJo7rsbdjmPKS0OjknV881cGjbQO8/YpVtObMV1D1a9NvbK6ytRDMWa0kXERrQwWXrV5Ec3UZA4kMQ8ks+UwZWNdUxT+99jz+4TWbqSoL8/l7nuVjP3qCxw8NFKStBQ8MIlKMHxRuU9U7gs1dIrIk2L8E6A62HwGW55y+DDh24n2q6tdUdYuqbmlsbCxc482ktPcliGfc0ZS99r443/x9G5esrOPV5y8Zc+xAIsPK+nIaqmYn+8KYmVZWHGJdUxVbV9VTX1FMbzxDLJ3f+MFFK+r43Jsu5K+u3UDWUZ7tihWkjQVN+xA/D/EbwB5V/VzOrjuBm4D/E/z/k5zt3xWRzwEtwDrgkUK20UyvwUSGtr44DUElydzU1A9eNTY1NZ52qCgJj+lBGLNQlJeE2dRSw7L6LAd74vTE0lSWhE9b5rtIhBeua+Si5bUF+2pf6HzA5wNvBZ4SkZ3Btr/BDwg/EJF3AoeANwKo6i4R+QGwGz+j6X2q6ha4jWaaZByP3R3D/nrJQQAYSU3921dtGpOa6rgeKcdlS2u9TVwzC1p1WTEXLK9lMJFhf1eM3niaqtLTl/kOh4oIhQozJlfQwKCqv2P8cQOAqyY452bg5oI1yhTMgZ4YjqtUlfq/0KdKTR1MZjmnucrKWxgTqC0v4ZLWuqDMd5xoLE1NJP8y39PJ/irNtOgeTtE5lBxdeOdUqamDyQxN1aWzNqvTmLlKRGisKqO+otQv890bw0kptWdQ5ns6WGAwU5bKuuzrjFITKRmtmvrFe/3U1H98zbljusSpoCDe2sVVtoiOMRMIFQlLaiM0VpXSMZSirTeO4l92mokAYYHBTImqsq8zioiMdnl//lQHO9oHeNcLV48ZWB4pnX3JynpbatOYPIRDRSyvL2dxdSlHB5Ic6k8QLhKqC7z+SF5/nSLyfBGpCG6/RUQ+JyIrC9oyMy8cG0zRH8+MlrHwU1MPjpuaOpgMSl5MwyIjxiwkpeEQqxsruWz1IhqrSumLp4nnmeI6Gfl+bft/QEJELgD+CmgHvlWwVpl5IZ52eKYrOpptNJKaWlESPik1NZrKUhMpZnm9lbwwZrLKikNsaK7measW0VBVQlmBet753quj/vS864EvquoXgaqCtMjMC66n7OkYJlJ8fHbzRFVTs66H43mc01xtJS+MmQaVpWHOXVrLhubqgtx/voEhKiKfAN4C/DyoeGrXAxawQ/1xoilntDT2aGrq+UvYkpOa6pe8yLJxSfVpJ+4YY85MoQai8w0MbwbSwDtVtRO/sN1nCtIiM+cNJf2ZmvUVfq8gNzX1HVesGnPsQDLDsroyGq3khTHzRr5ZSR9W1Y+P/KCqh0Rkc4HaZOawrOux59gQVcHs5tzU1H+6/twx2UaJjENZOMTqhlMvU2iMmVvy7TG8bJxtL5/Ohpj54WBvjLTjjVZCHUlNfccVq1i5aGxqaiLjsqml2kpeGDPPnLLHICLvBf4HsFpEnszZVQU8WMiGmbmnN5ricH+SxqBA3khq6paVdbzqhNTU/kSGDU1Vo4v0GGPmj9NdSvou8Evg0wTLbwaiqtpfsFaZOSeVddnbGaU2mN2ccTw+c/f4qalDyQyLq0poqbVxBWPmo1P28VV1SFXbVPVG/LUSsvgL51SKyIqZaKCZfarK/u4owOgYwi0PHqS9P8EHr15HbU5qairrgvgLi1jJC2Pmp7wGn0Xk/cDfAV3AyIKjCpxfmGaZuaRzKEVPNDO6xsKO9n5++mQHrz5/CVtWHk9N9VSJph0uXlF72pLBxpi5K9+spA8BG1S1r4BtMXNQIuOwrytKbVDyYiCR4Yv3PEvronLefkJqan88w6qG8jE9CGPM/JNvushhYKiQDTFzjxfMbi4NhQiHilBVvnTvs8QzDh+9ZsOY1NRYyqE6EmZFva3GZsx8l2+P4Tng1yLyc/yJbgCcsFynOcscGUgQTTmjayz87Ek/NfXPX7R6TGpq1vXIuC4Xrlg0ozXjjTGFkW9gOBT8Kwn+mbPccCrL/p4Y9eV+UGjrjfOfD/qpqa8873hqqqoylMywuaXGSl4Yc5bIKzCo6t8XuiFm7nBcjz3HhqkoCRMqEtKOO2HV1IFEhiW1ERZXW2qqMWeLfLOS7sfPQhpDVV867S0ys66tN04q61IfXEK65cE22vsTfOrVm8YMLCcyDqXFIdY0WskLY84m+V5K+mjO7TLg9UDhVokws2YgnqF9IEFjEBR2tPXzs3FSU0dKXlzSWjcri5UbYwonr79oVX0s59/vVfUvgUtPd56IfFNEukXk6ZxtF4rIQyKyU0R2iMjWnH2fEJH9IrJPRK6d1DMyk5Z2XHZ1DFFTVoyI+Kmp906QmppIs66psuBLDBpjZl6+S3vW5/xrCD60m/M49RbguhO2/Qvw96p6IfC3wc+IyCbgBmBzcM5Xg3UfzAxQVQ50x1D1lxEcrZo6TmrqcCpLY1UpS2sjs9hiY0yh5Hsp6TH8MQbBv4R0EHjn6U5S1d+ISOuJm4GRZYdqgGPB7euB76lqGjgoIvuBrcD2PNtopqAnmqZrOEVDpT+I/NMnO3hsnNTUtOOiqqxbbCUvjDlb5ZuVtOr0R+XtQ8DdIvJZ/B7LFcH2pcBDOccdCbadRETeDbwbYMUKK9k0VcmMy97OYWoi/sByW2+cW8ZJTfVUGU5luWh53WjZbWPM2SffS0nFIvIBEflh8O/9IjLZi8vvxV/4ZznwYeAbIw8zzrEnZUIBqOrXVHWLqm5pbGycZDMM+LOb93VFCUkRxaEi0o7LZ7bto6J0/NTU1kUV1FXYVBZjzmb5ppP8P+AS4KvBv0uCbZNxE3BHcPu/8C8Xgd9DWJ5z3DKOX2YyBXJ0MMlAIk11UAvplgfbONSf4ENXrR+TmhpLO1SWhsdcVjLGnJ3yHWN4nqpekPPzfSLyxCQf8xhwJfBr4KXAs8H2O4HvisjngBZgHfDIJB/D5CGWdtjfHaOufGxq6msuaOGSlXWjx2Vdj7TjcsHyeit5YcwCkG9gcEVkjaoeABCR1YB7upNE5HbgxUCDiBwBPgW8C/iiiISBFMFYgaruEpEfALvxB7jfp6qnfQwzOa6n7D02THlJiFDR2NTUmy5vHT1upOTFpiU1lJfk++tijJnP8v1L/xhwv4g8hz8WsBJ4x+lOChb4Gc8lExx/M3Bznm0yU9DeFyeW8QvkjaSmJjIu//Tac8ekpg4mszTXRFhcXTqLrTXGzKR8s5LuFZF1wAb8wLA3SCs189BgIkNbX4JFwSDySGrqe05ITU1mXEpCwtrFlZaaaswCkm9W0vuAiKo+qapPAOUi8j8K2zRTCBnHY3fHMFWlYYpERlNTn9daxytyUlNdT4llsmxsqbGSF8YsMPn+xb9LVQdHflDVAfyxAjPPHOiJ4bhKWXFoTGrqB156QmpqMs3axkpqIlbywpiFJt/AUCQ5nxpBqQpLZp9neqIpOoaSo8t03vJ7PzX1wyekpg4ls9SXl7Ksrny2mmqMmUX5Dj7fDfxARP4Nf9LZe4C7CtYqM+1SWZe9HVFqIyWICI+29fOzp/zU1ItzUlMzjoeibGiuoshSU41ZkPINDB/HTyt9L/7g8zbg64VqlJleqsozXVGKioTiUBED8fFTUz1VBlMZLlhaYyUvjFnA8s1K8oB/C/6dRER+pKqvn86GmelzbDBFbyxDY2UpnipfuPdZkhmXm09ITR1IZFhZV05Dla3GZsxCNl3pJqun6X7MNIunHZ7tjlIXjCv87MljPH5ogD99fuuY1NR42qGyJExrg5W8MGahm67AMG6xOzO7XE/Z0zlMaThEOFTEwd44//n7tpNSUx3XI+W4bGypJmypqcYsePYpcBY71B8nmvSL342kplaWnZyaOpjMsqGpiopSK3lhjJm+wGDpK3PMUDLLwZ44dUEa6n/+vo3D46SmDiYyNFWX0lxj4wrGGN90BYaPT9P9mGmQdT32dAxTWVpMqEh45GA/Px8nNTWVdQmFhLW2GpsxJscprx2IyFOMP34ggKrq+fg3thWgbWaSDvbGSGdd6itKg9TUZ05KTXU9JZrKcsnK+jGZScYYc7qLyq+akVaYadMbTXG4P5mTmvoMqazHx64956TU1DWNldSUW8kLY8xYpwwMqto+Uw0xU5fKuuztPD67+c6dR3n80CDvuXINK+qPl7cYTmapqyhheb2VvDDGnCzf6qqXicijIhITkYyIuCIyXOjGmfypKge6YwCUhIs42Bvjlgfb2NpazyvObR49Lut6eKqcYyUvjDETyPfi8leAG/GX4YwAfwZ8uVCNMmeuayhFdzRNTaQkSE19hqqyMB+46nhqqqoykMhwzpIqK3lhjJlQ3qOOqrofCKmqq6r/CbykcM0yZyKRcdjbFR2tmvrNIDX1Q1evH1M2eyCRYXl9hEYreWGMOYV8ZzQlRKQE2Cki/wJ0AFY7YQ7wPGVvxzClIX928yMH+/jFUx1cf0ELF684npqayDhESkKsbqicxdYaY+aDfHsMbw2OfT8QB5YDrytUo0z+jgwkGEo6VJaFR6umrmqo4KYrWkePcT0lkXHZ1FJjJS+MMaeV76fEa1U1parDqvr3qvqX5JHKKiLfFJFuEXn6hO1/ISL7RGRX0AMZ2f4JEdkf7Lv2zJ7KwjOcynIgmN2cm5r60Ws2jFmOsz+RYUNTFZVW8sIYk4d8A8NN42x7ex7n3QJcl7tBRF4CXA+cr6qbgc8G2zcBNwCbg3O+GqwUZ8bhuB57jg1TXhIiVCT89IljPH5okHe+YNWY1NShZIamqlKW1Nq4gjEmP6eb+Xwj8MfAKhG5M2dXNdB3ujtX1d+ISOsJm98L/B9VTQfHdAfbrwe+F2w/KCL7ga3A9nyeyELT1hsnFcxuHklNvXRVPS/PSU1NZV1EhLVNlVbywhiTt9NdW3gQf6C5AfjXnO1R4MlJPuZ64IUicjOQAj6qqo8CS4GHco47Emw7iYi8G39FOVasWDHJZsxfA/EM7QMJGipKx6Sm/kVO1VRPlWja4eIVtZSGreNljMnfKS8lqWq7qv5aVS8H9gJVwb8jqupM8jHDQB1wGfAx/LWkhfErtI67zoOqfk1Vt6jqlsbGxkk2Y37KOB67O4apKSumSGQ0NfXDJ6Sm9sczrGooH1NJ1Rhj8pHvzOc3Ao8AbwTeBDwsIm+Y5GMeAe5Q3yOAh98jOYKf7TRiGXBsko9xVlJV9ndH8VQpDYdGU1Nfe2ELF+WkpkZTWWoiYVbWW0axMebM5Tv4/D+B56nqTar6Nvxr//9rko/5Y+ClACKyHigBeoE7gRtEpFREVgHr8IORCfRE03QOpagpK6Y/JzX1bTlVU7Ouh+N5bFxSYyUvjDGTkm/+YlHOIDH4A8+nDSoicjvwYqBBRI4AnwK+CXwzSGHNADepqgK7ROQHwG7AAd6nqm7ez+Qsl8y47O0cpra8BAW+cM/JqamqymAyw7ktNURKbFzBGDM5+QaGX4rI3cDtwc9vBn5xupNU9cYJdr1lguNvBm7Os00Lhucpz3RFCUkRxaEifrzzKH84PMh7T6iaOpDI0FIbYXG1paYaYyYv30tJCvw7cD5wAfC1grXInOTYUJL+RJrqSDHP9cS4dZzU1ETGoaw4xJpGK3lhjJmafHsML1PVjwN3jGwQkb/HlvQsuFja4dmuGHXlpaSyLp/dtu+k1FTXU5JZl0tW1o2Z8WyMMZNxuglu7wX+B7BaRHLnLVQBvy9kw4z/gb83Z3bzv//mIIcHkvzDazafVDV1XVMlVWW2GpsxZupO12P4LvBL4NPAX+dsj6pqf8FaZQBo74sTyzgsqijl4YN9/PLpzpNSU4dTWRqqSlhaG5nFlhpjzianW9pzCBjCX6THzKChRJa2vgSLKkroj2f40r3PsvqE1NS046Io65uqrOSFMWba2AXpOSjreuzqGKIqqIb6+XueIeWMTU31VBlKZtm8pMZKXhhjppUFhjnoQE8Mx1XKikPcufMYOw8P8mcvWMXyE1JTVzVUUFdhJS+MMdPLAsMc0xNNcWwwSe1Iaup2PzX1us3HU1NjaYeqsjArF1nJC2PM9LPAMIeksi57O6PURkpIOx6f2baP6rLiMampWdcj47hsXFJNyEpeGGMKwALDHKGqPNsdpUiE4lAR3/z9QY4MJPnQ1etGU1NVlcFEhnOaqykvsdXYjDGFYYFhjugYTNETzVBdVsxDz42kpi4dk5o6mMyypDZCU42VvDDGFI4FhjkgnnZ4pjtKXaSYvliaL903kpq6cvSYZMalJFzE2sVW8sIYU1gWGGaZ6yl7OocpDYcoKhK+cO+zpB2Pj157PDXV9ZR4xmFTS7WVvDDGFJx9ysyyI/0JokmHytLw2NTUupzU1GSatYsrqbaSF8aYGWCBYRYNJbMc6IlRV14yYWrqcCpLfXmplbwwxswYCwyzJOt67OkYprK0mKw7fmpqxvHwVNnQXGWrsRljZowFhllysDdGKusSKQmNpqZ++GXrR1NTPVUGUxk2LammrNhKXhhjZo4FhlnQF0tzuD9JfXnJaGrqH120lAuX144eM5DIsLK+gkWVpbPXUGPMgmSBYYalHZc9HcPURoKqqUFq6lsvO56aGk87VJaEWdVgJS+MMTPPAsMMUlX2d8UACIfGT011XI+U47KxxUpeGGNmR0EDg4h8U0S6ReTpcfZ9VERURBpytn1CRPaLyD4RubaQbZsNXUMpuqNpaiIl/GTn0ZNSU1WVgWSGc5qqqCi1khfGmNlR6B7DLcB1J24UkeXAy4BDOds2ATcAm4NzvioiZ82oayLjsK8rSm2kmAM9Mb61vf2k1NShZJbm6jIreWGMmVUFDQyq+htgvCVAPw/8FaA5264HvqeqaVU9COwHthayfTPF85R9nVFKQiEcT/nsOKmpqaxLKCSsXWyrsRljZteMjzGIyGuAo6r6xAm7lgKHc34+Emwb7z7eLSI7RGRHT09PgVo6fY4MJBhMZKksC/ON352cmup6SiydZXNLDSVhG/YxxsyuGf0UEpFy4JPA3463e5xtOs42VPVrqrpFVbc0NjZOZxOnXTSV5UBPnLryErY/18ddu8ZPTV3TWDkaKIwxZjbN9AjnGmAV8ERwuWQZ8LiIbMXvISzPOXYZcGyG2zetHNdj97FhyktCDCYyfPm+Z1ndODY1dTiZpa6ihGU5tZGMMWY2zWiPQVWfUtXFqtqqqq34weBiVe0E7gRuEJFSEVkFrAMemcn2Tbe2vgSprEtZcYjP3/OMn5p6zfHU1JGSF+dYyQtjzBxS6HTV24HtwAYROSIi75zoWFXdBfwA2A3cBbxPVd1Ctq+QBuIZDvXHqS0v4cd/OMoTR4Z41wtWj0lNHUxm2LikykpeGGPmlIJeSlLVG0+zv/WEn28Gbi5km2ZCxvHY3TFMdVkxz/XE+fZD7Vy+ehHXbm4aPWYgkWFFfTkNVZaaaoyZWywFZpqpKvu7o3ieooqfmhop5v0vWTuahprIOJSXhKzkhTFmTrLAMM16omk6h1LURIr5+u8OcmwwyV9evZ7qIOPIcT0SGZeNLTWEbTU2Y8wcZJ9M0yiVddnbOUxtUDX17iA19YKc1NTBZJZzmquotJIXxpg5ygLDNBmZ3RySIoaTWb58337WNFbwlpzU1MFkhsVVpTRbyQtjzBxmgWGaHBtK0p9IU1kW5vP3PEPGHZuamsq6FImwrslKXhhj5jYLDNMglnZ4titGXaT0eGrqC1ePTlpzPSWaynKulbwwxswD9ik1Ra6n7D02TKQ4xMHe46mp12w6npo6mAxKXpRbyQtjzNxngWGK2vvixDIOoSLhs9v2UXNCamo0laUmUszyeit5YYyZHywwTMFQIktbX4K68pLR1NQPv+x4amrW9XA8j3Oaq63khTFm3rDAMElZ12NXxxBVpWEezk1NXVYL5Ja8qCZSYiUvjDHzhyXTT9KBnhiOq2Syzripqf2JDMvqIjRayQtjzDxjPYZJ6ImmODaYpHqC1NRExiFSHGJ1Q+Ust9QYY86cBYYz5M9ujlIbKeEnO4+Nm5qayLhsaqm2khfGmHnJPrnOgKrybHeUIhHa+xLjpqb2JzKsa6qkqsxSU40x85MFhjPQOZSiJ5qhJFQ0bmrqUDJDY1UJS2sjs9xSY4yZPAsMeYqnHfZ1RamLFPP13z53Umpq2nFBYL2VvDDGzHMWGPLgecrezmFKwyEebevn7t1dvO7i46mpnirDKYfNS2ooDVtqqjFmfrN01Twc7k8wnHQQ4Mv37WdtYyV/cmlOamo8Q+uicuoqSmavkcYYM02sx3AaQ8ksz/XGqIkU87kgNfUj16wfTU2NpRyqI2FWLrLV2IwxZwcLDKeQdT32dAxTUVLMnU8c48kTUlOzrkfGddm4pJqQlbwwxpwlChoYROSbItItIk/nbPuMiOwVkSdF5L9FpDZn3ydEZL+I7BORawvZtnwc7I2RyrocHUyelJqqqgwFJS/KS+yKnDHm7FHoHsMtwHUnbPsVcK6qng88A3wCQEQ2ATcAm4NzvioiszaS2xdLc2QgSXlxiM9u20dtpJi/eOnx1NSBRIYltREWV1vJC2PM2aWggUFVfwP0n7Btm6o6wY8PAcuC29cD31PVtKoeBPYDWwvZvomkHZc9HcPUlB2vmvqXL1s/OmktmXEpLQ6xptFKXhhjzj6zPcbwp8Avg9tLgcM5+44E204iIu8WkR0isqOnp2daG6Sq7O+KAfBoWz/bdnfxuouXcX6Qmup6SjzjsKmlenQA2hhjziaz9skmIp8EHOC2kU3jHKbjnauqX1PVLaq6pbGxcVrb1TWUoiuaIusqX7l/JDV1xej+/kSatYsrqbaSF8aYs9SsjJqKyE3Aq4CrVHXkw/8IsDznsGXAsZlsVzLjsq8rSlVpMf/4s91kT6iaOpzK0lBZyrI6K3lhjDl7zXiPQUSuAz4OvEZVEzm77gRuEJFSEVkFrAMemal2jcxuLg4V8bMnO3jy6BDvftFqlgZBIO24qKqVvDDGnPUK2mMQkduBFwMNInIE+BR+FlIp8KvgA/YhVX2Pqu4SkR8Au/EvMb1PVd1Cti/X0cEkg4ksA/EM33m4nSvWLOJlG/3UVL/kRZYLl9dRVmwlL4wxZ7eCBgZVvXGczd84xfE3AzcXrkXji6ay7O+OESkO8ckgNTW3aupAIsOK+grqreSFMWYBWPBpNU4wu7m8JMQ3f3+QjqHUmNTUWNqhsjTMqgYreWGMWRgW/JTdtr4EyYzLno4o23Z38fqc1FTH9Ug7Lucvq7eSF8aYBWNBB4ahRJb2vjjASampqspgMsPG5moqShf0y2SMWWAW9KWkaDpLSIQv3vPsSampg8kszTURmmqs5IUxZmFZ0IEB4BdPn5yamsq6FIeENY2VlppqjFlwFnRg2NsxzI8eOzomNdX1lGg6y6aWGkrCC/rlMcYsUAv2ky+edvi7n+6mpvyE1NRkmrWNldRErOSFMWZhWrCB4f593RwbTPLnL1o9mpo6nMxSX146uhCPMcYsRAs23eZV57fQUFlCxvFLNWUcDw9lQ3MVRZaaaoxZwBZsjwEY7RmoKkOpDBubq6zkhTFmwVvQgWHEQCLDirpyGqosNdUYYxZ8YEhmXCpKwrRayQtjjAEsMBAKCee0VBO21diMMQZY4IGhLFzEeS01VFrJC2OMGbWgPxFtTMEYY062oHsMxhhjTmaBwRhjzBgWGIwxxoxhgcEYY8wYFhiMMcaMYYHBGGPMGBYYjDHGjGGBwRhjzBiiqrPdhikRkR6gfZKnNwC909gcMz3sfZl77D2Zm6byvqxU1cbxdsz7wDAVIrJDVbfMdjvMWPa+zD32nsxNhXpf7FKSMcaYMSwwGGOMGWOhB4avzXYDzLjsfZl77D2ZmwryvizoMQZjjDEnW+g9BmOMMSewwGCMMWaMsz4wiMgvRKT2NMe8XURaZqhJ5jRE5DUi8tez3Q5j5gMR+bqIbJrW+7QxBhCRXwMfVdUdZ3BOWFWdwrVqYbLX9ewnIoL/2ePNdlvmi5l+zeZ9j0FE/kpEPhDc/ryI3BfcvkpEviMibSLSICKtIrJHRP5DRHaJyDYRiYjIG4AtwG0isjPYdomIPCAij4nI3SKyJLjPX4vI/xaRB4APztqTngdEpEJEfi4iT4jI0yLy5uC9+GcReST4tzY49hYR+ZyI3A/8c9CD+0rOvi+JyIMi8lzwfiEiRSLy1eC9/FnQM3zDLD7lOeUUr39DsH9L8IUIEfk7Ebk1+JtoE5HXici/iMhTInKXiBQHx7UFv//bRWSHiFwc/H0cEJH35Dz2x0TkURF5UkT+Ptg28vf3VeBxYPmMvyjzzDiv2TeC133XyOsaHPdrEdkS3I6JyM3B+/6QiDRN5rHnfWAAfgO8MLi9BagMfpFfAPz2hGPXAf9XVTcDg8DrVfWHwA7gT1T1QsABvgy8QVUvAb4J3JxzH7WqeqWq/muBns/Z4jrgmKpeoKrnAncF24dVdSvwFeALOcevB65W1Y+Mc19L8N/PVwH/J9j2OqAVOA/4M+Dy6X4C89xEr/9E1gCvBK4HvgPcr6rnAclg+4jDqno5/t/WLcAbgMuAfwAQkWvw/862AhcCl4jIi4JzNwDfUtWLVHWyZWwWmtHXDPhIMMv5fOBKETl/nOMrgIdU9QL8z8Z3TeZBz4bA8Bj+L18VkAa24weIF3JyYDioqjtzzmsd5/42AOcCvxKRncD/BJbl7P/+dDX8LPcUcHXQQ3ihqg4F22/P+T/3w/y/VNWd4L5+rKqequ4GRr4BvSA4x1PVTuD+6X4C89xEr/9Efqmq2eC8EMcDyVOM/Tu5M2f7w6oaVdUeIBWM5V0T/PsD/rfcc/ADBUC7qj40tae14OS+Zm8SkcfxX9vNwHjjChngZ8HtiT7jTis8mZPmElXNikgb8A7gQeBJ4CX434D2nHB4Oue2C0TGuUsBdgXfisYTn1KDFwhVfUZELgFeAXxaRLaN7Mo9LOf2qV7X3PdNTvjfjGOC19/h+JfBshNOSQfneSKS1eODjx5jPyfSOdtz35eR4wT4tKr+e+6di0gr9rczGXEAEVkFfBR4nqoOiMgtnPweAuS+dy6T/Iw/G3oM4HeZPhr8/1vgPcDOnBfodKJAVXB7H9AoIpcDiEixiGye5vae9cTP8kqo6neAzwIXB7venPP/9ik8xO+A1wdjDU3Ai6dwX2edCV7/NuCS4JDXF+ih7wb+VEQqg3YsFZHFBXqshaQaP0gMBb/vLy/kg837HkPgt8Ange2qGheRFCdfRjqVW4B/E5Ek/uWNNwBfEpEa/NfoC8CuaW3x2e884DMi4gFZ4L3AD4FSEXkY/0vJjVO4/x8BVwFPA88ADwOnu1yykIz3+kfwBzD/Bv/1mnaquk1ENgLbRQQgBrwF/9urmSRVfUJE/oD/OfQc8PtCPp6lq5oZE1zy26Kq01LXX0QqVTUmIouAR4DnB+MNxpgpOFt6DGZh+lkw4FkC/KMFBWOmh/UYjDHGjHG2DD4bY4yZJhYYjDHGjGGBwRhjzBgWGIwxxoxhgcEYY8wYFhiMmcAEFUonqrz7rqCi6BMi8iMRKQ+2vzE49wkR+U2wrUxE/jOoXvoHEXlJsP3tInJHUNH0WRH5l9l79mYhs3RVYyYgIq8HrlPVdwU/1wC/BK5X1R4ReTNwrar+qYgsUtW+4Lh/ArpU9csi8lRwH0dFpFZVB0XkI8C5qvoOETkH2IZfXfYG4G+Bi/DrEO0DXqCqh2f4qZsFzia4GTOxp4DPisg/41esHOB45V3wq5B2BMeeGwSEWqASv2YQ+KULbhGRHwB3BNtegF/aHVXdKyLt+IEB4N6RSqgishtYCVhgMDPKAoMxEzixQinwKyauvHsL8Nqgps3bCYr6qep7RORS/DUNdorIhZy6MuyJFYDtb9TMOBtjMGYC41QovZSJK+9WAR3BIlF/knMfa1T1YVX9W6AXf+Wy34wcIyLrgRX4l42MmRPs24gxExuvQqnD+JV3/xd+xdJ2/EtQI2XcPyMi6/B7CfcCTwB78av5PhXc39tVNR1cnjJm1tngszHGmDHsUpIxxpgxLDAYY4wZwwKDMcaYMSwwGGOMGcMCgzHGmDEsMBhjjBnDAoMxxpgx/j/lUp/1yKjXBAAAAABJRU5ErkJggg==\n",
      "text/plain": [
       "<Figure size 432x288 with 1 Axes>"
      ]
     },
     "metadata": {
      "needs_background": "light"
     },
     "output_type": "display_data"
    }
   ],
   "source": [
    "sns.lineplot(x=data.season,y=data.total_counts)\n",
    "plt.title(\"Seasonwise bike rental counts\")\n",
    "plt.show()"
   ]
  },
  {
   "cell_type": "markdown",
   "id": "93c12c45",
   "metadata": {
    "id": "93c12c45"
   },
   "source": [
    "* Here it can be seen that in Winter season , the  work rate get decreased as compared to other seasons ( this is because, we all know in winter season people make less use of bikes they will prefer car or other covered vehicles because of cold ).\n",
    "* Whereas in other seasons people make more use of bikes so there is good rate of thier work specially in Summer season."
   ]
  },
  {
   "cell_type": "markdown",
   "id": "cee24df8",
   "metadata": {
    "id": "cee24df8"
   },
   "source": [
    "### IMPACT OF YEAR ON TARGET FEATURE"
   ]
  },
  {
   "cell_type": "code",
   "execution_count": 8,
   "id": "cc1d82c6",
   "metadata": {
    "id": "cc1d82c6"
   },
   "outputs": [],
   "source": [
    "data.loc[data[\"year\"]==0,\"year\"]=2011\n",
    "data.loc[data[\"year\"]==1,\"year\"]=2012"
   ]
  },
  {
   "cell_type": "code",
   "execution_count": 9,
   "id": "9d385823",
   "metadata": {
    "colab": {
     "base_uri": "https://localhost:8080/",
     "height": 295
    },
    "id": "9d385823",
    "outputId": "284da534-a9f6-4d7a-9b90-d204683dcb8e"
   },
   "outputs": [
    {
     "data": {
      "image/png": "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\n",
      "text/plain": [
       "<Figure size 432x288 with 1 Axes>"
      ]
     },
     "metadata": {
      "needs_background": "light"
     },
     "output_type": "display_data"
    }
   ],
   "source": [
    "sns.violinplot(x=data.year,y=data.total_counts)\n",
    "plt.title(\"Bike rental counts in 2011-2012 year\")\n",
    "plt.show()"
   ]
  },
  {
   "cell_type": "markdown",
   "id": "c06b9eae",
   "metadata": {
    "id": "c06b9eae"
   },
   "source": [
    "* Here we can observed that in 2012 they have more bike rental customers than in 2011.\n",
    "* From this we can conclude that the bike rental system/programs has shown its progress in 2012."
   ]
  },
  {
   "cell_type": "markdown",
   "id": "4baee701",
   "metadata": {
    "id": "4baee701"
   },
   "source": [
    "### MONTHLY IMPACT"
   ]
  },
  {
   "cell_type": "code",
   "execution_count": 10,
   "id": "2d35c735",
   "metadata": {
    "colab": {
     "base_uri": "https://localhost:8080/",
     "height": 295
    },
    "id": "2d35c735",
    "outputId": "ccce9d66-b1bf-4ae9-e6b1-649ed1d2bb1f"
   },
   "outputs": [
    {
     "data": {
      "image/png": "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\n",
      "text/plain": [
       "<Figure size 432x288 with 1 Axes>"
      ]
     },
     "metadata": {
      "needs_background": "light"
     },
     "output_type": "display_data"
    }
   ],
   "source": [
    "sns.lineplot(x=data.month,y=data.total_counts)\n",
    "plt.title(\"Monthwise distribution of total_counts\")\n",
    "plt.show()"
   ]
  },
  {
   "cell_type": "markdown",
   "id": "4aeff00b",
   "metadata": {
    "id": "4aeff00b"
   },
   "source": [
    "* When we compare the SEASON feature with our target one then from that we concluded that \"winter\" season has less rate of work progress ,and here also we are proving the same thing.\n",
    "* As it can be seen that the starting and ending months of the year is of winter season and the work rate is less in the months of winter in both the years."
   ]
  },
  {
   "cell_type": "markdown",
   "id": "0be9c444",
   "metadata": {
    "id": "0be9c444"
   },
   "source": [
    "### LETS SEE HOURLY IMPACT"
   ]
  },
  {
   "cell_type": "code",
   "execution_count": 11,
   "id": "683ef37c",
   "metadata": {
    "colab": {
     "base_uri": "https://localhost:8080/",
     "height": 404
    },
    "id": "683ef37c",
    "outputId": "cf9a16bd-d9c9-494f-ef12-320cf1a79ec8"
   },
   "outputs": [
    {
     "data": {
      "image/png": "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\n",
      "text/plain": [
       "<Figure size 720x432 with 1 Axes>"
      ]
     },
     "metadata": {
      "needs_background": "light"
     },
     "output_type": "display_data"
    }
   ],
   "source": [
    "plt.figure(figsize=(10,6))\n",
    "sns.barplot(x=data.hr,y=data.total_counts)\n",
    "plt.title(\"Hourly based total_counts\")\n",
    "plt.show()"
   ]
  },
  {
   "cell_type": "markdown",
   "id": "facfb78b",
   "metadata": {
    "id": "facfb78b"
   },
   "source": [
    "* From above graph it can be seen that after 7 am the more number of customer start comming as at 7 am most of the people have to go to their work or they planned to go for other destinations .\n",
    "* Wheare as from  6 pm to 7 pm more number of bikes are issued by the customers.\n",
    "* After that there is fall in the customer rate till 7 am ."
   ]
  },
  {
   "cell_type": "markdown",
   "id": "ce05d36a",
   "metadata": {
    "id": "ce05d36a"
   },
   "source": [
    "### IMPACT OF WEEKDAYS"
   ]
  },
  {
   "cell_type": "code",
   "execution_count": 12,
   "id": "b4b8b388",
   "metadata": {
    "colab": {
     "base_uri": "https://localhost:8080/",
     "height": 295
    },
    "id": "b4b8b388",
    "outputId": "e081515b-9611-476e-c6e1-ac178b78c058"
   },
   "outputs": [
    {
     "data": {
      "image/png": "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\n",
      "text/plain": [
       "<Figure size 432x288 with 1 Axes>"
      ]
     },
     "metadata": {
      "needs_background": "light"
     },
     "output_type": "display_data"
    }
   ],
   "source": [
    "sns.barplot(x=data.weekday,y=data.total_counts)\n",
    "plt.title(\"Weekday wise distribution of counts\")\n",
    "plt.show()"
   ]
  },
  {
   "cell_type": "markdown",
   "id": "5d1c16a8",
   "metadata": {
    "id": "5d1c16a8"
   },
   "source": [
    "* In every weekday people are taking bikes on rent for thier personal use.\n",
    "* This feature is not effecting the target feature that much."
   ]
  },
  {
   "cell_type": "markdown",
   "id": "33c3cbbe",
   "metadata": {
    "id": "33c3cbbe"
   },
   "source": [
    "### LETS SEE IMPACT OF WEATHER ON THE WORK"
   ]
  },
  {
   "cell_type": "code",
   "execution_count": 13,
   "id": "d870df1b",
   "metadata": {
    "id": "d870df1b"
   },
   "outputs": [],
   "source": [
    "data.loc[data[\"weather_condition\"]==1,\"weather_condition\"]=\"Clear or Partially cloudy\"\n",
    "data.loc[data[\"weather_condition\"]==2,\"weather_condition\"]=\"Cloud and Mist\"\n",
    "data.loc[data[\"weather_condition\"]==3,\"weather_condition\"]=\"Light rain or Thunderstrom\"\n",
    "data.loc[data[\"weather_condition\"]==4,\"weather_condition\"]=\"Heavy rain or Thunderstrom\""
   ]
  },
  {
   "cell_type": "code",
   "execution_count": 14,
   "id": "f88315c0",
   "metadata": {
    "colab": {
     "base_uri": "https://localhost:8080/",
     "height": 351
    },
    "id": "f88315c0",
    "outputId": "5e0af4f4-d42e-41d8-9257-1df49b95559b"
   },
   "outputs": [
    {
     "data": {
      "image/png": "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\n",
      "text/plain": [
       "<Figure size 720x360 with 1 Axes>"
      ]
     },
     "metadata": {
      "needs_background": "light"
     },
     "output_type": "display_data"
    }
   ],
   "source": [
    "plt.figure(figsize=(10,5))\n",
    "sns.lineplot(x=data.weather_condition,y=data.total_counts)\n",
    "plt.title(\"Trend of counts w.r.t the weather conditions\")\n",
    "plt.show()"
   ]
  },
  {
   "cell_type": "markdown",
   "id": "05d5977f",
   "metadata": {
    "id": "05d5977f"
   },
   "source": [
    "* As weather is becoming worse , customer rate is decreasing.\n",
    "* So weather is definitely impacting the work rate.\n",
    "* If weather is clear then people more likely to take rental bike other wise in heavy rain there is less number of customers."
   ]
  },
  {
   "cell_type": "markdown",
   "id": "407db320",
   "metadata": {
    "id": "407db320"
   },
   "source": [
    "### IMPACT OF SOME ATMOSPHERIC CONDITIONS ON TARGET FEATURE"
   ]
  },
  {
   "cell_type": "code",
   "execution_count": 15,
   "id": "b4c10852",
   "metadata": {
    "colab": {
     "base_uri": "https://localhost:8080/",
     "height": 497
    },
    "id": "b4c10852",
    "outputId": "0b611400-a50a-49fe-9a9d-ada37bc8ed35"
   },
   "outputs": [
    {
     "data": {
      "image/png": "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\n",
      "text/plain": [
       "<Figure size 720x576 with 4 Axes>"
      ]
     },
     "metadata": {},
     "output_type": "display_data"
    }
   ],
   "source": [
    "data1=data[[\"temp\",\"atemp\",\"humidity\",\"windspeed\"]]\n",
    "plt.figure(figsize=(10,8), facecolor='white')\n",
    "plotnumber=1\n",
    "for i in data1:\n",
    "    if plotnumber<=6:\n",
    "        plt.subplot(2,2,plotnumber)\n",
    "        sns.lineplot(x=data1[i],y=data[\"total_counts\"])\n",
    "        plt.xlabel(i)\n",
    "    plotnumber+=1  \n",
    "\n",
    "plt.show()"
   ]
  },
  {
   "cell_type": "markdown",
   "id": "52fbe355",
   "metadata": {
    "id": "52fbe355"
   },
   "source": [
    "1. As the temperature increases the user counts going on increasing but if the temperature reaches its peak level than the counts gradually decreased as when there is too much hot outside why the people prefer bikes they used to prefer the covered vehicles as its very unhealthy not they even prefer to go outside. \n",
    "2. And with increase in humidity the number of counts increasing but after 0.4 it gradually starts decreasing.\n",
    "3. With windspeed it is not showing that much trend but the more denser area is between 0.4 to 0.7 somewhere the count rate is increasing and somewhere its decreasing. \n",
    "4. from 0 to 0.6 it is showing same trend."
   ]
  },
  {
   "cell_type": "markdown",
   "id": "ecd4cc5a",
   "metadata": {
    "id": "ecd4cc5a"
   },
   "source": [
    "### c.) Multivariate Analysis"
   ]
  },
  {
   "cell_type": "markdown",
   "id": "a6c6f8f9",
   "metadata": {},
   "source": [
    "### Comparing total_counts w.r.t. months based on weekdays"
   ]
  },
  {
   "cell_type": "code",
   "execution_count": 16,
   "id": "dbe756ee",
   "metadata": {
    "colab": {
     "base_uri": "https://localhost:8080/",
     "height": 350
    },
    "id": "dbe756ee",
    "outputId": "86d6c1ad-2ab0-4a79-e43a-afb42c1df96d"
   },
   "outputs": [
    {
     "data": {
      "image/png": "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\n",
      "text/plain": [
       "<Figure size 720x360 with 1 Axes>"
      ]
     },
     "metadata": {
      "needs_background": "light"
     },
     "output_type": "display_data"
    }
   ],
   "source": [
    "plt.figure(figsize=(10,5))\n",
    "sns.barplot(x=\"month\",y=\"total_counts\",data=data,hue=\"weekday\")\n",
    "plt.title(\"Weakday wise yearly counts distribution\")\n",
    "plt.show()"
   ]
  },
  {
   "cell_type": "markdown",
   "id": "b34ee570",
   "metadata": {
    "id": "b34ee570"
   },
   "source": [
    "* Bike rental counts are higher in june-September months and not showing that much variation in distribution of counts during weekdays as where some counts are higher on weekends and somewhere higher on working days.  "
   ]
  },
  {
   "cell_type": "markdown",
   "id": "92e66de6",
   "metadata": {
    "id": "92e66de6"
   },
   "source": [
    "### Comparing 2011 and 2012's bike rental user counts impacted by different seasons:"
   ]
  },
  {
   "cell_type": "code",
   "execution_count": 17,
   "id": "b52cc857",
   "metadata": {
    "colab": {
     "base_uri": "https://localhost:8080/",
     "height": 295
    },
    "id": "b52cc857",
    "outputId": "50b29e8d-ad7d-4672-c4ab-b1e0c6d4c595"
   },
   "outputs": [
    {
     "data": {
      "image/png": "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\n",
      "text/plain": [
       "<Figure size 432x288 with 1 Axes>"
      ]
     },
     "metadata": {
      "needs_background": "light"
     },
     "output_type": "display_data"
    }
   ],
   "source": [
    "sns.barplot(x=\"year\",y=\"total_counts\",data=data,hue=\"season\")\n",
    "plt.title(\"Season wise yearly distribution of counts\")\n",
    "plt.show()"
   ]
  },
  {
   "cell_type": "markdown",
   "id": "498f7922",
   "metadata": {
    "id": "498f7922"
   },
   "source": [
    "1. So, in 2012 the number of total counts are more than in 2011.\n",
    "3. no matter, it is 2011 or 2012 the number of users are highest in summers as in summers the people used to go for travelling to different destinations.\n",
    "4. And the spring and summers showing approx. same number of counts, but comparatively in summers the users are more.\n",
    "5. Some people also used to go in rainy season.\n",
    "6. But the user count rate in winters is very less compared with others as due to fog and snowfall at some places the people decide to go through cars or we can say they do not prefer bikes as it is not safe to go on the bikes."
   ]
  },
  {
   "cell_type": "markdown",
   "id": "7af8c437",
   "metadata": {
    "id": "7af8c437"
   },
   "source": [
    "### How the total number of counts vary in all the months in different type of seasons"
   ]
  },
  {
   "cell_type": "code",
   "execution_count": 18,
   "id": "83b45cb3",
   "metadata": {
    "colab": {
     "base_uri": "https://localhost:8080/",
     "height": 295
    },
    "id": "83b45cb3",
    "outputId": "056a0885-557c-47f3-e60e-95e40c2639ee"
   },
   "outputs": [
    {
     "data": {
      "image/png": "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\n",
      "text/plain": [
       "<Figure size 432x288 with 1 Axes>"
      ]
     },
     "metadata": {
      "needs_background": "light"
     },
     "output_type": "display_data"
    }
   ],
   "source": [
    "sns.barplot(x=\"month\",y=\"total_counts\",data=data,hue=\"season\")\n",
    "plt.title(\"Season wise monthly distribution of counts\")\n",
    "plt.show()"
   ]
  },
  {
   "cell_type": "markdown",
   "id": "5ff5ba0d",
   "metadata": {
    "id": "5ff5ba0d"
   },
   "source": [
    "1. From the month of june to september the number of users are more as obvious the indian summer monsoon typically lasts from June-September.\n",
    "2. The number of counts showing linear trend till june and from june to september it remains same and after then it starts decreasing.\n",
    "3. As we all know 1st 2 months an last 3 months are of the winters where it is so much cold for which reason mostly the people do not use bikes. "
   ]
  },
  {
   "cell_type": "markdown",
   "id": "7870fa2d",
   "metadata": {
    "id": "7870fa2d"
   },
   "source": [
    "### How total number of counts impacted by the hours based on different season"
   ]
  },
  {
   "cell_type": "code",
   "execution_count": 19,
   "id": "698db26e",
   "metadata": {
    "colab": {
     "base_uri": "https://localhost:8080/",
     "height": 404
    },
    "id": "698db26e",
    "outputId": "caf2228f-b039-4fb4-918c-4e08534a7f4d"
   },
   "outputs": [
    {
     "data": {
      "image/png": "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\n",
      "text/plain": [
       "<Figure size 1080x432 with 1 Axes>"
      ]
     },
     "metadata": {
      "needs_background": "light"
     },
     "output_type": "display_data"
    }
   ],
   "source": [
    "plt.figure(figsize=(15,6))\n",
    "sns.barplot(x= \"hr\",y=\"total_counts\",data=data,hue=\"season\")\n",
    "plt.title(\"Season wise hourly distribution of counts\")\n",
    "plt.show()"
   ]
  },
  {
   "cell_type": "markdown",
   "id": "aca03f16",
   "metadata": {
    "id": "aca03f16"
   },
   "source": [
    "1. Firstly, the number of counts are more in between 5-6pm after that the counts are gradually starts decreasing till morning 4 am.\n",
    "2. It can be seen that in every hour there is high peak showing green color means in summers the number of counts of customers are higher.\n",
    "3. At most of the day-timimgs the users counts are same in spring and rain. \n",
    "4. Comparatively, At 5 or 6 in the evening in monsoons the number of counts are the highest.\n",
    "5. Some of the bike rental users at 8 in morning used to take bikes on rent.\n",
    "6. In winters also the people take bikes on rent but the counts are less in number as compared to other seasons and if they go then they used to go by day timings like after 6pm the counts are decreasing till 4am."
   ]
  },
  {
   "cell_type": "markdown",
   "id": "3f112688",
   "metadata": {
    "id": "3f112688"
   },
   "source": [
    "### Let us see the variation of total_counts and months in 2011 and 2012.\n",
    "### To know why the number of users are more in 2012 then in 2011 like how the gowth actually happens."
   ]
  },
  {
   "cell_type": "code",
   "execution_count": 20,
   "id": "7343f1b2",
   "metadata": {
    "id": "7343f1b2"
   },
   "outputs": [],
   "source": [
    "data_of_2011 = data.loc[data[\"year\"]==2011]"
   ]
  },
  {
   "cell_type": "code",
   "execution_count": 21,
   "id": "d11d2d97",
   "metadata": {
    "id": "d11d2d97"
   },
   "outputs": [],
   "source": [
    "data_of_2012 = data.loc[data[\"year\"]==2012]"
   ]
  },
  {
   "cell_type": "code",
   "execution_count": 22,
   "id": "6b2f6051",
   "metadata": {
    "colab": {
     "base_uri": "https://localhost:8080/",
     "height": 351
    },
    "id": "6b2f6051",
    "outputId": "e521fd09-635e-4477-93bc-1b52417c0546"
   },
   "outputs": [
    {
     "data": {
      "image/png": "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\n",
      "text/plain": [
       "<Figure size 1440x360 with 3 Axes>"
      ]
     },
     "metadata": {
      "needs_background": "light"
     },
     "output_type": "display_data"
    }
   ],
   "source": [
    "plt.figure(figsize=(20,5))\n",
    "plt.subplot(1,3,1)\n",
    "sns.barplot(x = \"month\",y=\"total_counts\",data=data_of_2011,hue=\"season\")\n",
    "plt.title(\"Season wise monthly distribution of counts in 2011 year\")\n",
    "plt.xlabel(\"months_of_2011\")\n",
    "plt.subplot(1,3,2)\n",
    "sns.barplot(x=\"month\",y=\"total_counts\",data=data_of_2012,hue=\"season\")\n",
    "plt.xlabel(\"months_of_2012\")\n",
    "plt.title(\"Season wise monthly distribution of counts in 2012 year\")\n",
    "plt.subplot(1,3,3)\n",
    "sns.lineplot(x=\"month\",y=\"total_counts\",data=data,hue=\"year\")\n",
    "plt.title(\"Year wise monthly distribution of counts\")\n",
    "plt.show()"
   ]
  },
  {
   "cell_type": "markdown",
   "id": "e11bb838",
   "metadata": {
    "id": "e11bb838"
   },
   "source": [
    "* So, here i got to know that the growth happens in every month as by looking at the bar graphs and lineplot we can see the difference in number of counts.\n",
    "* And we can easily see that the scale of total_counts in month_of_2012 got changed and increased to 350 max."
   ]
  },
  {
   "cell_type": "markdown",
   "id": "7dffa6ea",
   "metadata": {
    "id": "7dffa6ea"
   },
   "source": [
    "### How the total counts per year impacted by weather conditions"
   ]
  },
  {
   "cell_type": "code",
   "execution_count": 23,
   "id": "bed6b151",
   "metadata": {
    "colab": {
     "base_uri": "https://localhost:8080/",
     "height": 279
    },
    "id": "bed6b151",
    "outputId": "0fee60e2-1c30-4af3-a76a-6c07b3dee1b1"
   },
   "outputs": [
    {
     "data": {
      "image/png": "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\n",
      "text/plain": [
       "<Figure size 432x288 with 1 Axes>"
      ]
     },
     "metadata": {
      "needs_background": "light"
     },
     "output_type": "display_data"
    }
   ],
   "source": [
    "sns.barplot(x= \"year\",y=\"total_counts\",data=data,hue=\"weather_condition\")\n",
    "plt.show()"
   ]
  },
  {
   "cell_type": "markdown",
   "id": "7102d297",
   "metadata": {
    "id": "7102d297"
   },
   "source": [
    "1. Its very clear, when the weather is good the people used to go on bikes so bike rental sharing is higher in a good weather.\n",
    "2. its not that the people do not took bikes for rent as in every weather condition there are some counts of customers but the number of counts are less.\n",
    "3. In cloud and mist weather condition people go with the bike sharing system but comparatively less in number than the people who used to go in normal weather condition.\n",
    "4. In rain and thunderstorm some people prefer covered vehicles or they managed to go by their own."
   ]
  },
  {
   "cell_type": "markdown",
   "id": "df34832a",
   "metadata": {
    "id": "df34832a"
   },
   "source": [
    "### How the count rate impacted if it was holiday for the people or not"
   ]
  },
  {
   "cell_type": "code",
   "execution_count": 24,
   "id": "a8dc26e1",
   "metadata": {
    "id": "a8dc26e1"
   },
   "outputs": [],
   "source": [
    "data.loc[data[\"holiday\"]==1,\"holiday\"]=\"Holiday\"\n",
    "data.loc[data[\"holiday\"]==0,\"holiday\"]=\"No_Holiday\""
   ]
  },
  {
   "cell_type": "code",
   "execution_count": 25,
   "id": "e6a456ce",
   "metadata": {
    "colab": {
     "base_uri": "https://localhost:8080/",
     "height": 281
    },
    "id": "e6a456ce",
    "outputId": "e9de7b1a-991d-4546-da6a-dd0859eead1d"
   },
   "outputs": [
    {
     "data": {
      "image/png": "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\n",
      "text/plain": [
       "<Figure size 432x288 with 1 Axes>"
      ]
     },
     "metadata": {
      "needs_background": "light"
     },
     "output_type": "display_data"
    }
   ],
   "source": [
    "sns.barplot(x= \"year\",y=\"total_counts\",data=data,hue=\"holiday\")\n",
    "plt.show()"
   ]
  },
  {
   "cell_type": "markdown",
   "id": "5bd5da14",
   "metadata": {
    "id": "5bd5da14"
   },
   "source": [
    "* In both the 2011 and 2012 years the count rate for yes or no showing the same level.\n",
    "* As the people used to go on bikes on their wirking days and \n",
    "* on holidays some also use bike sharing system as they go for vacations or else.\n",
    "* But the counts are less because mostly the working people used to take rest on their holidays."
   ]
  },
  {
   "cell_type": "code",
   "execution_count": 26,
   "id": "1b844cbb",
   "metadata": {
    "colab": {
     "base_uri": "https://localhost:8080/",
     "height": 296
    },
    "id": "1b844cbb",
    "outputId": "8407e047-31d9-463e-e077-66e2283f092d"
   },
   "outputs": [
    {
     "data": {
      "image/png": "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\n",
      "text/plain": [
       "<Figure size 432x288 with 1 Axes>"
      ]
     },
     "metadata": {
      "needs_background": "light"
     },
     "output_type": "display_data"
    }
   ],
   "source": [
    "sns.barplot(x= \"holiday\",y=\"total_counts\",data=data,hue=\"season\")\n",
    "plt.title(\"Holiday wise Counts distribution in diifferent seasons\")\n",
    "plt.show()"
   ]
  },
  {
   "cell_type": "markdown",
   "id": "4d9d1b6b",
   "metadata": {
    "id": "4d9d1b6b"
   },
   "source": [
    "* We can observe that whether there is a holiday or not the counts are exceeding the range of 200-250.\n",
    "* But we see the difference in winters and rainy season that the users counts is more when there is not a holiday means working days.\n",
    "* As people do not think of weather when its there working day. And here we got an increase in counts when there is not a holiday."
   ]
  },
  {
   "cell_type": "markdown",
   "id": "63e4bc56",
   "metadata": {
    "id": "63e4bc56"
   },
   "source": [
    "### How the count rate impacted if it was working day for people or not"
   ]
  },
  {
   "cell_type": "code",
   "execution_count": 27,
   "id": "9ae963e5",
   "metadata": {
    "id": "9ae963e5"
   },
   "outputs": [],
   "source": [
    "data.loc[data[\"workingday\"]==1,\"workingday\"]=\"Yes\"\n",
    "data.loc[data[\"workingday\"]==0,\"workingday\"]=\"No\""
   ]
  },
  {
   "cell_type": "code",
   "execution_count": 28,
   "id": "be7231f2",
   "metadata": {
    "colab": {
     "base_uri": "https://localhost:8080/",
     "height": 350
    },
    "id": "be7231f2",
    "outputId": "a0b89417-b94f-4a5c-f28f-9334923e0477"
   },
   "outputs": [
    {
     "data": {
      "image/png": "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\n",
      "text/plain": [
       "<Figure size 1080x360 with 2 Axes>"
      ]
     },
     "metadata": {
      "needs_background": "light"
     },
     "output_type": "display_data"
    }
   ],
   "source": [
    "plt.figure(figsize=(15,5))\n",
    "plt.subplot(1,2,1)\n",
    "sns.barplot(x= \"year\",y=\"total_counts\",data=data,hue=\"workingday\")\n",
    "plt.title(\"Yearly distribution of counts on wokring day\")\n",
    "plt.subplot(1,2,2)\n",
    "sns.barplot(x= \"workingday\",y=\"total_counts\",data=data,hue=\"season\")\n",
    "plt.title(\"Working day wise count distribution in diff. Seasons\")\n",
    "plt.show()"
   ]
  },
  {
   "cell_type": "markdown",
   "id": "f0b8f86d",
   "metadata": {
    "id": "f0b8f86d"
   },
   "source": [
    "* In 2011, the count rate for yes and no are on a same level appprox.\n",
    "* And in 2012, the count rate of working days is more but not that much higher difference.\n",
    "* Same as on working days the counts are more than in on weekends/holiday."
   ]
  },
  {
   "cell_type": "code",
   "execution_count": 29,
   "id": "fb74d8f1",
   "metadata": {
    "colab": {
     "base_uri": "https://localhost:8080/",
     "height": 294
    },
    "id": "fb74d8f1",
    "outputId": "733b7646-083f-48ca-c28f-dbaf69907790"
   },
   "outputs": [
    {
     "data": {
      "image/png": "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\n",
      "text/plain": [
       "<Figure size 432x288 with 1 Axes>"
      ]
     },
     "metadata": {
      "needs_background": "light"
     },
     "output_type": "display_data"
    }
   ],
   "source": [
    "fig,ax= plt.subplots(1)\n",
    "ax.plot(sorted(data['total_counts']), color = 'blue', marker = '*', label='total_counts')\n",
    "ax.legend(loc= 'upper left')\n",
    "ax.set_ylabel('Sorted Rental Counts', fontsize = 10)\n",
    "fig.suptitle('Recorded Bike Rental Counts', fontsize = 10)\n",
    "plt.show()"
   ]
  },
  {
   "cell_type": "markdown",
   "id": "1e778204",
   "metadata": {
    "id": "1e778204"
   },
   "source": [
    " Sorted counts of the bike rentals reveal that the majority of the rentals happen in the 0 - 400 ranges, values higher than those are rare or outliers."
   ]
  },
  {
   "cell_type": "markdown",
   "id": "99d988e6",
   "metadata": {
    "id": "99d988e6"
   },
   "source": [
    "# Data-Preprocessing :"
   ]
  },
  {
   "cell_type": "markdown",
   "id": "67128e99",
   "metadata": {
    "id": "67128e99"
   },
   "source": [
    "* Loading the original data again in a different variable_name as we did mapping and all for better EDA so our data got little changed. \n",
    "* Changing the label names back into numbers and make them objective type also."
   ]
  },
  {
   "cell_type": "code",
   "execution_count": 30,
   "id": "2UVR95k-XkE1",
   "metadata": {
    "id": "2UVR95k-XkE1"
   },
   "outputs": [],
   "source": [
    "preprocessed_data = pd.read_csv(\"hour.csv\")"
   ]
  },
  {
   "cell_type": "markdown",
   "id": "0ca5b0f8",
   "metadata": {
    "id": "0ca5b0f8"
   },
   "source": [
    "# Renaming the names of the features "
   ]
  },
  {
   "cell_type": "code",
   "execution_count": 31,
   "id": "16c76202",
   "metadata": {
    "id": "16c76202"
   },
   "outputs": [],
   "source": [
    "preprocessed_data.rename(columns={\"instant\":\"record_id\",\"dteday\":\"date\",\"yr\":\"year\",\"mnth\":\"month\",\n",
    "                                  \"weathersit\":\"weather_condition\",\"hum\":\"humidity\",\"cnt\":\"total_counts\"},inplace=True)"
   ]
  },
  {
   "cell_type": "code",
   "execution_count": 32,
   "id": "3b4f042f",
   "metadata": {
    "colab": {
     "base_uri": "https://localhost:8080/",
     "height": 206
    },
    "id": "3b4f042f",
    "outputId": "5fe38c0c-1dcf-4250-a44e-2e1c460cc1aa"
   },
   "outputs": [
    {
     "data": {
      "text/html": [
       "<div>\n",
       "<style scoped>\n",
       "    .dataframe tbody tr th:only-of-type {\n",
       "        vertical-align: middle;\n",
       "    }\n",
       "\n",
       "    .dataframe tbody tr th {\n",
       "        vertical-align: top;\n",
       "    }\n",
       "\n",
       "    .dataframe thead th {\n",
       "        text-align: right;\n",
       "    }\n",
       "</style>\n",
       "<table border=\"1\" class=\"dataframe\">\n",
       "  <thead>\n",
       "    <tr style=\"text-align: right;\">\n",
       "      <th></th>\n",
       "      <th>record_id</th>\n",
       "      <th>date</th>\n",
       "      <th>season</th>\n",
       "      <th>year</th>\n",
       "      <th>month</th>\n",
       "      <th>hr</th>\n",
       "      <th>holiday</th>\n",
       "      <th>weekday</th>\n",
       "      <th>workingday</th>\n",
       "      <th>weather_condition</th>\n",
       "      <th>temp</th>\n",
       "      <th>atemp</th>\n",
       "      <th>humidity</th>\n",
       "      <th>windspeed</th>\n",
       "      <th>casual</th>\n",
       "      <th>registered</th>\n",
       "      <th>total_counts</th>\n",
       "    </tr>\n",
       "  </thead>\n",
       "  <tbody>\n",
       "    <tr>\n",
       "      <th>0</th>\n",
       "      <td>1</td>\n",
       "      <td>2011-01-01</td>\n",
       "      <td>1</td>\n",
       "      <td>0</td>\n",
       "      <td>1</td>\n",
       "      <td>0</td>\n",
       "      <td>0</td>\n",
       "      <td>6</td>\n",
       "      <td>0</td>\n",
       "      <td>1</td>\n",
       "      <td>0.24</td>\n",
       "      <td>0.2879</td>\n",
       "      <td>0.81</td>\n",
       "      <td>0.0</td>\n",
       "      <td>3</td>\n",
       "      <td>13</td>\n",
       "      <td>16</td>\n",
       "    </tr>\n",
       "    <tr>\n",
       "      <th>1</th>\n",
       "      <td>2</td>\n",
       "      <td>2011-01-01</td>\n",
       "      <td>1</td>\n",
       "      <td>0</td>\n",
       "      <td>1</td>\n",
       "      <td>1</td>\n",
       "      <td>0</td>\n",
       "      <td>6</td>\n",
       "      <td>0</td>\n",
       "      <td>1</td>\n",
       "      <td>0.22</td>\n",
       "      <td>0.2727</td>\n",
       "      <td>0.80</td>\n",
       "      <td>0.0</td>\n",
       "      <td>8</td>\n",
       "      <td>32</td>\n",
       "      <td>40</td>\n",
       "    </tr>\n",
       "    <tr>\n",
       "      <th>2</th>\n",
       "      <td>3</td>\n",
       "      <td>2011-01-01</td>\n",
       "      <td>1</td>\n",
       "      <td>0</td>\n",
       "      <td>1</td>\n",
       "      <td>2</td>\n",
       "      <td>0</td>\n",
       "      <td>6</td>\n",
       "      <td>0</td>\n",
       "      <td>1</td>\n",
       "      <td>0.22</td>\n",
       "      <td>0.2727</td>\n",
       "      <td>0.80</td>\n",
       "      <td>0.0</td>\n",
       "      <td>5</td>\n",
       "      <td>27</td>\n",
       "      <td>32</td>\n",
       "    </tr>\n",
       "    <tr>\n",
       "      <th>3</th>\n",
       "      <td>4</td>\n",
       "      <td>2011-01-01</td>\n",
       "      <td>1</td>\n",
       "      <td>0</td>\n",
       "      <td>1</td>\n",
       "      <td>3</td>\n",
       "      <td>0</td>\n",
       "      <td>6</td>\n",
       "      <td>0</td>\n",
       "      <td>1</td>\n",
       "      <td>0.24</td>\n",
       "      <td>0.2879</td>\n",
       "      <td>0.75</td>\n",
       "      <td>0.0</td>\n",
       "      <td>3</td>\n",
       "      <td>10</td>\n",
       "      <td>13</td>\n",
       "    </tr>\n",
       "    <tr>\n",
       "      <th>4</th>\n",
       "      <td>5</td>\n",
       "      <td>2011-01-01</td>\n",
       "      <td>1</td>\n",
       "      <td>0</td>\n",
       "      <td>1</td>\n",
       "      <td>4</td>\n",
       "      <td>0</td>\n",
       "      <td>6</td>\n",
       "      <td>0</td>\n",
       "      <td>1</td>\n",
       "      <td>0.24</td>\n",
       "      <td>0.2879</td>\n",
       "      <td>0.75</td>\n",
       "      <td>0.0</td>\n",
       "      <td>0</td>\n",
       "      <td>1</td>\n",
       "      <td>1</td>\n",
       "    </tr>\n",
       "  </tbody>\n",
       "</table>\n",
       "</div>"
      ],
      "text/plain": [
       "   record_id        date  season  year  month  hr  holiday  weekday  \\\n",
       "0          1  2011-01-01       1     0      1   0        0        6   \n",
       "1          2  2011-01-01       1     0      1   1        0        6   \n",
       "2          3  2011-01-01       1     0      1   2        0        6   \n",
       "3          4  2011-01-01       1     0      1   3        0        6   \n",
       "4          5  2011-01-01       1     0      1   4        0        6   \n",
       "\n",
       "   workingday  weather_condition  temp   atemp  humidity  windspeed  casual  \\\n",
       "0           0                  1  0.24  0.2879      0.81        0.0       3   \n",
       "1           0                  1  0.22  0.2727      0.80        0.0       8   \n",
       "2           0                  1  0.22  0.2727      0.80        0.0       5   \n",
       "3           0                  1  0.24  0.2879      0.75        0.0       3   \n",
       "4           0                  1  0.24  0.2879      0.75        0.0       0   \n",
       "\n",
       "   registered  total_counts  \n",
       "0          13            16  \n",
       "1          32            40  \n",
       "2          27            32  \n",
       "3          10            13  \n",
       "4           1             1  "
      ]
     },
     "execution_count": 32,
     "metadata": {},
     "output_type": "execute_result"
    }
   ],
   "source": [
    "preprocessed_data.head()"
   ]
  },
  {
   "cell_type": "code",
   "execution_count": 33,
   "id": "61821cd4",
   "metadata": {
    "colab": {
     "base_uri": "https://localhost:8080/"
    },
    "id": "61821cd4",
    "outputId": "f3195750-bf49-48e5-90de-124bff08d228"
   },
   "outputs": [
    {
     "data": {
      "text/plain": [
       "0"
      ]
     },
     "execution_count": 33,
     "metadata": {},
     "output_type": "execute_result"
    }
   ],
   "source": [
    "# Checking if any duplicacy is there or not\n",
    "preprocessed_data.duplicated().sum()"
   ]
  },
  {
   "cell_type": "markdown",
   "id": "3ac0d9e6",
   "metadata": {
    "id": "3ac0d9e6"
   },
   "source": [
    "# Type casting the date and discrete features to categorical"
   ]
  },
  {
   "cell_type": "code",
   "execution_count": 34,
   "id": "aaf312ff",
   "metadata": {
    "id": "aaf312ff"
   },
   "outputs": [],
   "source": [
    "preprocessed_data[\"date\"]=pd.to_datetime(preprocessed_data.date)"
   ]
  },
  {
   "cell_type": "code",
   "execution_count": 35,
   "id": "01390f5e",
   "metadata": {
    "id": "01390f5e"
   },
   "outputs": [],
   "source": [
    "preprocessed_data[\"season\"] = preprocessed_data[\"season\"].astype(\"object\")"
   ]
  },
  {
   "cell_type": "code",
   "execution_count": 36,
   "id": "67d26ded",
   "metadata": {
    "id": "67d26ded"
   },
   "outputs": [],
   "source": [
    "preprocessed_data[\"year\"] = preprocessed_data[\"year\"].astype(\"object\")\n",
    "preprocessed_data[\"month\"] = preprocessed_data[\"month\"].astype(\"object\")\n",
    "preprocessed_data[\"holiday\"] = preprocessed_data[\"holiday\"].astype(\"object\")\n",
    "preprocessed_data[\"weekday\"] = preprocessed_data[\"weekday\"].astype(\"object\")\n",
    "preprocessed_data[\"workingday\"] = preprocessed_data[\"workingday\"].astype(\"object\")\n",
    "preprocessed_data[\"weather_condition\"] = preprocessed_data[\"weather_condition\"].astype(\"object\")"
   ]
  },
  {
   "cell_type": "markdown",
   "id": "b3829f5f",
   "metadata": {
    "id": "b3829f5f"
   },
   "source": [
    "# Checking outliers in target feature"
   ]
  },
  {
   "cell_type": "code",
   "execution_count": 37,
   "id": "be6cd27a",
   "metadata": {
    "colab": {
     "base_uri": "https://localhost:8080/",
     "height": 282
    },
    "id": "be6cd27a",
    "outputId": "7e53143b-32f4-4289-d63a-279c4a17edaa"
   },
   "outputs": [
    {
     "data": {
      "image/png": "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\n",
      "text/plain": [
       "<Figure size 432x288 with 1 Axes>"
      ]
     },
     "metadata": {
      "needs_background": "light"
     },
     "output_type": "display_data"
    }
   ],
   "source": [
    "sns.boxplot(data=preprocessed_data[[\"total_counts\"]])\n",
    "plt.title(\"tota_counts outliers\")\n",
    "plt.show()"
   ]
  },
  {
   "cell_type": "code",
   "execution_count": 38,
   "id": "79b7f281",
   "metadata": {
    "colab": {
     "base_uri": "https://localhost:8080/",
     "height": 336
    },
    "id": "79b7f281",
    "outputId": "62839546-8de3-486b-dcc4-20021ca03709"
   },
   "outputs": [
    {
     "data": {
      "image/png": "iVBORw0KGgoAAAANSUhEUgAAAlMAAAE/CAYAAABin0ZUAAAAOXRFWHRTb2Z0d2FyZQBNYXRwbG90bGliIHZlcnNpb24zLjMuNCwgaHR0cHM6Ly9tYXRwbG90bGliLm9yZy8QVMy6AAAACXBIWXMAAAsTAAALEwEAmpwYAAAjp0lEQVR4nO3dfZxcZX338c8vIZhoMEFAgSwYZIOKirasVPEBrKKgYtTaCipGqjellUZv6wO1KSrGqre1t+4titQnUCz1mWcBtRAUrSSKKFCTBSJZgxoQIg9BAvndf5yzMDtsktmcmT27J5/367WvzHXONef8ZuZk57vXueZMZCaSJEnaNtPqLkCSJGkqM0xJkiRVYJiSJEmqwDAlSZJUgWFKkiSpAsOUJElSBYYpSZVFxLsj4jPbeN9DI2K42zVVERGrI+IFW+nz3oj40gTVs8Xnt7XeKq9Fr0XEpRHxpvL2ayPi4rprkrphh7oLkHohIlYDb8rM79RdS6emYs0jMvNf6q6hycbz/Lb2jYj5wI3AjMy8rwelbVZEvBfoz8zXjbU+M88EzpzImqRecWRKkjSlRMT0umuQWhmm1DgR8UVgb+DciLgzIt5ZLn9GRFwREbdHxM8i4tCW+1waEUvL9XdGxLkRsUtEnBkRf4iIK8u/8kf6Z0QsjogbIuKWiPhIRGzx/1NE7BsR34uIW8v7nBkRcyd5zb+KiAPL268rt7F/2X5TRHyrvP3AKa+ImF/2WxQRN5X7+qeWbc6KiC9ExG0RcS3w9LZ9visifh0Rd0TELyPi+S37+FpE/Ge57icR8dSW++0ZEV+PiHURcWNELG5ZNy0iToyI68vn/ysR8aiW9ceUj/XW1lo7sGNEnFHWc01EDLQ93/0t7S9ExNLy9qERMRwR74yI30XEzRHx8oh4cUSsjIjfR8S7W+476pTilupt67us/Pf28hg5pNz2U1r6PzoiNkTEbu0PrnzelpT7+l35WOe0Poa2/qsj4gURcTjwbuDV5X5/Nsa23xAR329pPyEiLinr+2VE/FXbc/epiLggIu4Cnlc+V9eWz/2vI+Ltm3mNpJ4zTKlxMvMY4CbgyMycnZn/JyLmAecDS4FHAW8Hvt72BnIUcAwwD9gX+CHw+bL/dcB72nb1CmAA+FNgIfDXWyktgA8CewJPBPYC3jvJa74MOLS8/VzgBuCQlvZlW7jvs4HHA88HToqIJ5bL31PWui/wImDRyB0i4vHACcDTM3Oncv3qlm0uBL5aPr4vA9+KiBllKDwX+BnFc/F84K0R8aLyfouBl5e17wncBpxS7nN/4FMUz+OewC5A31aelxEvA84C5gLnAJ/o8H4AuwMzy3pPAv4deB1wIPAciufsce13Gme9zy3/nVseV5eV9baeejsa+E5mrhvj/m8of54HPA6YTQePMTO/DfwL8J/lfp+6pf4R8QjgEorX9NFlTZ+MiCe1dHsN8AFgJ+D7wGeBvymPkycD39taXVKvGKa0vXgdcEFmXpCZmzLzEmA58OKWPp/PzOszcz1wIXB9Zn6nnGvyVeBP2rb54cz8fWbeBHyM4g1gszJzKDMvycw/lm9c/8aDwWRS1kwRlkZqfA5FGBxpH8KWw9T7MnNDZv6MIuSMvKH+FfCBso41wGDLfe4HHgbsHxEzMnN1Zl7fsn5FZn4tMzdSPH8zgWdQjG7tlpknZ+a9mXkDRTg5qrzf3wD/lJnDmflHihD7qojYAXgVcF5mLivX/TOwaSvPy4jvl6/P/cAXWx5jJzaWz8NGioCzK/DxzLwjM68BrgEOGON+VeoFOB14TTw4KnlMWftYXgv8W2bekJl3Av8IHFU+b930UmB1Zn4+M+/LzJ8AX6d4rCPOzswflP8X7qF4/vaPiEdm5m3lfaRaGKa0vXgs8JdRnC67PSJupxg52aOlz29bbm8Yoz27bZtrWm7/imKUYLPK0ylnlack/gB8ieINdNLWTBGWnhMRuwPTgf8EnhXF6cM5wFVbuO9vWm7f3VLLnmPUARSBE3grRdj5Xfl8tda4pqXvJmC43N5jgT3bnqt3A48puz8W+GbLuusogttj2uvJzLuAW7fwuLb0GGeOI2jcWoYwKF4r2PrrB9XqJTP/G7gLOCQingD0U4yqjWVPWl6f8vYOPPi8dstjgT9re/1eSzF6N2JN233+guIPi19FxGUR8cwu1yR1zDClpsq29hrgi5k5t+XnEZn5oQr72Kvl9t7A2q30/2BZ1wGZ+UiKkaeYzDWX4eZuitNkyzLzDooAcRzFqMx4RkRG3DxGHa37/HJmPpviDTaBD49Vfzmy0lc+hjXAjW3P1U6ZOTKKtwY4om39zMz8dXs9EfFwilNnVd0NPLylvfvmOo7TeOptP6ZGnE5x/B0DfK0c6RnLWorXYcTewH0Uoe8uWh5fFJPCW09Bb27fY1kDXNb2+szOzL/d3PYy88rMXEhxWvBbwFfGsT+pqwxTaqrfUszxGPEl4MiIeFFETI+ImeUE2k7nxozlHRGxc0TsBbyFYtRmS3YC7qSYDDwPeMcUqBmK0akTePCU3qVt7fH6CvCPZR19wN+PrIiIx0fEn0fEw4B7KEZn7m+574ER8cpy9OetwB+BHwE/Bv4QxeT1WeXz9eSIGJncfirwgYh4bLmf3SJiYbnua8BLI+LZEbEjcDLd+d14FcXptOnlhOwtndIdj/HUu47iFGD73KsvUsyfex1wxhb29R/A/46IfSJiNg/Og7oPWEkxEveSiJgBLKE4RTvit8D82MqHHErnAftFMbF+Rvnz9JZ5dqNExI5RXKdqTnma9A+MPk6kCWWYUlN9EFhSnjJ4ezk3ZyHFqZ91FH8Jv4Nq/wfOBlZQvGmeTzEhdkveRzHxe33Z/xtToGYoQtNOPPjJsPb2eL2P4nTRjcDFjJ6v8zDgQ8AtFCNgj6Z4/K31v5piAvkxwCszc2N5uuxI4Gnldm8BPkNxKhLg4xSnsi6OiDsoAtifAZTzk95MMfn55nLb3biI6FvKmm6nOGX1rS5sc1z1ZubdFJO2f1AeV88olw8DP6EY7bl8C7v7HMXrs4zieb2HMvyW8/T+juJ5/jXFSFVrHV8t/701IrY4n6kc8XwhxRy3tRSv/YcZHc7aHQOsLk+ZH8/oSfXShIrM8YzESoLiY+/AgvI02JQwFWtuFVu5CKTGJyI+B6zNzCV11yJNdV4BXZK2M+UHCF7JQz/tKWkbeJpP6qKIODWKixS2/5xad22bMxVrnigRceFmnpt3b/3ek1NEvB/4BfCRzLyx7nqkJvA0nyRJUgWOTEmSJFVgmJIkSaqgtgnou+66a86fP7+u3UuSJHVsxYoVt2TmQ74QHGoMU/Pnz2f58uV17V6SJKljEfGrza3zNJ8kSVIFhilJkqQKDFOSJEkVGKYkSZIqMExJkiRVYJiSJEmqwDAlSZJUwVbDVER8LiJ+FxG/2Mz6iIjBiBiKiKsj4k+7X6YkSdLk1MnI1BeAw7ew/ghgQflzHPCp6mVJkiRNDVu9AnpmLouI+VvoshA4IzMT+FFEzI2IPTLz5m4VWZfBwUGGhoYmbH/Dw8MA9PX1Tdg++/v7Wbx48YTtr8km8njxWJG2H/5umfy68XUy84A1Le3hctlDwlREHEcxesXee+/dhV03y4YNG+ouQVOEx4qkXvB3y7aJYkBpK52KkanzMvPJY6w7H/hgZn6/bH8XeGdmrtjSNgcGBtLv5httJJkPDg7WXIkmO48VSb3g75bNi4gVmTkw1rpufJpvGNirpd0HrO3CdiVJkia9boSpc4DXl5/qewawvgnzpSRJkjqx1TlTEfEfwKHArhExDLwHmAGQmacCFwAvBoaAu4Fje1WsJEnSZNPJp/mO3sr6BN7ctYokSZKmEK+ALkmSVIFhSpIkqQLDlCRJUgWGKUmSpAoMU5IkSRUYpiRJkiowTEmSJFVgmJIkSarAMCVJklSBYUqSJKkCw5QkSVIFhilJkqQKDFOSJEkVGKYkSZIqMExJkiRVYJiSJEmqwDAlSZJUgWFKkiSpAsOUJElSBYYpSZKkCgxTkiRJFRimJEmSKjBMSZIkVWCYkiRJqsAwJUmSVIFhSpIkqQLDlCRJUgWGKUlquJUrV3LEEUcwNDRUdylSIxmmJKnhli5dyl133cXJJ59cdylSIxmmJKnBVq5cyerVqwFYvXq1o1NSDximJKnBli5dOqrt6JTUfYYpSWqwkVGpzbUlVWeYkqQGmz9//hbbkqozTElSg51wwgmj2m95y1tqqkRqLsOUJDXY5ZdfPqp92WWX1VSJ1FyGKUlqsEsuuWRU++KLL66pEqm5DFOS1GCHHXYYM2bMAGDGjBm88IUvrLkiqXkMU5LUYIsWLSIiAJg2bRqLFi2quSKpeQxTktRgu+66KwcffDAABx98MLvsskvNFUnNY5iSpIa7/vrrAbz6udQjHYWpiDg8In4ZEUMRceIY6+dExLkR8bOIuCYiju1+qZKk8Vq5ciVr1qwBYM2aNQYqqQe2GqYiYjpwCnAEsD9wdETs39btzcC1mflU4FDgoxGxY5drlSSNk18nI/VeJyNTBwFDmXlDZt4LnAUsbOuTwE5RzHKcDfweuK+rlUqSxs2vk5F6r5MwNQ9Y09IeLpe1+gTwRGAt8HPgLZm5qSsVSpK2mV8nI/VeJ2EqxliWbe0XAVcBewJPAz4REY98yIYijouI5RGxfN26deMsVZI0XkuWLBnVPumkk2qqRGquTsLUMLBXS7uPYgSq1bHAN7IwBNwIPKF9Q5l5WmYOZObAbrvttq01S5I6tN9++z0wGjV//nz6+/vrLUhqoE7C1JXAgojYp5xUfhRwTlufm4DnA0TEY4DHAzd0s1BJ0rY54YQTmDZtml9yLPXIVsNUZt4HnABcBFwHfCUzr4mI4yPi+LLb+4GDI+LnwHeBd2XmLb0qWpLUucsvv5zM9EuOpR7ZoZNOmXkBcEHbslNbbq8F/MInSZpkbrnlFi688EIykwsvvJBFixZ5FfSKBgcHG3u9rlWrVgGwePHimivpnf7+/q4/vo7ClCRpajr99NPJLD4ztGnTJk4//XTe9ra31VzV1DY0NMT/XHUVu9ddSA+MnK66/aqr6iyjZ37To+0apiSpwS655BI2btwIwMaNG7n44osNU12wO/DGMT/srsnssw+5GEF3+N18ktRghx12GDNmzABgxowZvPCFzsiQus0wJUkNtmjRIoovp4Bp06axaNGimiuSmscwJUkNtuuuu3LwwQcDcPDBBzv5XOoBw5QkNdz1118P0NhPoEl1M0xJUoOtXLmSNWuKr1dds2aNgUrqAcOUJDXY0qVLR7VPPvnkmiqRmsswJUkNtnr16i22JVVnmJKkBhv5kuPNtSVVZ5iSpAZbsmTJqPZJJ51UUyVScxmmJKnB9ttvP/bYYw8A9thjD/r7+2uuSGoew5QkbSdGLt4pqbsMU5LUYCtXruTmm28GYO3atV4aQeoBw5QkNZiXRpB6zzAlSQ3mpRGk3jNMSVKDeWkEqfcMU5LUYF4aQeo9w5QkNdh+++33wGjU/PnzvTSC1AOGKUlquGc961kAHHLIITVXIjWTYUqSGu7LX/4yAGeccUbNlUjNZJiSpAb75je/SWYCkJmcc845NVckNY9hSpIa7GMf+9io9kc/+tF6CpEazDAlSQ02Miq1ubak6gxTktRg7d/H5/fzSd1nmJKkBnvrW986qv0P//AP9RQiNZhhSpIa7BWveMWo9ste9rKaKpGayzAlSZJUwQ51FzAeg4ODDA0N1V1Gz6xatQqAxYsX11xJ7/T39zf68UmTzYknnjiqvWTJEpYuXVpTNVIzTakwNTQ0xE9/fi2bHv6oukvpibi3+JTNiut/U3MlvTHt7t/XXYK03bniiitGtZctW1ZTJVJzTakwBbDp4Y/inv1fWncZ2gYzrz2v7hIkSeo650xJkiRVYJiSpAabNWvWqPYjHvGImiqRmsswJUkNtmHDhlHtu+66q6ZKpOYyTEmSJFVgmJIkSapgyn2aT5LUuSc+8Ylcd911D7Sf8pSn1FhNMwwPD3MH8Fn80uip5mbgzuHhrm/XkSlJarBPf/rTo9qnnHJKTZVIzeXIlBqryVfM92r5Un36+vq4/ZZbeCNRdykap8+SzO3r6/p2DVNqrKGhIVb+4ifsPfv+ukvpuh03FoPK96y+suZKeuOmO6fXXUJjvOQlLxnVPvLIIzn33HNrqkZqpo7CVEQcDnwcmA58JjM/NEafQ4GPATOAWzLzkK5VKW2jvWffz5KBO+suQ+O0dPnsuktojDvuuGNUe/369TVVIjXXVsNUREwHTgEOA4aBKyPinMy8tqXPXOCTwOGZeVNEPLpH9UqSJE0qnUxAPwgYyswbMvNe4CxgYVuf1wDfyMybADLzd90tU5IkaXLqJEzNA9a0tIfLZa32A3aOiEsjYkVEvL5bBUqStt1OO+00qj1nzpyaKpGaq5MwNdbHFdovrrEDcCDwEuBFwD9HxH4P2VDEcRGxPCKWr1u3btzFSpLG5/zzzx/VdvK51H2dhKlhYK+Wdh+wdow+387MuzLzFmAZ8NT2DWXmaZk5kJkDu+2227bWLEmSNGl0EqauBBZExD4RsSNwFHBOW5+zgedExA4R8XDgz4DrkCRJarithqnMvA84AbiIIiB9JTOviYjjI+L4ss91wLeBq4EfU1w+4Re9K1uS1InnPve5W2xLqq6j60xl5gXABW3LTm1rfwT4SPdKkyRJmvz8bj5JkqQKDFOSJEkVGKYkSZIqMExJUoMtW7Zsi21J1RmmJEmSKjBMSVKDeWkEqfcMU5IkSRUYpiRJkiowTEmSJFVgmJIkSarAMCVJDealEaTeM0xJkiRVYJiSpAbz0ghS7xmmJEmSKjBMSZIkVWCYkiRJqsAwJUmSVIFhSpIazEsjSL1nmJIkSapgh7oLGI/h4WGm3b2emdeeV3cp2gbT7r6V4eH76i5DkqSucmRKkhrM60xJvTelRqb6+vr47R934J79X1p3KdoGM689j76+3esuQ5KkrnJkSpIkqYIpNTIljcfw8DB33TGdpctn112KxulXd0znEcPDdZchSR0xTEmSNE6/AT5L1l1G191a/rtLrVX0zm+AuT3YrmFKjdXX18c9993MkoE76y5F47R0+Wxm9vXVXUYjLFu2bNSkc68zVV1/f3/dJfTMulWrAJi7YEHNlfTGXHrz+hmmJEkah8WLF9ddQs+MPLbBwcGaK5laDFOS1HCORkm9ZZiSpAk2ODjI0NDQhO1vuJzM3zeBp077+/sbPYIjtTJMSVLDbdiwoe4SpEYzTEnSBJvoERvnwUi95UU7JUmSKjBMSZIkVWCYkiRJqsAwJUmSVIFhSpIkqQLDlCRJUgWGKUmSpAoMU5IkSRUYpiRJkiowTEmSJFXQUZiKiMMj4pcRMRQRJ26h39Mj4v6IeFX3SpQkSZq8thqmImI6cApwBLA/cHRE7L+Zfh8GLup2kZIkSZNVJyNTBwFDmXlDZt4LnAUsHKPf3wNfB37XxfokSZImtU7C1DxgTUt7uFz2gIiYB7wCOLV7pUmSJE1+nYSpGGNZtrU/BrwrM+/f4oYijouI5RGxfN26dR2WKEmSNHnt0EGfYWCvlnYfsLatzwBwVkQA7Aq8OCLuy8xvtXbKzNOA0wAGBgbaA5kkSdKU00mYuhJYEBH7AL8GjgJe09ohM/cZuR0RXwDOaw9SkiRJTbTVMJWZ90XECRSf0psOfC4zr4mI48v1zpOSJEnbrU5GpsjMC4AL2paNGaIy8w3Vy5IkSZoavAK6JElSBYYpSZKkCgxTkiRJFRimJEmSKjBMSZIkVWCYkiRJqsAwJUmSVIFhSpIkqYKOLto5mUy7+/fMvPa8usvoibjnDwDkzEfWXElvTLv798DudZchSVJXTakw1d/fX3cJPbVq1R0ALNi3qYFj98a/hpKk7c+UClOLFy+uu4SeGnl8g4ODNVfSHDfdOZ2ly2fXXUbX/fbu4gz9Yx6+qeZKeuOmO6ezX91FSFKHplSYksajyaNg965aBcDM+QtqrqQ39qPZr5+kZjFMqbGaPJLpKKYkTR5+mk+SJKkCw5QkSVIFhilJkqQKDFOSJEkVGKYkSZIqMExJkiRVYJiSJEmqwDAlSZJUgWFKkiSpAsOUJElSBYYpSZKkCgxTkiRJFRimJEmSKjBMSZIkVWCYkiRJqsAwJUmSVIFhSpIkqYId6i5Akuo2ODjI0NBQ3WX0zKpVqwBYvHhxzZX0Tn9/f6MfnyY3w5Sk7d7Q0BA/veanMLfuSnpkU/HPT3/903rr6JXb6y5A2zvDlCQBzIVNh26quwptg2mXOmNF9fIIlCRJqsAwJUmSVIFhSpIkqQLDlCRJUgWGKUmSpAoMU5IkSRUYpiRJkiroKExFxOER8cuIGIqIE8dY/9qIuLr8uSIintr9UiVJkiafrYapiJgOnAIcAewPHB0R+7d1uxE4JDMPAN4PnNbtQiVJkiajTkamDgKGMvOGzLwXOAtY2NohM6/IzNvK5o+Avu6WKUmSNDl1EqbmAWta2sPlss15I3BhlaIkSZKmik6+my/GWJZjdox4HkWYevZm1h8HHAew9957d1iiJEnS5NVJmBoG9mpp9wFr2ztFxAHAZ4AjMvPWsTaUmadRzqcaGBgYM5BJ0kQbHh6G9X5h7pR1OwzncN1VaDvWyW+OK4EFEbFPROwIHAWc09ohIvYGvgEck5kru1+mJEnS5LTVkanMvC8iTgAuAqYDn8vMayLi+HL9qcBJwC7AJyMC4L7MHOhd2ZLUPX19fayLdWw6dFPdpWgbTLt0Gn3z/NyT6tPJaT4y8wLggrZlp7bcfhPwpu6WJkmSNPk5QUCSJKkCw5QkSVIFhilJkqQKDFOSJEkVGKYkSZIqMExJkiRVYJiSJEmqwDAlSZJUgWFKkiSpAsOUJElSBYYpSZKkCgxTkiRJFRimJEmSKjBMSZIkVWCYkiRJqsAwJUmSVIFhSpIkqQLDlCRJUgU71F2AJE0Kt8O0Sxv69+Wd5b+za62id24H5tVdhLZnhilJ273+/v66S+ipVatWAbBg3oKaK+mRec1/DTW5GaYkbfcWL15cdwk9NfL4BgcHa65EaqaGjmlLkiRNDMOUJElSBYYpSZKkCpwzJUnSJDY4OMjQ0NCE7GvkwwoTOY+wv79/ys9bNExJkiQAZs2aVXcJU5JhSpKkSWyqj9psD5wzJUmSVIFhSpIkqQLDlCRJUgWGKUmSpAoMU5IkSRUYpiRJkiowTEmSJFVgmJIkSarAMCVJklSBYUqSJKkCw5QkSVIFhilJkqQK/KLjLRgcHGRoaGjC9rdq1SpgYr/Usr+/3y/RlCSpAsPUJDJr1qy6S5AkbceOPPJI1q9fz84778zZZ59ddzlTRkdhKiIOBz4OTAc+k5kfalsf5foXA3cDb8jMn3S51gnniI0kaXuyfv16AG677baaK5latjpnKiKmA6cARwD7A0dHxP5t3Y4AFpQ/xwGf6nKdkiSph4488shR7YULF9ZUydTTycjUQcBQZt4AEBFnAQuBa1v6LATOyMwEfhQRcyNij8y8uesVS5PURM6xc37d1OZ8TE1GI6NSIxyd6lwnn+abB6xpaQ+Xy8bbh4g4LiKWR8TydevWjbdWSaVZs2Y5x04d83iRequTkakYY1luQx8y8zTgNICBgYGHrJemMv8KV6c8VqRm6WRkahjYq6XdB6zdhj6SJGmSmjNnzqj2zjvvXFMlU08nYepKYEFE7BMROwJHAee09TkHeH0UngGsd76UJElTx7nnnjuq7aUROrfV03yZeV9EnABcRHFphM9l5jURcXy5/lTgAorLIgxRXBrh2N6VLEmSemHOnDkPXGdKnYviA3gTb2BgIJcvX17LviVJksYjIlZk5sBY6/xuPkmSpAoMU5IkSRUYpiRJkiowTEmSJFVgmJIkSarAMCVJklSBYUqSJKmC2q4zFRHrgF/VsvPJbVfglrqL0JTgsaLx8HhRpzxWxvbYzNxtrBW1hSmNLSKWb+6iYFIrjxWNh8eLOuWxMn6e5pMkSarAMCVJklSBYWryOa3uAjRleKxoPDxe1CmPlXFyzpQkSVIFjkxJkiRVYJjqoYiYGxF/V3cdmnoi4t1116D6RcQFETF3HP3nR8QveljSlvZ9Zx373d716jWPiJMj4gVjLD80Is4rb78sIk4sb788Ivbvdh1ThWGqt+YChiltC8OUyMwXZ+btddeh7U9mnpSZ39lKn3My80Nl8+WAYUo98SFg34i4KiI+EhHviIgrI+LqiHgfPPBXxf9ExGci4hcRcWZEvCAifhARqyLioLLfeyPiixHxvXL5/6r1kalrIuJbEbEiIq6JiOMi4kPArPK4ObPs87qI+HG57NMRMb1cfmdEfLi8/3ci4qCIuDQiboiIl5V93hARZ0fEtyPilxHxnhofrlpExDsjYnF5+/9GxPfK28+PiC9FxOqI2LX8PXFdRPx7eZxcHBGzyr4HRsTPIuKHwJtbtv2klmPm6ohY0PL75vRy2dci4uEt27msPJYuiog9yuX7lsfOioi4PCKeUC7fJyJ+WP5Oe/8EP3UabXr7sVH+HhgAKI+h1eXtN5S/c86NiBsj4oSIeFtE/DQifhQRjyr7fSEiXlXePrw8br4PvHJkp+W2PhERBwMvAz5SHm/7RsRPWvotiIgVE/d0TDzDVG+dCFyfmU8DLgEWAAcBTwMOjIjnlv36gY8DBwBPAF4DPBt4O6NHKA4AXgI8EzgpIvbs/UPQBPjrzDwQGAAWAx8BNmTm0zLztRHxRODVwLPKY+l+4LXlfR8BXFre/w5gKXAY8Arg5JZ9HFTe52nAX478klXtlgHPKW8PALMjYgbF///L2/ouAE7JzCcBtwN/US7/PLA4M5/Z1v944OPlMTMADJfLHw+clpkHAH8A/q7c5/8DXlUeS58DPlD2Pw34+3L524FPlss/DnwqM58O/GbbHr66ZHPHxuY8meJ95iCK1/nuzPwT4IfA61s7RsRM4N+BIymO1d3bN5aZVwDnAO8of29dD6yPiKeVXY4FvrAtD2yqMExNnBeWPz8FfkIRmhaU627MzJ9n5ibgGuC7WXzM8ufA/JZtnJ2ZGzLzFuC/KP4jaOpbHBE/A34E7MWDx8WI5wMHAldGxFVl+3HlunuBb5e3fw5clpkbeeixc0lm3pqZG4BvULxZq34rKP6w2gn4I8Wb2QDFm1Z7mLoxM69qud/8iJgDzM3My8rlX2zp/0Pg3RHxLoqvwdhQLl+TmT8ob3+J4lh4PMUb7CXlMbYE6IuI2cDBwFfL5Z8G9ijv+yzgP8bYrybeQ46NrfT/r8y8IzPXAeuBc8vl7b83oHivujEzV5XvS1/qsKbPAMeWo+ivBr7c4f2mpB3qLmA7EsAHM/PToxZGzKf4JTpiU0t7E6Nfo/brWHhdiykuIg4FXgA8MzPvjohLgZnt3YDTM/Mfx9jExnzw+iYPHDuZuSkiPHYmuczcWJ5+ORa4ArgaeB6wL3BdW/fW3xP3A7Mojo0xX8vM/HJE/DfFaPZFEfEm4IYx+me5nWvaR7ci4pHA7eXo1pi72dLj04QZ69i4jwcHTNp/p3T6njNiW17nrwPvAb4HrMjMW7dhG1OGI1O9dQewU3n7IuCvy7/0iIh5EfHocW5vYUTMjIhdgEOBK7tWqeoyB7itDFJPAJ5RLt9YnnoB+C7wqpHjJSIeFRGPHed+DivvN4tiougPttJfE2cZxemzZRSjUccDV7WE5M0qJ6evj4iRkcaR079ExOOAGzJzkOIUzAHlqr0jYiQ0HQ18H/glsNvI8oiYERFPysw/ADdGxF+WyyMinlre9wfAUe371aSxmmJEG+BVFbbzP8A+EbFv2T56M/1a3+/IzHso3vc+RXEqutEMUz1UJvEfRPGx1cMohjl/GBE/B75Gy4HXoR8D51OcDnp/Zq7tZr2qxbeBHSLiauD9FK8tFPNUro6IMzPzWorTLheX/S7hwVMtnfo+xamYq4CvZ+bybhSvrric4vX8YWb+FriHh57i25JjgVPKCegbWpa/GvhFeXruCcAZ5fLrgEXlsfQoinlP91K84X64POV8FcXpPSiC0hvL5dcAC8vlbwHeHBFXUvxRoMnlX4G/jYgrgF23dSNlKDoOOL+cgP6rzXQ9C3hHOZF9JHidSTGqdfG27n+q8AroU0REvBe4MzP/te5aNLVExBuAgcw8oe5aVK9yWsF5mfnkumtR80XE24E5mfnPddfSa86ZkiRJXRUR36SY+/fnddcyERyZkiRJqsA5U5IkSRUYpiRJkiowTEmSJFVgmJIkSarAMCVJklSBYUqSJKmC/w+H3Y8Hyw4+5QAAAABJRU5ErkJggg==\n",
      "text/plain": [
       "<Figure size 720x360 with 1 Axes>"
      ]
     },
     "metadata": {
      "needs_background": "light"
     },
     "output_type": "display_data"
    }
   ],
   "source": [
    "plt.figure(figsize=(10,5))\n",
    "sns.boxplot(data=preprocessed_data[[\"temp\",\"atemp\",\"windspeed\",\"humidity\"]])\n",
    "plt.title(\"temp_atemp_windspeed_humidity outliers\")\n",
    "plt.show()"
   ]
  },
  {
   "cell_type": "markdown",
   "id": "0060de58",
   "metadata": {
    "id": "0060de58"
   },
   "source": [
    "* From the box plots above, we can easilty observe that no outliers present in temp and atemp \n",
    "* but few outliers are present in windspeed and humidity feature."
   ]
  },
  {
   "cell_type": "markdown",
   "id": "4d002f3e",
   "metadata": {
    "id": "4d002f3e"
   },
   "source": [
    "# Using 3 sigma rule to detect the outliers"
   ]
  },
  {
   "cell_type": "code",
   "execution_count": 39,
   "id": "464e9af5",
   "metadata": {
    "colab": {
     "base_uri": "https://localhost:8080/"
    },
    "id": "464e9af5",
    "outputId": "2620610d-3ab4-4e19-f3ba-dd8f8d2482ed"
   },
   "outputs": [
    {
     "data": {
      "text/plain": [
       "total_counts    733.625885\n",
       "dtype: float64"
      ]
     },
     "execution_count": 39,
     "metadata": {},
     "output_type": "execute_result"
    }
   ],
   "source": [
    "upper_limit = preprocessed_data[[\"total_counts\"]].mean() + 3*preprocessed_data[[\"total_counts\"]].std()\n",
    "upper_limit"
   ]
  },
  {
   "cell_type": "code",
   "execution_count": 40,
   "id": "de463822",
   "metadata": {
    "colab": {
     "base_uri": "https://localhost:8080/"
    },
    "id": "de463822",
    "outputId": "d4cd6ece-08e6-47b3-b5aa-53f4e14531f8"
   },
   "outputs": [
    {
     "data": {
      "text/plain": [
       "total_counts   -354.69971\n",
       "dtype: float64"
      ]
     },
     "execution_count": 40,
     "metadata": {},
     "output_type": "execute_result"
    }
   ],
   "source": [
    "lower_limit = preprocessed_data[[\"total_counts\"]].mean() - 3*preprocessed_data[[\"total_counts\"]].std()\n",
    "lower_limit"
   ]
  },
  {
   "cell_type": "code",
   "execution_count": 41,
   "id": "3443969c",
   "metadata": {
    "colab": {
     "base_uri": "https://localhost:8080/",
     "height": 49
    },
    "id": "3443969c",
    "outputId": "b81f1cbd-85d8-4169-9c00-3e806bc5fd94"
   },
   "outputs": [
    {
     "data": {
      "text/html": [
       "<div>\n",
       "<style scoped>\n",
       "    .dataframe tbody tr th:only-of-type {\n",
       "        vertical-align: middle;\n",
       "    }\n",
       "\n",
       "    .dataframe tbody tr th {\n",
       "        vertical-align: top;\n",
       "    }\n",
       "\n",
       "    .dataframe thead th {\n",
       "        text-align: right;\n",
       "    }\n",
       "</style>\n",
       "<table border=\"1\" class=\"dataframe\">\n",
       "  <thead>\n",
       "    <tr style=\"text-align: right;\">\n",
       "      <th></th>\n",
       "      <th>record_id</th>\n",
       "      <th>date</th>\n",
       "      <th>season</th>\n",
       "      <th>year</th>\n",
       "      <th>month</th>\n",
       "      <th>hr</th>\n",
       "      <th>holiday</th>\n",
       "      <th>weekday</th>\n",
       "      <th>workingday</th>\n",
       "      <th>weather_condition</th>\n",
       "      <th>temp</th>\n",
       "      <th>atemp</th>\n",
       "      <th>humidity</th>\n",
       "      <th>windspeed</th>\n",
       "      <th>casual</th>\n",
       "      <th>registered</th>\n",
       "      <th>total_counts</th>\n",
       "    </tr>\n",
       "  </thead>\n",
       "  <tbody>\n",
       "  </tbody>\n",
       "</table>\n",
       "</div>"
      ],
      "text/plain": [
       "Empty DataFrame\n",
       "Columns: [record_id, date, season, year, month, hr, holiday, weekday, workingday, weather_condition, temp, atemp, humidity, windspeed, casual, registered, total_counts]\n",
       "Index: []"
      ]
     },
     "execution_count": 41,
     "metadata": {},
     "output_type": "execute_result"
    }
   ],
   "source": [
    "preprocessed_data.loc[preprocessed_data.total_counts < -354.69971 ] "
   ]
  },
  {
   "cell_type": "code",
   "execution_count": 42,
   "id": "5f55cdd0",
   "metadata": {
    "colab": {
     "base_uri": "https://localhost:8080/",
     "height": 423
    },
    "id": "5f55cdd0",
    "outputId": "beae7614-23b4-493b-e558-d60ad6c33820"
   },
   "outputs": [
    {
     "data": {
      "text/html": [
       "<div>\n",
       "<style scoped>\n",
       "    .dataframe tbody tr th:only-of-type {\n",
       "        vertical-align: middle;\n",
       "    }\n",
       "\n",
       "    .dataframe tbody tr th {\n",
       "        vertical-align: top;\n",
       "    }\n",
       "\n",
       "    .dataframe thead th {\n",
       "        text-align: right;\n",
       "    }\n",
       "</style>\n",
       "<table border=\"1\" class=\"dataframe\">\n",
       "  <thead>\n",
       "    <tr style=\"text-align: right;\">\n",
       "      <th></th>\n",
       "      <th>record_id</th>\n",
       "      <th>date</th>\n",
       "      <th>season</th>\n",
       "      <th>year</th>\n",
       "      <th>month</th>\n",
       "      <th>hr</th>\n",
       "      <th>holiday</th>\n",
       "      <th>weekday</th>\n",
       "      <th>workingday</th>\n",
       "      <th>weather_condition</th>\n",
       "      <th>temp</th>\n",
       "      <th>atemp</th>\n",
       "      <th>humidity</th>\n",
       "      <th>windspeed</th>\n",
       "      <th>casual</th>\n",
       "      <th>registered</th>\n",
       "      <th>total_counts</th>\n",
       "    </tr>\n",
       "  </thead>\n",
       "  <tbody>\n",
       "    <tr>\n",
       "      <th>10383</th>\n",
       "      <td>10384</td>\n",
       "      <td>2012-03-13</td>\n",
       "      <td>1</td>\n",
       "      <td>1</td>\n",
       "      <td>3</td>\n",
       "      <td>18</td>\n",
       "      <td>0</td>\n",
       "      <td>2</td>\n",
       "      <td>1</td>\n",
       "      <td>1</td>\n",
       "      <td>0.70</td>\n",
       "      <td>0.6364</td>\n",
       "      <td>0.34</td>\n",
       "      <td>0.2985</td>\n",
       "      <td>96</td>\n",
       "      <td>638</td>\n",
       "      <td>734</td>\n",
       "    </tr>\n",
       "    <tr>\n",
       "      <th>10406</th>\n",
       "      <td>10407</td>\n",
       "      <td>2012-03-14</td>\n",
       "      <td>1</td>\n",
       "      <td>1</td>\n",
       "      <td>3</td>\n",
       "      <td>17</td>\n",
       "      <td>0</td>\n",
       "      <td>3</td>\n",
       "      <td>1</td>\n",
       "      <td>1</td>\n",
       "      <td>0.70</td>\n",
       "      <td>0.6364</td>\n",
       "      <td>0.28</td>\n",
       "      <td>0.0896</td>\n",
       "      <td>140</td>\n",
       "      <td>642</td>\n",
       "      <td>782</td>\n",
       "    </tr>\n",
       "    <tr>\n",
       "      <th>10407</th>\n",
       "      <td>10408</td>\n",
       "      <td>2012-03-14</td>\n",
       "      <td>1</td>\n",
       "      <td>1</td>\n",
       "      <td>3</td>\n",
       "      <td>18</td>\n",
       "      <td>0</td>\n",
       "      <td>3</td>\n",
       "      <td>1</td>\n",
       "      <td>1</td>\n",
       "      <td>0.70</td>\n",
       "      <td>0.6364</td>\n",
       "      <td>0.32</td>\n",
       "      <td>0.0000</td>\n",
       "      <td>102</td>\n",
       "      <td>647</td>\n",
       "      <td>749</td>\n",
       "    </tr>\n",
       "    <tr>\n",
       "      <th>10431</th>\n",
       "      <td>10432</td>\n",
       "      <td>2012-03-15</td>\n",
       "      <td>1</td>\n",
       "      <td>1</td>\n",
       "      <td>3</td>\n",
       "      <td>18</td>\n",
       "      <td>0</td>\n",
       "      <td>4</td>\n",
       "      <td>1</td>\n",
       "      <td>1</td>\n",
       "      <td>0.66</td>\n",
       "      <td>0.6212</td>\n",
       "      <td>0.44</td>\n",
       "      <td>0.2836</td>\n",
       "      <td>98</td>\n",
       "      <td>648</td>\n",
       "      <td>746</td>\n",
       "    </tr>\n",
       "    <tr>\n",
       "      <th>10527</th>\n",
       "      <td>10528</td>\n",
       "      <td>2012-03-19</td>\n",
       "      <td>1</td>\n",
       "      <td>1</td>\n",
       "      <td>3</td>\n",
       "      <td>18</td>\n",
       "      <td>0</td>\n",
       "      <td>1</td>\n",
       "      <td>1</td>\n",
       "      <td>1</td>\n",
       "      <td>0.64</td>\n",
       "      <td>0.6212</td>\n",
       "      <td>0.57</td>\n",
       "      <td>0.2537</td>\n",
       "      <td>120</td>\n",
       "      <td>681</td>\n",
       "      <td>801</td>\n",
       "    </tr>\n",
       "    <tr>\n",
       "      <th>...</th>\n",
       "      <td>...</td>\n",
       "      <td>...</td>\n",
       "      <td>...</td>\n",
       "      <td>...</td>\n",
       "      <td>...</td>\n",
       "      <td>...</td>\n",
       "      <td>...</td>\n",
       "      <td>...</td>\n",
       "      <td>...</td>\n",
       "      <td>...</td>\n",
       "      <td>...</td>\n",
       "      <td>...</td>\n",
       "      <td>...</td>\n",
       "      <td>...</td>\n",
       "      <td>...</td>\n",
       "      <td>...</td>\n",
       "      <td>...</td>\n",
       "    </tr>\n",
       "    <tr>\n",
       "      <th>15828</th>\n",
       "      <td>15829</td>\n",
       "      <td>2012-10-26</td>\n",
       "      <td>4</td>\n",
       "      <td>1</td>\n",
       "      <td>10</td>\n",
       "      <td>17</td>\n",
       "      <td>0</td>\n",
       "      <td>5</td>\n",
       "      <td>1</td>\n",
       "      <td>2</td>\n",
       "      <td>0.56</td>\n",
       "      <td>0.5303</td>\n",
       "      <td>0.76</td>\n",
       "      <td>0.1940</td>\n",
       "      <td>125</td>\n",
       "      <td>692</td>\n",
       "      <td>817</td>\n",
       "    </tr>\n",
       "    <tr>\n",
       "      <th>15848</th>\n",
       "      <td>15849</td>\n",
       "      <td>2012-10-27</td>\n",
       "      <td>4</td>\n",
       "      <td>1</td>\n",
       "      <td>10</td>\n",
       "      <td>13</td>\n",
       "      <td>0</td>\n",
       "      <td>6</td>\n",
       "      <td>0</td>\n",
       "      <td>1</td>\n",
       "      <td>0.60</td>\n",
       "      <td>0.6212</td>\n",
       "      <td>0.43</td>\n",
       "      <td>0.2537</td>\n",
       "      <td>310</td>\n",
       "      <td>450</td>\n",
       "      <td>760</td>\n",
       "    </tr>\n",
       "    <tr>\n",
       "      <th>15849</th>\n",
       "      <td>15850</td>\n",
       "      <td>2012-10-27</td>\n",
       "      <td>4</td>\n",
       "      <td>1</td>\n",
       "      <td>10</td>\n",
       "      <td>14</td>\n",
       "      <td>0</td>\n",
       "      <td>6</td>\n",
       "      <td>0</td>\n",
       "      <td>1</td>\n",
       "      <td>0.60</td>\n",
       "      <td>0.6212</td>\n",
       "      <td>0.46</td>\n",
       "      <td>0.2537</td>\n",
       "      <td>325</td>\n",
       "      <td>425</td>\n",
       "      <td>750</td>\n",
       "    </tr>\n",
       "    <tr>\n",
       "      <th>16726</th>\n",
       "      <td>16727</td>\n",
       "      <td>2012-12-04</td>\n",
       "      <td>4</td>\n",
       "      <td>1</td>\n",
       "      <td>12</td>\n",
       "      <td>17</td>\n",
       "      <td>0</td>\n",
       "      <td>2</td>\n",
       "      <td>1</td>\n",
       "      <td>1</td>\n",
       "      <td>0.52</td>\n",
       "      <td>0.5000</td>\n",
       "      <td>0.59</td>\n",
       "      <td>0.2239</td>\n",
       "      <td>43</td>\n",
       "      <td>700</td>\n",
       "      <td>743</td>\n",
       "    </tr>\n",
       "    <tr>\n",
       "      <th>16741</th>\n",
       "      <td>16742</td>\n",
       "      <td>2012-12-05</td>\n",
       "      <td>4</td>\n",
       "      <td>1</td>\n",
       "      <td>12</td>\n",
       "      <td>8</td>\n",
       "      <td>0</td>\n",
       "      <td>3</td>\n",
       "      <td>1</td>\n",
       "      <td>2</td>\n",
       "      <td>0.44</td>\n",
       "      <td>0.4394</td>\n",
       "      <td>0.58</td>\n",
       "      <td>0.2836</td>\n",
       "      <td>22</td>\n",
       "      <td>737</td>\n",
       "      <td>759</td>\n",
       "    </tr>\n",
       "  </tbody>\n",
       "</table>\n",
       "<p>244 rows × 17 columns</p>\n",
       "</div>"
      ],
      "text/plain": [
       "       record_id       date season year month  hr holiday weekday workingday  \\\n",
       "10383      10384 2012-03-13      1    1     3  18       0       2          1   \n",
       "10406      10407 2012-03-14      1    1     3  17       0       3          1   \n",
       "10407      10408 2012-03-14      1    1     3  18       0       3          1   \n",
       "10431      10432 2012-03-15      1    1     3  18       0       4          1   \n",
       "10527      10528 2012-03-19      1    1     3  18       0       1          1   \n",
       "...          ...        ...    ...  ...   ...  ..     ...     ...        ...   \n",
       "15828      15829 2012-10-26      4    1    10  17       0       5          1   \n",
       "15848      15849 2012-10-27      4    1    10  13       0       6          0   \n",
       "15849      15850 2012-10-27      4    1    10  14       0       6          0   \n",
       "16726      16727 2012-12-04      4    1    12  17       0       2          1   \n",
       "16741      16742 2012-12-05      4    1    12   8       0       3          1   \n",
       "\n",
       "      weather_condition  temp   atemp  humidity  windspeed  casual  \\\n",
       "10383                 1  0.70  0.6364      0.34     0.2985      96   \n",
       "10406                 1  0.70  0.6364      0.28     0.0896     140   \n",
       "10407                 1  0.70  0.6364      0.32     0.0000     102   \n",
       "10431                 1  0.66  0.6212      0.44     0.2836      98   \n",
       "10527                 1  0.64  0.6212      0.57     0.2537     120   \n",
       "...                 ...   ...     ...       ...        ...     ...   \n",
       "15828                 2  0.56  0.5303      0.76     0.1940     125   \n",
       "15848                 1  0.60  0.6212      0.43     0.2537     310   \n",
       "15849                 1  0.60  0.6212      0.46     0.2537     325   \n",
       "16726                 1  0.52  0.5000      0.59     0.2239      43   \n",
       "16741                 2  0.44  0.4394      0.58     0.2836      22   \n",
       "\n",
       "       registered  total_counts  \n",
       "10383         638           734  \n",
       "10406         642           782  \n",
       "10407         647           749  \n",
       "10431         648           746  \n",
       "10527         681           801  \n",
       "...           ...           ...  \n",
       "15828         692           817  \n",
       "15848         450           760  \n",
       "15849         425           750  \n",
       "16726         700           743  \n",
       "16741         737           759  \n",
       "\n",
       "[244 rows x 17 columns]"
      ]
     },
     "execution_count": 42,
     "metadata": {},
     "output_type": "execute_result"
    }
   ],
   "source": [
    "preprocessed_data.loc[preprocessed_data.total_counts > 733.625885]"
   ]
  },
  {
   "cell_type": "markdown",
   "id": "56c14e00",
   "metadata": {
    "id": "56c14e00"
   },
   "source": [
    "### So 244 records of counts are greater than the upper limit"
   ]
  },
  {
   "cell_type": "code",
   "execution_count": 43,
   "id": "8c3630f5",
   "metadata": {
    "colab": {
     "base_uri": "https://localhost:8080/"
    },
    "id": "8c3630f5",
    "outputId": "313f501e-271d-44e1-ba55-3dbf63d973bf"
   },
   "outputs": [
    {
     "data": {
      "text/plain": [
       "1.403993325277634"
      ]
     },
     "execution_count": 43,
     "metadata": {},
     "output_type": "execute_result"
    }
   ],
   "source": [
    "244/17379*100"
   ]
  },
  {
   "cell_type": "markdown",
   "id": "894d76fd",
   "metadata": {
    "id": "894d76fd"
   },
   "source": [
    "As the percentage of outliers is greater than 5% then no treatment for this"
   ]
  },
  {
   "cell_type": "markdown",
   "id": "ddfae14d",
   "metadata": {
    "id": "ddfae14d"
   },
   "source": [
    "# IQR Range\n",
    "* The interquartile range, often denoted \"IQR\", is a way to measure the spread of the middle 50% of a dataset.\n",
    "It is calculated as the difference between the first quartile and the third quartile of a dataset."
   ]
  },
  {
   "cell_type": "code",
   "execution_count": 44,
   "id": "1bbafe86",
   "metadata": {
    "colab": {
     "base_uri": "https://localhost:8080/"
    },
    "id": "1bbafe86",
    "outputId": "97acb7e4-794b-4a10-a7fb-c09b8c7701f9"
   },
   "outputs": [
    {
     "data": {
      "text/plain": [
       "241.0"
      ]
     },
     "execution_count": 44,
     "metadata": {},
     "output_type": "execute_result"
    }
   ],
   "source": [
    "from scipy import stats\n",
    "IQR = stats.iqr(preprocessed_data.total_counts,interpolation=\"midpoint\")\n",
    "IQR"
   ]
  },
  {
   "cell_type": "code",
   "execution_count": 45,
   "id": "ef08a064",
   "metadata": {
    "id": "ef08a064"
   },
   "outputs": [],
   "source": [
    "## min and max limit calculation\n",
    "# First quartile (Q1) \n",
    "Q1 = preprocessed_data.total_counts.quantile(0.25)\n",
    "# Third quartile (Q3) \n",
    "Q3 =preprocessed_data.total_counts.quantile(0.75)\n",
    "##getting the limits\n",
    "# lower_limit of acceptable range = Q1-1.5(IQR) but we're using 3 as cut-off as we're getting a \n",
    "# high percentage of outliers using 1.5 range as cut-off\n",
    "# upper_limit of acceptable range = Q3 + 1.5(IQR)\n",
    "min_limit=Q1 - 3*IQR\n",
    "\n",
    "max_limit=Q3 +3*IQR"
   ]
  },
  {
   "cell_type": "code",
   "execution_count": 46,
   "id": "ac8ffc5a",
   "metadata": {
    "colab": {
     "base_uri": "https://localhost:8080/"
    },
    "id": "ac8ffc5a",
    "outputId": "77b3aa24-5bfc-4919-892a-8c00b835797e"
   },
   "outputs": [
    {
     "data": {
      "text/plain": [
       "-683.0"
      ]
     },
     "execution_count": 46,
     "metadata": {},
     "output_type": "execute_result"
    }
   ],
   "source": [
    "min_limit\n"
   ]
  },
  {
   "cell_type": "code",
   "execution_count": 47,
   "id": "ed6566a0",
   "metadata": {
    "colab": {
     "base_uri": "https://localhost:8080/"
    },
    "id": "ed6566a0",
    "outputId": "11f8e0c2-acd9-44c0-dd09-7da748960766"
   },
   "outputs": [
    {
     "data": {
      "text/plain": [
       "1004.0"
      ]
     },
     "execution_count": 47,
     "metadata": {},
     "output_type": "execute_result"
    }
   ],
   "source": [
    "max_limit"
   ]
  },
  {
   "cell_type": "code",
   "execution_count": 48,
   "id": "d6716c40",
   "metadata": {
    "colab": {
     "base_uri": "https://localhost:8080/"
    },
    "id": "d6716c40",
    "outputId": "1d4aa9f5-834d-4d0a-e350-60301ef928c9"
   },
   "outputs": [
    {
     "data": {
      "text/plain": [
       "0"
      ]
     },
     "execution_count": 48,
     "metadata": {},
     "output_type": "execute_result"
    }
   ],
   "source": [
    "len((preprocessed_data.loc[preprocessed_data.total_counts < min_limit]))"
   ]
  },
  {
   "cell_type": "code",
   "execution_count": 49,
   "id": "8632a7b8",
   "metadata": {
    "colab": {
     "base_uri": "https://localhost:8080/"
    },
    "id": "8632a7b8",
    "outputId": "17421295-e7b9-4e6e-d11c-b43206b2b305"
   },
   "outputs": [
    {
     "data": {
      "text/plain": [
       "0"
      ]
     },
     "execution_count": 49,
     "metadata": {},
     "output_type": "execute_result"
    }
   ],
   "source": [
    "len((preprocessed_data.loc[preprocessed_data.total_counts > max_limit]))"
   ]
  },
  {
   "cell_type": "markdown",
   "id": "6a5591ca",
   "metadata": {
    "id": "6a5591ca"
   },
   "source": [
    "# Detecting outliers in windspeed :"
   ]
  },
  {
   "cell_type": "code",
   "execution_count": 50,
   "id": "a63b9352",
   "metadata": {
    "colab": {
     "base_uri": "https://localhost:8080/"
    },
    "id": "a63b9352",
    "outputId": "61ffaa76-f3fe-43e5-8adc-d5b001a1039d"
   },
   "outputs": [
    {
     "data": {
      "text/plain": [
       "0.5571182920248454"
      ]
     },
     "execution_count": 50,
     "metadata": {},
     "output_type": "execute_result"
    }
   ],
   "source": [
    "upper_limit = preprocessed_data.windspeed.mean() + 3*(preprocessed_data.windspeed.std())\n",
    "upper_limit"
   ]
  },
  {
   "cell_type": "code",
   "execution_count": 51,
   "id": "a2c9c023",
   "metadata": {
    "colab": {
     "base_uri": "https://localhost:8080/"
    },
    "id": "a2c9c023",
    "outputId": "29b56d67-830e-4ae0-f144-42114df9d835"
   },
   "outputs": [
    {
     "data": {
      "text/plain": [
       "107"
      ]
     },
     "execution_count": 51,
     "metadata": {},
     "output_type": "execute_result"
    }
   ],
   "source": [
    "len((preprocessed_data.windspeed.loc[preprocessed_data.windspeed > upper_limit]))"
   ]
  },
  {
   "cell_type": "code",
   "execution_count": 52,
   "id": "e12392ba",
   "metadata": {
    "colab": {
     "base_uri": "https://localhost:8080/"
    },
    "id": "e12392ba",
    "outputId": "3f59dec7-c76e-42ca-e562-8ab6fd01f0d2"
   },
   "outputs": [
    {
     "data": {
      "text/plain": [
       "0.615685597560274"
      ]
     },
     "execution_count": 52,
     "metadata": {},
     "output_type": "execute_result"
    }
   ],
   "source": [
    "107/17379*100"
   ]
  },
  {
   "cell_type": "markdown",
   "id": "3839a385",
   "metadata": {
    "id": "3839a385"
   },
   "source": [
    "We can observe that the above value is greater than 5%  then no imputation is required."
   ]
  },
  {
   "cell_type": "code",
   "execution_count": 53,
   "id": "3dd35d8f",
   "metadata": {
    "colab": {
     "base_uri": "https://localhost:8080/"
    },
    "id": "3dd35d8f",
    "outputId": "d7126983-ba95-4207-c13e-beec364147d3"
   },
   "outputs": [
    {
     "data": {
      "text/plain": [
       "0"
      ]
     },
     "execution_count": 53,
     "metadata": {},
     "output_type": "execute_result"
    }
   ],
   "source": [
    "lower_limit = preprocessed_data.windspeed.mean() - 3*(preprocessed_data.windspeed.std())\n",
    "len((preprocessed_data.windspeed.loc[preprocessed_data.windspeed < lower_limit]))"
   ]
  },
  {
   "cell_type": "markdown",
   "id": "20c58104",
   "metadata": {
    "id": "20c58104"
   },
   "source": [
    "# Detecting outliers in humidity"
   ]
  },
  {
   "cell_type": "code",
   "execution_count": 54,
   "id": "7dce489a",
   "metadata": {
    "id": "7dce489a"
   },
   "outputs": [],
   "source": [
    "upper_limit = preprocessed_data.humidity.mean() + 3*(preprocessed_data.humidity.std())\n",
    "lower_limit = preprocessed_data.humidity.mean() - 3*(preprocessed_data.humidity.std())"
   ]
  },
  {
   "cell_type": "code",
   "execution_count": 55,
   "id": "b39bea60",
   "metadata": {
    "colab": {
     "base_uri": "https://localhost:8080/"
    },
    "id": "b39bea60",
    "outputId": "b5721545-8381-4733-897f-9aff375a63cf"
   },
   "outputs": [
    {
     "data": {
      "text/plain": [
       "22"
      ]
     },
     "execution_count": 55,
     "metadata": {},
     "output_type": "execute_result"
    }
   ],
   "source": [
    "# Checking the length of the outliers which are above the upper_limit\n",
    "len((preprocessed_data.humidity.loc[preprocessed_data.humidity < lower_limit]))"
   ]
  },
  {
   "cell_type": "code",
   "execution_count": 56,
   "id": "c024fbe1",
   "metadata": {
    "colab": {
     "base_uri": "https://localhost:8080/"
    },
    "id": "c024fbe1",
    "outputId": "73a88c52-3136-4bb5-95e7-5f03ef862aad"
   },
   "outputs": [
    {
     "data": {
      "text/plain": [
       "0"
      ]
     },
     "execution_count": 56,
     "metadata": {},
     "output_type": "execute_result"
    }
   ],
   "source": [
    "# Checking length of outliers below the lower_limit\n",
    "len((preprocessed_data.humidity.loc[preprocessed_data.humidity > upper_limit]))"
   ]
  },
  {
   "cell_type": "code",
   "execution_count": 57,
   "id": "a8fb9324",
   "metadata": {
    "id": "a8fb9324"
   },
   "outputs": [],
   "source": [
    "preprocessed_data.loc[preprocessed_data.humidity < lower_limit,\"humidity\"] = preprocessed_data.humidity.median()"
   ]
  },
  {
   "cell_type": "code",
   "execution_count": 58,
   "id": "2f989a19",
   "metadata": {
    "colab": {
     "base_uri": "https://localhost:8080/",
     "height": 281
    },
    "id": "2f989a19",
    "outputId": "ee57d267-36e1-4252-97f0-5a6110f70e8e"
   },
   "outputs": [
    {
     "data": {
      "image/png": "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\n",
      "text/plain": [
       "<Figure size 432x288 with 1 Axes>"
      ]
     },
     "metadata": {
      "needs_background": "light"
     },
     "output_type": "display_data"
    }
   ],
   "source": [
    "sns.boxplot(data=preprocessed_data.humidity)\n",
    "plt.title(\"Outliers in humidity feature after imputation\")\n",
    "plt.show()"
   ]
  },
  {
   "cell_type": "markdown",
   "id": "ed08d632",
   "metadata": {
    "id": "ed08d632"
   },
   "source": [
    "SO, no outliers indicating in humidity feature now ."
   ]
  },
  {
   "cell_type": "markdown",
   "id": "fc06e6fe",
   "metadata": {
    "id": "fc06e6fe"
   },
   "source": [
    "# Coorelation matrix\n",
    "* coorelation matrix is tells us about linear relationship between atributes and help us to build better models."
   ]
  },
  {
   "cell_type": "code",
   "execution_count": 59,
   "id": "02eef18f",
   "metadata": {
    "colab": {
     "base_uri": "https://localhost:8080/",
     "height": 608
    },
    "id": "02eef18f",
    "outputId": "c0a2d222-9cfa-4f62-e9e3-41f680fee5cc"
   },
   "outputs": [
    {
     "data": {
      "image/png": "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\n",
      "text/plain": [
       "<Figure size 1440x720 with 2 Axes>"
      ]
     },
     "metadata": {
      "needs_background": "light"
     },
     "output_type": "display_data"
    }
   ],
   "source": [
    "plt.figure(figsize=(20,10))\n",
    "corr_mtx = preprocessed_data.corr()\n",
    "sns.heatmap(corr_mtx,annot=True)\n",
    "plt.title(\"Correlation matrix of Features\")\n",
    "plt.show()"
   ]
  },
  {
   "cell_type": "markdown",
   "id": "4d4aa4d1",
   "metadata": {
    "id": "4d4aa4d1"
   },
   "source": [
    "* From correlation matrix, we can observe that some features are positively coorelated or some are negatively coorelated.\n",
    "* \"temp\" and \"atemp\" are highly correlated to each other, it means both are carrying similar information. \n",
    "* The total_counts and registered are highly positively correlated to each other. So no need to add registered and atemp features for further analysis."
   ]
  },
  {
   "cell_type": "markdown",
   "id": "c43f6cf0",
   "metadata": {
    "id": "c43f6cf0"
   },
   "source": [
    "# MODEL BUILDING"
   ]
  },
  {
   "cell_type": "markdown",
   "id": "d039e6e4",
   "metadata": {
    "id": "d039e6e4"
   },
   "source": [
    "## 1.) Linear Regression "
   ]
  },
  {
   "cell_type": "markdown",
   "id": "3c2aacde",
   "metadata": {
    "id": "3c2aacde"
   },
   "source": [
    "### Importing required libraries for model creation"
   ]
  },
  {
   "cell_type": "code",
   "execution_count": 67,
   "id": "e1bce477",
   "metadata": {
    "id": "e1bce477"
   },
   "outputs": [],
   "source": [
    "from sklearn.model_selection import train_test_split\n",
    "from sklearn.linear_model import LinearRegression\n",
    "from sklearn.metrics import r2_score,mean_squared_error,mean_absolute_error"
   ]
  },
  {
   "cell_type": "markdown",
   "id": "b7b36bd1",
   "metadata": {
    "id": "b7b36bd1"
   },
   "source": [
    "### Defining independent and dependent variables"
   ]
  },
  {
   "cell_type": "code",
   "execution_count": 68,
   "id": "ba80af0e",
   "metadata": {
    "id": "ba80af0e"
   },
   "outputs": [],
   "source": [
    "X = preprocessed_data.drop([\"registered\",\"atemp\",\"total_counts\",\"date\"],axis=1)\n",
    "Y = preprocessed_data.total_counts.values"
   ]
  },
  {
   "cell_type": "code",
   "execution_count": 69,
   "id": "72242ff0",
   "metadata": {
    "colab": {
     "base_uri": "https://localhost:8080/"
    },
    "id": "72242ff0",
    "outputId": "00365c88-82f7-416b-fc83-89b5379e0175"
   },
   "outputs": [
    {
     "data": {
      "text/plain": [
       "array([16, 40, 32, ..., 90, 61, 49])"
      ]
     },
     "execution_count": 69,
     "metadata": {},
     "output_type": "execute_result"
    }
   ],
   "source": [
    "preprocessed_data.total_counts.values"
   ]
  },
  {
   "cell_type": "markdown",
   "id": "51a8dc50",
   "metadata": {
    "id": "51a8dc50"
   },
   "source": [
    "### TRAIN-TEST SPLITTING"
   ]
  },
  {
   "cell_type": "code",
   "execution_count": 70,
   "id": "79d4dc88",
   "metadata": {
    "id": "79d4dc88"
   },
   "outputs": [],
   "source": [
    "x_train,x_test,y_train,y_test = train_test_split(X , Y , test_size=0.2 , random_state=42)"
   ]
  },
  {
   "cell_type": "code",
   "execution_count": 71,
   "id": "ec2a54b2",
   "metadata": {
    "id": "ec2a54b2"
   },
   "outputs": [],
   "source": [
    "from sklearn.preprocessing import PolynomialFeatures\n",
    "poly_feats = PolynomialFeatures(2)\n",
    "x_train = poly_feats.fit_transform(x_train)\n",
    "x_test = poly_feats.fit_transform(x_test)"
   ]
  },
  {
   "cell_type": "markdown",
   "id": "e2dc7568",
   "metadata": {
    "id": "e2dc7568"
   },
   "source": [
    "### DEFINING and FITTING MODEL"
   ]
  },
  {
   "cell_type": "code",
   "execution_count": 72,
   "id": "55e1a2e0",
   "metadata": {
    "colab": {
     "base_uri": "https://localhost:8080/"
    },
    "id": "55e1a2e0",
    "outputId": "e282c784-a9d8-4979-d91a-4f37a8553cbf"
   },
   "outputs": [
    {
     "data": {
      "text/plain": [
       "LinearRegression()"
      ]
     },
     "execution_count": 72,
     "metadata": {},
     "output_type": "execute_result"
    }
   ],
   "source": [
    "lin_reg = LinearRegression()\n",
    "lin_reg.fit(x_train,y_train)"
   ]
  },
  {
   "cell_type": "markdown",
   "id": "1061512b",
   "metadata": {
    "id": "1061512b"
   },
   "source": [
    "### Checking the constants and coefficients of equation made by the linear regression for this data"
   ]
  },
  {
   "cell_type": "code",
   "execution_count": 73,
   "id": "bab8bf92",
   "metadata": {
    "colab": {
     "base_uri": "https://localhost:8080/"
    },
    "id": "bab8bf92",
    "outputId": "b4e8f707-a3e6-48c6-c790-cdfdcfaef168"
   },
   "outputs": [
    {
     "name": "stdout",
     "output_type": "stream",
     "text": [
      "-85.8024734977372\n",
      "[-9.48288782e-05  3.73948499e-02 -7.28139896e-01  6.49237552e+02\n",
      " -2.61261179e+01  1.87858690e+01 -6.26069057e+01  3.65576882e+01\n",
      " -5.03251630e+01  1.45138091e+01  1.38739018e+02  1.00319227e+02\n",
      "  5.81629058e+01  1.34088797e+00  1.91362678e-05  5.49453689e-02\n",
      " -3.51859853e-01 -4.95678356e-02 -5.18234985e-04 -4.62729585e-02\n",
      " -1.70722344e-03 -1.82544854e-03 -7.46504319e-03  5.21363498e-02\n",
      " -2.50302054e-02  3.35700162e-02 -4.31413371e-05 -1.73368130e+00\n",
      " -4.66527201e+02 -3.86896272e+01  5.86390157e-01  1.21413868e+01\n",
      " -2.10679870e+00  7.95974364e+00  1.13373043e+00  4.77295326e+00\n",
      "  6.89939364e+00  7.60824920e+00  9.22991215e-02  6.49237569e+02\n",
      "  4.41697686e+02  5.90741401e+00  3.95696428e+02  1.47401810e+01\n",
      "  4.59481338e+01  6.18265971e+01 -5.15779962e+02  2.30533033e+02\n",
      " -2.79267555e+02  9.04274217e-01  2.53754823e+01  4.39896805e-01\n",
      "  2.94439945e+01  1.60014553e+00  1.04483062e+00  4.51645402e+00\n",
      " -4.05383200e+01  2.04906500e+01 -2.57517536e+01  3.77541239e-02\n",
      " -6.68499074e-01  2.21318334e+00 -2.65876072e-01  4.30631501e+00\n",
      "  4.73751521e-01 -1.32423471e+00 -8.45067399e+00  1.90890810e+00\n",
      "  5.63938761e-02 -6.26069250e+01 -7.48713754e+00 -1.44688705e-11\n",
      " -4.49842064e+00  1.43811647e+01  8.73912742e+01  1.52179451e+02\n",
      " -3.58432796e-01 -5.62247771e+00 -1.94493564e+00  3.21409219e-01\n",
      " -1.29516486e+00  4.04574772e+00  2.83044724e+00  8.03454530e-03\n",
      " -5.03251573e+01 -2.14680809e+01 -3.21996947e+01  1.24596871e+02\n",
      "  7.31903616e+00  1.03157402e+00 -8.24290125e+00  2.52590920e+01\n",
      "  1.18003481e+01 -2.25356903e+00 -2.61572292e-01 -1.37396844e+02\n",
      " -3.79366577e+01  5.79222310e+01  3.21838154e-01 -1.09444678e+02\n",
      " -8.59694799e+01  1.14903237e+00 -1.21985569e+02 -3.85294007e-01\n",
      " -5.28055705e-03]\n"
     ]
    }
   ],
   "source": [
    "print(lin_reg.intercept_) # constants\n",
    "print(lin_reg.coef_)   # m(slopes) values"
   ]
  },
  {
   "cell_type": "markdown",
   "id": "cbc5b316",
   "metadata": {
    "id": "cbc5b316"
   },
   "source": [
    "## MODEL EVALUATION"
   ]
  },
  {
   "cell_type": "markdown",
   "id": "4aa43873",
   "metadata": {
    "id": "4aa43873"
   },
   "source": [
    "### Prediction on training_data"
   ]
  },
  {
   "cell_type": "code",
   "execution_count": 74,
   "id": "c572f74a",
   "metadata": {
    "colab": {
     "base_uri": "https://localhost:8080/"
    },
    "id": "c572f74a",
    "outputId": "25507b5e-c71d-43ae-dc00-c8bdafbb78e3"
   },
   "outputs": [
    {
     "data": {
      "text/plain": [
       "0.6949468371017322"
      ]
     },
     "execution_count": 74,
     "metadata": {},
     "output_type": "execute_result"
    }
   ],
   "source": [
    "y_train_pred = lin_reg.predict(x_train)\n",
    "r2_score(y_train,y_train_pred)"
   ]
  },
  {
   "cell_type": "code",
   "execution_count": 75,
   "id": "0f3a7190",
   "metadata": {
    "colab": {
     "base_uri": "https://localhost:8080/"
    },
    "id": "0f3a7190",
    "outputId": "52999b6d-7a4f-4885-fe42-c799969e6a5c"
   },
   "outputs": [
    {
     "data": {
      "text/plain": [
       "(13903, 105)"
      ]
     },
     "execution_count": 75,
     "metadata": {},
     "output_type": "execute_result"
    }
   ],
   "source": [
    "x_train.shape"
   ]
  },
  {
   "cell_type": "code",
   "execution_count": 76,
   "id": "b60bed59",
   "metadata": {
    "colab": {
     "base_uri": "https://localhost:8080/"
    },
    "id": "b60bed59",
    "outputId": "4e9acc09-9a75-4ad1-cd2b-777d9f8e699a"
   },
   "outputs": [
    {
     "data": {
      "text/plain": [
       "0.6876407914764078"
      ]
     },
     "execution_count": 76,
     "metadata": {},
     "output_type": "execute_result"
    }
   ],
   "source": [
    "## CHecking adjusted r2 score\n",
    "train_adjusted_r2 = 1-(1-0.69)*(13903-1)/(13903-105-1)\n",
    "train_adjusted_r2"
   ]
  },
  {
   "cell_type": "markdown",
   "id": "005c98df",
   "metadata": {
    "id": "005c98df"
   },
   "source": [
    "* Here, we comed up with the 0.69 r2_score and 0.68 adjusted r2_score for training data"
   ]
  },
  {
   "cell_type": "markdown",
   "id": "1ccd0b5c",
   "metadata": {
    "id": "1ccd0b5c"
   },
   "source": [
    "### Prediction on testing_data"
   ]
  },
  {
   "cell_type": "code",
   "execution_count": 77,
   "id": "06553502",
   "metadata": {
    "colab": {
     "base_uri": "https://localhost:8080/"
    },
    "id": "06553502",
    "outputId": "2f0e3dfb-9abb-4a67-fd62-2906ee0ccf7a"
   },
   "outputs": [
    {
     "data": {
      "text/plain": [
       "0.6869557321703199"
      ]
     },
     "execution_count": 77,
     "metadata": {},
     "output_type": "execute_result"
    }
   ],
   "source": [
    "y_test_pred = lin_reg.predict(x_test)\n",
    "r2_score(y_test,y_test_pred)"
   ]
  },
  {
   "cell_type": "code",
   "execution_count": 78,
   "id": "46331e3d",
   "metadata": {
    "colab": {
     "base_uri": "https://localhost:8080/"
    },
    "id": "46331e3d",
    "outputId": "2f11e010-add8-4f60-f7ec-be3036e994dd"
   },
   "outputs": [
    {
     "data": {
      "text/plain": [
       "(3476, 105)"
      ]
     },
     "execution_count": 78,
     "metadata": {},
     "output_type": "execute_result"
    }
   ],
   "source": [
    "x_test.shape"
   ]
  },
  {
   "cell_type": "code",
   "execution_count": 79,
   "id": "7ff38606",
   "metadata": {
    "colab": {
     "base_uri": "https://localhost:8080/"
    },
    "id": "7ff38606",
    "outputId": "66a9d975-e1aa-4351-f2b5-b6bd754bb802"
   },
   "outputs": [
    {
     "data": {
      "text/plain": [
       "0.6700296735905045"
      ]
     },
     "execution_count": 79,
     "metadata": {},
     "output_type": "execute_result"
    }
   ],
   "source": [
    "## CHecking adjusted r2 score\n",
    "test_adjusted_r2 = 1-(1-0.68)*(3476-1)/(3476-105-1)\n",
    "test_adjusted_r2"
   ]
  },
  {
   "cell_type": "markdown",
   "id": "4415253d",
   "metadata": {
    "id": "4415253d"
   },
   "source": [
    "* Here, we comed up with the 0.68 r2_score and 0.67 adjusted r2_score for testing data "
   ]
  },
  {
   "cell_type": "markdown",
   "id": "54bd3c55",
   "metadata": {
    "id": "54bd3c55"
   },
   "source": [
    "### FINDING MEAN AND ABSOLUTE SQUARED ERRORS"
   ]
  },
  {
   "cell_type": "code",
   "execution_count": 80,
   "id": "8388adcd",
   "metadata": {
    "colab": {
     "base_uri": "https://localhost:8080/"
    },
    "id": "8388adcd",
    "outputId": "1b3cdf73-e4a8-4c1d-f32c-92584e536911"
   },
   "outputs": [
    {
     "name": "stdout",
     "output_type": "stream",
     "text": [
      "99.56242015613493\n"
     ]
    }
   ],
   "source": [
    "import math\n",
    "print(math.sqrt(mean_squared_error(y_test,y_test_pred)))"
   ]
  },
  {
   "cell_type": "code",
   "execution_count": 81,
   "id": "5a34afa8",
   "metadata": {
    "colab": {
     "base_uri": "https://localhost:8080/"
    },
    "id": "5a34afa8",
    "outputId": "693979b1-064f-4f46-a95c-fe4c224731d6"
   },
   "outputs": [
    {
     "data": {
      "text/plain": [
       "68.7998627856452"
      ]
     },
     "execution_count": 81,
     "metadata": {},
     "output_type": "execute_result"
    }
   ],
   "source": [
    "mean_absolute_error(y_test,y_test_pred)"
   ]
  },
  {
   "cell_type": "markdown",
   "id": "2c2ed7df",
   "metadata": {
    "id": "2c2ed7df"
   },
   "source": [
    "# Conclusion:\n",
    "\n",
    "* It can be observed that while using linear regression for this data we're getting 68% accuracy score and \n",
    "* Approx. 99.57 mean_squared error\n",
    "* Approx. 68.80 mean_absolute_error\n",
    "\n",
    "### For better results lets try to train our data with other algorithms too."
   ]
  },
  {
   "cell_type": "markdown",
   "id": "b9948d76",
   "metadata": {
    "id": "b9948d76"
   },
   "source": [
    "# 2.) SVM - Regressor"
   ]
  },
  {
   "cell_type": "code",
   "execution_count": 82,
   "id": "0626ea15",
   "metadata": {
    "id": "0626ea15"
   },
   "outputs": [],
   "source": [
    "from sklearn.svm import SVR"
   ]
  },
  {
   "cell_type": "code",
   "execution_count": 83,
   "id": "qzBvBmfwq1eN",
   "metadata": {
    "colab": {
     "base_uri": "https://localhost:8080/"
    },
    "id": "qzBvBmfwq1eN",
    "outputId": "2422e607-b538-47d2-a4db-68e029a40798"
   },
   "outputs": [
    {
     "data": {
      "text/plain": [
       "SVR()"
      ]
     },
     "execution_count": 83,
     "metadata": {},
     "output_type": "execute_result"
    }
   ],
   "source": [
    "svr = SVR(kernel=\"rbf\")\n",
    "svr.fit(x_train,y_train)"
   ]
  },
  {
   "cell_type": "code",
   "execution_count": 84,
   "id": "77df99e9",
   "metadata": {
    "id": "77df99e9"
   },
   "outputs": [],
   "source": [
    "y_hat = svr.predict(x_test)"
   ]
  },
  {
   "cell_type": "markdown",
   "id": "44232501",
   "metadata": {
    "id": "44232501"
   },
   "source": [
    "### Model Evaluation"
   ]
  },
  {
   "cell_type": "code",
   "execution_count": 85,
   "id": "957ac287",
   "metadata": {
    "colab": {
     "base_uri": "https://localhost:8080/"
    },
    "id": "957ac287",
    "outputId": "213cd5a5-948b-4b52-e970-c8a2b279b2e6"
   },
   "outputs": [
    {
     "data": {
      "text/plain": [
       "0.06554078735366076"
      ]
     },
     "execution_count": 85,
     "metadata": {},
     "output_type": "execute_result"
    }
   ],
   "source": [
    "svr.score(x_train,y_train)"
   ]
  },
  {
   "cell_type": "code",
   "execution_count": 86,
   "id": "ElkQMLi8medx",
   "metadata": {
    "colab": {
     "base_uri": "https://localhost:8080/"
    },
    "id": "ElkQMLi8medx",
    "outputId": "95da57cd-4a99-4aa7-df40-241792b6c205"
   },
   "outputs": [
    {
     "data": {
      "text/plain": [
       "0.062117671257266194"
      ]
     },
     "execution_count": 86,
     "metadata": {},
     "output_type": "execute_result"
    }
   ],
   "source": [
    "r2_score(y_test,y_hat)"
   ]
  },
  {
   "cell_type": "code",
   "execution_count": 87,
   "id": "3a9083b9",
   "metadata": {
    "colab": {
     "base_uri": "https://localhost:8080/"
    },
    "id": "3a9083b9",
    "outputId": "e94a8818-5ffa-450e-aabc-b52707511fbc"
   },
   "outputs": [
    {
     "name": "stdout",
     "output_type": "stream",
     "text": [
      "172.33232350558208\n"
     ]
    }
   ],
   "source": [
    "print(math.sqrt(mean_squared_error(y_test,y_hat)))"
   ]
  },
  {
   "cell_type": "code",
   "execution_count": 88,
   "id": "a53e7e3b",
   "metadata": {
    "colab": {
     "base_uri": "https://localhost:8080/"
    },
    "id": "a53e7e3b",
    "outputId": "648119fc-77c8-45b6-f787-589c5106dfe3"
   },
   "outputs": [
    {
     "data": {
      "text/plain": [
       "128.7764948894401"
      ]
     },
     "execution_count": 88,
     "metadata": {},
     "output_type": "execute_result"
    }
   ],
   "source": [
    "mean_absolute_error(y_test,y_hat)"
   ]
  },
  {
   "cell_type": "markdown",
   "id": "c7ef3c53",
   "metadata": {
    "id": "c7ef3c53"
   },
   "source": [
    "# Conclusion:\n",
    "\n",
    "* We can observe that while using SVmregressor for this data we're getting very less percentage of accuracy score i.e. 0.062\n",
    "* 172.33 mean_squared_error\n",
    "* 128.77 mean_absolute_error which is greater than the linear regression model's\n",
    "\n",
    "### So, next step is to go with hyper tuning "
   ]
  },
  {
   "cell_type": "markdown",
   "id": "rBErVEhZmrmP",
   "metadata": {
    "id": "rBErVEhZmrmP"
   },
   "source": [
    "# **SVM Hyper Parametric Tuning**"
   ]
  },
  {
   "cell_type": "code",
   "execution_count": 89,
   "id": "AdKT8FaBmpjw",
   "metadata": {
    "colab": {
     "base_uri": "https://localhost:8080/"
    },
    "id": "AdKT8FaBmpjw",
    "outputId": "0385cafa-5c45-48d4-ad0e-d6a061183354"
   },
   "outputs": [
    {
     "name": "stdout",
     "output_type": "stream",
     "text": [
      "Fitting 5 folds for each of 8 candidates, totalling 40 fits\n",
      "[CV] END ...................................C=1, gamma=0.001; total time=  15.5s\n",
      "[CV] END ...................................C=1, gamma=0.001; total time=  16.2s\n",
      "[CV] END ...................................C=1, gamma=0.001; total time=  15.4s\n",
      "[CV] END ...................................C=1, gamma=0.001; total time=  15.5s\n",
      "[CV] END ...................................C=1, gamma=0.001; total time=  15.5s\n",
      "[CV] END ..................................C=1, gamma=0.0001; total time=  17.3s\n",
      "[CV] END ..................................C=1, gamma=0.0001; total time=  17.0s\n",
      "[CV] END ..................................C=1, gamma=0.0001; total time=  19.1s\n",
      "[CV] END ..................................C=1, gamma=0.0001; total time=  17.1s\n",
      "[CV] END ..................................C=1, gamma=0.0001; total time=  17.2s\n",
      "[CV] END ..................................C=10, gamma=0.001; total time=  15.5s\n",
      "[CV] END ..................................C=10, gamma=0.001; total time=  15.5s\n",
      "[CV] END ..................................C=10, gamma=0.001; total time=  15.5s\n",
      "[CV] END ..................................C=10, gamma=0.001; total time=  15.5s\n",
      "[CV] END ..................................C=10, gamma=0.001; total time=  15.5s\n",
      "[CV] END .................................C=10, gamma=0.0001; total time=  17.1s\n",
      "[CV] END .................................C=10, gamma=0.0001; total time=  18.9s\n",
      "[CV] END .................................C=10, gamma=0.0001; total time=  16.9s\n",
      "[CV] END .................................C=10, gamma=0.0001; total time=  17.0s\n",
      "[CV] END .................................C=10, gamma=0.0001; total time=  17.1s\n",
      "[CV] END .................................C=100, gamma=0.001; total time=  19.6s\n",
      "[CV] END .................................C=100, gamma=0.001; total time=  19.4s\n",
      "[CV] END .................................C=100, gamma=0.001; total time=  19.9s\n",
      "[CV] END .................................C=100, gamma=0.001; total time=  20.0s\n",
      "[CV] END .................................C=100, gamma=0.001; total time=  21.7s\n",
      "[CV] END ................................C=100, gamma=0.0001; total time=  18.2s\n",
      "[CV] END ................................C=100, gamma=0.0001; total time=  18.0s\n",
      "[CV] END ................................C=100, gamma=0.0001; total time=  18.2s\n",
      "[CV] END ................................C=100, gamma=0.0001; total time=  18.1s\n",
      "[CV] END ................................C=100, gamma=0.0001; total time=  18.1s\n",
      "[CV] END ................................C=1000, gamma=0.001; total time= 1.4min\n",
      "[CV] END ................................C=1000, gamma=0.001; total time= 1.3min\n",
      "[CV] END ................................C=1000, gamma=0.001; total time= 1.6min\n",
      "[CV] END ................................C=1000, gamma=0.001; total time= 1.3min\n",
      "[CV] END ................................C=1000, gamma=0.001; total time= 1.5min\n",
      "[CV] END ...............................C=1000, gamma=0.0001; total time=  28.7s\n",
      "[CV] END ...............................C=1000, gamma=0.0001; total time=  28.6s\n",
      "[CV] END ...............................C=1000, gamma=0.0001; total time=  30.6s\n",
      "[CV] END ...............................C=1000, gamma=0.0001; total time=  29.7s\n",
      "[CV] END ...............................C=1000, gamma=0.0001; total time=  30.0s\n"
     ]
    },
    {
     "data": {
      "text/plain": [
       "GridSearchCV(cv=5, estimator=SVR(),\n",
       "             param_grid={'C': [1, 10, 100, 1000], 'gamma': [0.001, 0.0001]},\n",
       "             scoring='neg_mean_squared_error', verbose=2)"
      ]
     },
     "execution_count": 89,
     "metadata": {},
     "output_type": "execute_result"
    }
   ],
   "source": [
    "from sklearn.model_selection import GridSearchCV\n",
    "  \n",
    "# defining parameter range\n",
    "param_grid = {'C': [1, 10, 100, 1000], 'gamma': [0.001, 0.0001] \n",
    "             } \n",
    "model=SVR()\n",
    "grid = GridSearchCV(model, param_grid, refit = True, verbose = 2,scoring='neg_mean_squared_error',cv=5)\n",
    "  \n",
    "# fitting the model for grid search\n",
    "grid.fit(X,Y)"
   ]
  },
  {
   "cell_type": "code",
   "execution_count": 90,
   "id": "3Bmvr51Jmpr-",
   "metadata": {
    "colab": {
     "base_uri": "https://localhost:8080/"
    },
    "id": "3Bmvr51Jmpr-",
    "outputId": "8c012530-b360-416e-f826-5fa765165202"
   },
   "outputs": [
    {
     "name": "stdout",
     "output_type": "stream",
     "text": [
      "{'C': 10, 'gamma': 0.001}\n"
     ]
    }
   ],
   "source": [
    "print(grid.best_params_)"
   ]
  },
  {
   "cell_type": "code",
   "execution_count": 91,
   "id": "811oSRfsmp7O",
   "metadata": {
    "id": "811oSRfsmp7O"
   },
   "outputs": [],
   "source": [
    "svm_reg = SVR(C=1000, gamma = 0.001)"
   ]
  },
  {
   "cell_type": "markdown",
   "id": "6550d630",
   "metadata": {
    "id": "6550d630"
   },
   "source": [
    "### First we did with best params but it was giving us the accuracy in negative value so we go with the above parameter value"
   ]
  },
  {
   "cell_type": "code",
   "execution_count": 92,
   "id": "SkYZatksyrFG",
   "metadata": {
    "colab": {
     "base_uri": "https://localhost:8080/"
    },
    "id": "SkYZatksyrFG",
    "outputId": "c6817a49-47d2-471b-85e4-080e04491532"
   },
   "outputs": [
    {
     "data": {
      "text/plain": [
       "SVR(C=1000, gamma=0.001)"
      ]
     },
     "execution_count": 92,
     "metadata": {},
     "output_type": "execute_result"
    }
   ],
   "source": [
    "svm_reg.fit(x_train,y_train)"
   ]
  },
  {
   "cell_type": "code",
   "execution_count": 93,
   "id": "eB2C0Yu5yrU7",
   "metadata": {
    "id": "eB2C0Yu5yrU7"
   },
   "outputs": [],
   "source": [
    "y_hat2 = svm_reg.predict(x_test)"
   ]
  },
  {
   "cell_type": "code",
   "execution_count": 94,
   "id": "vFXG91aMzB5t",
   "metadata": {
    "colab": {
     "base_uri": "https://localhost:8080/"
    },
    "id": "vFXG91aMzB5t",
    "outputId": "cb3c58a3-f161-4a8e-eb3e-757171c909ca"
   },
   "outputs": [
    {
     "data": {
      "text/plain": [
       "0.9999996987090553"
      ]
     },
     "execution_count": 94,
     "metadata": {},
     "output_type": "execute_result"
    }
   ],
   "source": [
    "svm_reg.score(x_train,y_train)"
   ]
  },
  {
   "cell_type": "code",
   "execution_count": 95,
   "id": "G3e6SwnNzCFp",
   "metadata": {
    "colab": {
     "base_uri": "https://localhost:8080/"
    },
    "id": "G3e6SwnNzCFp",
    "outputId": "de241ae5-0387-45f6-9d62-68a52c35bdfb"
   },
   "outputs": [
    {
     "data": {
      "text/plain": [
       "-0.0002175492859401995"
      ]
     },
     "execution_count": 95,
     "metadata": {},
     "output_type": "execute_result"
    }
   ],
   "source": [
    "r2_score(y_test,y_hat2)"
   ]
  },
  {
   "cell_type": "markdown",
   "id": "0863b774",
   "metadata": {
    "id": "0863b774"
   },
   "source": [
    "# Conclusion:\n",
    "\n",
    "* With SVM, we comed with the model performance of 99% But,\n",
    "* On testing side it is performing very bad as we can observed r2_score in negative.\n",
    "* We decide not to go with further tuning and proceed with KNN regressor."
   ]
  },
  {
   "cell_type": "markdown",
   "id": "7128f344",
   "metadata": {
    "id": "7128f344"
   },
   "source": [
    "# 3.) KNN- Regressor"
   ]
  },
  {
   "cell_type": "code",
   "execution_count": null,
   "id": "0462a972",
   "metadata": {
    "id": "0462a972"
   },
   "outputs": [],
   "source": [
    "from sklearn.neighbors import KNeighborsRegressor"
   ]
  },
  {
   "cell_type": "markdown",
   "id": "9212afc6",
   "metadata": {
    "id": "9212afc6"
   },
   "source": [
    "### Selection of optimal k "
   ]
  },
  {
   "cell_type": "code",
   "execution_count": null,
   "id": "4bf7131a",
   "metadata": {
    "id": "4bf7131a",
    "outputId": "cde6595d-099c-4f48-8ffc-69cf9400c199"
   },
   "outputs": [
    {
     "name": "stdout",
     "output_type": "stream",
     "text": [
      "Root mean squared error for k= 1 is:= 108.65413582234385\n",
      "Root mean squared error for k= 2 is:= 102.96171096116572\n",
      "Root mean squared error for k= 3 is:= 105.94168723637166\n",
      "Root mean squared error for k= 4 is:= 108.83470678593072\n",
      "Root mean squared error for k= 5 is:= 112.80152876038045\n",
      "Root mean squared error for k= 6 is:= 116.38218023683082\n",
      "Root mean squared error for k= 7 is:= 119.37003507362634\n",
      "Root mean squared error for k= 8 is:= 120.6421719585796\n",
      "Root mean squared error for k= 9 is:= 122.4198783169642\n",
      "Root mean squared error for k= 10 is:= 123.31965304367519\n",
      "Root mean squared error for k= 11 is:= 123.95837094109153\n",
      "Root mean squared error for k= 12 is:= 123.97236936744075\n",
      "Root mean squared error for k= 13 is:= 123.82619999088313\n",
      "Root mean squared error for k= 14 is:= 124.20094475709037\n",
      "Root mean squared error for k= 15 is:= 124.17335585403654\n",
      "Root mean squared error for k= 16 is:= 124.20561493761926\n",
      "Root mean squared error for k= 17 is:= 124.25469801330927\n",
      "Root mean squared error for k= 18 is:= 123.96598491138867\n",
      "Root mean squared error for k= 19 is:= 123.88939640446871\n"
     ]
    }
   ],
   "source": [
    "rmse_value = []\n",
    "\n",
    "for k in range(1,20):\n",
    "    knn_regressor_model = KNeighborsRegressor(n_neighbors = k)\n",
    "    knn_regressor_model.fit(x_train,y_train)\n",
    "    y_pred= knn_regressor_model.predict(x_test)\n",
    "    \n",
    "    error= np.sqrt(mean_squared_error(y_test,y_pred))\n",
    "    \n",
    "    rmse_value.append(error)\n",
    "    print('Root mean squared error for k=',k,'is:=',error)"
   ]
  },
  {
   "cell_type": "code",
   "execution_count": null,
   "id": "e79f32eb",
   "metadata": {
    "id": "e79f32eb",
    "outputId": "96d7a6bd-fe49-4b6c-d67b-b9b728c9de16"
   },
   "outputs": [
    {
     "data": {
      "image/png": "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\n",
      "text/plain": [
       "<Figure size 600x400 with 1 Axes>"
      ]
     },
     "metadata": {},
     "output_type": "display_data"
    }
   ],
   "source": [
    "plt.plot(range(1,20),rmse_value)\n",
    "plt.xlabel(\"Range\")\n",
    "plt.ylabel(\"Errors\")\n",
    "plt.show()"
   ]
  },
  {
   "cell_type": "markdown",
   "id": "8415a8c6",
   "metadata": {
    "id": "8415a8c6"
   },
   "source": [
    "We selected k=2 as it is giving less error"
   ]
  },
  {
   "cell_type": "code",
   "execution_count": null,
   "id": "2430d3a9",
   "metadata": {
    "id": "2430d3a9"
   },
   "outputs": [],
   "source": [
    "Knn_regressor_actual_model = KNeighborsRegressor(n_neighbors=2)"
   ]
  },
  {
   "cell_type": "code",
   "execution_count": null,
   "id": "08d25316",
   "metadata": {
    "id": "08d25316",
    "outputId": "e90edf47-566f-4842-8771-4ab8cf118aae"
   },
   "outputs": [
    {
     "data": {
      "text/plain": [
       "KNeighborsRegressor(n_neighbors=2)"
      ]
     },
     "execution_count": 96,
     "metadata": {},
     "output_type": "execute_result"
    }
   ],
   "source": [
    "Knn_regressor_actual_model.fit(x_train,y_train)"
   ]
  },
  {
   "cell_type": "code",
   "execution_count": null,
   "id": "a52834b2",
   "metadata": {
    "id": "a52834b2"
   },
   "outputs": [],
   "source": [
    "y_knn_hat = Knn_regressor_actual_model.predict(x_test)"
   ]
  },
  {
   "cell_type": "markdown",
   "id": "7d92a71d",
   "metadata": {
    "id": "7d92a71d"
   },
   "source": [
    "## Evaluation of knn regressor model"
   ]
  },
  {
   "cell_type": "code",
   "execution_count": null,
   "id": "1211c00c",
   "metadata": {
    "id": "1211c00c",
    "outputId": "5e1b7574-4a0f-4684-e12f-87f873e4126c"
   },
   "outputs": [
    {
     "data": {
      "text/plain": [
       "0.6652147097850752"
      ]
     },
     "execution_count": 100,
     "metadata": {},
     "output_type": "execute_result"
    }
   ],
   "source": [
    "r2_score(y_test,y_knn_hat)"
   ]
  },
  {
   "cell_type": "code",
   "execution_count": null,
   "id": "9c872821",
   "metadata": {
    "id": "9c872821",
    "outputId": "4ebdad1e-0ee0-4a5d-9fd4-67e92f5a1928"
   },
   "outputs": [
    {
     "data": {
      "text/plain": [
       "(3476, 105)"
      ]
     },
     "execution_count": 102,
     "metadata": {},
     "output_type": "execute_result"
    }
   ],
   "source": [
    "x_test.shape"
   ]
  },
  {
   "cell_type": "code",
   "execution_count": null,
   "id": "aac5d79f",
   "metadata": {
    "id": "aac5d79f"
   },
   "outputs": [],
   "source": [
    "adjustedr2 = 1-(1-0.66)*(3476-1)/(3476-105-1)"
   ]
  },
  {
   "cell_type": "code",
   "execution_count": null,
   "id": "830fc4f4",
   "metadata": {
    "id": "830fc4f4",
    "outputId": "1a4b99a6-4260-47dc-e335-d9c8870416f2"
   },
   "outputs": [
    {
     "data": {
      "text/plain": [
       "0.649406528189911"
      ]
     },
     "execution_count": 104,
     "metadata": {},
     "output_type": "execute_result"
    }
   ],
   "source": [
    "adjustedr2"
   ]
  },
  {
   "cell_type": "code",
   "execution_count": null,
   "id": "0487076b",
   "metadata": {
    "id": "0487076b",
    "outputId": "04548282-a87d-4bb4-f960-1eaf42ca1465"
   },
   "outputs": [
    {
     "data": {
      "text/plain": [
       "61.761795166858455"
      ]
     },
     "execution_count": 105,
     "metadata": {},
     "output_type": "execute_result"
    }
   ],
   "source": [
    "mean_absolute_error(y_test,y_knn_hat)"
   ]
  },
  {
   "cell_type": "code",
   "execution_count": null,
   "id": "fac913a0",
   "metadata": {
    "id": "fac913a0",
    "outputId": "369db292-8bb7-48ce-8bb6-f0ec58a54210"
   },
   "outputs": [
    {
     "data": {
      "text/plain": [
       "102.96171096116572"
      ]
     },
     "execution_count": 106,
     "metadata": {},
     "output_type": "execute_result"
    }
   ],
   "source": [
    "math.sqrt(mean_squared_error(y_test,y_knn_hat))"
   ]
  },
  {
   "cell_type": "markdown",
   "id": "a9715159",
   "metadata": {
    "id": "a9715159"
   },
   "source": [
    "# Conclusion\n",
    "\n",
    "* So here we're getting 66 accuracy score and 64% adjusted_r2_score which is better than svm.\n",
    "* 102.96 mean_squared_error\n",
    "* 61.761 mean_absolute_error\n",
    "* Errors are also less than the errors that we got in SVM model.\n",
    "\n",
    "### To increase model performance more lets train our data with decision tree now."
   ]
  },
  {
   "cell_type": "markdown",
   "id": "dc07a33a",
   "metadata": {
    "id": "dc07a33a"
   },
   "source": [
    "# 3.) Decision Tree"
   ]
  },
  {
   "cell_type": "code",
   "execution_count": null,
   "id": "c0b8134c",
   "metadata": {
    "id": "c0b8134c"
   },
   "outputs": [],
   "source": [
    "from sklearn.tree import DecisionTreeRegressor\n",
    "dt=DecisionTreeRegressor()\n",
    "dt.fit(x_train,y_train)\n",
    "y_hat_dt=dt.predict(x_test)"
   ]
  },
  {
   "cell_type": "markdown",
   "id": "8d016fbb",
   "metadata": {
    "id": "8d016fbb"
   },
   "source": [
    "## Evaluation of Decision tree"
   ]
  },
  {
   "cell_type": "code",
   "execution_count": null,
   "id": "a0ffa360",
   "metadata": {
    "id": "a0ffa360",
    "outputId": "3cb94edd-755a-4739-cc37-cdb1b481c1bb"
   },
   "outputs": [
    {
     "data": {
      "text/plain": [
       "48.400961245435646"
      ]
     },
     "execution_count": 112,
     "metadata": {},
     "output_type": "execute_result"
    }
   ],
   "source": [
    "math.sqrt(mean_squared_error(y_test,y_hat_dt))"
   ]
  },
  {
   "cell_type": "code",
   "execution_count": null,
   "id": "b444a2b1",
   "metadata": {
    "id": "b444a2b1",
    "outputId": "7fd0dd88-6622-42be-b8aa-9c26840c8380"
   },
   "outputs": [
    {
     "data": {
      "text/plain": [
       "28.6150747986191"
      ]
     },
     "execution_count": 109,
     "metadata": {},
     "output_type": "execute_result"
    }
   ],
   "source": [
    "mean_absolute_error(y_test,y_hat_dt)"
   ]
  },
  {
   "cell_type": "code",
   "execution_count": null,
   "id": "c844f0dc",
   "metadata": {
    "id": "c844f0dc",
    "outputId": "8f981b8d-0680-4702-862b-a70d47c5327e"
   },
   "outputs": [
    {
     "data": {
      "text/plain": [
       "0.9260185498747954"
      ]
     },
     "execution_count": 110,
     "metadata": {},
     "output_type": "execute_result"
    }
   ],
   "source": [
    "r2_score(y_test,y_hat_dt)"
   ]
  },
  {
   "cell_type": "code",
   "execution_count": null,
   "id": "73b77880",
   "metadata": {
    "id": "73b77880",
    "outputId": "9caaa0f3-ddfc-4ac4-8779-a4a78bb5a886"
   },
   "outputs": [
    {
     "data": {
      "text/plain": [
       "0.9175074183976262"
      ]
     },
     "execution_count": 111,
     "metadata": {},
     "output_type": "execute_result"
    }
   ],
   "source": [
    "adjustedr2 = adjustedr2 = 1-(1-0.92)*(3476-1)/(3476-105-1)\n",
    "adjustedr2"
   ]
  },
  {
   "cell_type": "markdown",
   "id": "2bf23647",
   "metadata": {
    "id": "2bf23647"
   },
   "source": [
    "# Conclusion:\n",
    "\n",
    "* Here we are getting far better results as we're getting 92% accuracy_score.\n",
    "* And very less errors as compared with the above model's errors.\n",
    "* To increase accuracy more than this lets do hyperparameter tuning."
   ]
  },
  {
   "cell_type": "markdown",
   "id": "044b612f",
   "metadata": {
    "id": "044b612f"
   },
   "source": [
    "## Hyperparameter Tuning - Decision tree"
   ]
  },
  {
   "cell_type": "code",
   "execution_count": null,
   "id": "1323b189",
   "metadata": {
    "id": "1323b189"
   },
   "outputs": [],
   "source": [
    "from sklearn.model_selection import GridSearchCV"
   ]
  },
  {
   "cell_type": "code",
   "execution_count": null,
   "id": "09fc2a09",
   "metadata": {
    "id": "09fc2a09"
   },
   "outputs": [],
   "source": [
    "parameters={\"splitter\":[\"best\",\"random\"],\n",
    "            \"max_depth\" : [1,3,5,7,10,12,15,16,18,20],\n",
    "           \n",
    "            \"min_samples_split\":[2, 3, 4],\n",
    "            \"min_samples_leaf\":[2,3,4,6,10], \n",
    "}\n"
   ]
  },
  {
   "cell_type": "code",
   "execution_count": null,
   "id": "8a2216b9",
   "metadata": {
    "id": "8a2216b9"
   },
   "outputs": [],
   "source": [
    "tuning_model=GridSearchCV(dt,param_grid=parameters,scoring='neg_mean_squared_error',cv=5,verbose=3)"
   ]
  },
  {
   "cell_type": "code",
   "execution_count": null,
   "id": "6020157f",
   "metadata": {
    "id": "6020157f",
    "outputId": "e26b41e7-11de-4e77-9df4-7fb09dea49df"
   },
   "outputs": [
    {
     "name": "stdout",
     "output_type": "stream",
     "text": [
      "Fitting 5 folds for each of 300 candidates, totalling 1500 fits\n",
      "[CV 1/5] END max_depth=1, min_samples_leaf=2, min_samples_split=2, splitter=best;, score=-10523.655 total time=   0.0s\n",
      "[CV 2/5] END max_depth=1, min_samples_leaf=2, min_samples_split=2, splitter=best;, score=-15305.298 total time=   0.0s\n",
      "[CV 3/5] END max_depth=1, min_samples_leaf=2, min_samples_split=2, splitter=best;, score=-14639.369 total time=   0.0s\n",
      "[CV 4/5] END max_depth=1, min_samples_leaf=2, min_samples_split=2, splitter=best;, score=-30117.914 total time=   0.0s\n",
      "[CV 5/5] END max_depth=1, min_samples_leaf=2, min_samples_split=2, splitter=best;, score=-34534.676 total time=   0.0s\n",
      "[CV 1/5] END max_depth=1, min_samples_leaf=2, min_samples_split=2, splitter=random;, score=-16550.749 total time=   0.0s\n",
      "[CV 2/5] END max_depth=1, min_samples_leaf=2, min_samples_split=2, splitter=random;, score=-26381.197 total time=   0.0s\n",
      "[CV 3/5] END max_depth=1, min_samples_leaf=2, min_samples_split=2, splitter=random;, score=-14354.380 total time=   0.0s\n",
      "[CV 4/5] END max_depth=1, min_samples_leaf=2, min_samples_split=2, splitter=random;, score=-49616.501 total time=   0.0s\n",
      "[CV 5/5] END max_depth=1, min_samples_leaf=2, min_samples_split=2, splitter=random;, score=-38373.944 total time=   0.0s\n",
      "[CV 1/5] END max_depth=1, min_samples_leaf=2, min_samples_split=3, splitter=best;, score=-10523.655 total time=   0.0s\n",
      "[CV 2/5] END max_depth=1, min_samples_leaf=2, min_samples_split=3, splitter=best;, score=-15305.298 total time=   0.0s\n",
      "[CV 3/5] END max_depth=1, min_samples_leaf=2, min_samples_split=3, splitter=best;, score=-14639.369 total time=   0.0s\n",
      "[CV 4/5] END max_depth=1, min_samples_leaf=2, min_samples_split=3, splitter=best;, score=-30117.914 total time=   0.0s\n",
      "[CV 5/5] END max_depth=1, min_samples_leaf=2, min_samples_split=3, splitter=best;, score=-34534.676 total time=   0.0s\n",
      "[CV 1/5] END max_depth=1, min_samples_leaf=2, min_samples_split=3, splitter=random;, score=-13508.271 total time=   0.0s\n",
      "[CV 2/5] END max_depth=1, min_samples_leaf=2, min_samples_split=3, splitter=random;, score=-17432.190 total time=   0.0s\n",
      "[CV 3/5] END max_depth=1, min_samples_leaf=2, min_samples_split=3, splitter=random;, score=-19463.514 total time=   0.0s\n",
      "[CV 4/5] END max_depth=1, min_samples_leaf=2, min_samples_split=3, splitter=random;, score=-29501.996 total time=   0.0s\n",
      "[CV 5/5] END max_depth=1, min_samples_leaf=2, min_samples_split=3, splitter=random;, score=-38260.953 total time=   0.0s\n",
      "[CV 1/5] END max_depth=1, min_samples_leaf=2, min_samples_split=4, splitter=best;, score=-10523.655 total time=   0.0s\n",
      "[CV 2/5] END max_depth=1, min_samples_leaf=2, min_samples_split=4, splitter=best;, score=-15305.298 total time=   0.0s\n",
      "[CV 3/5] END max_depth=1, min_samples_leaf=2, min_samples_split=4, splitter=best;, score=-14639.369 total time=   0.0s\n",
      "[CV 4/5] END max_depth=1, min_samples_leaf=2, min_samples_split=4, splitter=best;, score=-30117.914 total time=   0.0s\n",
      "[CV 5/5] END max_depth=1, min_samples_leaf=2, min_samples_split=4, splitter=best;, score=-34534.676 total time=   0.0s\n",
      "[CV 1/5] END max_depth=1, min_samples_leaf=2, min_samples_split=4, splitter=random;, score=-20910.219 total time=   0.0s\n",
      "[CV 2/5] END max_depth=1, min_samples_leaf=2, min_samples_split=4, splitter=random;, score=-18556.500 total time=   0.0s\n",
      "[CV 3/5] END max_depth=1, min_samples_leaf=2, min_samples_split=4, splitter=random;, score=-18393.164 total time=   0.0s\n",
      "[CV 4/5] END max_depth=1, min_samples_leaf=2, min_samples_split=4, splitter=random;, score=-47201.094 total time=   0.0s\n",
      "[CV 5/5] END max_depth=1, min_samples_leaf=2, min_samples_split=4, splitter=random;, score=-51334.674 total time=   0.0s\n",
      "[CV 1/5] END max_depth=1, min_samples_leaf=3, min_samples_split=2, splitter=best;, score=-10523.655 total time=   0.0s\n",
      "[CV 2/5] END max_depth=1, min_samples_leaf=3, min_samples_split=2, splitter=best;, score=-15305.298 total time=   0.0s\n",
      "[CV 3/5] END max_depth=1, min_samples_leaf=3, min_samples_split=2, splitter=best;, score=-14639.369 total time=   0.0s\n",
      "[CV 4/5] END max_depth=1, min_samples_leaf=3, min_samples_split=2, splitter=best;, score=-30117.914 total time=   0.0s\n",
      "[CV 5/5] END max_depth=1, min_samples_leaf=3, min_samples_split=2, splitter=best;, score=-34534.676 total time=   0.0s\n",
      "[CV 1/5] END max_depth=1, min_samples_leaf=3, min_samples_split=2, splitter=random;, score=-21365.116 total time=   0.0s\n",
      "[CV 2/5] END max_depth=1, min_samples_leaf=3, min_samples_split=2, splitter=random;, score=-15552.615 total time=   0.0s\n",
      "[CV 3/5] END max_depth=1, min_samples_leaf=3, min_samples_split=2, splitter=random;, score=-18809.821 total time=   0.0s\n",
      "[CV 4/5] END max_depth=1, min_samples_leaf=3, min_samples_split=2, splitter=random;, score=-45576.548 total time=   0.0s\n",
      "[CV 5/5] END max_depth=1, min_samples_leaf=3, min_samples_split=2, splitter=random;, score=-44946.182 total time=   0.0s\n",
      "[CV 1/5] END max_depth=1, min_samples_leaf=3, min_samples_split=3, splitter=best;, score=-10523.655 total time=   0.0s\n",
      "[CV 2/5] END max_depth=1, min_samples_leaf=3, min_samples_split=3, splitter=best;, score=-15305.298 total time=   0.0s\n",
      "[CV 3/5] END max_depth=1, min_samples_leaf=3, min_samples_split=3, splitter=best;, score=-14639.369 total time=   0.0s\n",
      "[CV 4/5] END max_depth=1, min_samples_leaf=3, min_samples_split=3, splitter=best;, score=-30117.914 total time=   0.0s\n",
      "[CV 5/5] END max_depth=1, min_samples_leaf=3, min_samples_split=3, splitter=best;, score=-34534.676 total time=   0.0s\n",
      "[CV 1/5] END max_depth=1, min_samples_leaf=3, min_samples_split=3, splitter=random;, score=-22948.167 total time=   0.0s\n",
      "[CV 2/5] END max_depth=1, min_samples_leaf=3, min_samples_split=3, splitter=random;, score=-16836.607 total time=   0.0s\n",
      "[CV 3/5] END max_depth=1, min_samples_leaf=3, min_samples_split=3, splitter=random;, score=-17176.944 total time=   0.0s\n",
      "[CV 4/5] END max_depth=1, min_samples_leaf=3, min_samples_split=3, splitter=random;, score=-47714.610 total time=   0.0s\n",
      "[CV 5/5] END max_depth=1, min_samples_leaf=3, min_samples_split=3, splitter=random;, score=-48562.758 total time=   0.0s\n",
      "[CV 1/5] END max_depth=1, min_samples_leaf=3, min_samples_split=4, splitter=best;, score=-10523.655 total time=   0.0s\n",
      "[CV 2/5] END max_depth=1, min_samples_leaf=3, min_samples_split=4, splitter=best;, score=-15305.298 total time=   0.0s\n",
      "[CV 3/5] END max_depth=1, min_samples_leaf=3, min_samples_split=4, splitter=best;, score=-14639.369 total time=   0.0s\n",
      "[CV 4/5] END max_depth=1, min_samples_leaf=3, min_samples_split=4, splitter=best;, score=-30117.914 total time=   0.0s\n",
      "[CV 5/5] END max_depth=1, min_samples_leaf=3, min_samples_split=4, splitter=best;, score=-34534.676 total time=   0.0s\n",
      "[CV 1/5] END max_depth=1, min_samples_leaf=3, min_samples_split=4, splitter=random;, score=-10695.495 total time=   0.0s\n",
      "[CV 2/5] END max_depth=1, min_samples_leaf=3, min_samples_split=4, splitter=random;, score=-27326.393 total time=   0.0s\n",
      "[CV 3/5] END max_depth=1, min_samples_leaf=3, min_samples_split=4, splitter=random;, score=-18053.171 total time=   0.0s\n",
      "[CV 4/5] END max_depth=1, min_samples_leaf=3, min_samples_split=4, splitter=random;, score=-44686.267 total time=   0.0s\n",
      "[CV 5/5] END max_depth=1, min_samples_leaf=3, min_samples_split=4, splitter=random;, score=-43186.387 total time=   0.0s\n",
      "[CV 1/5] END max_depth=1, min_samples_leaf=4, min_samples_split=2, splitter=best;, score=-10523.655 total time=   0.0s\n",
      "[CV 2/5] END max_depth=1, min_samples_leaf=4, min_samples_split=2, splitter=best;, score=-15305.298 total time=   0.0s\n",
      "[CV 3/5] END max_depth=1, min_samples_leaf=4, min_samples_split=2, splitter=best;, score=-14639.369 total time=   0.0s\n",
      "[CV 4/5] END max_depth=1, min_samples_leaf=4, min_samples_split=2, splitter=best;, score=-30117.914 total time=   0.0s\n",
      "[CV 5/5] END max_depth=1, min_samples_leaf=4, min_samples_split=2, splitter=best;, score=-34534.676 total time=   0.0s\n",
      "[CV 1/5] END max_depth=1, min_samples_leaf=4, min_samples_split=2, splitter=random;, score=-12852.776 total time=   0.0s\n",
      "[CV 2/5] END max_depth=1, min_samples_leaf=4, min_samples_split=2, splitter=random;, score=-27006.361 total time=   0.0s\n",
      "[CV 3/5] END max_depth=1, min_samples_leaf=4, min_samples_split=2, splitter=random;, score=-18314.610 total time=   0.0s\n",
      "[CV 4/5] END max_depth=1, min_samples_leaf=4, min_samples_split=2, splitter=random;, score=-47234.824 total time=   0.0s\n",
      "[CV 5/5] END max_depth=1, min_samples_leaf=4, min_samples_split=2, splitter=random;, score=-46235.176 total time=   0.0s\n",
      "[CV 1/5] END max_depth=1, min_samples_leaf=4, min_samples_split=3, splitter=best;, score=-10523.655 total time=   0.0s\n"
     ]
    },
    {
     "name": "stdout",
     "output_type": "stream",
     "text": [
      "[CV 2/5] END max_depth=1, min_samples_leaf=4, min_samples_split=3, splitter=best;, score=-15305.298 total time=   0.0s\n",
      "[CV 3/5] END max_depth=1, min_samples_leaf=4, min_samples_split=3, splitter=best;, score=-14639.369 total time=   0.0s\n",
      "[CV 4/5] END max_depth=1, min_samples_leaf=4, min_samples_split=3, splitter=best;, score=-30117.914 total time=   0.0s\n",
      "[CV 5/5] END max_depth=1, min_samples_leaf=4, min_samples_split=3, splitter=best;, score=-34534.676 total time=   0.0s\n",
      "[CV 1/5] END max_depth=1, min_samples_leaf=4, min_samples_split=3, splitter=random;, score=-11377.318 total time=   0.0s\n",
      "[CV 2/5] END max_depth=1, min_samples_leaf=4, min_samples_split=3, splitter=random;, score=-25310.442 total time=   0.0s\n",
      "[CV 3/5] END max_depth=1, min_samples_leaf=4, min_samples_split=3, splitter=random;, score=-17130.568 total time=   0.0s\n",
      "[CV 4/5] END max_depth=1, min_samples_leaf=4, min_samples_split=3, splitter=random;, score=-59988.176 total time=   0.0s\n",
      "[CV 5/5] END max_depth=1, min_samples_leaf=4, min_samples_split=3, splitter=random;, score=-47544.243 total time=   0.0s\n",
      "[CV 1/5] END max_depth=1, min_samples_leaf=4, min_samples_split=4, splitter=best;, score=-10523.655 total time=   0.0s\n",
      "[CV 2/5] END max_depth=1, min_samples_leaf=4, min_samples_split=4, splitter=best;, score=-15305.298 total time=   0.0s\n",
      "[CV 3/5] END max_depth=1, min_samples_leaf=4, min_samples_split=4, splitter=best;, score=-14639.369 total time=   0.0s\n",
      "[CV 4/5] END max_depth=1, min_samples_leaf=4, min_samples_split=4, splitter=best;, score=-30117.914 total time=   0.0s\n",
      "[CV 5/5] END max_depth=1, min_samples_leaf=4, min_samples_split=4, splitter=best;, score=-34534.676 total time=   0.0s\n",
      "[CV 1/5] END max_depth=1, min_samples_leaf=4, min_samples_split=4, splitter=random;, score=-23140.491 total time=   0.0s\n",
      "[CV 2/5] END max_depth=1, min_samples_leaf=4, min_samples_split=4, splitter=random;, score=-16396.987 total time=   0.0s\n",
      "[CV 3/5] END max_depth=1, min_samples_leaf=4, min_samples_split=4, splitter=random;, score=-18815.467 total time=   0.0s\n",
      "[CV 4/5] END max_depth=1, min_samples_leaf=4, min_samples_split=4, splitter=random;, score=-30553.643 total time=   0.0s\n",
      "[CV 5/5] END max_depth=1, min_samples_leaf=4, min_samples_split=4, splitter=random;, score=-50991.320 total time=   0.0s\n",
      "[CV 1/5] END max_depth=1, min_samples_leaf=6, min_samples_split=2, splitter=best;, score=-10523.655 total time=   0.0s\n",
      "[CV 2/5] END max_depth=1, min_samples_leaf=6, min_samples_split=2, splitter=best;, score=-15305.298 total time=   0.0s\n",
      "[CV 3/5] END max_depth=1, min_samples_leaf=6, min_samples_split=2, splitter=best;, score=-14639.369 total time=   0.0s\n",
      "[CV 4/5] END max_depth=1, min_samples_leaf=6, min_samples_split=2, splitter=best;, score=-30117.914 total time=   0.0s\n",
      "[CV 5/5] END max_depth=1, min_samples_leaf=6, min_samples_split=2, splitter=best;, score=-34534.676 total time=   0.0s\n",
      "[CV 1/5] END max_depth=1, min_samples_leaf=6, min_samples_split=2, splitter=random;, score=-14252.144 total time=   0.0s\n",
      "[CV 2/5] END max_depth=1, min_samples_leaf=6, min_samples_split=2, splitter=random;, score=-14781.424 total time=   0.0s\n",
      "[CV 3/5] END max_depth=1, min_samples_leaf=6, min_samples_split=2, splitter=random;, score=-18815.467 total time=   0.0s\n",
      "[CV 4/5] END max_depth=1, min_samples_leaf=6, min_samples_split=2, splitter=random;, score=-46390.948 total time=   0.0s\n",
      "[CV 5/5] END max_depth=1, min_samples_leaf=6, min_samples_split=2, splitter=random;, score=-37497.131 total time=   0.0s\n",
      "[CV 1/5] END max_depth=1, min_samples_leaf=6, min_samples_split=3, splitter=best;, score=-10523.655 total time=   0.0s\n",
      "[CV 2/5] END max_depth=1, min_samples_leaf=6, min_samples_split=3, splitter=best;, score=-15305.298 total time=   0.0s\n",
      "[CV 3/5] END max_depth=1, min_samples_leaf=6, min_samples_split=3, splitter=best;, score=-14639.369 total time=   0.0s\n",
      "[CV 4/5] END max_depth=1, min_samples_leaf=6, min_samples_split=3, splitter=best;, score=-30117.914 total time=   0.0s\n",
      "[CV 5/5] END max_depth=1, min_samples_leaf=6, min_samples_split=3, splitter=best;, score=-34534.676 total time=   0.0s\n",
      "[CV 1/5] END max_depth=1, min_samples_leaf=6, min_samples_split=3, splitter=random;, score=-24452.622 total time=   0.0s\n",
      "[CV 2/5] END max_depth=1, min_samples_leaf=6, min_samples_split=3, splitter=random;, score=-13965.982 total time=   0.0s\n",
      "[CV 3/5] END max_depth=1, min_samples_leaf=6, min_samples_split=3, splitter=random;, score=-25348.458 total time=   0.0s\n",
      "[CV 4/5] END max_depth=1, min_samples_leaf=6, min_samples_split=3, splitter=random;, score=-44686.267 total time=   0.0s\n",
      "[CV 5/5] END max_depth=1, min_samples_leaf=6, min_samples_split=3, splitter=random;, score=-40650.047 total time=   0.0s\n",
      "[CV 1/5] END max_depth=1, min_samples_leaf=6, min_samples_split=4, splitter=best;, score=-10523.655 total time=   0.0s\n",
      "[CV 2/5] END max_depth=1, min_samples_leaf=6, min_samples_split=4, splitter=best;, score=-15305.298 total time=   0.0s\n",
      "[CV 3/5] END max_depth=1, min_samples_leaf=6, min_samples_split=4, splitter=best;, score=-14639.369 total time=   0.0s\n",
      "[CV 4/5] END max_depth=1, min_samples_leaf=6, min_samples_split=4, splitter=best;, score=-30117.914 total time=   0.0s\n",
      "[CV 5/5] END max_depth=1, min_samples_leaf=6, min_samples_split=4, splitter=best;, score=-34534.676 total time=   0.0s\n",
      "[CV 1/5] END max_depth=1, min_samples_leaf=6, min_samples_split=4, splitter=random;, score=-10535.822 total time=   0.0s\n",
      "[CV 2/5] END max_depth=1, min_samples_leaf=6, min_samples_split=4, splitter=random;, score=-20282.133 total time=   0.0s\n",
      "[CV 3/5] END max_depth=1, min_samples_leaf=6, min_samples_split=4, splitter=random;, score=-15737.150 total time=   0.0s\n",
      "[CV 4/5] END max_depth=1, min_samples_leaf=6, min_samples_split=4, splitter=random;, score=-51581.787 total time=   0.0s\n",
      "[CV 5/5] END max_depth=1, min_samples_leaf=6, min_samples_split=4, splitter=random;, score=-38752.094 total time=   0.0s\n",
      "[CV 1/5] END max_depth=1, min_samples_leaf=10, min_samples_split=2, splitter=best;, score=-10523.655 total time=   0.0s\n",
      "[CV 2/5] END max_depth=1, min_samples_leaf=10, min_samples_split=2, splitter=best;, score=-15305.298 total time=   0.0s\n",
      "[CV 3/5] END max_depth=1, min_samples_leaf=10, min_samples_split=2, splitter=best;, score=-14639.369 total time=   0.0s\n",
      "[CV 4/5] END max_depth=1, min_samples_leaf=10, min_samples_split=2, splitter=best;, score=-30117.914 total time=   0.0s\n",
      "[CV 5/5] END max_depth=1, min_samples_leaf=10, min_samples_split=2, splitter=best;, score=-34534.676 total time=   0.0s\n",
      "[CV 1/5] END max_depth=1, min_samples_leaf=10, min_samples_split=2, splitter=random;, score=-19579.843 total time=   0.0s\n",
      "[CV 2/5] END max_depth=1, min_samples_leaf=10, min_samples_split=2, splitter=random;, score=-26916.131 total time=   0.0s\n",
      "[CV 3/5] END max_depth=1, min_samples_leaf=10, min_samples_split=2, splitter=random;, score=-17345.756 total time=   0.0s\n",
      "[CV 4/5] END max_depth=1, min_samples_leaf=10, min_samples_split=2, splitter=random;, score=-59988.176 total time=   0.0s\n",
      "[CV 5/5] END max_depth=1, min_samples_leaf=10, min_samples_split=2, splitter=random;, score=-40503.707 total time=   0.0s\n",
      "[CV 1/5] END max_depth=1, min_samples_leaf=10, min_samples_split=3, splitter=best;, score=-10523.655 total time=   0.0s\n",
      "[CV 2/5] END max_depth=1, min_samples_leaf=10, min_samples_split=3, splitter=best;, score=-15305.298 total time=   0.0s\n",
      "[CV 3/5] END max_depth=1, min_samples_leaf=10, min_samples_split=3, splitter=best;, score=-14639.369 total time=   0.0s\n",
      "[CV 4/5] END max_depth=1, min_samples_leaf=10, min_samples_split=3, splitter=best;, score=-30117.914 total time=   0.0s\n",
      "[CV 5/5] END max_depth=1, min_samples_leaf=10, min_samples_split=3, splitter=best;, score=-34534.676 total time=   0.0s\n",
      "[CV 1/5] END max_depth=1, min_samples_leaf=10, min_samples_split=3, splitter=random;, score=-14465.108 total time=   0.0s\n",
      "[CV 2/5] END max_depth=1, min_samples_leaf=10, min_samples_split=3, splitter=random;, score=-23942.566 total time=   0.0s\n",
      "[CV 3/5] END max_depth=1, min_samples_leaf=10, min_samples_split=3, splitter=random;, score=-19305.327 total time=   0.0s\n",
      "[CV 4/5] END max_depth=1, min_samples_leaf=10, min_samples_split=3, splitter=random;, score=-46060.088 total time=   0.0s\n",
      "[CV 5/5] END max_depth=1, min_samples_leaf=10, min_samples_split=3, splitter=random;, score=-36387.335 total time=   0.0s\n",
      "[CV 1/5] END max_depth=1, min_samples_leaf=10, min_samples_split=4, splitter=best;, score=-10523.655 total time=   0.0s\n"
     ]
    },
    {
     "name": "stdout",
     "output_type": "stream",
     "text": [
      "[CV 2/5] END max_depth=1, min_samples_leaf=10, min_samples_split=4, splitter=best;, score=-15305.298 total time=   0.0s\n",
      "[CV 3/5] END max_depth=1, min_samples_leaf=10, min_samples_split=4, splitter=best;, score=-14639.369 total time=   0.0s\n",
      "[CV 4/5] END max_depth=1, min_samples_leaf=10, min_samples_split=4, splitter=best;, score=-30117.914 total time=   0.0s\n",
      "[CV 5/5] END max_depth=1, min_samples_leaf=10, min_samples_split=4, splitter=best;, score=-34534.676 total time=   0.0s\n",
      "[CV 1/5] END max_depth=1, min_samples_leaf=10, min_samples_split=4, splitter=random;, score=-11083.537 total time=   0.0s\n",
      "[CV 2/5] END max_depth=1, min_samples_leaf=10, min_samples_split=4, splitter=random;, score=-15634.955 total time=   0.0s\n",
      "[CV 3/5] END max_depth=1, min_samples_leaf=10, min_samples_split=4, splitter=random;, score=-14269.280 total time=   0.0s\n",
      "[CV 4/5] END max_depth=1, min_samples_leaf=10, min_samples_split=4, splitter=random;, score=-46598.620 total time=   0.0s\n",
      "[CV 5/5] END max_depth=1, min_samples_leaf=10, min_samples_split=4, splitter=random;, score=-44038.694 total time=   0.0s\n",
      "[CV 1/5] END max_depth=3, min_samples_leaf=2, min_samples_split=2, splitter=best;, score=-8796.575 total time=   0.0s\n",
      "[CV 2/5] END max_depth=3, min_samples_leaf=2, min_samples_split=2, splitter=best;, score=-11672.458 total time=   0.0s\n",
      "[CV 3/5] END max_depth=3, min_samples_leaf=2, min_samples_split=2, splitter=best;, score=-9442.776 total time=   0.0s\n",
      "[CV 4/5] END max_depth=3, min_samples_leaf=2, min_samples_split=2, splitter=best;, score=-20357.967 total time=   0.0s\n",
      "[CV 5/5] END max_depth=3, min_samples_leaf=2, min_samples_split=2, splitter=best;, score=-23550.133 total time=   0.0s\n",
      "[CV 1/5] END max_depth=3, min_samples_leaf=2, min_samples_split=2, splitter=random;, score=-9318.592 total time=   0.0s\n",
      "[CV 2/5] END max_depth=3, min_samples_leaf=2, min_samples_split=2, splitter=random;, score=-19861.633 total time=   0.0s\n",
      "[CV 3/5] END max_depth=3, min_samples_leaf=2, min_samples_split=2, splitter=random;, score=-19922.566 total time=   0.0s\n",
      "[CV 4/5] END max_depth=3, min_samples_leaf=2, min_samples_split=2, splitter=random;, score=-24580.819 total time=   0.0s\n",
      "[CV 5/5] END max_depth=3, min_samples_leaf=2, min_samples_split=2, splitter=random;, score=-28412.017 total time=   0.0s\n",
      "[CV 1/5] END max_depth=3, min_samples_leaf=2, min_samples_split=3, splitter=best;, score=-8796.575 total time=   0.0s\n",
      "[CV 2/5] END max_depth=3, min_samples_leaf=2, min_samples_split=3, splitter=best;, score=-11672.458 total time=   0.0s\n",
      "[CV 3/5] END max_depth=3, min_samples_leaf=2, min_samples_split=3, splitter=best;, score=-9442.776 total time=   0.0s\n",
      "[CV 4/5] END max_depth=3, min_samples_leaf=2, min_samples_split=3, splitter=best;, score=-20357.967 total time=   0.0s\n",
      "[CV 5/5] END max_depth=3, min_samples_leaf=2, min_samples_split=3, splitter=best;, score=-23550.133 total time=   0.0s\n",
      "[CV 1/5] END max_depth=3, min_samples_leaf=2, min_samples_split=3, splitter=random;, score=-12715.010 total time=   0.0s\n",
      "[CV 2/5] END max_depth=3, min_samples_leaf=2, min_samples_split=3, splitter=random;, score=-15463.152 total time=   0.0s\n",
      "[CV 3/5] END max_depth=3, min_samples_leaf=2, min_samples_split=3, splitter=random;, score=-12466.506 total time=   0.0s\n",
      "[CV 4/5] END max_depth=3, min_samples_leaf=2, min_samples_split=3, splitter=random;, score=-21950.651 total time=   0.0s\n",
      "[CV 5/5] END max_depth=3, min_samples_leaf=2, min_samples_split=3, splitter=random;, score=-27110.483 total time=   0.0s\n",
      "[CV 1/5] END max_depth=3, min_samples_leaf=2, min_samples_split=4, splitter=best;, score=-8796.575 total time=   0.0s\n",
      "[CV 2/5] END max_depth=3, min_samples_leaf=2, min_samples_split=4, splitter=best;, score=-11672.458 total time=   0.0s\n",
      "[CV 3/5] END max_depth=3, min_samples_leaf=2, min_samples_split=4, splitter=best;, score=-9442.776 total time=   0.0s\n",
      "[CV 4/5] END max_depth=3, min_samples_leaf=2, min_samples_split=4, splitter=best;, score=-20357.967 total time=   0.0s\n",
      "[CV 5/5] END max_depth=3, min_samples_leaf=2, min_samples_split=4, splitter=best;, score=-23550.133 total time=   0.0s\n",
      "[CV 1/5] END max_depth=3, min_samples_leaf=2, min_samples_split=4, splitter=random;, score=-13133.863 total time=   0.0s\n",
      "[CV 2/5] END max_depth=3, min_samples_leaf=2, min_samples_split=4, splitter=random;, score=-14658.569 total time=   0.0s\n",
      "[CV 3/5] END max_depth=3, min_samples_leaf=2, min_samples_split=4, splitter=random;, score=-15975.595 total time=   0.0s\n",
      "[CV 4/5] END max_depth=3, min_samples_leaf=2, min_samples_split=4, splitter=random;, score=-28380.623 total time=   0.0s\n",
      "[CV 5/5] END max_depth=3, min_samples_leaf=2, min_samples_split=4, splitter=random;, score=-26177.746 total time=   0.0s\n",
      "[CV 1/5] END max_depth=3, min_samples_leaf=3, min_samples_split=2, splitter=best;, score=-8796.575 total time=   0.0s\n",
      "[CV 2/5] END max_depth=3, min_samples_leaf=3, min_samples_split=2, splitter=best;, score=-11672.458 total time=   0.0s\n",
      "[CV 3/5] END max_depth=3, min_samples_leaf=3, min_samples_split=2, splitter=best;, score=-9442.776 total time=   0.0s\n",
      "[CV 4/5] END max_depth=3, min_samples_leaf=3, min_samples_split=2, splitter=best;, score=-20357.967 total time=   0.1s\n",
      "[CV 5/5] END max_depth=3, min_samples_leaf=3, min_samples_split=2, splitter=best;, score=-23550.133 total time=   0.0s\n",
      "[CV 1/5] END max_depth=3, min_samples_leaf=3, min_samples_split=2, splitter=random;, score=-18336.007 total time=   0.0s\n",
      "[CV 2/5] END max_depth=3, min_samples_leaf=3, min_samples_split=2, splitter=random;, score=-19808.928 total time=   0.0s\n",
      "[CV 3/5] END max_depth=3, min_samples_leaf=3, min_samples_split=2, splitter=random;, score=-14969.270 total time=   0.0s\n",
      "[CV 4/5] END max_depth=3, min_samples_leaf=3, min_samples_split=2, splitter=random;, score=-24424.132 total time=   0.0s\n",
      "[CV 5/5] END max_depth=3, min_samples_leaf=3, min_samples_split=2, splitter=random;, score=-31183.458 total time=   0.0s\n",
      "[CV 1/5] END max_depth=3, min_samples_leaf=3, min_samples_split=3, splitter=best;, score=-8796.575 total time=   0.0s\n",
      "[CV 2/5] END max_depth=3, min_samples_leaf=3, min_samples_split=3, splitter=best;, score=-11672.458 total time=   0.0s\n",
      "[CV 3/5] END max_depth=3, min_samples_leaf=3, min_samples_split=3, splitter=best;, score=-9442.776 total time=   0.0s\n",
      "[CV 4/5] END max_depth=3, min_samples_leaf=3, min_samples_split=3, splitter=best;, score=-20357.967 total time=   0.0s\n",
      "[CV 5/5] END max_depth=3, min_samples_leaf=3, min_samples_split=3, splitter=best;, score=-23550.133 total time=   0.0s\n",
      "[CV 1/5] END max_depth=3, min_samples_leaf=3, min_samples_split=3, splitter=random;, score=-9252.295 total time=   0.0s\n",
      "[CV 2/5] END max_depth=3, min_samples_leaf=3, min_samples_split=3, splitter=random;, score=-19084.000 total time=   0.0s\n",
      "[CV 3/5] END max_depth=3, min_samples_leaf=3, min_samples_split=3, splitter=random;, score=-19021.660 total time=   0.0s\n",
      "[CV 4/5] END max_depth=3, min_samples_leaf=3, min_samples_split=3, splitter=random;, score=-22358.202 total time=   0.0s\n",
      "[CV 5/5] END max_depth=3, min_samples_leaf=3, min_samples_split=3, splitter=random;, score=-25272.828 total time=   0.0s\n",
      "[CV 1/5] END max_depth=3, min_samples_leaf=3, min_samples_split=4, splitter=best;, score=-8796.575 total time=   0.0s\n",
      "[CV 2/5] END max_depth=3, min_samples_leaf=3, min_samples_split=4, splitter=best;, score=-11672.458 total time=   0.0s\n",
      "[CV 3/5] END max_depth=3, min_samples_leaf=3, min_samples_split=4, splitter=best;, score=-9442.776 total time=   0.0s\n",
      "[CV 4/5] END max_depth=3, min_samples_leaf=3, min_samples_split=4, splitter=best;, score=-20357.967 total time=   0.0s\n",
      "[CV 5/5] END max_depth=3, min_samples_leaf=3, min_samples_split=4, splitter=best;, score=-23550.133 total time=   0.0s\n",
      "[CV 1/5] END max_depth=3, min_samples_leaf=3, min_samples_split=4, splitter=random;, score=-19349.927 total time=   0.0s\n",
      "[CV 2/5] END max_depth=3, min_samples_leaf=3, min_samples_split=4, splitter=random;, score=-11841.089 total time=   0.0s\n",
      "[CV 3/5] END max_depth=3, min_samples_leaf=3, min_samples_split=4, splitter=random;, score=-15707.280 total time=   0.0s\n",
      "[CV 4/5] END max_depth=3, min_samples_leaf=3, min_samples_split=4, splitter=random;, score=-22311.666 total time=   0.0s\n",
      "[CV 5/5] END max_depth=3, min_samples_leaf=3, min_samples_split=4, splitter=random;, score=-25628.152 total time=   0.0s\n",
      "[CV 1/5] END max_depth=3, min_samples_leaf=4, min_samples_split=2, splitter=best;, score=-8796.575 total time=   0.0s\n"
     ]
    },
    {
     "name": "stdout",
     "output_type": "stream",
     "text": [
      "[CV 2/5] END max_depth=3, min_samples_leaf=4, min_samples_split=2, splitter=best;, score=-11672.458 total time=   0.0s\n",
      "[CV 3/5] END max_depth=3, min_samples_leaf=4, min_samples_split=2, splitter=best;, score=-9442.776 total time=   0.0s\n",
      "[CV 4/5] END max_depth=3, min_samples_leaf=4, min_samples_split=2, splitter=best;, score=-20357.967 total time=   0.0s\n",
      "[CV 5/5] END max_depth=3, min_samples_leaf=4, min_samples_split=2, splitter=best;, score=-23550.133 total time=   0.0s\n",
      "[CV 1/5] END max_depth=3, min_samples_leaf=4, min_samples_split=2, splitter=random;, score=-16987.502 total time=   0.0s\n",
      "[CV 2/5] END max_depth=3, min_samples_leaf=4, min_samples_split=2, splitter=random;, score=-16525.896 total time=   0.0s\n",
      "[CV 3/5] END max_depth=3, min_samples_leaf=4, min_samples_split=2, splitter=random;, score=-14911.595 total time=   0.0s\n",
      "[CV 4/5] END max_depth=3, min_samples_leaf=4, min_samples_split=2, splitter=random;, score=-33763.716 total time=   0.0s\n",
      "[CV 5/5] END max_depth=3, min_samples_leaf=4, min_samples_split=2, splitter=random;, score=-28843.164 total time=   0.0s\n",
      "[CV 1/5] END max_depth=3, min_samples_leaf=4, min_samples_split=3, splitter=best;, score=-8796.575 total time=   0.0s\n",
      "[CV 2/5] END max_depth=3, min_samples_leaf=4, min_samples_split=3, splitter=best;, score=-11672.458 total time=   0.0s\n",
      "[CV 3/5] END max_depth=3, min_samples_leaf=4, min_samples_split=3, splitter=best;, score=-9442.776 total time=   0.0s\n",
      "[CV 4/5] END max_depth=3, min_samples_leaf=4, min_samples_split=3, splitter=best;, score=-20357.967 total time=   0.0s\n",
      "[CV 5/5] END max_depth=3, min_samples_leaf=4, min_samples_split=3, splitter=best;, score=-23550.133 total time=   0.0s\n",
      "[CV 1/5] END max_depth=3, min_samples_leaf=4, min_samples_split=3, splitter=random;, score=-16907.809 total time=   0.0s\n",
      "[CV 2/5] END max_depth=3, min_samples_leaf=4, min_samples_split=3, splitter=random;, score=-20767.935 total time=   0.0s\n",
      "[CV 3/5] END max_depth=3, min_samples_leaf=4, min_samples_split=3, splitter=random;, score=-10396.341 total time=   0.0s\n",
      "[CV 4/5] END max_depth=3, min_samples_leaf=4, min_samples_split=3, splitter=random;, score=-20969.727 total time=   0.0s\n",
      "[CV 5/5] END max_depth=3, min_samples_leaf=4, min_samples_split=3, splitter=random;, score=-27307.023 total time=   0.0s\n",
      "[CV 1/5] END max_depth=3, min_samples_leaf=4, min_samples_split=4, splitter=best;, score=-8796.575 total time=   0.0s\n",
      "[CV 2/5] END max_depth=3, min_samples_leaf=4, min_samples_split=4, splitter=best;, score=-11672.458 total time=   0.0s\n",
      "[CV 3/5] END max_depth=3, min_samples_leaf=4, min_samples_split=4, splitter=best;, score=-9442.776 total time=   0.0s\n",
      "[CV 4/5] END max_depth=3, min_samples_leaf=4, min_samples_split=4, splitter=best;, score=-20357.967 total time=   0.0s\n",
      "[CV 5/5] END max_depth=3, min_samples_leaf=4, min_samples_split=4, splitter=best;, score=-23550.133 total time=   0.0s\n",
      "[CV 1/5] END max_depth=3, min_samples_leaf=4, min_samples_split=4, splitter=random;, score=-7058.397 total time=   0.0s\n",
      "[CV 2/5] END max_depth=3, min_samples_leaf=4, min_samples_split=4, splitter=random;, score=-17467.515 total time=   0.0s\n",
      "[CV 3/5] END max_depth=3, min_samples_leaf=4, min_samples_split=4, splitter=random;, score=-10742.062 total time=   0.0s\n",
      "[CV 4/5] END max_depth=3, min_samples_leaf=4, min_samples_split=4, splitter=random;, score=-24858.448 total time=   0.0s\n",
      "[CV 5/5] END max_depth=3, min_samples_leaf=4, min_samples_split=4, splitter=random;, score=-24148.891 total time=   0.0s\n",
      "[CV 1/5] END max_depth=3, min_samples_leaf=6, min_samples_split=2, splitter=best;, score=-8796.575 total time=   0.0s\n",
      "[CV 2/5] END max_depth=3, min_samples_leaf=6, min_samples_split=2, splitter=best;, score=-11672.458 total time=   0.0s\n",
      "[CV 3/5] END max_depth=3, min_samples_leaf=6, min_samples_split=2, splitter=best;, score=-9442.776 total time=   0.0s\n",
      "[CV 4/5] END max_depth=3, min_samples_leaf=6, min_samples_split=2, splitter=best;, score=-20357.967 total time=   0.0s\n",
      "[CV 5/5] END max_depth=3, min_samples_leaf=6, min_samples_split=2, splitter=best;, score=-23550.133 total time=   0.0s\n",
      "[CV 1/5] END max_depth=3, min_samples_leaf=6, min_samples_split=2, splitter=random;, score=-12476.177 total time=   0.0s\n",
      "[CV 2/5] END max_depth=3, min_samples_leaf=6, min_samples_split=2, splitter=random;, score=-12652.916 total time=   0.0s\n",
      "[CV 3/5] END max_depth=3, min_samples_leaf=6, min_samples_split=2, splitter=random;, score=-14057.207 total time=   0.0s\n",
      "[CV 4/5] END max_depth=3, min_samples_leaf=6, min_samples_split=2, splitter=random;, score=-31678.011 total time=   0.0s\n",
      "[CV 5/5] END max_depth=3, min_samples_leaf=6, min_samples_split=2, splitter=random;, score=-25633.740 total time=   0.0s\n",
      "[CV 1/5] END max_depth=3, min_samples_leaf=6, min_samples_split=3, splitter=best;, score=-8796.575 total time=   0.0s\n",
      "[CV 2/5] END max_depth=3, min_samples_leaf=6, min_samples_split=3, splitter=best;, score=-11672.458 total time=   0.0s\n",
      "[CV 3/5] END max_depth=3, min_samples_leaf=6, min_samples_split=3, splitter=best;, score=-9442.776 total time=   0.0s\n",
      "[CV 4/5] END max_depth=3, min_samples_leaf=6, min_samples_split=3, splitter=best;, score=-20357.967 total time=   0.0s\n",
      "[CV 5/5] END max_depth=3, min_samples_leaf=6, min_samples_split=3, splitter=best;, score=-23550.133 total time=   0.0s\n",
      "[CV 1/5] END max_depth=3, min_samples_leaf=6, min_samples_split=3, splitter=random;, score=-7266.907 total time=   0.0s\n",
      "[CV 2/5] END max_depth=3, min_samples_leaf=6, min_samples_split=3, splitter=random;, score=-12158.730 total time=   0.0s\n",
      "[CV 3/5] END max_depth=3, min_samples_leaf=6, min_samples_split=3, splitter=random;, score=-21708.501 total time=   0.0s\n",
      "[CV 4/5] END max_depth=3, min_samples_leaf=6, min_samples_split=3, splitter=random;, score=-26477.964 total time=   0.0s\n",
      "[CV 5/5] END max_depth=3, min_samples_leaf=6, min_samples_split=3, splitter=random;, score=-30475.922 total time=   0.0s\n",
      "[CV 1/5] END max_depth=3, min_samples_leaf=6, min_samples_split=4, splitter=best;, score=-8796.575 total time=   0.0s\n",
      "[CV 2/5] END max_depth=3, min_samples_leaf=6, min_samples_split=4, splitter=best;, score=-11672.458 total time=   0.0s\n",
      "[CV 3/5] END max_depth=3, min_samples_leaf=6, min_samples_split=4, splitter=best;, score=-9442.776 total time=   0.0s\n",
      "[CV 4/5] END max_depth=3, min_samples_leaf=6, min_samples_split=4, splitter=best;, score=-20357.967 total time=   0.0s\n",
      "[CV 5/5] END max_depth=3, min_samples_leaf=6, min_samples_split=4, splitter=best;, score=-23550.133 total time=   0.0s\n",
      "[CV 1/5] END max_depth=3, min_samples_leaf=6, min_samples_split=4, splitter=random;, score=-13370.531 total time=   0.0s\n",
      "[CV 2/5] END max_depth=3, min_samples_leaf=6, min_samples_split=4, splitter=random;, score=-15839.235 total time=   0.0s\n",
      "[CV 3/5] END max_depth=3, min_samples_leaf=6, min_samples_split=4, splitter=random;, score=-10590.092 total time=   0.0s\n",
      "[CV 4/5] END max_depth=3, min_samples_leaf=6, min_samples_split=4, splitter=random;, score=-27865.638 total time=   0.0s\n",
      "[CV 5/5] END max_depth=3, min_samples_leaf=6, min_samples_split=4, splitter=random;, score=-34259.455 total time=   0.0s\n",
      "[CV 1/5] END max_depth=3, min_samples_leaf=10, min_samples_split=2, splitter=best;, score=-8796.575 total time=   0.0s\n",
      "[CV 2/5] END max_depth=3, min_samples_leaf=10, min_samples_split=2, splitter=best;, score=-11672.458 total time=   0.0s\n",
      "[CV 3/5] END max_depth=3, min_samples_leaf=10, min_samples_split=2, splitter=best;, score=-9442.776 total time=   0.0s\n",
      "[CV 4/5] END max_depth=3, min_samples_leaf=10, min_samples_split=2, splitter=best;, score=-20357.967 total time=   0.0s\n",
      "[CV 5/5] END max_depth=3, min_samples_leaf=10, min_samples_split=2, splitter=best;, score=-23550.133 total time=   0.0s\n",
      "[CV 1/5] END max_depth=3, min_samples_leaf=10, min_samples_split=2, splitter=random;, score=-12755.819 total time=   0.0s\n",
      "[CV 2/5] END max_depth=3, min_samples_leaf=10, min_samples_split=2, splitter=random;, score=-10260.286 total time=   0.0s\n",
      "[CV 3/5] END max_depth=3, min_samples_leaf=10, min_samples_split=2, splitter=random;, score=-13439.222 total time=   0.0s\n",
      "[CV 4/5] END max_depth=3, min_samples_leaf=10, min_samples_split=2, splitter=random;, score=-27463.581 total time=   0.0s\n",
      "[CV 5/5] END max_depth=3, min_samples_leaf=10, min_samples_split=2, splitter=random;, score=-30348.130 total time=   0.0s\n",
      "[CV 1/5] END max_depth=3, min_samples_leaf=10, min_samples_split=3, splitter=best;, score=-8796.575 total time=   0.0s\n",
      "[CV 2/5] END max_depth=3, min_samples_leaf=10, min_samples_split=3, splitter=best;, score=-11672.458 total time=   0.0s\n"
     ]
    },
    {
     "name": "stdout",
     "output_type": "stream",
     "text": [
      "[CV 3/5] END max_depth=3, min_samples_leaf=10, min_samples_split=3, splitter=best;, score=-9442.776 total time=   0.0s\n",
      "[CV 4/5] END max_depth=3, min_samples_leaf=10, min_samples_split=3, splitter=best;, score=-20357.967 total time=   0.0s\n",
      "[CV 5/5] END max_depth=3, min_samples_leaf=10, min_samples_split=3, splitter=best;, score=-23550.133 total time=   0.0s\n",
      "[CV 1/5] END max_depth=3, min_samples_leaf=10, min_samples_split=3, splitter=random;, score=-11469.698 total time=   0.0s\n",
      "[CV 2/5] END max_depth=3, min_samples_leaf=10, min_samples_split=3, splitter=random;, score=-11541.826 total time=   0.0s\n",
      "[CV 3/5] END max_depth=3, min_samples_leaf=10, min_samples_split=3, splitter=random;, score=-14362.143 total time=   0.0s\n",
      "[CV 4/5] END max_depth=3, min_samples_leaf=10, min_samples_split=3, splitter=random;, score=-34996.051 total time=   0.0s\n",
      "[CV 5/5] END max_depth=3, min_samples_leaf=10, min_samples_split=3, splitter=random;, score=-28613.623 total time=   0.0s\n",
      "[CV 1/5] END max_depth=3, min_samples_leaf=10, min_samples_split=4, splitter=best;, score=-8796.575 total time=   0.0s\n",
      "[CV 2/5] END max_depth=3, min_samples_leaf=10, min_samples_split=4, splitter=best;, score=-11672.458 total time=   0.0s\n",
      "[CV 3/5] END max_depth=3, min_samples_leaf=10, min_samples_split=4, splitter=best;, score=-9442.776 total time=   0.0s\n",
      "[CV 4/5] END max_depth=3, min_samples_leaf=10, min_samples_split=4, splitter=best;, score=-20357.967 total time=   0.0s\n",
      "[CV 5/5] END max_depth=3, min_samples_leaf=10, min_samples_split=4, splitter=best;, score=-23550.133 total time=   0.0s\n",
      "[CV 1/5] END max_depth=3, min_samples_leaf=10, min_samples_split=4, splitter=random;, score=-9183.680 total time=   0.0s\n",
      "[CV 2/5] END max_depth=3, min_samples_leaf=10, min_samples_split=4, splitter=random;, score=-16547.511 total time=   0.0s\n",
      "[CV 3/5] END max_depth=3, min_samples_leaf=10, min_samples_split=4, splitter=random;, score=-11582.006 total time=   0.0s\n",
      "[CV 4/5] END max_depth=3, min_samples_leaf=10, min_samples_split=4, splitter=random;, score=-28906.038 total time=   0.0s\n",
      "[CV 5/5] END max_depth=3, min_samples_leaf=10, min_samples_split=4, splitter=random;, score=-24447.018 total time=   0.0s\n",
      "[CV 1/5] END max_depth=5, min_samples_leaf=2, min_samples_split=2, splitter=best;, score=-5956.647 total time=   0.0s\n",
      "[CV 2/5] END max_depth=5, min_samples_leaf=2, min_samples_split=2, splitter=best;, score=-7970.538 total time=   0.0s\n",
      "[CV 3/5] END max_depth=5, min_samples_leaf=2, min_samples_split=2, splitter=best;, score=-6621.016 total time=   0.0s\n",
      "[CV 4/5] END max_depth=5, min_samples_leaf=2, min_samples_split=2, splitter=best;, score=-10136.655 total time=   0.0s\n",
      "[CV 5/5] END max_depth=5, min_samples_leaf=2, min_samples_split=2, splitter=best;, score=-13040.212 total time=   0.0s\n",
      "[CV 1/5] END max_depth=5, min_samples_leaf=2, min_samples_split=2, splitter=random;, score=-10229.525 total time=   0.0s\n",
      "[CV 2/5] END max_depth=5, min_samples_leaf=2, min_samples_split=2, splitter=random;, score=-7501.925 total time=   0.0s\n",
      "[CV 3/5] END max_depth=5, min_samples_leaf=2, min_samples_split=2, splitter=random;, score=-9595.622 total time=   0.0s\n",
      "[CV 4/5] END max_depth=5, min_samples_leaf=2, min_samples_split=2, splitter=random;, score=-19986.899 total time=   0.0s\n",
      "[CV 5/5] END max_depth=5, min_samples_leaf=2, min_samples_split=2, splitter=random;, score=-21993.612 total time=   0.0s\n",
      "[CV 1/5] END max_depth=5, min_samples_leaf=2, min_samples_split=3, splitter=best;, score=-5956.647 total time=   0.0s\n",
      "[CV 2/5] END max_depth=5, min_samples_leaf=2, min_samples_split=3, splitter=best;, score=-7970.538 total time=   0.0s\n",
      "[CV 3/5] END max_depth=5, min_samples_leaf=2, min_samples_split=3, splitter=best;, score=-6621.016 total time=   0.0s\n",
      "[CV 4/5] END max_depth=5, min_samples_leaf=2, min_samples_split=3, splitter=best;, score=-10136.655 total time=   0.0s\n",
      "[CV 5/5] END max_depth=5, min_samples_leaf=2, min_samples_split=3, splitter=best;, score=-13040.212 total time=   0.0s\n",
      "[CV 1/5] END max_depth=5, min_samples_leaf=2, min_samples_split=3, splitter=random;, score=-7140.130 total time=   0.0s\n",
      "[CV 2/5] END max_depth=5, min_samples_leaf=2, min_samples_split=3, splitter=random;, score=-8226.965 total time=   0.0s\n",
      "[CV 3/5] END max_depth=5, min_samples_leaf=2, min_samples_split=3, splitter=random;, score=-12035.878 total time=   0.0s\n",
      "[CV 4/5] END max_depth=5, min_samples_leaf=2, min_samples_split=3, splitter=random;, score=-23862.047 total time=   0.0s\n",
      "[CV 5/5] END max_depth=5, min_samples_leaf=2, min_samples_split=3, splitter=random;, score=-22182.977 total time=   0.0s\n",
      "[CV 1/5] END max_depth=5, min_samples_leaf=2, min_samples_split=4, splitter=best;, score=-5956.647 total time=   0.0s\n",
      "[CV 2/5] END max_depth=5, min_samples_leaf=2, min_samples_split=4, splitter=best;, score=-7970.538 total time=   0.0s\n",
      "[CV 3/5] END max_depth=5, min_samples_leaf=2, min_samples_split=4, splitter=best;, score=-6621.016 total time=   0.0s\n",
      "[CV 4/5] END max_depth=5, min_samples_leaf=2, min_samples_split=4, splitter=best;, score=-10136.655 total time=   0.0s\n",
      "[CV 5/5] END max_depth=5, min_samples_leaf=2, min_samples_split=4, splitter=best;, score=-13040.212 total time=   0.0s\n",
      "[CV 1/5] END max_depth=5, min_samples_leaf=2, min_samples_split=4, splitter=random;, score=-6589.756 total time=   0.0s\n",
      "[CV 2/5] END max_depth=5, min_samples_leaf=2, min_samples_split=4, splitter=random;, score=-8261.437 total time=   0.0s\n",
      "[CV 3/5] END max_depth=5, min_samples_leaf=2, min_samples_split=4, splitter=random;, score=-10740.235 total time=   0.0s\n",
      "[CV 4/5] END max_depth=5, min_samples_leaf=2, min_samples_split=4, splitter=random;, score=-24884.342 total time=   0.0s\n",
      "[CV 5/5] END max_depth=5, min_samples_leaf=2, min_samples_split=4, splitter=random;, score=-20967.102 total time=   0.0s\n",
      "[CV 1/5] END max_depth=5, min_samples_leaf=3, min_samples_split=2, splitter=best;, score=-5956.647 total time=   0.0s\n",
      "[CV 2/5] END max_depth=5, min_samples_leaf=3, min_samples_split=2, splitter=best;, score=-7970.538 total time=   0.0s\n",
      "[CV 3/5] END max_depth=5, min_samples_leaf=3, min_samples_split=2, splitter=best;, score=-6621.016 total time=   0.0s\n",
      "[CV 4/5] END max_depth=5, min_samples_leaf=3, min_samples_split=2, splitter=best;, score=-10136.655 total time=   0.0s\n",
      "[CV 5/5] END max_depth=5, min_samples_leaf=3, min_samples_split=2, splitter=best;, score=-13040.212 total time=   0.0s\n",
      "[CV 1/5] END max_depth=5, min_samples_leaf=3, min_samples_split=2, splitter=random;, score=-7834.429 total time=   0.0s\n",
      "[CV 2/5] END max_depth=5, min_samples_leaf=3, min_samples_split=2, splitter=random;, score=-7134.291 total time=   0.0s\n",
      "[CV 3/5] END max_depth=5, min_samples_leaf=3, min_samples_split=2, splitter=random;, score=-8718.396 total time=   0.0s\n",
      "[CV 4/5] END max_depth=5, min_samples_leaf=3, min_samples_split=2, splitter=random;, score=-17366.834 total time=   0.0s\n",
      "[CV 5/5] END max_depth=5, min_samples_leaf=3, min_samples_split=2, splitter=random;, score=-24041.325 total time=   0.0s\n",
      "[CV 1/5] END max_depth=5, min_samples_leaf=3, min_samples_split=3, splitter=best;, score=-5956.647 total time=   0.0s\n",
      "[CV 2/5] END max_depth=5, min_samples_leaf=3, min_samples_split=3, splitter=best;, score=-7970.538 total time=   0.0s\n",
      "[CV 3/5] END max_depth=5, min_samples_leaf=3, min_samples_split=3, splitter=best;, score=-6621.016 total time=   0.0s\n",
      "[CV 4/5] END max_depth=5, min_samples_leaf=3, min_samples_split=3, splitter=best;, score=-10136.655 total time=   0.0s\n",
      "[CV 5/5] END max_depth=5, min_samples_leaf=3, min_samples_split=3, splitter=best;, score=-13040.212 total time=   0.0s\n",
      "[CV 1/5] END max_depth=5, min_samples_leaf=3, min_samples_split=3, splitter=random;, score=-5575.515 total time=   0.0s\n",
      "[CV 2/5] END max_depth=5, min_samples_leaf=3, min_samples_split=3, splitter=random;, score=-7548.593 total time=   0.0s\n",
      "[CV 3/5] END max_depth=5, min_samples_leaf=3, min_samples_split=3, splitter=random;, score=-18834.082 total time=   0.0s\n",
      "[CV 4/5] END max_depth=5, min_samples_leaf=3, min_samples_split=3, splitter=random;, score=-24732.263 total time=   0.0s\n",
      "[CV 5/5] END max_depth=5, min_samples_leaf=3, min_samples_split=3, splitter=random;, score=-19848.110 total time=   0.0s\n",
      "[CV 1/5] END max_depth=5, min_samples_leaf=3, min_samples_split=4, splitter=best;, score=-5956.647 total time=   0.0s\n",
      "[CV 2/5] END max_depth=5, min_samples_leaf=3, min_samples_split=4, splitter=best;, score=-7970.538 total time=   0.0s\n"
     ]
    },
    {
     "name": "stdout",
     "output_type": "stream",
     "text": [
      "[CV 3/5] END max_depth=5, min_samples_leaf=3, min_samples_split=4, splitter=best;, score=-6621.016 total time=   0.0s\n",
      "[CV 4/5] END max_depth=5, min_samples_leaf=3, min_samples_split=4, splitter=best;, score=-10136.655 total time=   0.0s\n",
      "[CV 5/5] END max_depth=5, min_samples_leaf=3, min_samples_split=4, splitter=best;, score=-13040.212 total time=   0.0s\n",
      "[CV 1/5] END max_depth=5, min_samples_leaf=3, min_samples_split=4, splitter=random;, score=-7077.223 total time=   0.0s\n",
      "[CV 2/5] END max_depth=5, min_samples_leaf=3, min_samples_split=4, splitter=random;, score=-9816.384 total time=   0.0s\n",
      "[CV 3/5] END max_depth=5, min_samples_leaf=3, min_samples_split=4, splitter=random;, score=-9296.768 total time=   0.0s\n",
      "[CV 4/5] END max_depth=5, min_samples_leaf=3, min_samples_split=4, splitter=random;, score=-18397.423 total time=   0.0s\n",
      "[CV 5/5] END max_depth=5, min_samples_leaf=3, min_samples_split=4, splitter=random;, score=-21244.674 total time=   0.0s\n",
      "[CV 1/5] END max_depth=5, min_samples_leaf=4, min_samples_split=2, splitter=best;, score=-5956.647 total time=   0.0s\n",
      "[CV 2/5] END max_depth=5, min_samples_leaf=4, min_samples_split=2, splitter=best;, score=-7970.538 total time=   0.0s\n",
      "[CV 3/5] END max_depth=5, min_samples_leaf=4, min_samples_split=2, splitter=best;, score=-6621.016 total time=   0.0s\n",
      "[CV 4/5] END max_depth=5, min_samples_leaf=4, min_samples_split=2, splitter=best;, score=-10136.655 total time=   0.0s\n",
      "[CV 5/5] END max_depth=5, min_samples_leaf=4, min_samples_split=2, splitter=best;, score=-13040.212 total time=   0.0s\n",
      "[CV 1/5] END max_depth=5, min_samples_leaf=4, min_samples_split=2, splitter=random;, score=-5352.380 total time=   0.0s\n",
      "[CV 2/5] END max_depth=5, min_samples_leaf=4, min_samples_split=2, splitter=random;, score=-8655.720 total time=   0.0s\n",
      "[CV 3/5] END max_depth=5, min_samples_leaf=4, min_samples_split=2, splitter=random;, score=-12741.732 total time=   0.0s\n",
      "[CV 4/5] END max_depth=5, min_samples_leaf=4, min_samples_split=2, splitter=random;, score=-25334.537 total time=   0.0s\n",
      "[CV 5/5] END max_depth=5, min_samples_leaf=4, min_samples_split=2, splitter=random;, score=-20047.959 total time=   0.0s\n",
      "[CV 1/5] END max_depth=5, min_samples_leaf=4, min_samples_split=3, splitter=best;, score=-5956.647 total time=   0.0s\n",
      "[CV 2/5] END max_depth=5, min_samples_leaf=4, min_samples_split=3, splitter=best;, score=-7970.538 total time=   0.0s\n",
      "[CV 3/5] END max_depth=5, min_samples_leaf=4, min_samples_split=3, splitter=best;, score=-6621.016 total time=   0.0s\n",
      "[CV 4/5] END max_depth=5, min_samples_leaf=4, min_samples_split=3, splitter=best;, score=-10136.655 total time=   0.0s\n",
      "[CV 5/5] END max_depth=5, min_samples_leaf=4, min_samples_split=3, splitter=best;, score=-13040.212 total time=   0.0s\n",
      "[CV 1/5] END max_depth=5, min_samples_leaf=4, min_samples_split=3, splitter=random;, score=-5723.880 total time=   0.0s\n",
      "[CV 2/5] END max_depth=5, min_samples_leaf=4, min_samples_split=3, splitter=random;, score=-9869.224 total time=   0.0s\n",
      "[CV 3/5] END max_depth=5, min_samples_leaf=4, min_samples_split=3, splitter=random;, score=-11109.755 total time=   0.0s\n",
      "[CV 4/5] END max_depth=5, min_samples_leaf=4, min_samples_split=3, splitter=random;, score=-17519.675 total time=   0.0s\n",
      "[CV 5/5] END max_depth=5, min_samples_leaf=4, min_samples_split=3, splitter=random;, score=-24383.891 total time=   0.0s\n",
      "[CV 1/5] END max_depth=5, min_samples_leaf=4, min_samples_split=4, splitter=best;, score=-5956.647 total time=   0.0s\n",
      "[CV 2/5] END max_depth=5, min_samples_leaf=4, min_samples_split=4, splitter=best;, score=-7970.538 total time=   0.0s\n",
      "[CV 3/5] END max_depth=5, min_samples_leaf=4, min_samples_split=4, splitter=best;, score=-6621.016 total time=   0.0s\n",
      "[CV 4/5] END max_depth=5, min_samples_leaf=4, min_samples_split=4, splitter=best;, score=-10136.655 total time=   0.0s\n",
      "[CV 5/5] END max_depth=5, min_samples_leaf=4, min_samples_split=4, splitter=best;, score=-13040.212 total time=   0.0s\n",
      "[CV 1/5] END max_depth=5, min_samples_leaf=4, min_samples_split=4, splitter=random;, score=-13949.163 total time=   0.0s\n",
      "[CV 2/5] END max_depth=5, min_samples_leaf=4, min_samples_split=4, splitter=random;, score=-8401.825 total time=   0.0s\n",
      "[CV 3/5] END max_depth=5, min_samples_leaf=4, min_samples_split=4, splitter=random;, score=-11368.131 total time=   0.0s\n",
      "[CV 4/5] END max_depth=5, min_samples_leaf=4, min_samples_split=4, splitter=random;, score=-16915.284 total time=   0.0s\n",
      "[CV 5/5] END max_depth=5, min_samples_leaf=4, min_samples_split=4, splitter=random;, score=-18776.364 total time=   0.0s\n",
      "[CV 1/5] END max_depth=5, min_samples_leaf=6, min_samples_split=2, splitter=best;, score=-5956.647 total time=   0.0s\n",
      "[CV 2/5] END max_depth=5, min_samples_leaf=6, min_samples_split=2, splitter=best;, score=-7970.538 total time=   0.0s\n",
      "[CV 3/5] END max_depth=5, min_samples_leaf=6, min_samples_split=2, splitter=best;, score=-6621.016 total time=   0.0s\n",
      "[CV 4/5] END max_depth=5, min_samples_leaf=6, min_samples_split=2, splitter=best;, score=-10136.655 total time=   0.0s\n",
      "[CV 5/5] END max_depth=5, min_samples_leaf=6, min_samples_split=2, splitter=best;, score=-13040.212 total time=   0.0s\n",
      "[CV 1/5] END max_depth=5, min_samples_leaf=6, min_samples_split=2, splitter=random;, score=-6214.456 total time=   0.0s\n",
      "[CV 2/5] END max_depth=5, min_samples_leaf=6, min_samples_split=2, splitter=random;, score=-7260.635 total time=   0.0s\n",
      "[CV 3/5] END max_depth=5, min_samples_leaf=6, min_samples_split=2, splitter=random;, score=-8484.336 total time=   0.0s\n",
      "[CV 4/5] END max_depth=5, min_samples_leaf=6, min_samples_split=2, splitter=random;, score=-19974.929 total time=   0.0s\n",
      "[CV 5/5] END max_depth=5, min_samples_leaf=6, min_samples_split=2, splitter=random;, score=-18259.829 total time=   0.0s\n",
      "[CV 1/5] END max_depth=5, min_samples_leaf=6, min_samples_split=3, splitter=best;, score=-5956.647 total time=   0.0s\n",
      "[CV 2/5] END max_depth=5, min_samples_leaf=6, min_samples_split=3, splitter=best;, score=-7970.538 total time=   0.0s\n",
      "[CV 3/5] END max_depth=5, min_samples_leaf=6, min_samples_split=3, splitter=best;, score=-6621.016 total time=   0.0s\n",
      "[CV 4/5] END max_depth=5, min_samples_leaf=6, min_samples_split=3, splitter=best;, score=-10136.655 total time=   0.0s\n",
      "[CV 5/5] END max_depth=5, min_samples_leaf=6, min_samples_split=3, splitter=best;, score=-13040.212 total time=   0.0s\n",
      "[CV 1/5] END max_depth=5, min_samples_leaf=6, min_samples_split=3, splitter=random;, score=-5463.886 total time=   0.0s\n",
      "[CV 2/5] END max_depth=5, min_samples_leaf=6, min_samples_split=3, splitter=random;, score=-11078.805 total time=   0.0s\n",
      "[CV 3/5] END max_depth=5, min_samples_leaf=6, min_samples_split=3, splitter=random;, score=-7434.971 total time=   0.0s\n",
      "[CV 4/5] END max_depth=5, min_samples_leaf=6, min_samples_split=3, splitter=random;, score=-21347.662 total time=   0.0s\n",
      "[CV 5/5] END max_depth=5, min_samples_leaf=6, min_samples_split=3, splitter=random;, score=-20201.457 total time=   0.0s\n",
      "[CV 1/5] END max_depth=5, min_samples_leaf=6, min_samples_split=4, splitter=best;, score=-5956.647 total time=   0.0s\n",
      "[CV 2/5] END max_depth=5, min_samples_leaf=6, min_samples_split=4, splitter=best;, score=-7970.538 total time=   0.0s\n",
      "[CV 3/5] END max_depth=5, min_samples_leaf=6, min_samples_split=4, splitter=best;, score=-6621.016 total time=   0.0s\n",
      "[CV 4/5] END max_depth=5, min_samples_leaf=6, min_samples_split=4, splitter=best;, score=-10136.655 total time=   0.0s\n",
      "[CV 5/5] END max_depth=5, min_samples_leaf=6, min_samples_split=4, splitter=best;, score=-13040.212 total time=   0.0s\n",
      "[CV 1/5] END max_depth=5, min_samples_leaf=6, min_samples_split=4, splitter=random;, score=-5425.801 total time=   0.0s\n",
      "[CV 2/5] END max_depth=5, min_samples_leaf=6, min_samples_split=4, splitter=random;, score=-8483.337 total time=   0.0s\n",
      "[CV 3/5] END max_depth=5, min_samples_leaf=6, min_samples_split=4, splitter=random;, score=-10221.873 total time=   0.0s\n",
      "[CV 4/5] END max_depth=5, min_samples_leaf=6, min_samples_split=4, splitter=random;, score=-18749.447 total time=   0.0s\n",
      "[CV 5/5] END max_depth=5, min_samples_leaf=6, min_samples_split=4, splitter=random;, score=-22912.445 total time=   0.0s\n",
      "[CV 1/5] END max_depth=5, min_samples_leaf=10, min_samples_split=2, splitter=best;, score=-5956.647 total time=   0.0s\n",
      "[CV 2/5] END max_depth=5, min_samples_leaf=10, min_samples_split=2, splitter=best;, score=-7970.538 total time=   0.0s\n"
     ]
    },
    {
     "name": "stdout",
     "output_type": "stream",
     "text": [
      "[CV 3/5] END max_depth=5, min_samples_leaf=10, min_samples_split=2, splitter=best;, score=-6621.016 total time=   0.0s\n",
      "[CV 4/5] END max_depth=5, min_samples_leaf=10, min_samples_split=2, splitter=best;, score=-10136.655 total time=   0.0s\n",
      "[CV 5/5] END max_depth=5, min_samples_leaf=10, min_samples_split=2, splitter=best;, score=-13040.212 total time=   0.0s\n",
      "[CV 1/5] END max_depth=5, min_samples_leaf=10, min_samples_split=2, splitter=random;, score=-4533.201 total time=   0.0s\n",
      "[CV 2/5] END max_depth=5, min_samples_leaf=10, min_samples_split=2, splitter=random;, score=-8655.085 total time=   0.0s\n",
      "[CV 3/5] END max_depth=5, min_samples_leaf=10, min_samples_split=2, splitter=random;, score=-10003.536 total time=   0.0s\n",
      "[CV 4/5] END max_depth=5, min_samples_leaf=10, min_samples_split=2, splitter=random;, score=-16271.245 total time=   0.0s\n",
      "[CV 5/5] END max_depth=5, min_samples_leaf=10, min_samples_split=2, splitter=random;, score=-21972.595 total time=   0.0s\n",
      "[CV 1/5] END max_depth=5, min_samples_leaf=10, min_samples_split=3, splitter=best;, score=-5956.647 total time=   0.0s\n",
      "[CV 2/5] END max_depth=5, min_samples_leaf=10, min_samples_split=3, splitter=best;, score=-7970.538 total time=   0.0s\n",
      "[CV 3/5] END max_depth=5, min_samples_leaf=10, min_samples_split=3, splitter=best;, score=-6621.016 total time=   0.0s\n",
      "[CV 4/5] END max_depth=5, min_samples_leaf=10, min_samples_split=3, splitter=best;, score=-10136.655 total time=   0.0s\n",
      "[CV 5/5] END max_depth=5, min_samples_leaf=10, min_samples_split=3, splitter=best;, score=-13040.212 total time=   0.0s\n",
      "[CV 1/5] END max_depth=5, min_samples_leaf=10, min_samples_split=3, splitter=random;, score=-8945.758 total time=   0.0s\n",
      "[CV 2/5] END max_depth=5, min_samples_leaf=10, min_samples_split=3, splitter=random;, score=-8142.912 total time=   0.0s\n",
      "[CV 3/5] END max_depth=5, min_samples_leaf=10, min_samples_split=3, splitter=random;, score=-8679.902 total time=   0.0s\n",
      "[CV 4/5] END max_depth=5, min_samples_leaf=10, min_samples_split=3, splitter=random;, score=-20137.791 total time=   0.0s\n",
      "[CV 5/5] END max_depth=5, min_samples_leaf=10, min_samples_split=3, splitter=random;, score=-19568.786 total time=   0.0s\n",
      "[CV 1/5] END max_depth=5, min_samples_leaf=10, min_samples_split=4, splitter=best;, score=-5956.647 total time=   0.0s\n",
      "[CV 2/5] END max_depth=5, min_samples_leaf=10, min_samples_split=4, splitter=best;, score=-7970.538 total time=   0.0s\n",
      "[CV 3/5] END max_depth=5, min_samples_leaf=10, min_samples_split=4, splitter=best;, score=-6621.016 total time=   0.0s\n",
      "[CV 4/5] END max_depth=5, min_samples_leaf=10, min_samples_split=4, splitter=best;, score=-10136.655 total time=   0.0s\n",
      "[CV 5/5] END max_depth=5, min_samples_leaf=10, min_samples_split=4, splitter=best;, score=-13040.212 total time=   0.0s\n",
      "[CV 1/5] END max_depth=5, min_samples_leaf=10, min_samples_split=4, splitter=random;, score=-5203.833 total time=   0.0s\n",
      "[CV 2/5] END max_depth=5, min_samples_leaf=10, min_samples_split=4, splitter=random;, score=-12298.100 total time=   0.0s\n",
      "[CV 3/5] END max_depth=5, min_samples_leaf=10, min_samples_split=4, splitter=random;, score=-7294.272 total time=   0.0s\n",
      "[CV 4/5] END max_depth=5, min_samples_leaf=10, min_samples_split=4, splitter=random;, score=-18185.448 total time=   0.0s\n",
      "[CV 5/5] END max_depth=5, min_samples_leaf=10, min_samples_split=4, splitter=random;, score=-19417.494 total time=   0.0s\n",
      "[CV 1/5] END max_depth=7, min_samples_leaf=2, min_samples_split=2, splitter=best;, score=-4814.145 total time=   0.0s\n",
      "[CV 2/5] END max_depth=7, min_samples_leaf=2, min_samples_split=2, splitter=best;, score=-3520.295 total time=   0.0s\n",
      "[CV 3/5] END max_depth=7, min_samples_leaf=2, min_samples_split=2, splitter=best;, score=-5769.710 total time=   0.0s\n",
      "[CV 4/5] END max_depth=7, min_samples_leaf=2, min_samples_split=2, splitter=best;, score=-4291.222 total time=   0.0s\n",
      "[CV 5/5] END max_depth=7, min_samples_leaf=2, min_samples_split=2, splitter=best;, score=-7291.004 total time=   0.0s\n",
      "[CV 1/5] END max_depth=7, min_samples_leaf=2, min_samples_split=2, splitter=random;, score=-5852.767 total time=   0.0s\n",
      "[CV 2/5] END max_depth=7, min_samples_leaf=2, min_samples_split=2, splitter=random;, score=-8262.984 total time=   0.0s\n",
      "[CV 3/5] END max_depth=7, min_samples_leaf=2, min_samples_split=2, splitter=random;, score=-8389.475 total time=   0.0s\n",
      "[CV 4/5] END max_depth=7, min_samples_leaf=2, min_samples_split=2, splitter=random;, score=-20446.717 total time=   0.0s\n",
      "[CV 5/5] END max_depth=7, min_samples_leaf=2, min_samples_split=2, splitter=random;, score=-18975.935 total time=   0.0s\n",
      "[CV 1/5] END max_depth=7, min_samples_leaf=2, min_samples_split=3, splitter=best;, score=-4814.145 total time=   0.0s\n",
      "[CV 2/5] END max_depth=7, min_samples_leaf=2, min_samples_split=3, splitter=best;, score=-3520.295 total time=   0.0s\n",
      "[CV 3/5] END max_depth=7, min_samples_leaf=2, min_samples_split=3, splitter=best;, score=-5769.710 total time=   0.0s\n",
      "[CV 4/5] END max_depth=7, min_samples_leaf=2, min_samples_split=3, splitter=best;, score=-4291.222 total time=   0.0s\n",
      "[CV 5/5] END max_depth=7, min_samples_leaf=2, min_samples_split=3, splitter=best;, score=-7291.004 total time=   0.0s\n",
      "[CV 1/5] END max_depth=7, min_samples_leaf=2, min_samples_split=3, splitter=random;, score=-9012.271 total time=   0.0s\n",
      "[CV 2/5] END max_depth=7, min_samples_leaf=2, min_samples_split=3, splitter=random;, score=-5437.738 total time=   0.0s\n",
      "[CV 3/5] END max_depth=7, min_samples_leaf=2, min_samples_split=3, splitter=random;, score=-10419.062 total time=   0.0s\n",
      "[CV 4/5] END max_depth=7, min_samples_leaf=2, min_samples_split=3, splitter=random;, score=-11478.079 total time=   0.0s\n",
      "[CV 5/5] END max_depth=7, min_samples_leaf=2, min_samples_split=3, splitter=random;, score=-22421.837 total time=   0.0s\n",
      "[CV 1/5] END max_depth=7, min_samples_leaf=2, min_samples_split=4, splitter=best;, score=-4814.145 total time=   0.0s\n",
      "[CV 2/5] END max_depth=7, min_samples_leaf=2, min_samples_split=4, splitter=best;, score=-3520.295 total time=   0.0s\n",
      "[CV 3/5] END max_depth=7, min_samples_leaf=2, min_samples_split=4, splitter=best;, score=-5767.263 total time=   0.0s\n",
      "[CV 4/5] END max_depth=7, min_samples_leaf=2, min_samples_split=4, splitter=best;, score=-4291.222 total time=   0.0s\n",
      "[CV 5/5] END max_depth=7, min_samples_leaf=2, min_samples_split=4, splitter=best;, score=-7287.372 total time=   0.0s\n",
      "[CV 1/5] END max_depth=7, min_samples_leaf=2, min_samples_split=4, splitter=random;, score=-7213.283 total time=   0.0s\n",
      "[CV 2/5] END max_depth=7, min_samples_leaf=2, min_samples_split=4, splitter=random;, score=-8280.115 total time=   0.0s\n",
      "[CV 3/5] END max_depth=7, min_samples_leaf=2, min_samples_split=4, splitter=random;, score=-8602.668 total time=   0.0s\n",
      "[CV 4/5] END max_depth=7, min_samples_leaf=2, min_samples_split=4, splitter=random;, score=-9886.164 total time=   0.0s\n",
      "[CV 5/5] END max_depth=7, min_samples_leaf=2, min_samples_split=4, splitter=random;, score=-15451.184 total time=   0.0s\n",
      "[CV 1/5] END max_depth=7, min_samples_leaf=3, min_samples_split=2, splitter=best;, score=-4822.919 total time=   0.0s\n",
      "[CV 2/5] END max_depth=7, min_samples_leaf=3, min_samples_split=2, splitter=best;, score=-3505.887 total time=   0.0s\n",
      "[CV 3/5] END max_depth=7, min_samples_leaf=3, min_samples_split=2, splitter=best;, score=-5769.857 total time=   0.0s\n",
      "[CV 4/5] END max_depth=7, min_samples_leaf=3, min_samples_split=2, splitter=best;, score=-4176.961 total time=   0.0s\n",
      "[CV 5/5] END max_depth=7, min_samples_leaf=3, min_samples_split=2, splitter=best;, score=-7288.255 total time=   0.0s\n",
      "[CV 1/5] END max_depth=7, min_samples_leaf=3, min_samples_split=2, splitter=random;, score=-5629.345 total time=   0.0s\n",
      "[CV 2/5] END max_depth=7, min_samples_leaf=3, min_samples_split=2, splitter=random;, score=-4739.505 total time=   0.0s\n",
      "[CV 3/5] END max_depth=7, min_samples_leaf=3, min_samples_split=2, splitter=random;, score=-8023.310 total time=   0.0s\n",
      "[CV 4/5] END max_depth=7, min_samples_leaf=3, min_samples_split=2, splitter=random;, score=-13456.932 total time=   0.0s\n",
      "[CV 5/5] END max_depth=7, min_samples_leaf=3, min_samples_split=2, splitter=random;, score=-13165.008 total time=   0.0s\n",
      "[CV 1/5] END max_depth=7, min_samples_leaf=3, min_samples_split=3, splitter=best;, score=-4822.919 total time=   0.0s\n"
     ]
    },
    {
     "name": "stdout",
     "output_type": "stream",
     "text": [
      "[CV 2/5] END max_depth=7, min_samples_leaf=3, min_samples_split=3, splitter=best;, score=-3505.887 total time=   0.0s\n",
      "[CV 3/5] END max_depth=7, min_samples_leaf=3, min_samples_split=3, splitter=best;, score=-5767.410 total time=   0.0s\n",
      "[CV 4/5] END max_depth=7, min_samples_leaf=3, min_samples_split=3, splitter=best;, score=-4176.961 total time=   0.0s\n",
      "[CV 5/5] END max_depth=7, min_samples_leaf=3, min_samples_split=3, splitter=best;, score=-7288.255 total time=   0.0s\n",
      "[CV 1/5] END max_depth=7, min_samples_leaf=3, min_samples_split=3, splitter=random;, score=-4700.930 total time=   0.0s\n",
      "[CV 2/5] END max_depth=7, min_samples_leaf=3, min_samples_split=3, splitter=random;, score=-7625.002 total time=   0.0s\n",
      "[CV 3/5] END max_depth=7, min_samples_leaf=3, min_samples_split=3, splitter=random;, score=-7889.231 total time=   0.0s\n",
      "[CV 4/5] END max_depth=7, min_samples_leaf=3, min_samples_split=3, splitter=random;, score=-14787.230 total time=   0.0s\n",
      "[CV 5/5] END max_depth=7, min_samples_leaf=3, min_samples_split=3, splitter=random;, score=-16034.396 total time=   0.0s\n",
      "[CV 1/5] END max_depth=7, min_samples_leaf=3, min_samples_split=4, splitter=best;, score=-4822.919 total time=   0.0s\n",
      "[CV 2/5] END max_depth=7, min_samples_leaf=3, min_samples_split=4, splitter=best;, score=-3505.887 total time=   0.0s\n",
      "[CV 3/5] END max_depth=7, min_samples_leaf=3, min_samples_split=4, splitter=best;, score=-5769.857 total time=   0.0s\n",
      "[CV 4/5] END max_depth=7, min_samples_leaf=3, min_samples_split=4, splitter=best;, score=-4176.961 total time=   0.0s\n",
      "[CV 5/5] END max_depth=7, min_samples_leaf=3, min_samples_split=4, splitter=best;, score=-7288.255 total time=   0.0s\n",
      "[CV 1/5] END max_depth=7, min_samples_leaf=3, min_samples_split=4, splitter=random;, score=-8405.388 total time=   0.0s\n",
      "[CV 2/5] END max_depth=7, min_samples_leaf=3, min_samples_split=4, splitter=random;, score=-7071.099 total time=   0.0s\n",
      "[CV 3/5] END max_depth=7, min_samples_leaf=3, min_samples_split=4, splitter=random;, score=-9659.621 total time=   0.0s\n",
      "[CV 4/5] END max_depth=7, min_samples_leaf=3, min_samples_split=4, splitter=random;, score=-19664.893 total time=   0.0s\n",
      "[CV 5/5] END max_depth=7, min_samples_leaf=3, min_samples_split=4, splitter=random;, score=-21064.907 total time=   0.0s\n",
      "[CV 1/5] END max_depth=7, min_samples_leaf=4, min_samples_split=2, splitter=best;, score=-4814.335 total time=   0.0s\n",
      "[CV 2/5] END max_depth=7, min_samples_leaf=4, min_samples_split=2, splitter=best;, score=-3511.242 total time=   0.0s\n",
      "[CV 3/5] END max_depth=7, min_samples_leaf=4, min_samples_split=2, splitter=best;, score=-5767.292 total time=   0.0s\n",
      "[CV 4/5] END max_depth=7, min_samples_leaf=4, min_samples_split=2, splitter=best;, score=-4081.575 total time=   0.0s\n",
      "[CV 5/5] END max_depth=7, min_samples_leaf=4, min_samples_split=2, splitter=best;, score=-7286.935 total time=   0.0s\n",
      "[CV 1/5] END max_depth=7, min_samples_leaf=4, min_samples_split=2, splitter=random;, score=-4973.982 total time=   0.0s\n",
      "[CV 2/5] END max_depth=7, min_samples_leaf=4, min_samples_split=2, splitter=random;, score=-6899.550 total time=   0.0s\n",
      "[CV 3/5] END max_depth=7, min_samples_leaf=4, min_samples_split=2, splitter=random;, score=-8512.492 total time=   0.0s\n",
      "[CV 4/5] END max_depth=7, min_samples_leaf=4, min_samples_split=2, splitter=random;, score=-15481.819 total time=   0.0s\n",
      "[CV 5/5] END max_depth=7, min_samples_leaf=4, min_samples_split=2, splitter=random;, score=-13201.006 total time=   0.0s\n",
      "[CV 1/5] END max_depth=7, min_samples_leaf=4, min_samples_split=3, splitter=best;, score=-4814.335 total time=   0.0s\n",
      "[CV 2/5] END max_depth=7, min_samples_leaf=4, min_samples_split=3, splitter=best;, score=-3511.242 total time=   0.0s\n",
      "[CV 3/5] END max_depth=7, min_samples_leaf=4, min_samples_split=3, splitter=best;, score=-5767.292 total time=   0.0s\n",
      "[CV 4/5] END max_depth=7, min_samples_leaf=4, min_samples_split=3, splitter=best;, score=-4081.575 total time=   0.0s\n",
      "[CV 5/5] END max_depth=7, min_samples_leaf=4, min_samples_split=3, splitter=best;, score=-7286.935 total time=   0.0s\n",
      "[CV 1/5] END max_depth=7, min_samples_leaf=4, min_samples_split=3, splitter=random;, score=-6726.430 total time=   0.0s\n",
      "[CV 2/5] END max_depth=7, min_samples_leaf=4, min_samples_split=3, splitter=random;, score=-9710.663 total time=   0.0s\n",
      "[CV 3/5] END max_depth=7, min_samples_leaf=4, min_samples_split=3, splitter=random;, score=-8324.759 total time=   0.0s\n",
      "[CV 4/5] END max_depth=7, min_samples_leaf=4, min_samples_split=3, splitter=random;, score=-19974.806 total time=   0.0s\n",
      "[CV 5/5] END max_depth=7, min_samples_leaf=4, min_samples_split=3, splitter=random;, score=-16936.396 total time=   0.0s\n",
      "[CV 1/5] END max_depth=7, min_samples_leaf=4, min_samples_split=4, splitter=best;, score=-4814.335 total time=   0.0s\n",
      "[CV 2/5] END max_depth=7, min_samples_leaf=4, min_samples_split=4, splitter=best;, score=-3511.242 total time=   0.0s\n",
      "[CV 3/5] END max_depth=7, min_samples_leaf=4, min_samples_split=4, splitter=best;, score=-5769.739 total time=   0.0s\n",
      "[CV 4/5] END max_depth=7, min_samples_leaf=4, min_samples_split=4, splitter=best;, score=-4081.575 total time=   0.0s\n",
      "[CV 5/5] END max_depth=7, min_samples_leaf=4, min_samples_split=4, splitter=best;, score=-7286.935 total time=   0.0s\n",
      "[CV 1/5] END max_depth=7, min_samples_leaf=4, min_samples_split=4, splitter=random;, score=-6756.770 total time=   0.0s\n",
      "[CV 2/5] END max_depth=7, min_samples_leaf=4, min_samples_split=4, splitter=random;, score=-8595.126 total time=   0.0s\n",
      "[CV 3/5] END max_depth=7, min_samples_leaf=4, min_samples_split=4, splitter=random;, score=-7039.671 total time=   0.0s\n",
      "[CV 4/5] END max_depth=7, min_samples_leaf=4, min_samples_split=4, splitter=random;, score=-17000.055 total time=   0.0s\n",
      "[CV 5/5] END max_depth=7, min_samples_leaf=4, min_samples_split=4, splitter=random;, score=-13064.282 total time=   0.0s\n",
      "[CV 1/5] END max_depth=7, min_samples_leaf=6, min_samples_split=2, splitter=best;, score=-4815.539 total time=   0.0s\n",
      "[CV 2/5] END max_depth=7, min_samples_leaf=6, min_samples_split=2, splitter=best;, score=-3492.682 total time=   0.0s\n",
      "[CV 3/5] END max_depth=7, min_samples_leaf=6, min_samples_split=2, splitter=best;, score=-5743.002 total time=   0.0s\n",
      "[CV 4/5] END max_depth=7, min_samples_leaf=6, min_samples_split=2, splitter=best;, score=-4357.066 total time=   0.0s\n",
      "[CV 5/5] END max_depth=7, min_samples_leaf=6, min_samples_split=2, splitter=best;, score=-7340.403 total time=   0.0s\n",
      "[CV 1/5] END max_depth=7, min_samples_leaf=6, min_samples_split=2, splitter=random;, score=-5040.818 total time=   0.0s\n",
      "[CV 2/5] END max_depth=7, min_samples_leaf=6, min_samples_split=2, splitter=random;, score=-8754.681 total time=   0.0s\n",
      "[CV 3/5] END max_depth=7, min_samples_leaf=6, min_samples_split=2, splitter=random;, score=-7915.348 total time=   0.0s\n",
      "[CV 4/5] END max_depth=7, min_samples_leaf=6, min_samples_split=2, splitter=random;, score=-13719.285 total time=   0.0s\n",
      "[CV 5/5] END max_depth=7, min_samples_leaf=6, min_samples_split=2, splitter=random;, score=-18107.236 total time=   0.0s\n",
      "[CV 1/5] END max_depth=7, min_samples_leaf=6, min_samples_split=3, splitter=best;, score=-4815.539 total time=   0.0s\n",
      "[CV 2/5] END max_depth=7, min_samples_leaf=6, min_samples_split=3, splitter=best;, score=-3492.682 total time=   0.0s\n",
      "[CV 3/5] END max_depth=7, min_samples_leaf=6, min_samples_split=3, splitter=best;, score=-5743.002 total time=   0.0s\n",
      "[CV 4/5] END max_depth=7, min_samples_leaf=6, min_samples_split=3, splitter=best;, score=-4357.066 total time=   0.0s\n",
      "[CV 5/5] END max_depth=7, min_samples_leaf=6, min_samples_split=3, splitter=best;, score=-7340.403 total time=   0.0s\n",
      "[CV 1/5] END max_depth=7, min_samples_leaf=6, min_samples_split=3, splitter=random;, score=-4327.113 total time=   0.0s\n",
      "[CV 2/5] END max_depth=7, min_samples_leaf=6, min_samples_split=3, splitter=random;, score=-7755.467 total time=   0.0s\n",
      "[CV 3/5] END max_depth=7, min_samples_leaf=6, min_samples_split=3, splitter=random;, score=-8748.045 total time=   0.0s\n",
      "[CV 4/5] END max_depth=7, min_samples_leaf=6, min_samples_split=3, splitter=random;, score=-16539.646 total time=   0.0s\n",
      "[CV 5/5] END max_depth=7, min_samples_leaf=6, min_samples_split=3, splitter=random;, score=-17217.928 total time=   0.0s\n"
     ]
    },
    {
     "name": "stdout",
     "output_type": "stream",
     "text": [
      "[CV 1/5] END max_depth=7, min_samples_leaf=6, min_samples_split=4, splitter=best;, score=-4815.539 total time=   0.0s\n",
      "[CV 2/5] END max_depth=7, min_samples_leaf=6, min_samples_split=4, splitter=best;, score=-3492.682 total time=   0.0s\n",
      "[CV 3/5] END max_depth=7, min_samples_leaf=6, min_samples_split=4, splitter=best;, score=-5743.002 total time=   0.0s\n",
      "[CV 4/5] END max_depth=7, min_samples_leaf=6, min_samples_split=4, splitter=best;, score=-4357.066 total time=   0.0s\n",
      "[CV 5/5] END max_depth=7, min_samples_leaf=6, min_samples_split=4, splitter=best;, score=-7340.403 total time=   0.0s\n",
      "[CV 1/5] END max_depth=7, min_samples_leaf=6, min_samples_split=4, splitter=random;, score=-7755.739 total time=   0.0s\n",
      "[CV 2/5] END max_depth=7, min_samples_leaf=6, min_samples_split=4, splitter=random;, score=-7058.269 total time=   0.0s\n",
      "[CV 3/5] END max_depth=7, min_samples_leaf=6, min_samples_split=4, splitter=random;, score=-10680.196 total time=   0.0s\n",
      "[CV 4/5] END max_depth=7, min_samples_leaf=6, min_samples_split=4, splitter=random;, score=-17322.304 total time=   0.0s\n",
      "[CV 5/5] END max_depth=7, min_samples_leaf=6, min_samples_split=4, splitter=random;, score=-12233.438 total time=   0.0s\n",
      "[CV 1/5] END max_depth=7, min_samples_leaf=10, min_samples_split=2, splitter=best;, score=-4812.796 total time=   0.0s\n",
      "[CV 2/5] END max_depth=7, min_samples_leaf=10, min_samples_split=2, splitter=best;, score=-3556.451 total time=   0.0s\n",
      "[CV 3/5] END max_depth=7, min_samples_leaf=10, min_samples_split=2, splitter=best;, score=-5760.436 total time=   0.0s\n",
      "[CV 4/5] END max_depth=7, min_samples_leaf=10, min_samples_split=2, splitter=best;, score=-4349.350 total time=   0.0s\n",
      "[CV 5/5] END max_depth=7, min_samples_leaf=10, min_samples_split=2, splitter=best;, score=-7307.895 total time=   0.0s\n",
      "[CV 1/5] END max_depth=7, min_samples_leaf=10, min_samples_split=2, splitter=random;, score=-6096.244 total time=   0.0s\n",
      "[CV 2/5] END max_depth=7, min_samples_leaf=10, min_samples_split=2, splitter=random;, score=-8172.079 total time=   0.0s\n",
      "[CV 3/5] END max_depth=7, min_samples_leaf=10, min_samples_split=2, splitter=random;, score=-8834.238 total time=   0.0s\n",
      "[CV 4/5] END max_depth=7, min_samples_leaf=10, min_samples_split=2, splitter=random;, score=-13529.606 total time=   0.0s\n",
      "[CV 5/5] END max_depth=7, min_samples_leaf=10, min_samples_split=2, splitter=random;, score=-17136.172 total time=   0.0s\n",
      "[CV 1/5] END max_depth=7, min_samples_leaf=10, min_samples_split=3, splitter=best;, score=-4812.796 total time=   0.0s\n",
      "[CV 2/5] END max_depth=7, min_samples_leaf=10, min_samples_split=3, splitter=best;, score=-3556.451 total time=   0.0s\n",
      "[CV 3/5] END max_depth=7, min_samples_leaf=10, min_samples_split=3, splitter=best;, score=-5760.436 total time=   0.0s\n",
      "[CV 4/5] END max_depth=7, min_samples_leaf=10, min_samples_split=3, splitter=best;, score=-4349.350 total time=   0.0s\n",
      "[CV 5/5] END max_depth=7, min_samples_leaf=10, min_samples_split=3, splitter=best;, score=-7307.895 total time=   0.0s\n",
      "[CV 1/5] END max_depth=7, min_samples_leaf=10, min_samples_split=3, splitter=random;, score=-6195.089 total time=   0.0s\n",
      "[CV 2/5] END max_depth=7, min_samples_leaf=10, min_samples_split=3, splitter=random;, score=-8147.243 total time=   0.0s\n",
      "[CV 3/5] END max_depth=7, min_samples_leaf=10, min_samples_split=3, splitter=random;, score=-7876.682 total time=   0.0s\n",
      "[CV 4/5] END max_depth=7, min_samples_leaf=10, min_samples_split=3, splitter=random;, score=-7510.678 total time=   0.0s\n",
      "[CV 5/5] END max_depth=7, min_samples_leaf=10, min_samples_split=3, splitter=random;, score=-15160.571 total time=   0.0s\n",
      "[CV 1/5] END max_depth=7, min_samples_leaf=10, min_samples_split=4, splitter=best;, score=-4812.796 total time=   0.0s\n",
      "[CV 2/5] END max_depth=7, min_samples_leaf=10, min_samples_split=4, splitter=best;, score=-3556.451 total time=   0.0s\n",
      "[CV 3/5] END max_depth=7, min_samples_leaf=10, min_samples_split=4, splitter=best;, score=-5760.436 total time=   0.0s\n",
      "[CV 4/5] END max_depth=7, min_samples_leaf=10, min_samples_split=4, splitter=best;, score=-4349.350 total time=   0.0s\n",
      "[CV 5/5] END max_depth=7, min_samples_leaf=10, min_samples_split=4, splitter=best;, score=-7307.895 total time=   0.0s\n",
      "[CV 1/5] END max_depth=7, min_samples_leaf=10, min_samples_split=4, splitter=random;, score=-5546.986 total time=   0.0s\n",
      "[CV 2/5] END max_depth=7, min_samples_leaf=10, min_samples_split=4, splitter=random;, score=-6135.733 total time=   0.0s\n",
      "[CV 3/5] END max_depth=7, min_samples_leaf=10, min_samples_split=4, splitter=random;, score=-8618.159 total time=   0.0s\n",
      "[CV 4/5] END max_depth=7, min_samples_leaf=10, min_samples_split=4, splitter=random;, score=-12174.126 total time=   0.0s\n",
      "[CV 5/5] END max_depth=7, min_samples_leaf=10, min_samples_split=4, splitter=random;, score=-14112.743 total time=   0.0s\n",
      "[CV 1/5] END max_depth=10, min_samples_leaf=2, min_samples_split=2, splitter=best;, score=-3809.919 total time=   0.1s\n",
      "[CV 2/5] END max_depth=10, min_samples_leaf=2, min_samples_split=2, splitter=best;, score=-2237.973 total time=   0.0s\n",
      "[CV 3/5] END max_depth=10, min_samples_leaf=2, min_samples_split=2, splitter=best;, score=-4749.771 total time=   0.1s\n",
      "[CV 4/5] END max_depth=10, min_samples_leaf=2, min_samples_split=2, splitter=best;, score=-3382.579 total time=   0.0s\n",
      "[CV 5/5] END max_depth=10, min_samples_leaf=2, min_samples_split=2, splitter=best;, score=-4754.730 total time=   0.0s\n",
      "[CV 1/5] END max_depth=10, min_samples_leaf=2, min_samples_split=2, splitter=random;, score=-5729.420 total time=   0.0s\n",
      "[CV 2/5] END max_depth=10, min_samples_leaf=2, min_samples_split=2, splitter=random;, score=-6464.786 total time=   0.0s\n",
      "[CV 3/5] END max_depth=10, min_samples_leaf=2, min_samples_split=2, splitter=random;, score=-7156.464 total time=   0.0s\n",
      "[CV 4/5] END max_depth=10, min_samples_leaf=2, min_samples_split=2, splitter=random;, score=-9249.548 total time=   0.0s\n",
      "[CV 5/5] END max_depth=10, min_samples_leaf=2, min_samples_split=2, splitter=random;, score=-8306.899 total time=   0.0s\n",
      "[CV 1/5] END max_depth=10, min_samples_leaf=2, min_samples_split=3, splitter=best;, score=-3809.090 total time=   0.0s\n",
      "[CV 2/5] END max_depth=10, min_samples_leaf=2, min_samples_split=3, splitter=best;, score=-2204.682 total time=   0.0s\n",
      "[CV 3/5] END max_depth=10, min_samples_leaf=2, min_samples_split=3, splitter=best;, score=-4618.236 total time=   0.1s\n",
      "[CV 4/5] END max_depth=10, min_samples_leaf=2, min_samples_split=3, splitter=best;, score=-3328.829 total time=   0.0s\n",
      "[CV 5/5] END max_depth=10, min_samples_leaf=2, min_samples_split=3, splitter=best;, score=-4687.339 total time=   0.0s\n",
      "[CV 1/5] END max_depth=10, min_samples_leaf=2, min_samples_split=3, splitter=random;, score=-3178.011 total time=   0.0s\n",
      "[CV 2/5] END max_depth=10, min_samples_leaf=2, min_samples_split=3, splitter=random;, score=-3996.468 total time=   0.0s\n",
      "[CV 3/5] END max_depth=10, min_samples_leaf=2, min_samples_split=3, splitter=random;, score=-6620.971 total time=   0.0s\n",
      "[CV 4/5] END max_depth=10, min_samples_leaf=2, min_samples_split=3, splitter=random;, score=-9090.547 total time=   0.0s\n",
      "[CV 5/5] END max_depth=10, min_samples_leaf=2, min_samples_split=3, splitter=random;, score=-12360.063 total time=   0.0s\n",
      "[CV 1/5] END max_depth=10, min_samples_leaf=2, min_samples_split=4, splitter=best;, score=-3819.428 total time=   0.0s\n",
      "[CV 2/5] END max_depth=10, min_samples_leaf=2, min_samples_split=4, splitter=best;, score=-2197.735 total time=   0.0s\n",
      "[CV 3/5] END max_depth=10, min_samples_leaf=2, min_samples_split=4, splitter=best;, score=-4680.244 total time=   0.1s\n",
      "[CV 4/5] END max_depth=10, min_samples_leaf=2, min_samples_split=4, splitter=best;, score=-3296.491 total time=   0.0s\n",
      "[CV 5/5] END max_depth=10, min_samples_leaf=2, min_samples_split=4, splitter=best;, score=-4746.697 total time=   0.1s\n",
      "[CV 1/5] END max_depth=10, min_samples_leaf=2, min_samples_split=4, splitter=random;, score=-3553.876 total time=   0.0s\n",
      "[CV 2/5] END max_depth=10, min_samples_leaf=2, min_samples_split=4, splitter=random;, score=-5720.956 total time=   0.0s\n",
      "[CV 3/5] END max_depth=10, min_samples_leaf=2, min_samples_split=4, splitter=random;, score=-6170.929 total time=   0.0s\n",
      "[CV 4/5] END max_depth=10, min_samples_leaf=2, min_samples_split=4, splitter=random;, score=-6535.976 total time=   0.0s\n",
      "[CV 5/5] END max_depth=10, min_samples_leaf=2, min_samples_split=4, splitter=random;, score=-11175.138 total time=   0.0s\n"
     ]
    },
    {
     "name": "stdout",
     "output_type": "stream",
     "text": [
      "[CV 1/5] END max_depth=10, min_samples_leaf=3, min_samples_split=2, splitter=best;, score=-3807.407 total time=   0.1s\n",
      "[CV 2/5] END max_depth=10, min_samples_leaf=3, min_samples_split=2, splitter=best;, score=-2121.714 total time=   0.0s\n",
      "[CV 3/5] END max_depth=10, min_samples_leaf=3, min_samples_split=2, splitter=best;, score=-4711.443 total time=   0.1s\n",
      "[CV 4/5] END max_depth=10, min_samples_leaf=3, min_samples_split=2, splitter=best;, score=-3432.708 total time=   0.0s\n",
      "[CV 5/5] END max_depth=10, min_samples_leaf=3, min_samples_split=2, splitter=best;, score=-4688.916 total time=   0.0s\n",
      "[CV 1/5] END max_depth=10, min_samples_leaf=3, min_samples_split=2, splitter=random;, score=-6386.205 total time=   0.0s\n",
      "[CV 2/5] END max_depth=10, min_samples_leaf=3, min_samples_split=2, splitter=random;, score=-3933.282 total time=   0.0s\n",
      "[CV 3/5] END max_depth=10, min_samples_leaf=3, min_samples_split=2, splitter=random;, score=-6215.764 total time=   0.0s\n",
      "[CV 4/5] END max_depth=10, min_samples_leaf=3, min_samples_split=2, splitter=random;, score=-10377.097 total time=   0.0s\n",
      "[CV 5/5] END max_depth=10, min_samples_leaf=3, min_samples_split=2, splitter=random;, score=-7184.147 total time=   0.0s\n",
      "[CV 1/5] END max_depth=10, min_samples_leaf=3, min_samples_split=3, splitter=best;, score=-3803.471 total time=   0.0s\n",
      "[CV 2/5] END max_depth=10, min_samples_leaf=3, min_samples_split=3, splitter=best;, score=-2112.810 total time=   0.0s\n",
      "[CV 3/5] END max_depth=10, min_samples_leaf=3, min_samples_split=3, splitter=best;, score=-4550.173 total time=   0.1s\n",
      "[CV 4/5] END max_depth=10, min_samples_leaf=3, min_samples_split=3, splitter=best;, score=-3445.388 total time=   0.0s\n",
      "[CV 5/5] END max_depth=10, min_samples_leaf=3, min_samples_split=3, splitter=best;, score=-4660.886 total time=   0.0s\n",
      "[CV 1/5] END max_depth=10, min_samples_leaf=3, min_samples_split=3, splitter=random;, score=-5386.910 total time=   0.0s\n",
      "[CV 2/5] END max_depth=10, min_samples_leaf=3, min_samples_split=3, splitter=random;, score=-3341.144 total time=   0.0s\n",
      "[CV 3/5] END max_depth=10, min_samples_leaf=3, min_samples_split=3, splitter=random;, score=-8140.562 total time=   0.0s\n",
      "[CV 4/5] END max_depth=10, min_samples_leaf=3, min_samples_split=3, splitter=random;, score=-11569.078 total time=   0.0s\n",
      "[CV 5/5] END max_depth=10, min_samples_leaf=3, min_samples_split=3, splitter=random;, score=-8908.808 total time=   0.0s\n",
      "[CV 1/5] END max_depth=10, min_samples_leaf=3, min_samples_split=4, splitter=best;, score=-3663.447 total time=   0.0s\n",
      "[CV 2/5] END max_depth=10, min_samples_leaf=3, min_samples_split=4, splitter=best;, score=-2111.279 total time=   0.0s\n",
      "[CV 3/5] END max_depth=10, min_samples_leaf=3, min_samples_split=4, splitter=best;, score=-4490.879 total time=   0.0s\n",
      "[CV 4/5] END max_depth=10, min_samples_leaf=3, min_samples_split=4, splitter=best;, score=-3440.838 total time=   0.0s\n",
      "[CV 5/5] END max_depth=10, min_samples_leaf=3, min_samples_split=4, splitter=best;, score=-4664.124 total time=   0.0s\n",
      "[CV 1/5] END max_depth=10, min_samples_leaf=3, min_samples_split=4, splitter=random;, score=-5281.621 total time=   0.0s\n",
      "[CV 2/5] END max_depth=10, min_samples_leaf=3, min_samples_split=4, splitter=random;, score=-6428.175 total time=   0.0s\n",
      "[CV 3/5] END max_depth=10, min_samples_leaf=3, min_samples_split=4, splitter=random;, score=-7883.203 total time=   0.0s\n",
      "[CV 4/5] END max_depth=10, min_samples_leaf=3, min_samples_split=4, splitter=random;, score=-9399.729 total time=   0.0s\n",
      "[CV 5/5] END max_depth=10, min_samples_leaf=3, min_samples_split=4, splitter=random;, score=-12012.009 total time=   0.0s\n",
      "[CV 1/5] END max_depth=10, min_samples_leaf=4, min_samples_split=2, splitter=best;, score=-3843.398 total time=   0.0s\n",
      "[CV 2/5] END max_depth=10, min_samples_leaf=4, min_samples_split=2, splitter=best;, score=-2120.401 total time=   0.0s\n",
      "[CV 3/5] END max_depth=10, min_samples_leaf=4, min_samples_split=2, splitter=best;, score=-4679.757 total time=   0.0s\n",
      "[CV 4/5] END max_depth=10, min_samples_leaf=4, min_samples_split=2, splitter=best;, score=-3228.903 total time=   0.0s\n",
      "[CV 5/5] END max_depth=10, min_samples_leaf=4, min_samples_split=2, splitter=best;, score=-4753.659 total time=   0.1s\n",
      "[CV 1/5] END max_depth=10, min_samples_leaf=4, min_samples_split=2, splitter=random;, score=-3445.293 total time=   0.0s\n",
      "[CV 2/5] END max_depth=10, min_samples_leaf=4, min_samples_split=2, splitter=random;, score=-4836.090 total time=   0.0s\n",
      "[CV 3/5] END max_depth=10, min_samples_leaf=4, min_samples_split=2, splitter=random;, score=-6285.585 total time=   0.0s\n",
      "[CV 4/5] END max_depth=10, min_samples_leaf=4, min_samples_split=2, splitter=random;, score=-6380.962 total time=   0.0s\n",
      "[CV 5/5] END max_depth=10, min_samples_leaf=4, min_samples_split=2, splitter=random;, score=-7520.789 total time=   0.0s\n",
      "[CV 1/5] END max_depth=10, min_samples_leaf=4, min_samples_split=3, splitter=best;, score=-3842.595 total time=   0.0s\n",
      "[CV 2/5] END max_depth=10, min_samples_leaf=4, min_samples_split=3, splitter=best;, score=-2125.209 total time=   0.0s\n",
      "[CV 3/5] END max_depth=10, min_samples_leaf=4, min_samples_split=3, splitter=best;, score=-4567.523 total time=   0.1s\n",
      "[CV 4/5] END max_depth=10, min_samples_leaf=4, min_samples_split=3, splitter=best;, score=-3219.563 total time=   0.0s\n",
      "[CV 5/5] END max_depth=10, min_samples_leaf=4, min_samples_split=3, splitter=best;, score=-4753.659 total time=   0.0s\n",
      "[CV 1/5] END max_depth=10, min_samples_leaf=4, min_samples_split=3, splitter=random;, score=-5042.314 total time=   0.0s\n",
      "[CV 2/5] END max_depth=10, min_samples_leaf=4, min_samples_split=3, splitter=random;, score=-4745.093 total time=   0.0s\n",
      "[CV 3/5] END max_depth=10, min_samples_leaf=4, min_samples_split=3, splitter=random;, score=-5916.046 total time=   0.0s\n",
      "[CV 4/5] END max_depth=10, min_samples_leaf=4, min_samples_split=3, splitter=random;, score=-8795.044 total time=   0.0s\n",
      "[CV 5/5] END max_depth=10, min_samples_leaf=4, min_samples_split=3, splitter=random;, score=-9040.979 total time=   0.0s\n",
      "[CV 1/5] END max_depth=10, min_samples_leaf=4, min_samples_split=4, splitter=best;, score=-3843.398 total time=   0.0s\n",
      "[CV 2/5] END max_depth=10, min_samples_leaf=4, min_samples_split=4, splitter=best;, score=-2112.004 total time=   0.0s\n",
      "[CV 3/5] END max_depth=10, min_samples_leaf=4, min_samples_split=4, splitter=best;, score=-4612.915 total time=   0.0s\n",
      "[CV 4/5] END max_depth=10, min_samples_leaf=4, min_samples_split=4, splitter=best;, score=-3226.621 total time=   0.0s\n",
      "[CV 5/5] END max_depth=10, min_samples_leaf=4, min_samples_split=4, splitter=best;, score=-4747.891 total time=   0.0s\n",
      "[CV 1/5] END max_depth=10, min_samples_leaf=4, min_samples_split=4, splitter=random;, score=-3859.832 total time=   0.0s\n",
      "[CV 2/5] END max_depth=10, min_samples_leaf=4, min_samples_split=4, splitter=random;, score=-2210.254 total time=   0.0s\n",
      "[CV 3/5] END max_depth=10, min_samples_leaf=4, min_samples_split=4, splitter=random;, score=-6408.111 total time=   0.0s\n",
      "[CV 4/5] END max_depth=10, min_samples_leaf=4, min_samples_split=4, splitter=random;, score=-10571.402 total time=   0.0s\n",
      "[CV 5/5] END max_depth=10, min_samples_leaf=4, min_samples_split=4, splitter=random;, score=-9647.096 total time=   0.0s\n",
      "[CV 1/5] END max_depth=10, min_samples_leaf=6, min_samples_split=2, splitter=best;, score=-3679.354 total time=   0.0s\n",
      "[CV 2/5] END max_depth=10, min_samples_leaf=6, min_samples_split=2, splitter=best;, score=-2043.478 total time=   0.0s\n",
      "[CV 3/5] END max_depth=10, min_samples_leaf=6, min_samples_split=2, splitter=best;, score=-4576.644 total time=   0.0s\n",
      "[CV 4/5] END max_depth=10, min_samples_leaf=6, min_samples_split=2, splitter=best;, score=-3585.149 total time=   0.0s\n",
      "[CV 5/5] END max_depth=10, min_samples_leaf=6, min_samples_split=2, splitter=best;, score=-4762.521 total time=   0.0s\n",
      "[CV 1/5] END max_depth=10, min_samples_leaf=6, min_samples_split=2, splitter=random;, score=-5062.455 total time=   0.0s\n",
      "[CV 2/5] END max_depth=10, min_samples_leaf=6, min_samples_split=2, splitter=random;, score=-6136.275 total time=   0.0s\n",
      "[CV 3/5] END max_depth=10, min_samples_leaf=6, min_samples_split=2, splitter=random;, score=-5606.929 total time=   0.0s\n",
      "[CV 4/5] END max_depth=10, min_samples_leaf=6, min_samples_split=2, splitter=random;, score=-10658.371 total time=   0.0s\n",
      "[CV 5/5] END max_depth=10, min_samples_leaf=6, min_samples_split=2, splitter=random;, score=-6811.372 total time=   0.0s\n"
     ]
    },
    {
     "name": "stdout",
     "output_type": "stream",
     "text": [
      "[CV 1/5] END max_depth=10, min_samples_leaf=6, min_samples_split=3, splitter=best;, score=-3534.963 total time=   0.0s\n",
      "[CV 2/5] END max_depth=10, min_samples_leaf=6, min_samples_split=3, splitter=best;, score=-2052.228 total time=   0.0s\n",
      "[CV 3/5] END max_depth=10, min_samples_leaf=6, min_samples_split=3, splitter=best;, score=-4422.548 total time=   0.1s\n",
      "[CV 4/5] END max_depth=10, min_samples_leaf=6, min_samples_split=3, splitter=best;, score=-3585.352 total time=   0.0s\n",
      "[CV 5/5] END max_depth=10, min_samples_leaf=6, min_samples_split=3, splitter=best;, score=-4762.521 total time=   0.0s\n",
      "[CV 1/5] END max_depth=10, min_samples_leaf=6, min_samples_split=3, splitter=random;, score=-3896.487 total time=   0.0s\n",
      "[CV 2/5] END max_depth=10, min_samples_leaf=6, min_samples_split=3, splitter=random;, score=-6899.940 total time=   0.0s\n",
      "[CV 3/5] END max_depth=10, min_samples_leaf=6, min_samples_split=3, splitter=random;, score=-6554.274 total time=   0.0s\n",
      "[CV 4/5] END max_depth=10, min_samples_leaf=6, min_samples_split=3, splitter=random;, score=-7521.813 total time=   0.0s\n",
      "[CV 5/5] END max_depth=10, min_samples_leaf=6, min_samples_split=3, splitter=random;, score=-8915.855 total time=   0.0s\n",
      "[CV 1/5] END max_depth=10, min_samples_leaf=6, min_samples_split=4, splitter=best;, score=-3679.354 total time=   0.0s\n",
      "[CV 2/5] END max_depth=10, min_samples_leaf=6, min_samples_split=4, splitter=best;, score=-2057.879 total time=   0.0s\n",
      "[CV 3/5] END max_depth=10, min_samples_leaf=6, min_samples_split=4, splitter=best;, score=-4458.444 total time=   0.0s\n",
      "[CV 4/5] END max_depth=10, min_samples_leaf=6, min_samples_split=4, splitter=best;, score=-3587.216 total time=   0.1s\n",
      "[CV 5/5] END max_depth=10, min_samples_leaf=6, min_samples_split=4, splitter=best;, score=-4762.528 total time=   0.0s\n",
      "[CV 1/5] END max_depth=10, min_samples_leaf=6, min_samples_split=4, splitter=random;, score=-3516.724 total time=   0.0s\n",
      "[CV 2/5] END max_depth=10, min_samples_leaf=6, min_samples_split=4, splitter=random;, score=-5945.133 total time=   0.0s\n",
      "[CV 3/5] END max_depth=10, min_samples_leaf=6, min_samples_split=4, splitter=random;, score=-5530.827 total time=   0.0s\n",
      "[CV 4/5] END max_depth=10, min_samples_leaf=6, min_samples_split=4, splitter=random;, score=-9994.599 total time=   0.0s\n",
      "[CV 5/5] END max_depth=10, min_samples_leaf=6, min_samples_split=4, splitter=random;, score=-9610.964 total time=   0.0s\n",
      "[CV 1/5] END max_depth=10, min_samples_leaf=10, min_samples_split=2, splitter=best;, score=-3625.069 total time=   0.0s\n",
      "[CV 2/5] END max_depth=10, min_samples_leaf=10, min_samples_split=2, splitter=best;, score=-2277.223 total time=   0.0s\n",
      "[CV 3/5] END max_depth=10, min_samples_leaf=10, min_samples_split=2, splitter=best;, score=-4529.110 total time=   0.0s\n",
      "[CV 4/5] END max_depth=10, min_samples_leaf=10, min_samples_split=2, splitter=best;, score=-3433.737 total time=   0.0s\n",
      "[CV 5/5] END max_depth=10, min_samples_leaf=10, min_samples_split=2, splitter=best;, score=-4735.228 total time=   0.0s\n",
      "[CV 1/5] END max_depth=10, min_samples_leaf=10, min_samples_split=2, splitter=random;, score=-4245.638 total time=   0.0s\n",
      "[CV 2/5] END max_depth=10, min_samples_leaf=10, min_samples_split=2, splitter=random;, score=-5357.868 total time=   0.0s\n",
      "[CV 3/5] END max_depth=10, min_samples_leaf=10, min_samples_split=2, splitter=random;, score=-7220.209 total time=   0.0s\n",
      "[CV 4/5] END max_depth=10, min_samples_leaf=10, min_samples_split=2, splitter=random;, score=-16225.195 total time=   0.0s\n",
      "[CV 5/5] END max_depth=10, min_samples_leaf=10, min_samples_split=2, splitter=random;, score=-6955.412 total time=   0.0s\n",
      "[CV 1/5] END max_depth=10, min_samples_leaf=10, min_samples_split=3, splitter=best;, score=-3616.661 total time=   0.0s\n",
      "[CV 2/5] END max_depth=10, min_samples_leaf=10, min_samples_split=3, splitter=best;, score=-2277.047 total time=   0.0s\n",
      "[CV 3/5] END max_depth=10, min_samples_leaf=10, min_samples_split=3, splitter=best;, score=-4523.663 total time=   0.0s\n",
      "[CV 4/5] END max_depth=10, min_samples_leaf=10, min_samples_split=3, splitter=best;, score=-3433.282 total time=   0.0s\n",
      "[CV 5/5] END max_depth=10, min_samples_leaf=10, min_samples_split=3, splitter=best;, score=-4735.228 total time=   0.0s\n",
      "[CV 1/5] END max_depth=10, min_samples_leaf=10, min_samples_split=3, splitter=random;, score=-4484.320 total time=   0.0s\n",
      "[CV 2/5] END max_depth=10, min_samples_leaf=10, min_samples_split=3, splitter=random;, score=-5445.888 total time=   0.0s\n",
      "[CV 3/5] END max_depth=10, min_samples_leaf=10, min_samples_split=3, splitter=random;, score=-8464.909 total time=   0.0s\n",
      "[CV 4/5] END max_depth=10, min_samples_leaf=10, min_samples_split=3, splitter=random;, score=-4533.396 total time=   0.0s\n",
      "[CV 5/5] END max_depth=10, min_samples_leaf=10, min_samples_split=3, splitter=random;, score=-14508.142 total time=   0.0s\n",
      "[CV 1/5] END max_depth=10, min_samples_leaf=10, min_samples_split=4, splitter=best;, score=-3616.661 total time=   0.0s\n",
      "[CV 2/5] END max_depth=10, min_samples_leaf=10, min_samples_split=4, splitter=best;, score=-2294.970 total time=   0.0s\n",
      "[CV 3/5] END max_depth=10, min_samples_leaf=10, min_samples_split=4, splitter=best;, score=-4522.961 total time=   0.0s\n",
      "[CV 4/5] END max_depth=10, min_samples_leaf=10, min_samples_split=4, splitter=best;, score=-3433.613 total time=   0.0s\n",
      "[CV 5/5] END max_depth=10, min_samples_leaf=10, min_samples_split=4, splitter=best;, score=-4735.228 total time=   0.0s\n",
      "[CV 1/5] END max_depth=10, min_samples_leaf=10, min_samples_split=4, splitter=random;, score=-5115.792 total time=   0.0s\n",
      "[CV 2/5] END max_depth=10, min_samples_leaf=10, min_samples_split=4, splitter=random;, score=-5329.600 total time=   0.0s\n",
      "[CV 3/5] END max_depth=10, min_samples_leaf=10, min_samples_split=4, splitter=random;, score=-6793.237 total time=   0.0s\n",
      "[CV 4/5] END max_depth=10, min_samples_leaf=10, min_samples_split=4, splitter=random;, score=-6745.398 total time=   0.0s\n",
      "[CV 5/5] END max_depth=10, min_samples_leaf=10, min_samples_split=4, splitter=random;, score=-9294.731 total time=   0.0s\n",
      "[CV 1/5] END max_depth=12, min_samples_leaf=2, min_samples_split=2, splitter=best;, score=-3571.090 total time=   0.1s\n",
      "[CV 2/5] END max_depth=12, min_samples_leaf=2, min_samples_split=2, splitter=best;, score=-1834.350 total time=   0.1s\n",
      "[CV 3/5] END max_depth=12, min_samples_leaf=2, min_samples_split=2, splitter=best;, score=-5085.609 total time=   0.1s\n",
      "[CV 4/5] END max_depth=12, min_samples_leaf=2, min_samples_split=2, splitter=best;, score=-3519.828 total time=   0.1s\n",
      "[CV 5/5] END max_depth=12, min_samples_leaf=2, min_samples_split=2, splitter=best;, score=-5269.403 total time=   0.1s\n",
      "[CV 1/5] END max_depth=12, min_samples_leaf=2, min_samples_split=2, splitter=random;, score=-2609.409 total time=   0.0s\n",
      "[CV 2/5] END max_depth=12, min_samples_leaf=2, min_samples_split=2, splitter=random;, score=-5229.997 total time=   0.0s\n",
      "[CV 3/5] END max_depth=12, min_samples_leaf=2, min_samples_split=2, splitter=random;, score=-5738.527 total time=   0.0s\n",
      "[CV 4/5] END max_depth=12, min_samples_leaf=2, min_samples_split=2, splitter=random;, score=-5638.521 total time=   0.0s\n",
      "[CV 5/5] END max_depth=12, min_samples_leaf=2, min_samples_split=2, splitter=random;, score=-7531.487 total time=   0.0s\n",
      "[CV 1/5] END max_depth=12, min_samples_leaf=2, min_samples_split=3, splitter=best;, score=-3680.670 total time=   0.1s\n",
      "[CV 2/5] END max_depth=12, min_samples_leaf=2, min_samples_split=3, splitter=best;, score=-1816.664 total time=   0.1s\n",
      "[CV 3/5] END max_depth=12, min_samples_leaf=2, min_samples_split=3, splitter=best;, score=-5154.214 total time=   0.1s\n",
      "[CV 4/5] END max_depth=12, min_samples_leaf=2, min_samples_split=3, splitter=best;, score=-3358.658 total time=   0.1s\n",
      "[CV 5/5] END max_depth=12, min_samples_leaf=2, min_samples_split=3, splitter=best;, score=-5256.598 total time=   0.1s\n",
      "[CV 1/5] END max_depth=12, min_samples_leaf=2, min_samples_split=3, splitter=random;, score=-3644.568 total time=   0.0s\n",
      "[CV 2/5] END max_depth=12, min_samples_leaf=2, min_samples_split=3, splitter=random;, score=-5019.925 total time=   0.0s\n",
      "[CV 3/5] END max_depth=12, min_samples_leaf=2, min_samples_split=3, splitter=random;, score=-7184.987 total time=   0.0s\n",
      "[CV 4/5] END max_depth=12, min_samples_leaf=2, min_samples_split=3, splitter=random;, score=-5899.912 total time=   0.0s\n",
      "[CV 5/5] END max_depth=12, min_samples_leaf=2, min_samples_split=3, splitter=random;, score=-5912.000 total time=   0.0s\n"
     ]
    },
    {
     "name": "stdout",
     "output_type": "stream",
     "text": [
      "[CV 1/5] END max_depth=12, min_samples_leaf=2, min_samples_split=4, splitter=best;, score=-3421.462 total time=   0.1s\n",
      "[CV 2/5] END max_depth=12, min_samples_leaf=2, min_samples_split=4, splitter=best;, score=-1821.405 total time=   0.1s\n",
      "[CV 3/5] END max_depth=12, min_samples_leaf=2, min_samples_split=4, splitter=best;, score=-5207.117 total time=   0.1s\n",
      "[CV 4/5] END max_depth=12, min_samples_leaf=2, min_samples_split=4, splitter=best;, score=-3508.388 total time=   0.1s\n",
      "[CV 5/5] END max_depth=12, min_samples_leaf=2, min_samples_split=4, splitter=best;, score=-5197.433 total time=   0.1s\n",
      "[CV 1/5] END max_depth=12, min_samples_leaf=2, min_samples_split=4, splitter=random;, score=-2556.292 total time=   0.0s\n",
      "[CV 2/5] END max_depth=12, min_samples_leaf=2, min_samples_split=4, splitter=random;, score=-2487.257 total time=   0.0s\n",
      "[CV 3/5] END max_depth=12, min_samples_leaf=2, min_samples_split=4, splitter=random;, score=-7188.362 total time=   0.0s\n",
      "[CV 4/5] END max_depth=12, min_samples_leaf=2, min_samples_split=4, splitter=random;, score=-5664.710 total time=   0.0s\n",
      "[CV 5/5] END max_depth=12, min_samples_leaf=2, min_samples_split=4, splitter=random;, score=-9201.890 total time=   0.0s\n",
      "[CV 1/5] END max_depth=12, min_samples_leaf=3, min_samples_split=2, splitter=best;, score=-3772.377 total time=   0.1s\n",
      "[CV 2/5] END max_depth=12, min_samples_leaf=3, min_samples_split=2, splitter=best;, score=-1602.700 total time=   0.1s\n",
      "[CV 3/5] END max_depth=12, min_samples_leaf=3, min_samples_split=2, splitter=best;, score=-4603.596 total time=   0.1s\n",
      "[CV 4/5] END max_depth=12, min_samples_leaf=3, min_samples_split=2, splitter=best;, score=-3272.934 total time=   0.1s\n",
      "[CV 5/5] END max_depth=12, min_samples_leaf=3, min_samples_split=2, splitter=best;, score=-5079.393 total time=   0.1s\n",
      "[CV 1/5] END max_depth=12, min_samples_leaf=3, min_samples_split=2, splitter=random;, score=-3406.875 total time=   0.0s\n",
      "[CV 2/5] END max_depth=12, min_samples_leaf=3, min_samples_split=2, splitter=random;, score=-3290.626 total time=   0.0s\n",
      "[CV 3/5] END max_depth=12, min_samples_leaf=3, min_samples_split=2, splitter=random;, score=-5973.611 total time=   0.0s\n",
      "[CV 4/5] END max_depth=12, min_samples_leaf=3, min_samples_split=2, splitter=random;, score=-5323.888 total time=   0.0s\n",
      "[CV 5/5] END max_depth=12, min_samples_leaf=3, min_samples_split=2, splitter=random;, score=-6413.666 total time=   0.0s\n",
      "[CV 1/5] END max_depth=12, min_samples_leaf=3, min_samples_split=3, splitter=best;, score=-3772.738 total time=   0.1s\n",
      "[CV 2/5] END max_depth=12, min_samples_leaf=3, min_samples_split=3, splitter=best;, score=-1581.267 total time=   0.1s\n",
      "[CV 3/5] END max_depth=12, min_samples_leaf=3, min_samples_split=3, splitter=best;, score=-4663.411 total time=   0.1s\n",
      "[CV 4/5] END max_depth=12, min_samples_leaf=3, min_samples_split=3, splitter=best;, score=-3271.994 total time=   0.1s\n",
      "[CV 5/5] END max_depth=12, min_samples_leaf=3, min_samples_split=3, splitter=best;, score=-5197.452 total time=   0.1s\n",
      "[CV 1/5] END max_depth=12, min_samples_leaf=3, min_samples_split=3, splitter=random;, score=-2872.109 total time=   0.0s\n",
      "[CV 2/5] END max_depth=12, min_samples_leaf=3, min_samples_split=3, splitter=random;, score=-3834.150 total time=   0.0s\n",
      "[CV 3/5] END max_depth=12, min_samples_leaf=3, min_samples_split=3, splitter=random;, score=-9121.760 total time=   0.0s\n",
      "[CV 4/5] END max_depth=12, min_samples_leaf=3, min_samples_split=3, splitter=random;, score=-8814.369 total time=   0.0s\n",
      "[CV 5/5] END max_depth=12, min_samples_leaf=3, min_samples_split=3, splitter=random;, score=-11942.802 total time=   0.0s\n",
      "[CV 1/5] END max_depth=12, min_samples_leaf=3, min_samples_split=4, splitter=best;, score=-3746.735 total time=   0.1s\n",
      "[CV 2/5] END max_depth=12, min_samples_leaf=3, min_samples_split=4, splitter=best;, score=-1584.766 total time=   0.1s\n",
      "[CV 3/5] END max_depth=12, min_samples_leaf=3, min_samples_split=4, splitter=best;, score=-4732.804 total time=   0.1s\n",
      "[CV 4/5] END max_depth=12, min_samples_leaf=3, min_samples_split=4, splitter=best;, score=-3271.141 total time=   0.1s\n",
      "[CV 5/5] END max_depth=12, min_samples_leaf=3, min_samples_split=4, splitter=best;, score=-5183.201 total time=   0.1s\n",
      "[CV 1/5] END max_depth=12, min_samples_leaf=3, min_samples_split=4, splitter=random;, score=-5857.213 total time=   0.0s\n",
      "[CV 2/5] END max_depth=12, min_samples_leaf=3, min_samples_split=4, splitter=random;, score=-3472.453 total time=   0.0s\n",
      "[CV 3/5] END max_depth=12, min_samples_leaf=3, min_samples_split=4, splitter=random;, score=-6023.310 total time=   0.0s\n",
      "[CV 4/5] END max_depth=12, min_samples_leaf=3, min_samples_split=4, splitter=random;, score=-6497.835 total time=   0.0s\n",
      "[CV 5/5] END max_depth=12, min_samples_leaf=3, min_samples_split=4, splitter=random;, score=-8185.543 total time=   0.0s\n",
      "[CV 1/5] END max_depth=12, min_samples_leaf=4, min_samples_split=2, splitter=best;, score=-3692.123 total time=   0.1s\n",
      "[CV 2/5] END max_depth=12, min_samples_leaf=4, min_samples_split=2, splitter=best;, score=-1612.583 total time=   0.1s\n",
      "[CV 3/5] END max_depth=12, min_samples_leaf=4, min_samples_split=2, splitter=best;, score=-4473.916 total time=   0.1s\n",
      "[CV 4/5] END max_depth=12, min_samples_leaf=4, min_samples_split=2, splitter=best;, score=-3148.112 total time=   0.1s\n",
      "[CV 5/5] END max_depth=12, min_samples_leaf=4, min_samples_split=2, splitter=best;, score=-4497.978 total time=   0.1s\n",
      "[CV 1/5] END max_depth=12, min_samples_leaf=4, min_samples_split=2, splitter=random;, score=-4211.154 total time=   0.0s\n",
      "[CV 2/5] END max_depth=12, min_samples_leaf=4, min_samples_split=2, splitter=random;, score=-4046.600 total time=   0.0s\n",
      "[CV 3/5] END max_depth=12, min_samples_leaf=4, min_samples_split=2, splitter=random;, score=-5147.768 total time=   0.0s\n",
      "[CV 4/5] END max_depth=12, min_samples_leaf=4, min_samples_split=2, splitter=random;, score=-10340.045 total time=   0.0s\n",
      "[CV 5/5] END max_depth=12, min_samples_leaf=4, min_samples_split=2, splitter=random;, score=-5266.656 total time=   0.0s\n",
      "[CV 1/5] END max_depth=12, min_samples_leaf=4, min_samples_split=3, splitter=best;, score=-3745.719 total time=   0.1s\n",
      "[CV 2/5] END max_depth=12, min_samples_leaf=4, min_samples_split=3, splitter=best;, score=-1605.168 total time=   0.1s\n",
      "[CV 3/5] END max_depth=12, min_samples_leaf=4, min_samples_split=3, splitter=best;, score=-4463.794 total time=   0.1s\n",
      "[CV 4/5] END max_depth=12, min_samples_leaf=4, min_samples_split=3, splitter=best;, score=-3174.041 total time=   0.1s\n",
      "[CV 5/5] END max_depth=12, min_samples_leaf=4, min_samples_split=3, splitter=best;, score=-4505.902 total time=   0.1s\n",
      "[CV 1/5] END max_depth=12, min_samples_leaf=4, min_samples_split=3, splitter=random;, score=-3003.696 total time=   0.0s\n",
      "[CV 2/5] END max_depth=12, min_samples_leaf=4, min_samples_split=3, splitter=random;, score=-3767.751 total time=   0.0s\n",
      "[CV 3/5] END max_depth=12, min_samples_leaf=4, min_samples_split=3, splitter=random;, score=-6365.252 total time=   0.0s\n",
      "[CV 4/5] END max_depth=12, min_samples_leaf=4, min_samples_split=3, splitter=random;, score=-6258.302 total time=   0.0s\n",
      "[CV 5/5] END max_depth=12, min_samples_leaf=4, min_samples_split=3, splitter=random;, score=-4978.978 total time=   0.0s\n",
      "[CV 1/5] END max_depth=12, min_samples_leaf=4, min_samples_split=4, splitter=best;, score=-3686.473 total time=   0.1s\n",
      "[CV 2/5] END max_depth=12, min_samples_leaf=4, min_samples_split=4, splitter=best;, score=-1608.382 total time=   0.1s\n",
      "[CV 3/5] END max_depth=12, min_samples_leaf=4, min_samples_split=4, splitter=best;, score=-4633.658 total time=   0.1s\n",
      "[CV 4/5] END max_depth=12, min_samples_leaf=4, min_samples_split=4, splitter=best;, score=-3150.929 total time=   0.1s\n",
      "[CV 5/5] END max_depth=12, min_samples_leaf=4, min_samples_split=4, splitter=best;, score=-4491.134 total time=   0.1s\n",
      "[CV 1/5] END max_depth=12, min_samples_leaf=4, min_samples_split=4, splitter=random;, score=-2724.924 total time=   0.0s\n",
      "[CV 2/5] END max_depth=12, min_samples_leaf=4, min_samples_split=4, splitter=random;, score=-5831.130 total time=   0.0s\n",
      "[CV 3/5] END max_depth=12, min_samples_leaf=4, min_samples_split=4, splitter=random;, score=-7809.402 total time=   0.0s\n",
      "[CV 4/5] END max_depth=12, min_samples_leaf=4, min_samples_split=4, splitter=random;, score=-8373.642 total time=   0.0s\n",
      "[CV 5/5] END max_depth=12, min_samples_leaf=4, min_samples_split=4, splitter=random;, score=-4733.732 total time=   0.0s\n"
     ]
    },
    {
     "name": "stdout",
     "output_type": "stream",
     "text": [
      "[CV 1/5] END max_depth=12, min_samples_leaf=6, min_samples_split=2, splitter=best;, score=-3501.913 total time=   0.1s\n",
      "[CV 2/5] END max_depth=12, min_samples_leaf=6, min_samples_split=2, splitter=best;, score=-1509.154 total time=   0.1s\n",
      "[CV 3/5] END max_depth=12, min_samples_leaf=6, min_samples_split=2, splitter=best;, score=-4068.426 total time=   0.1s\n",
      "[CV 4/5] END max_depth=12, min_samples_leaf=6, min_samples_split=2, splitter=best;, score=-3604.021 total time=   0.1s\n",
      "[CV 5/5] END max_depth=12, min_samples_leaf=6, min_samples_split=2, splitter=best;, score=-4458.686 total time=   0.1s\n",
      "[CV 1/5] END max_depth=12, min_samples_leaf=6, min_samples_split=2, splitter=random;, score=-4007.236 total time=   0.0s\n",
      "[CV 2/5] END max_depth=12, min_samples_leaf=6, min_samples_split=2, splitter=random;, score=-2187.531 total time=   0.0s\n",
      "[CV 3/5] END max_depth=12, min_samples_leaf=6, min_samples_split=2, splitter=random;, score=-5824.810 total time=   0.0s\n",
      "[CV 4/5] END max_depth=12, min_samples_leaf=6, min_samples_split=2, splitter=random;, score=-7830.353 total time=   0.0s\n",
      "[CV 5/5] END max_depth=12, min_samples_leaf=6, min_samples_split=2, splitter=random;, score=-7290.050 total time=   0.0s\n",
      "[CV 1/5] END max_depth=12, min_samples_leaf=6, min_samples_split=3, splitter=best;, score=-3535.178 total time=   0.1s\n",
      "[CV 2/5] END max_depth=12, min_samples_leaf=6, min_samples_split=3, splitter=best;, score=-1515.868 total time=   0.1s\n",
      "[CV 3/5] END max_depth=12, min_samples_leaf=6, min_samples_split=3, splitter=best;, score=-4136.952 total time=   0.1s\n",
      "[CV 4/5] END max_depth=12, min_samples_leaf=6, min_samples_split=3, splitter=best;, score=-3614.841 total time=   0.1s\n",
      "[CV 5/5] END max_depth=12, min_samples_leaf=6, min_samples_split=3, splitter=best;, score=-4459.723 total time=   0.1s\n",
      "[CV 1/5] END max_depth=12, min_samples_leaf=6, min_samples_split=3, splitter=random;, score=-2802.511 total time=   0.0s\n",
      "[CV 2/5] END max_depth=12, min_samples_leaf=6, min_samples_split=3, splitter=random;, score=-3766.603 total time=   0.0s\n",
      "[CV 3/5] END max_depth=12, min_samples_leaf=6, min_samples_split=3, splitter=random;, score=-6404.622 total time=   0.0s\n",
      "[CV 4/5] END max_depth=12, min_samples_leaf=6, min_samples_split=3, splitter=random;, score=-9455.490 total time=   0.0s\n",
      "[CV 5/5] END max_depth=12, min_samples_leaf=6, min_samples_split=3, splitter=random;, score=-9092.734 total time=   0.0s\n",
      "[CV 1/5] END max_depth=12, min_samples_leaf=6, min_samples_split=4, splitter=best;, score=-3524.795 total time=   0.1s\n",
      "[CV 2/5] END max_depth=12, min_samples_leaf=6, min_samples_split=4, splitter=best;, score=-1523.995 total time=   0.1s\n",
      "[CV 3/5] END max_depth=12, min_samples_leaf=6, min_samples_split=4, splitter=best;, score=-4169.148 total time=   0.1s\n",
      "[CV 4/5] END max_depth=12, min_samples_leaf=6, min_samples_split=4, splitter=best;, score=-3604.096 total time=   0.1s\n",
      "[CV 5/5] END max_depth=12, min_samples_leaf=6, min_samples_split=4, splitter=best;, score=-4458.679 total time=   0.1s\n",
      "[CV 1/5] END max_depth=12, min_samples_leaf=6, min_samples_split=4, splitter=random;, score=-4066.573 total time=   0.0s\n",
      "[CV 2/5] END max_depth=12, min_samples_leaf=6, min_samples_split=4, splitter=random;, score=-3858.636 total time=   0.0s\n",
      "[CV 3/5] END max_depth=12, min_samples_leaf=6, min_samples_split=4, splitter=random;, score=-5156.249 total time=   0.0s\n",
      "[CV 4/5] END max_depth=12, min_samples_leaf=6, min_samples_split=4, splitter=random;, score=-13018.107 total time=   0.0s\n",
      "[CV 5/5] END max_depth=12, min_samples_leaf=6, min_samples_split=4, splitter=random;, score=-5100.556 total time=   0.0s\n",
      "[CV 1/5] END max_depth=12, min_samples_leaf=10, min_samples_split=2, splitter=best;, score=-3421.334 total time=   0.1s\n",
      "[CV 2/5] END max_depth=12, min_samples_leaf=10, min_samples_split=2, splitter=best;, score=-1998.810 total time=   0.0s\n",
      "[CV 3/5] END max_depth=12, min_samples_leaf=10, min_samples_split=2, splitter=best;, score=-4171.817 total time=   0.1s\n",
      "[CV 4/5] END max_depth=12, min_samples_leaf=10, min_samples_split=2, splitter=best;, score=-3409.998 total time=   0.0s\n",
      "[CV 5/5] END max_depth=12, min_samples_leaf=10, min_samples_split=2, splitter=best;, score=-4463.357 total time=   0.1s\n",
      "[CV 1/5] END max_depth=12, min_samples_leaf=10, min_samples_split=2, splitter=random;, score=-3403.600 total time=   0.0s\n",
      "[CV 2/5] END max_depth=12, min_samples_leaf=10, min_samples_split=2, splitter=random;, score=-7399.913 total time=   0.0s\n",
      "[CV 3/5] END max_depth=12, min_samples_leaf=10, min_samples_split=2, splitter=random;, score=-4875.100 total time=   0.0s\n",
      "[CV 4/5] END max_depth=12, min_samples_leaf=10, min_samples_split=2, splitter=random;, score=-7093.351 total time=   0.0s\n",
      "[CV 5/5] END max_depth=12, min_samples_leaf=10, min_samples_split=2, splitter=random;, score=-5895.876 total time=   0.0s\n",
      "[CV 1/5] END max_depth=12, min_samples_leaf=10, min_samples_split=3, splitter=best;, score=-3428.998 total time=   0.1s\n",
      "[CV 2/5] END max_depth=12, min_samples_leaf=10, min_samples_split=3, splitter=best;, score=-1980.887 total time=   0.0s\n",
      "[CV 3/5] END max_depth=12, min_samples_leaf=10, min_samples_split=3, splitter=best;, score=-4172.436 total time=   0.1s\n",
      "[CV 4/5] END max_depth=12, min_samples_leaf=10, min_samples_split=3, splitter=best;, score=-3410.142 total time=   0.0s\n",
      "[CV 5/5] END max_depth=12, min_samples_leaf=10, min_samples_split=3, splitter=best;, score=-4463.357 total time=   0.1s\n",
      "[CV 1/5] END max_depth=12, min_samples_leaf=10, min_samples_split=3, splitter=random;, score=-6176.936 total time=   0.0s\n",
      "[CV 2/5] END max_depth=12, min_samples_leaf=10, min_samples_split=3, splitter=random;, score=-4496.217 total time=   0.0s\n",
      "[CV 3/5] END max_depth=12, min_samples_leaf=10, min_samples_split=3, splitter=random;, score=-6707.425 total time=   0.0s\n",
      "[CV 4/5] END max_depth=12, min_samples_leaf=10, min_samples_split=3, splitter=random;, score=-7520.285 total time=   0.0s\n",
      "[CV 5/5] END max_depth=12, min_samples_leaf=10, min_samples_split=3, splitter=random;, score=-6467.815 total time=   0.0s\n",
      "[CV 1/5] END max_depth=12, min_samples_leaf=10, min_samples_split=4, splitter=best;, score=-3421.334 total time=   0.1s\n",
      "[CV 2/5] END max_depth=12, min_samples_leaf=10, min_samples_split=4, splitter=best;, score=-1998.657 total time=   0.0s\n",
      "[CV 3/5] END max_depth=12, min_samples_leaf=10, min_samples_split=4, splitter=best;, score=-4158.098 total time=   0.1s\n",
      "[CV 4/5] END max_depth=12, min_samples_leaf=10, min_samples_split=4, splitter=best;, score=-3410.454 total time=   0.0s\n",
      "[CV 5/5] END max_depth=12, min_samples_leaf=10, min_samples_split=4, splitter=best;, score=-4463.357 total time=   0.1s\n",
      "[CV 1/5] END max_depth=12, min_samples_leaf=10, min_samples_split=4, splitter=random;, score=-4551.156 total time=   0.0s\n",
      "[CV 2/5] END max_depth=12, min_samples_leaf=10, min_samples_split=4, splitter=random;, score=-5495.057 total time=   0.0s\n",
      "[CV 3/5] END max_depth=12, min_samples_leaf=10, min_samples_split=4, splitter=random;, score=-5794.363 total time=   0.0s\n",
      "[CV 4/5] END max_depth=12, min_samples_leaf=10, min_samples_split=4, splitter=random;, score=-11532.514 total time=   0.0s\n",
      "[CV 5/5] END max_depth=12, min_samples_leaf=10, min_samples_split=4, splitter=random;, score=-9696.875 total time=   0.0s\n",
      "[CV 1/5] END max_depth=15, min_samples_leaf=2, min_samples_split=2, splitter=best;, score=-3424.815 total time=   0.1s\n",
      "[CV 2/5] END max_depth=15, min_samples_leaf=2, min_samples_split=2, splitter=best;, score=-1829.391 total time=   0.1s\n",
      "[CV 3/5] END max_depth=15, min_samples_leaf=2, min_samples_split=2, splitter=best;, score=-5253.651 total time=   0.1s\n",
      "[CV 4/5] END max_depth=15, min_samples_leaf=2, min_samples_split=2, splitter=best;, score=-3424.793 total time=   0.1s\n",
      "[CV 5/5] END max_depth=15, min_samples_leaf=2, min_samples_split=2, splitter=best;, score=-5170.353 total time=   0.1s\n",
      "[CV 1/5] END max_depth=15, min_samples_leaf=2, min_samples_split=2, splitter=random;, score=-2886.844 total time=   0.0s\n",
      "[CV 2/5] END max_depth=15, min_samples_leaf=2, min_samples_split=2, splitter=random;, score=-3097.363 total time=   0.0s\n",
      "[CV 3/5] END max_depth=15, min_samples_leaf=2, min_samples_split=2, splitter=random;, score=-7043.942 total time=   0.0s\n",
      "[CV 4/5] END max_depth=15, min_samples_leaf=2, min_samples_split=2, splitter=random;, score=-6084.215 total time=   0.0s\n",
      "[CV 5/5] END max_depth=15, min_samples_leaf=2, min_samples_split=2, splitter=random;, score=-9758.691 total time=   0.0s\n"
     ]
    },
    {
     "name": "stdout",
     "output_type": "stream",
     "text": [
      "[CV 1/5] END max_depth=15, min_samples_leaf=2, min_samples_split=3, splitter=best;, score=-3343.267 total time=   0.1s\n",
      "[CV 2/5] END max_depth=15, min_samples_leaf=2, min_samples_split=3, splitter=best;, score=-1855.790 total time=   0.1s\n",
      "[CV 3/5] END max_depth=15, min_samples_leaf=2, min_samples_split=3, splitter=best;, score=-5125.659 total time=   0.1s\n",
      "[CV 4/5] END max_depth=15, min_samples_leaf=2, min_samples_split=3, splitter=best;, score=-3424.826 total time=   0.1s\n",
      "[CV 5/5] END max_depth=15, min_samples_leaf=2, min_samples_split=3, splitter=best;, score=-5194.335 total time=   0.1s\n",
      "[CV 1/5] END max_depth=15, min_samples_leaf=2, min_samples_split=3, splitter=random;, score=-3977.113 total time=   0.0s\n",
      "[CV 2/5] END max_depth=15, min_samples_leaf=2, min_samples_split=3, splitter=random;, score=-6848.599 total time=   0.0s\n",
      "[CV 3/5] END max_depth=15, min_samples_leaf=2, min_samples_split=3, splitter=random;, score=-4981.158 total time=   0.0s\n",
      "[CV 4/5] END max_depth=15, min_samples_leaf=2, min_samples_split=3, splitter=random;, score=-8697.907 total time=   0.0s\n",
      "[CV 5/5] END max_depth=15, min_samples_leaf=2, min_samples_split=3, splitter=random;, score=-7178.292 total time=   0.0s\n",
      "[CV 1/5] END max_depth=15, min_samples_leaf=2, min_samples_split=4, splitter=best;, score=-3609.699 total time=   0.1s\n",
      "[CV 2/5] END max_depth=15, min_samples_leaf=2, min_samples_split=4, splitter=best;, score=-1929.924 total time=   0.1s\n",
      "[CV 3/5] END max_depth=15, min_samples_leaf=2, min_samples_split=4, splitter=best;, score=-5227.990 total time=   0.1s\n",
      "[CV 4/5] END max_depth=15, min_samples_leaf=2, min_samples_split=4, splitter=best;, score=-3363.827 total time=   0.1s\n",
      "[CV 5/5] END max_depth=15, min_samples_leaf=2, min_samples_split=4, splitter=best;, score=-5158.149 total time=   0.1s\n",
      "[CV 1/5] END max_depth=15, min_samples_leaf=2, min_samples_split=4, splitter=random;, score=-3287.505 total time=   0.0s\n",
      "[CV 2/5] END max_depth=15, min_samples_leaf=2, min_samples_split=4, splitter=random;, score=-4895.705 total time=   0.0s\n",
      "[CV 3/5] END max_depth=15, min_samples_leaf=2, min_samples_split=4, splitter=random;, score=-15648.621 total time=   0.0s\n",
      "[CV 4/5] END max_depth=15, min_samples_leaf=2, min_samples_split=4, splitter=random;, score=-8027.585 total time=   0.0s\n",
      "[CV 5/5] END max_depth=15, min_samples_leaf=2, min_samples_split=4, splitter=random;, score=-10231.692 total time=   0.0s\n",
      "[CV 1/5] END max_depth=15, min_samples_leaf=3, min_samples_split=2, splitter=best;, score=-3519.921 total time=   0.1s\n",
      "[CV 2/5] END max_depth=15, min_samples_leaf=3, min_samples_split=2, splitter=best;, score=-1657.485 total time=   0.1s\n",
      "[CV 3/5] END max_depth=15, min_samples_leaf=3, min_samples_split=2, splitter=best;, score=-4543.724 total time=   0.1s\n",
      "[CV 4/5] END max_depth=15, min_samples_leaf=3, min_samples_split=2, splitter=best;, score=-3272.622 total time=   0.1s\n",
      "[CV 5/5] END max_depth=15, min_samples_leaf=3, min_samples_split=2, splitter=best;, score=-5019.105 total time=   0.1s\n",
      "[CV 1/5] END max_depth=15, min_samples_leaf=3, min_samples_split=2, splitter=random;, score=-3373.907 total time=   0.0s\n",
      "[CV 2/5] END max_depth=15, min_samples_leaf=3, min_samples_split=2, splitter=random;, score=-3086.642 total time=   0.0s\n",
      "[CV 3/5] END max_depth=15, min_samples_leaf=3, min_samples_split=2, splitter=random;, score=-5733.781 total time=   0.0s\n",
      "[CV 4/5] END max_depth=15, min_samples_leaf=3, min_samples_split=2, splitter=random;, score=-7123.208 total time=   0.0s\n",
      "[CV 5/5] END max_depth=15, min_samples_leaf=3, min_samples_split=2, splitter=random;, score=-7519.935 total time=   0.0s\n",
      "[CV 1/5] END max_depth=15, min_samples_leaf=3, min_samples_split=3, splitter=best;, score=-3523.619 total time=   0.1s\n",
      "[CV 2/5] END max_depth=15, min_samples_leaf=3, min_samples_split=3, splitter=best;, score=-1647.676 total time=   0.1s\n",
      "[CV 3/5] END max_depth=15, min_samples_leaf=3, min_samples_split=3, splitter=best;, score=-4602.906 total time=   0.2s\n",
      "[CV 4/5] END max_depth=15, min_samples_leaf=3, min_samples_split=3, splitter=best;, score=-3342.134 total time=   0.1s\n",
      "[CV 5/5] END max_depth=15, min_samples_leaf=3, min_samples_split=3, splitter=best;, score=-5057.915 total time=   0.1s\n",
      "[CV 1/5] END max_depth=15, min_samples_leaf=3, min_samples_split=3, splitter=random;, score=-3212.576 total time=   0.0s\n",
      "[CV 2/5] END max_depth=15, min_samples_leaf=3, min_samples_split=3, splitter=random;, score=-2562.681 total time=   0.0s\n",
      "[CV 3/5] END max_depth=15, min_samples_leaf=3, min_samples_split=3, splitter=random;, score=-5098.273 total time=   0.0s\n",
      "[CV 4/5] END max_depth=15, min_samples_leaf=3, min_samples_split=3, splitter=random;, score=-7372.937 total time=   0.0s\n",
      "[CV 5/5] END max_depth=15, min_samples_leaf=3, min_samples_split=3, splitter=random;, score=-6428.751 total time=   0.0s\n",
      "[CV 1/5] END max_depth=15, min_samples_leaf=3, min_samples_split=4, splitter=best;, score=-3538.438 total time=   0.1s\n",
      "[CV 2/5] END max_depth=15, min_samples_leaf=3, min_samples_split=4, splitter=best;, score=-1626.824 total time=   0.1s\n",
      "[CV 3/5] END max_depth=15, min_samples_leaf=3, min_samples_split=4, splitter=best;, score=-4449.285 total time=   0.1s\n",
      "[CV 4/5] END max_depth=15, min_samples_leaf=3, min_samples_split=4, splitter=best;, score=-3321.139 total time=   0.1s\n",
      "[CV 5/5] END max_depth=15, min_samples_leaf=3, min_samples_split=4, splitter=best;, score=-5026.121 total time=   0.1s\n",
      "[CV 1/5] END max_depth=15, min_samples_leaf=3, min_samples_split=4, splitter=random;, score=-3738.658 total time=   0.0s\n",
      "[CV 2/5] END max_depth=15, min_samples_leaf=3, min_samples_split=4, splitter=random;, score=-3136.351 total time=   0.0s\n",
      "[CV 3/5] END max_depth=15, min_samples_leaf=3, min_samples_split=4, splitter=random;, score=-5940.289 total time=   0.0s\n",
      "[CV 4/5] END max_depth=15, min_samples_leaf=3, min_samples_split=4, splitter=random;, score=-9098.205 total time=   0.0s\n",
      "[CV 5/5] END max_depth=15, min_samples_leaf=3, min_samples_split=4, splitter=random;, score=-6774.926 total time=   0.0s\n",
      "[CV 1/5] END max_depth=15, min_samples_leaf=4, min_samples_split=2, splitter=best;, score=-3545.166 total time=   0.1s\n",
      "[CV 2/5] END max_depth=15, min_samples_leaf=4, min_samples_split=2, splitter=best;, score=-1648.239 total time=   0.1s\n",
      "[CV 3/5] END max_depth=15, min_samples_leaf=4, min_samples_split=2, splitter=best;, score=-4569.431 total time=   0.1s\n",
      "[CV 4/5] END max_depth=15, min_samples_leaf=4, min_samples_split=2, splitter=best;, score=-3201.718 total time=   0.1s\n",
      "[CV 5/5] END max_depth=15, min_samples_leaf=4, min_samples_split=2, splitter=best;, score=-4394.258 total time=   0.1s\n",
      "[CV 1/5] END max_depth=15, min_samples_leaf=4, min_samples_split=2, splitter=random;, score=-5084.459 total time=   0.0s\n",
      "[CV 2/5] END max_depth=15, min_samples_leaf=4, min_samples_split=2, splitter=random;, score=-1964.419 total time=   0.0s\n",
      "[CV 3/5] END max_depth=15, min_samples_leaf=4, min_samples_split=2, splitter=random;, score=-5585.516 total time=   0.0s\n",
      "[CV 4/5] END max_depth=15, min_samples_leaf=4, min_samples_split=2, splitter=random;, score=-4591.510 total time=   0.0s\n",
      "[CV 5/5] END max_depth=15, min_samples_leaf=4, min_samples_split=2, splitter=random;, score=-5320.936 total time=   0.0s\n",
      "[CV 1/5] END max_depth=15, min_samples_leaf=4, min_samples_split=3, splitter=best;, score=-3541.968 total time=   0.1s\n",
      "[CV 2/5] END max_depth=15, min_samples_leaf=4, min_samples_split=3, splitter=best;, score=-1647.497 total time=   0.1s\n",
      "[CV 3/5] END max_depth=15, min_samples_leaf=4, min_samples_split=3, splitter=best;, score=-4705.388 total time=   0.1s\n",
      "[CV 4/5] END max_depth=15, min_samples_leaf=4, min_samples_split=3, splitter=best;, score=-3205.434 total time=   0.1s\n",
      "[CV 5/5] END max_depth=15, min_samples_leaf=4, min_samples_split=3, splitter=best;, score=-4780.527 total time=   0.1s\n",
      "[CV 1/5] END max_depth=15, min_samples_leaf=4, min_samples_split=3, splitter=random;, score=-5311.867 total time=   0.0s\n",
      "[CV 2/5] END max_depth=15, min_samples_leaf=4, min_samples_split=3, splitter=random;, score=-3740.399 total time=   0.0s\n",
      "[CV 3/5] END max_depth=15, min_samples_leaf=4, min_samples_split=3, splitter=random;, score=-5400.210 total time=   0.0s\n",
      "[CV 4/5] END max_depth=15, min_samples_leaf=4, min_samples_split=3, splitter=random;, score=-5494.675 total time=   0.0s\n",
      "[CV 5/5] END max_depth=15, min_samples_leaf=4, min_samples_split=3, splitter=random;, score=-7438.362 total time=   0.0s\n"
     ]
    },
    {
     "name": "stdout",
     "output_type": "stream",
     "text": [
      "[CV 1/5] END max_depth=15, min_samples_leaf=4, min_samples_split=4, splitter=best;, score=-3538.116 total time=   0.1s\n",
      "[CV 2/5] END max_depth=15, min_samples_leaf=4, min_samples_split=4, splitter=best;, score=-1657.762 total time=   0.1s\n",
      "[CV 3/5] END max_depth=15, min_samples_leaf=4, min_samples_split=4, splitter=best;, score=-4295.636 total time=   0.1s\n",
      "[CV 4/5] END max_depth=15, min_samples_leaf=4, min_samples_split=4, splitter=best;, score=-3209.867 total time=   0.1s\n",
      "[CV 5/5] END max_depth=15, min_samples_leaf=4, min_samples_split=4, splitter=best;, score=-4737.898 total time=   0.1s\n",
      "[CV 1/5] END max_depth=15, min_samples_leaf=4, min_samples_split=4, splitter=random;, score=-3322.688 total time=   0.0s\n",
      "[CV 2/5] END max_depth=15, min_samples_leaf=4, min_samples_split=4, splitter=random;, score=-2372.910 total time=   0.0s\n",
      "[CV 3/5] END max_depth=15, min_samples_leaf=4, min_samples_split=4, splitter=random;, score=-5158.999 total time=   0.0s\n",
      "[CV 4/5] END max_depth=15, min_samples_leaf=4, min_samples_split=4, splitter=random;, score=-7676.842 total time=   0.0s\n",
      "[CV 5/5] END max_depth=15, min_samples_leaf=4, min_samples_split=4, splitter=random;, score=-5594.781 total time=   0.0s\n",
      "[CV 1/5] END max_depth=15, min_samples_leaf=6, min_samples_split=2, splitter=best;, score=-3342.297 total time=   0.1s\n",
      "[CV 2/5] END max_depth=15, min_samples_leaf=6, min_samples_split=2, splitter=best;, score=-1494.069 total time=   0.1s\n",
      "[CV 3/5] END max_depth=15, min_samples_leaf=6, min_samples_split=2, splitter=best;, score=-4056.622 total time=   0.1s\n",
      "[CV 4/5] END max_depth=15, min_samples_leaf=6, min_samples_split=2, splitter=best;, score=-3613.978 total time=   0.1s\n",
      "[CV 5/5] END max_depth=15, min_samples_leaf=6, min_samples_split=2, splitter=best;, score=-4355.784 total time=   0.1s\n",
      "[CV 1/5] END max_depth=15, min_samples_leaf=6, min_samples_split=2, splitter=random;, score=-3784.188 total time=   0.0s\n",
      "[CV 2/5] END max_depth=15, min_samples_leaf=6, min_samples_split=2, splitter=random;, score=-3790.371 total time=   0.0s\n",
      "[CV 3/5] END max_depth=15, min_samples_leaf=6, min_samples_split=2, splitter=random;, score=-5081.807 total time=   0.0s\n",
      "[CV 4/5] END max_depth=15, min_samples_leaf=6, min_samples_split=2, splitter=random;, score=-7275.056 total time=   0.0s\n",
      "[CV 5/5] END max_depth=15, min_samples_leaf=6, min_samples_split=2, splitter=random;, score=-6277.720 total time=   0.0s\n",
      "[CV 1/5] END max_depth=15, min_samples_leaf=6, min_samples_split=3, splitter=best;, score=-3290.598 total time=   0.1s\n",
      "[CV 2/5] END max_depth=15, min_samples_leaf=6, min_samples_split=3, splitter=best;, score=-1479.587 total time=   0.1s\n",
      "[CV 3/5] END max_depth=15, min_samples_leaf=6, min_samples_split=3, splitter=best;, score=-4131.794 total time=   0.1s\n",
      "[CV 4/5] END max_depth=15, min_samples_leaf=6, min_samples_split=3, splitter=best;, score=-3624.172 total time=   0.1s\n",
      "[CV 5/5] END max_depth=15, min_samples_leaf=6, min_samples_split=3, splitter=best;, score=-4355.784 total time=   0.1s\n",
      "[CV 1/5] END max_depth=15, min_samples_leaf=6, min_samples_split=3, splitter=random;, score=-3516.094 total time=   0.0s\n",
      "[CV 2/5] END max_depth=15, min_samples_leaf=6, min_samples_split=3, splitter=random;, score=-3127.631 total time=   0.0s\n",
      "[CV 3/5] END max_depth=15, min_samples_leaf=6, min_samples_split=3, splitter=random;, score=-5980.316 total time=   0.0s\n",
      "[CV 4/5] END max_depth=15, min_samples_leaf=6, min_samples_split=3, splitter=random;, score=-4014.328 total time=   0.0s\n",
      "[CV 5/5] END max_depth=15, min_samples_leaf=6, min_samples_split=3, splitter=random;, score=-9988.541 total time=   0.0s\n",
      "[CV 1/5] END max_depth=15, min_samples_leaf=6, min_samples_split=4, splitter=best;, score=-3295.008 total time=   0.1s\n",
      "[CV 2/5] END max_depth=15, min_samples_leaf=6, min_samples_split=4, splitter=best;, score=-1488.833 total time=   0.1s\n",
      "[CV 3/5] END max_depth=15, min_samples_leaf=6, min_samples_split=4, splitter=best;, score=-3957.695 total time=   0.1s\n",
      "[CV 4/5] END max_depth=15, min_samples_leaf=6, min_samples_split=4, splitter=best;, score=-3612.049 total time=   0.1s\n",
      "[CV 5/5] END max_depth=15, min_samples_leaf=6, min_samples_split=4, splitter=best;, score=-4357.904 total time=   0.1s\n",
      "[CV 1/5] END max_depth=15, min_samples_leaf=6, min_samples_split=4, splitter=random;, score=-3241.312 total time=   0.0s\n",
      "[CV 2/5] END max_depth=15, min_samples_leaf=6, min_samples_split=4, splitter=random;, score=-4348.464 total time=   0.0s\n",
      "[CV 3/5] END max_depth=15, min_samples_leaf=6, min_samples_split=4, splitter=random;, score=-6088.380 total time=   0.0s\n",
      "[CV 4/5] END max_depth=15, min_samples_leaf=6, min_samples_split=4, splitter=random;, score=-8949.425 total time=   0.0s\n",
      "[CV 5/5] END max_depth=15, min_samples_leaf=6, min_samples_split=4, splitter=random;, score=-6584.024 total time=   0.0s\n",
      "[CV 1/5] END max_depth=15, min_samples_leaf=10, min_samples_split=2, splitter=best;, score=-3511.483 total time=   0.1s\n",
      "[CV 2/5] END max_depth=15, min_samples_leaf=10, min_samples_split=2, splitter=best;, score=-1954.881 total time=   0.1s\n",
      "[CV 3/5] END max_depth=15, min_samples_leaf=10, min_samples_split=2, splitter=best;, score=-4112.882 total time=   0.1s\n",
      "[CV 4/5] END max_depth=15, min_samples_leaf=10, min_samples_split=2, splitter=best;, score=-3402.534 total time=   0.1s\n",
      "[CV 5/5] END max_depth=15, min_samples_leaf=10, min_samples_split=2, splitter=best;, score=-4378.539 total time=   0.1s\n",
      "[CV 1/5] END max_depth=15, min_samples_leaf=10, min_samples_split=2, splitter=random;, score=-3243.903 total time=   0.0s\n",
      "[CV 2/5] END max_depth=15, min_samples_leaf=10, min_samples_split=2, splitter=random;, score=-2241.245 total time=   0.0s\n",
      "[CV 3/5] END max_depth=15, min_samples_leaf=10, min_samples_split=2, splitter=random;, score=-6169.237 total time=   0.0s\n",
      "[CV 4/5] END max_depth=15, min_samples_leaf=10, min_samples_split=2, splitter=random;, score=-9972.634 total time=   0.0s\n",
      "[CV 5/5] END max_depth=15, min_samples_leaf=10, min_samples_split=2, splitter=random;, score=-5193.678 total time=   0.0s\n",
      "[CV 1/5] END max_depth=15, min_samples_leaf=10, min_samples_split=3, splitter=best;, score=-3519.859 total time=   0.1s\n",
      "[CV 2/5] END max_depth=15, min_samples_leaf=10, min_samples_split=3, splitter=best;, score=-1954.881 total time=   0.1s\n",
      "[CV 3/5] END max_depth=15, min_samples_leaf=10, min_samples_split=3, splitter=best;, score=-4089.600 total time=   0.1s\n",
      "[CV 4/5] END max_depth=15, min_samples_leaf=10, min_samples_split=3, splitter=best;, score=-3402.603 total time=   0.1s\n",
      "[CV 5/5] END max_depth=15, min_samples_leaf=10, min_samples_split=3, splitter=best;, score=-4376.298 total time=   0.1s\n",
      "[CV 1/5] END max_depth=15, min_samples_leaf=10, min_samples_split=3, splitter=random;, score=-3039.873 total time=   0.0s\n",
      "[CV 2/5] END max_depth=15, min_samples_leaf=10, min_samples_split=3, splitter=random;, score=-4400.113 total time=   0.0s\n",
      "[CV 3/5] END max_depth=15, min_samples_leaf=10, min_samples_split=3, splitter=random;, score=-4987.558 total time=   0.0s\n",
      "[CV 4/5] END max_depth=15, min_samples_leaf=10, min_samples_split=3, splitter=random;, score=-10691.636 total time=   0.0s\n",
      "[CV 5/5] END max_depth=15, min_samples_leaf=10, min_samples_split=3, splitter=random;, score=-7350.047 total time=   0.0s\n",
      "[CV 1/5] END max_depth=15, min_samples_leaf=10, min_samples_split=4, splitter=best;, score=-3511.451 total time=   0.1s\n",
      "[CV 2/5] END max_depth=15, min_samples_leaf=10, min_samples_split=4, splitter=best;, score=-1972.804 total time=   0.1s\n",
      "[CV 3/5] END max_depth=15, min_samples_leaf=10, min_samples_split=4, splitter=best;, score=-4083.489 total time=   0.1s\n",
      "[CV 4/5] END max_depth=15, min_samples_leaf=10, min_samples_split=4, splitter=best;, score=-3402.671 total time=   0.1s\n",
      "[CV 5/5] END max_depth=15, min_samples_leaf=10, min_samples_split=4, splitter=best;, score=-4376.300 total time=   0.1s\n",
      "[CV 1/5] END max_depth=15, min_samples_leaf=10, min_samples_split=4, splitter=random;, score=-3618.960 total time=   0.0s\n",
      "[CV 2/5] END max_depth=15, min_samples_leaf=10, min_samples_split=4, splitter=random;, score=-2434.005 total time=   0.0s\n",
      "[CV 3/5] END max_depth=15, min_samples_leaf=10, min_samples_split=4, splitter=random;, score=-6794.061 total time=   0.0s\n",
      "[CV 4/5] END max_depth=15, min_samples_leaf=10, min_samples_split=4, splitter=random;, score=-8772.855 total time=   0.0s\n",
      "[CV 5/5] END max_depth=15, min_samples_leaf=10, min_samples_split=4, splitter=random;, score=-5632.760 total time=   0.0s\n"
     ]
    },
    {
     "name": "stdout",
     "output_type": "stream",
     "text": [
      "[CV 1/5] END max_depth=16, min_samples_leaf=2, min_samples_split=2, splitter=best;, score=-3594.965 total time=   0.1s\n",
      "[CV 2/5] END max_depth=16, min_samples_leaf=2, min_samples_split=2, splitter=best;, score=-1918.475 total time=   0.1s\n",
      "[CV 3/5] END max_depth=16, min_samples_leaf=2, min_samples_split=2, splitter=best;, score=-4909.329 total time=   0.1s\n",
      "[CV 4/5] END max_depth=16, min_samples_leaf=2, min_samples_split=2, splitter=best;, score=-3311.437 total time=   0.1s\n",
      "[CV 5/5] END max_depth=16, min_samples_leaf=2, min_samples_split=2, splitter=best;, score=-5280.286 total time=   0.1s\n",
      "[CV 1/5] END max_depth=16, min_samples_leaf=2, min_samples_split=2, splitter=random;, score=-3908.512 total time=   0.0s\n",
      "[CV 2/5] END max_depth=16, min_samples_leaf=2, min_samples_split=2, splitter=random;, score=-3488.145 total time=   0.0s\n",
      "[CV 3/5] END max_depth=16, min_samples_leaf=2, min_samples_split=2, splitter=random;, score=-6925.410 total time=   0.0s\n",
      "[CV 4/5] END max_depth=16, min_samples_leaf=2, min_samples_split=2, splitter=random;, score=-6389.638 total time=   0.0s\n",
      "[CV 5/5] END max_depth=16, min_samples_leaf=2, min_samples_split=2, splitter=random;, score=-6607.820 total time=   0.0s\n",
      "[CV 1/5] END max_depth=16, min_samples_leaf=2, min_samples_split=3, splitter=best;, score=-3395.111 total time=   0.1s\n",
      "[CV 2/5] END max_depth=16, min_samples_leaf=2, min_samples_split=3, splitter=best;, score=-1906.953 total time=   0.1s\n",
      "[CV 3/5] END max_depth=16, min_samples_leaf=2, min_samples_split=3, splitter=best;, score=-4627.584 total time=   0.1s\n",
      "[CV 4/5] END max_depth=16, min_samples_leaf=2, min_samples_split=3, splitter=best;, score=-3334.502 total time=   0.1s\n",
      "[CV 5/5] END max_depth=16, min_samples_leaf=2, min_samples_split=3, splitter=best;, score=-5119.427 total time=   0.1s\n",
      "[CV 1/5] END max_depth=16, min_samples_leaf=2, min_samples_split=3, splitter=random;, score=-3792.722 total time=   0.0s\n",
      "[CV 2/5] END max_depth=16, min_samples_leaf=2, min_samples_split=3, splitter=random;, score=-4212.945 total time=   0.0s\n",
      "[CV 3/5] END max_depth=16, min_samples_leaf=2, min_samples_split=3, splitter=random;, score=-4423.354 total time=   0.0s\n",
      "[CV 4/5] END max_depth=16, min_samples_leaf=2, min_samples_split=3, splitter=random;, score=-8212.605 total time=   0.0s\n",
      "[CV 5/5] END max_depth=16, min_samples_leaf=2, min_samples_split=3, splitter=random;, score=-7727.851 total time=   0.0s\n",
      "[CV 1/5] END max_depth=16, min_samples_leaf=2, min_samples_split=4, splitter=best;, score=-3411.367 total time=   0.1s\n",
      "[CV 2/5] END max_depth=16, min_samples_leaf=2, min_samples_split=4, splitter=best;, score=-1884.744 total time=   0.1s\n",
      "[CV 3/5] END max_depth=16, min_samples_leaf=2, min_samples_split=4, splitter=best;, score=-4809.364 total time=   0.1s\n",
      "[CV 4/5] END max_depth=16, min_samples_leaf=2, min_samples_split=4, splitter=best;, score=-3364.599 total time=   0.1s\n",
      "[CV 5/5] END max_depth=16, min_samples_leaf=2, min_samples_split=4, splitter=best;, score=-5150.609 total time=   0.1s\n",
      "[CV 1/5] END max_depth=16, min_samples_leaf=2, min_samples_split=4, splitter=random;, score=-3822.690 total time=   0.0s\n",
      "[CV 2/5] END max_depth=16, min_samples_leaf=2, min_samples_split=4, splitter=random;, score=-3181.994 total time=   0.0s\n",
      "[CV 3/5] END max_depth=16, min_samples_leaf=2, min_samples_split=4, splitter=random;, score=-5162.040 total time=   0.0s\n",
      "[CV 4/5] END max_depth=16, min_samples_leaf=2, min_samples_split=4, splitter=random;, score=-7471.884 total time=   0.0s\n",
      "[CV 5/5] END max_depth=16, min_samples_leaf=2, min_samples_split=4, splitter=random;, score=-5845.366 total time=   0.0s\n",
      "[CV 1/5] END max_depth=16, min_samples_leaf=3, min_samples_split=2, splitter=best;, score=-3507.148 total time=   0.1s\n",
      "[CV 2/5] END max_depth=16, min_samples_leaf=3, min_samples_split=2, splitter=best;, score=-1627.667 total time=   0.1s\n",
      "[CV 3/5] END max_depth=16, min_samples_leaf=3, min_samples_split=2, splitter=best;, score=-4660.275 total time=   0.1s\n",
      "[CV 4/5] END max_depth=16, min_samples_leaf=3, min_samples_split=2, splitter=best;, score=-3258.496 total time=   0.1s\n",
      "[CV 5/5] END max_depth=16, min_samples_leaf=3, min_samples_split=2, splitter=best;, score=-4966.801 total time=   0.1s\n",
      "[CV 1/5] END max_depth=16, min_samples_leaf=3, min_samples_split=2, splitter=random;, score=-3117.204 total time=   0.0s\n",
      "[CV 2/5] END max_depth=16, min_samples_leaf=3, min_samples_split=2, splitter=random;, score=-2738.939 total time=   0.0s\n",
      "[CV 3/5] END max_depth=16, min_samples_leaf=3, min_samples_split=2, splitter=random;, score=-5227.776 total time=   0.0s\n",
      "[CV 4/5] END max_depth=16, min_samples_leaf=3, min_samples_split=2, splitter=random;, score=-7049.338 total time=   0.0s\n",
      "[CV 5/5] END max_depth=16, min_samples_leaf=3, min_samples_split=2, splitter=random;, score=-5374.603 total time=   0.0s\n",
      "[CV 1/5] END max_depth=16, min_samples_leaf=3, min_samples_split=3, splitter=best;, score=-3543.347 total time=   0.1s\n",
      "[CV 2/5] END max_depth=16, min_samples_leaf=3, min_samples_split=3, splitter=best;, score=-1650.531 total time=   0.1s\n",
      "[CV 3/5] END max_depth=16, min_samples_leaf=3, min_samples_split=3, splitter=best;, score=-4745.283 total time=   0.1s\n",
      "[CV 4/5] END max_depth=16, min_samples_leaf=3, min_samples_split=3, splitter=best;, score=-3323.104 total time=   0.1s\n",
      "[CV 5/5] END max_depth=16, min_samples_leaf=3, min_samples_split=3, splitter=best;, score=-4954.180 total time=   0.1s\n",
      "[CV 1/5] END max_depth=16, min_samples_leaf=3, min_samples_split=3, splitter=random;, score=-3112.386 total time=   0.0s\n",
      "[CV 2/5] END max_depth=16, min_samples_leaf=3, min_samples_split=3, splitter=random;, score=-2440.946 total time=   0.0s\n",
      "[CV 3/5] END max_depth=16, min_samples_leaf=3, min_samples_split=3, splitter=random;, score=-6191.821 total time=   0.0s\n",
      "[CV 4/5] END max_depth=16, min_samples_leaf=3, min_samples_split=3, splitter=random;, score=-4591.164 total time=   0.0s\n",
      "[CV 5/5] END max_depth=16, min_samples_leaf=3, min_samples_split=3, splitter=random;, score=-5265.087 total time=   0.0s\n",
      "[CV 1/5] END max_depth=16, min_samples_leaf=3, min_samples_split=4, splitter=best;, score=-3544.866 total time=   0.1s\n",
      "[CV 2/5] END max_depth=16, min_samples_leaf=3, min_samples_split=4, splitter=best;, score=-1625.926 total time=   0.1s\n",
      "[CV 3/5] END max_depth=16, min_samples_leaf=3, min_samples_split=4, splitter=best;, score=-4585.633 total time=   0.1s\n",
      "[CV 4/5] END max_depth=16, min_samples_leaf=3, min_samples_split=4, splitter=best;, score=-3263.883 total time=   0.1s\n",
      "[CV 5/5] END max_depth=16, min_samples_leaf=3, min_samples_split=4, splitter=best;, score=-5093.428 total time=   0.1s\n",
      "[CV 1/5] END max_depth=16, min_samples_leaf=3, min_samples_split=4, splitter=random;, score=-4944.333 total time=   0.0s\n",
      "[CV 2/5] END max_depth=16, min_samples_leaf=3, min_samples_split=4, splitter=random;, score=-2984.689 total time=   0.0s\n",
      "[CV 3/5] END max_depth=16, min_samples_leaf=3, min_samples_split=4, splitter=random;, score=-4685.777 total time=   0.0s\n",
      "[CV 4/5] END max_depth=16, min_samples_leaf=3, min_samples_split=4, splitter=random;, score=-9403.388 total time=   0.0s\n",
      "[CV 5/5] END max_depth=16, min_samples_leaf=3, min_samples_split=4, splitter=random;, score=-6814.373 total time=   0.0s\n",
      "[CV 1/5] END max_depth=16, min_samples_leaf=4, min_samples_split=2, splitter=best;, score=-3413.057 total time=   0.1s\n",
      "[CV 2/5] END max_depth=16, min_samples_leaf=4, min_samples_split=2, splitter=best;, score=-1646.368 total time=   0.1s\n",
      "[CV 3/5] END max_depth=16, min_samples_leaf=4, min_samples_split=2, splitter=best;, score=-4560.005 total time=   0.1s\n",
      "[CV 4/5] END max_depth=16, min_samples_leaf=4, min_samples_split=2, splitter=best;, score=-3222.834 total time=   0.1s\n",
      "[CV 5/5] END max_depth=16, min_samples_leaf=4, min_samples_split=2, splitter=best;, score=-4805.484 total time=   0.1s\n",
      "[CV 1/5] END max_depth=16, min_samples_leaf=4, min_samples_split=2, splitter=random;, score=-3530.339 total time=   0.0s\n",
      "[CV 2/5] END max_depth=16, min_samples_leaf=4, min_samples_split=2, splitter=random;, score=-4167.805 total time=   0.0s\n",
      "[CV 3/5] END max_depth=16, min_samples_leaf=4, min_samples_split=2, splitter=random;, score=-4342.930 total time=   0.0s\n",
      "[CV 4/5] END max_depth=16, min_samples_leaf=4, min_samples_split=2, splitter=random;, score=-10101.070 total time=   0.0s\n",
      "[CV 5/5] END max_depth=16, min_samples_leaf=4, min_samples_split=2, splitter=random;, score=-5619.784 total time=   0.0s\n"
     ]
    },
    {
     "name": "stdout",
     "output_type": "stream",
     "text": [
      "[CV 1/5] END max_depth=16, min_samples_leaf=4, min_samples_split=3, splitter=best;, score=-3363.298 total time=   0.1s\n",
      "[CV 2/5] END max_depth=16, min_samples_leaf=4, min_samples_split=3, splitter=best;, score=-1641.036 total time=   0.1s\n",
      "[CV 3/5] END max_depth=16, min_samples_leaf=4, min_samples_split=3, splitter=best;, score=-4388.409 total time=   0.1s\n",
      "[CV 4/5] END max_depth=16, min_samples_leaf=4, min_samples_split=3, splitter=best;, score=-3205.196 total time=   0.1s\n",
      "[CV 5/5] END max_depth=16, min_samples_leaf=4, min_samples_split=3, splitter=best;, score=-4773.972 total time=   0.1s\n",
      "[CV 1/5] END max_depth=16, min_samples_leaf=4, min_samples_split=3, splitter=random;, score=-4217.558 total time=   0.0s\n",
      "[CV 2/5] END max_depth=16, min_samples_leaf=4, min_samples_split=3, splitter=random;, score=-6811.227 total time=   0.0s\n",
      "[CV 3/5] END max_depth=16, min_samples_leaf=4, min_samples_split=3, splitter=random;, score=-3816.942 total time=   0.0s\n",
      "[CV 4/5] END max_depth=16, min_samples_leaf=4, min_samples_split=3, splitter=random;, score=-7574.610 total time=   0.0s\n",
      "[CV 5/5] END max_depth=16, min_samples_leaf=4, min_samples_split=3, splitter=random;, score=-6614.926 total time=   0.0s\n",
      "[CV 1/5] END max_depth=16, min_samples_leaf=4, min_samples_split=4, splitter=best;, score=-3453.532 total time=   0.1s\n",
      "[CV 2/5] END max_depth=16, min_samples_leaf=4, min_samples_split=4, splitter=best;, score=-1646.429 total time=   0.1s\n",
      "[CV 3/5] END max_depth=16, min_samples_leaf=4, min_samples_split=4, splitter=best;, score=-4456.924 total time=   0.1s\n",
      "[CV 4/5] END max_depth=16, min_samples_leaf=4, min_samples_split=4, splitter=best;, score=-3207.720 total time=   0.1s\n",
      "[CV 5/5] END max_depth=16, min_samples_leaf=4, min_samples_split=4, splitter=best;, score=-4749.888 total time=   0.1s\n",
      "[CV 1/5] END max_depth=16, min_samples_leaf=4, min_samples_split=4, splitter=random;, score=-2963.139 total time=   0.0s\n",
      "[CV 2/5] END max_depth=16, min_samples_leaf=4, min_samples_split=4, splitter=random;, score=-3622.072 total time=   0.0s\n",
      "[CV 3/5] END max_depth=16, min_samples_leaf=4, min_samples_split=4, splitter=random;, score=-6192.859 total time=   0.0s\n",
      "[CV 4/5] END max_depth=16, min_samples_leaf=4, min_samples_split=4, splitter=random;, score=-6246.584 total time=   0.0s\n",
      "[CV 5/5] END max_depth=16, min_samples_leaf=4, min_samples_split=4, splitter=random;, score=-5457.478 total time=   0.0s\n",
      "[CV 1/5] END max_depth=16, min_samples_leaf=6, min_samples_split=2, splitter=best;, score=-3360.109 total time=   0.1s\n",
      "[CV 2/5] END max_depth=16, min_samples_leaf=6, min_samples_split=2, splitter=best;, score=-1465.215 total time=   0.1s\n",
      "[CV 3/5] END max_depth=16, min_samples_leaf=6, min_samples_split=2, splitter=best;, score=-4047.104 total time=   0.1s\n",
      "[CV 4/5] END max_depth=16, min_samples_leaf=6, min_samples_split=2, splitter=best;, score=-3625.574 total time=   0.1s\n",
      "[CV 5/5] END max_depth=16, min_samples_leaf=6, min_samples_split=2, splitter=best;, score=-4343.737 total time=   0.1s\n",
      "[CV 1/5] END max_depth=16, min_samples_leaf=6, min_samples_split=2, splitter=random;, score=-3421.213 total time=   0.0s\n",
      "[CV 2/5] END max_depth=16, min_samples_leaf=6, min_samples_split=2, splitter=random;, score=-2229.302 total time=   0.0s\n",
      "[CV 3/5] END max_depth=16, min_samples_leaf=6, min_samples_split=2, splitter=random;, score=-5845.687 total time=   0.0s\n",
      "[CV 4/5] END max_depth=16, min_samples_leaf=6, min_samples_split=2, splitter=random;, score=-3943.491 total time=   0.0s\n",
      "[CV 5/5] END max_depth=16, min_samples_leaf=6, min_samples_split=2, splitter=random;, score=-8000.247 total time=   0.0s\n",
      "[CV 1/5] END max_depth=16, min_samples_leaf=6, min_samples_split=3, splitter=best;, score=-3339.014 total time=   0.1s\n",
      "[CV 2/5] END max_depth=16, min_samples_leaf=6, min_samples_split=3, splitter=best;, score=-1471.936 total time=   0.1s\n",
      "[CV 3/5] END max_depth=16, min_samples_leaf=6, min_samples_split=3, splitter=best;, score=-4114.842 total time=   0.1s\n",
      "[CV 4/5] END max_depth=16, min_samples_leaf=6, min_samples_split=3, splitter=best;, score=-3613.895 total time=   0.1s\n",
      "[CV 5/5] END max_depth=16, min_samples_leaf=6, min_samples_split=3, splitter=best;, score=-4338.521 total time=   0.1s\n",
      "[CV 1/5] END max_depth=16, min_samples_leaf=6, min_samples_split=3, splitter=random;, score=-2653.095 total time=   0.0s\n",
      "[CV 2/5] END max_depth=16, min_samples_leaf=6, min_samples_split=3, splitter=random;, score=-4288.273 total time=   0.0s\n",
      "[CV 3/5] END max_depth=16, min_samples_leaf=6, min_samples_split=3, splitter=random;, score=-6048.315 total time=   0.0s\n",
      "[CV 4/5] END max_depth=16, min_samples_leaf=6, min_samples_split=3, splitter=random;, score=-4555.897 total time=   0.0s\n",
      "[CV 5/5] END max_depth=16, min_samples_leaf=6, min_samples_split=3, splitter=random;, score=-7328.099 total time=   0.0s\n",
      "[CV 1/5] END max_depth=16, min_samples_leaf=6, min_samples_split=4, splitter=best;, score=-3368.705 total time=   0.1s\n",
      "[CV 2/5] END max_depth=16, min_samples_leaf=6, min_samples_split=4, splitter=best;, score=-1485.305 total time=   0.1s\n",
      "[CV 3/5] END max_depth=16, min_samples_leaf=6, min_samples_split=4, splitter=best;, score=-4072.654 total time=   0.1s\n",
      "[CV 4/5] END max_depth=16, min_samples_leaf=6, min_samples_split=4, splitter=best;, score=-3613.844 total time=   0.1s\n",
      "[CV 5/5] END max_depth=16, min_samples_leaf=6, min_samples_split=4, splitter=best;, score=-4337.418 total time=   0.1s\n",
      "[CV 1/5] END max_depth=16, min_samples_leaf=6, min_samples_split=4, splitter=random;, score=-3582.782 total time=   0.0s\n",
      "[CV 2/5] END max_depth=16, min_samples_leaf=6, min_samples_split=4, splitter=random;, score=-3665.300 total time=   0.0s\n",
      "[CV 3/5] END max_depth=16, min_samples_leaf=6, min_samples_split=4, splitter=random;, score=-5495.739 total time=   0.0s\n",
      "[CV 4/5] END max_depth=16, min_samples_leaf=6, min_samples_split=4, splitter=random;, score=-6526.138 total time=   0.0s\n",
      "[CV 5/5] END max_depth=16, min_samples_leaf=6, min_samples_split=4, splitter=random;, score=-5684.652 total time=   0.0s\n",
      "[CV 1/5] END max_depth=16, min_samples_leaf=10, min_samples_split=2, splitter=best;, score=-3523.842 total time=   0.1s\n",
      "[CV 2/5] END max_depth=16, min_samples_leaf=10, min_samples_split=2, splitter=best;, score=-1955.121 total time=   0.1s\n",
      "[CV 3/5] END max_depth=16, min_samples_leaf=10, min_samples_split=2, splitter=best;, score=-4096.518 total time=   0.1s\n",
      "[CV 4/5] END max_depth=16, min_samples_leaf=10, min_samples_split=2, splitter=best;, score=-3402.369 total time=   0.1s\n",
      "[CV 5/5] END max_depth=16, min_samples_leaf=10, min_samples_split=2, splitter=best;, score=-4355.059 total time=   0.1s\n",
      "[CV 1/5] END max_depth=16, min_samples_leaf=10, min_samples_split=2, splitter=random;, score=-3715.873 total time=   0.0s\n",
      "[CV 2/5] END max_depth=16, min_samples_leaf=10, min_samples_split=2, splitter=random;, score=-4592.754 total time=   0.0s\n",
      "[CV 3/5] END max_depth=16, min_samples_leaf=10, min_samples_split=2, splitter=random;, score=-5013.240 total time=   0.0s\n",
      "[CV 4/5] END max_depth=16, min_samples_leaf=10, min_samples_split=2, splitter=random;, score=-6463.901 total time=   0.0s\n",
      "[CV 5/5] END max_depth=16, min_samples_leaf=10, min_samples_split=2, splitter=random;, score=-6048.727 total time=   0.0s\n",
      "[CV 1/5] END max_depth=16, min_samples_leaf=10, min_samples_split=3, splitter=best;, score=-3516.178 total time=   0.1s\n",
      "[CV 2/5] END max_depth=16, min_samples_leaf=10, min_samples_split=3, splitter=best;, score=-1972.892 total time=   0.1s\n",
      "[CV 3/5] END max_depth=16, min_samples_leaf=10, min_samples_split=3, splitter=best;, score=-4103.949 total time=   0.1s\n",
      "[CV 4/5] END max_depth=16, min_samples_leaf=10, min_samples_split=3, splitter=best;, score=-3402.038 total time=   0.1s\n",
      "[CV 5/5] END max_depth=16, min_samples_leaf=10, min_samples_split=3, splitter=best;, score=-4357.301 total time=   0.1s\n",
      "[CV 1/5] END max_depth=16, min_samples_leaf=10, min_samples_split=3, splitter=random;, score=-3683.844 total time=   0.0s\n",
      "[CV 2/5] END max_depth=16, min_samples_leaf=10, min_samples_split=3, splitter=random;, score=-2866.735 total time=   0.0s\n",
      "[CV 3/5] END max_depth=16, min_samples_leaf=10, min_samples_split=3, splitter=random;, score=-6776.538 total time=   0.0s\n",
      "[CV 4/5] END max_depth=16, min_samples_leaf=10, min_samples_split=3, splitter=random;, score=-9114.895 total time=   0.0s\n",
      "[CV 5/5] END max_depth=16, min_samples_leaf=10, min_samples_split=3, splitter=random;, score=-8319.308 total time=   0.0s\n"
     ]
    },
    {
     "name": "stdout",
     "output_type": "stream",
     "text": [
      "[CV 1/5] END max_depth=16, min_samples_leaf=10, min_samples_split=4, splitter=best;, score=-3516.178 total time=   0.1s\n",
      "[CV 2/5] END max_depth=16, min_samples_leaf=10, min_samples_split=4, splitter=best;, score=-1954.969 total time=   0.1s\n",
      "[CV 3/5] END max_depth=16, min_samples_leaf=10, min_samples_split=4, splitter=best;, score=-4082.702 total time=   0.1s\n",
      "[CV 4/5] END max_depth=16, min_samples_leaf=10, min_samples_split=4, splitter=best;, score=-3402.244 total time=   0.1s\n",
      "[CV 5/5] END max_depth=16, min_samples_leaf=10, min_samples_split=4, splitter=best;, score=-4357.301 total time=   0.1s\n",
      "[CV 1/5] END max_depth=16, min_samples_leaf=10, min_samples_split=4, splitter=random;, score=-3471.454 total time=   0.0s\n",
      "[CV 2/5] END max_depth=16, min_samples_leaf=10, min_samples_split=4, splitter=random;, score=-2882.926 total time=   0.0s\n",
      "[CV 3/5] END max_depth=16, min_samples_leaf=10, min_samples_split=4, splitter=random;, score=-5421.560 total time=   0.0s\n",
      "[CV 4/5] END max_depth=16, min_samples_leaf=10, min_samples_split=4, splitter=random;, score=-5662.236 total time=   0.0s\n",
      "[CV 5/5] END max_depth=16, min_samples_leaf=10, min_samples_split=4, splitter=random;, score=-6484.871 total time=   0.0s\n",
      "[CV 1/5] END max_depth=18, min_samples_leaf=2, min_samples_split=2, splitter=best;, score=-3411.595 total time=   0.1s\n",
      "[CV 2/5] END max_depth=18, min_samples_leaf=2, min_samples_split=2, splitter=best;, score=-1927.202 total time=   0.1s\n",
      "[CV 3/5] END max_depth=18, min_samples_leaf=2, min_samples_split=2, splitter=best;, score=-4919.408 total time=   0.1s\n",
      "[CV 4/5] END max_depth=18, min_samples_leaf=2, min_samples_split=2, splitter=best;, score=-3384.255 total time=   0.1s\n",
      "[CV 5/5] END max_depth=18, min_samples_leaf=2, min_samples_split=2, splitter=best;, score=-5193.890 total time=   0.1s\n",
      "[CV 1/5] END max_depth=18, min_samples_leaf=2, min_samples_split=2, splitter=random;, score=-3580.887 total time=   0.0s\n",
      "[CV 2/5] END max_depth=18, min_samples_leaf=2, min_samples_split=2, splitter=random;, score=-2748.157 total time=   0.0s\n",
      "[CV 3/5] END max_depth=18, min_samples_leaf=2, min_samples_split=2, splitter=random;, score=-4319.269 total time=   0.0s\n",
      "[CV 4/5] END max_depth=18, min_samples_leaf=2, min_samples_split=2, splitter=random;, score=-7391.277 total time=   0.0s\n",
      "[CV 5/5] END max_depth=18, min_samples_leaf=2, min_samples_split=2, splitter=random;, score=-7703.639 total time=   0.0s\n",
      "[CV 1/5] END max_depth=18, min_samples_leaf=2, min_samples_split=3, splitter=best;, score=-3569.866 total time=   0.1s\n",
      "[CV 2/5] END max_depth=18, min_samples_leaf=2, min_samples_split=3, splitter=best;, score=-1898.956 total time=   0.1s\n",
      "[CV 3/5] END max_depth=18, min_samples_leaf=2, min_samples_split=3, splitter=best;, score=-5026.512 total time=   0.1s\n",
      "[CV 4/5] END max_depth=18, min_samples_leaf=2, min_samples_split=3, splitter=best;, score=-3454.780 total time=   0.1s\n",
      "[CV 5/5] END max_depth=18, min_samples_leaf=2, min_samples_split=3, splitter=best;, score=-5112.138 total time=   0.1s\n",
      "[CV 1/5] END max_depth=18, min_samples_leaf=2, min_samples_split=3, splitter=random;, score=-6005.527 total time=   0.0s\n",
      "[CV 2/5] END max_depth=18, min_samples_leaf=2, min_samples_split=3, splitter=random;, score=-2680.886 total time=   0.0s\n",
      "[CV 3/5] END max_depth=18, min_samples_leaf=2, min_samples_split=3, splitter=random;, score=-7331.435 total time=   0.0s\n",
      "[CV 4/5] END max_depth=18, min_samples_leaf=2, min_samples_split=3, splitter=random;, score=-14582.782 total time=   0.0s\n",
      "[CV 5/5] END max_depth=18, min_samples_leaf=2, min_samples_split=3, splitter=random;, score=-5436.710 total time=   0.0s\n",
      "[CV 1/5] END max_depth=18, min_samples_leaf=2, min_samples_split=4, splitter=best;, score=-3672.981 total time=   0.1s\n",
      "[CV 2/5] END max_depth=18, min_samples_leaf=2, min_samples_split=4, splitter=best;, score=-1869.581 total time=   0.1s\n",
      "[CV 3/5] END max_depth=18, min_samples_leaf=2, min_samples_split=4, splitter=best;, score=-5069.604 total time=   0.1s\n",
      "[CV 4/5] END max_depth=18, min_samples_leaf=2, min_samples_split=4, splitter=best;, score=-3398.204 total time=   0.1s\n",
      "[CV 5/5] END max_depth=18, min_samples_leaf=2, min_samples_split=4, splitter=best;, score=-5087.341 total time=   0.1s\n",
      "[CV 1/5] END max_depth=18, min_samples_leaf=2, min_samples_split=4, splitter=random;, score=-3562.359 total time=   0.0s\n",
      "[CV 2/5] END max_depth=18, min_samples_leaf=2, min_samples_split=4, splitter=random;, score=-3103.132 total time=   0.0s\n",
      "[CV 3/5] END max_depth=18, min_samples_leaf=2, min_samples_split=4, splitter=random;, score=-5488.061 total time=   0.0s\n",
      "[CV 4/5] END max_depth=18, min_samples_leaf=2, min_samples_split=4, splitter=random;, score=-4722.615 total time=   0.0s\n",
      "[CV 5/5] END max_depth=18, min_samples_leaf=2, min_samples_split=4, splitter=random;, score=-5551.988 total time=   0.0s\n",
      "[CV 1/5] END max_depth=18, min_samples_leaf=3, min_samples_split=2, splitter=best;, score=-3523.507 total time=   0.1s\n",
      "[CV 2/5] END max_depth=18, min_samples_leaf=3, min_samples_split=2, splitter=best;, score=-1664.190 total time=   0.1s\n",
      "[CV 3/5] END max_depth=18, min_samples_leaf=3, min_samples_split=2, splitter=best;, score=-4646.498 total time=   0.1s\n",
      "[CV 4/5] END max_depth=18, min_samples_leaf=3, min_samples_split=2, splitter=best;, score=-3343.905 total time=   0.1s\n",
      "[CV 5/5] END max_depth=18, min_samples_leaf=3, min_samples_split=2, splitter=best;, score=-5008.784 total time=   0.1s\n",
      "[CV 1/5] END max_depth=18, min_samples_leaf=3, min_samples_split=2, splitter=random;, score=-3280.641 total time=   0.0s\n",
      "[CV 2/5] END max_depth=18, min_samples_leaf=3, min_samples_split=2, splitter=random;, score=-5119.086 total time=   0.0s\n",
      "[CV 3/5] END max_depth=18, min_samples_leaf=3, min_samples_split=2, splitter=random;, score=-5178.545 total time=   0.0s\n",
      "[CV 4/5] END max_depth=18, min_samples_leaf=3, min_samples_split=2, splitter=random;, score=-13211.512 total time=   0.0s\n",
      "[CV 5/5] END max_depth=18, min_samples_leaf=3, min_samples_split=2, splitter=random;, score=-5128.550 total time=   0.0s\n",
      "[CV 1/5] END max_depth=18, min_samples_leaf=3, min_samples_split=3, splitter=best;, score=-3566.292 total time=   0.1s\n",
      "[CV 2/5] END max_depth=18, min_samples_leaf=3, min_samples_split=3, splitter=best;, score=-1668.320 total time=   0.1s\n",
      "[CV 3/5] END max_depth=18, min_samples_leaf=3, min_samples_split=3, splitter=best;, score=-4835.273 total time=   0.1s\n",
      "[CV 4/5] END max_depth=18, min_samples_leaf=3, min_samples_split=3, splitter=best;, score=-3377.020 total time=   0.1s\n",
      "[CV 5/5] END max_depth=18, min_samples_leaf=3, min_samples_split=3, splitter=best;, score=-5039.388 total time=   0.1s\n",
      "[CV 1/5] END max_depth=18, min_samples_leaf=3, min_samples_split=3, splitter=random;, score=-3991.683 total time=   0.0s\n",
      "[CV 2/5] END max_depth=18, min_samples_leaf=3, min_samples_split=3, splitter=random;, score=-3267.063 total time=   0.0s\n",
      "[CV 3/5] END max_depth=18, min_samples_leaf=3, min_samples_split=3, splitter=random;, score=-5398.478 total time=   0.0s\n",
      "[CV 4/5] END max_depth=18, min_samples_leaf=3, min_samples_split=3, splitter=random;, score=-4648.228 total time=   0.0s\n",
      "[CV 5/5] END max_depth=18, min_samples_leaf=3, min_samples_split=3, splitter=random;, score=-4734.537 total time=   0.0s\n",
      "[CV 1/5] END max_depth=18, min_samples_leaf=3, min_samples_split=4, splitter=best;, score=-3410.443 total time=   0.1s\n",
      "[CV 2/5] END max_depth=18, min_samples_leaf=3, min_samples_split=4, splitter=best;, score=-1650.567 total time=   0.1s\n",
      "[CV 3/5] END max_depth=18, min_samples_leaf=3, min_samples_split=4, splitter=best;, score=-4638.131 total time=   0.1s\n",
      "[CV 4/5] END max_depth=18, min_samples_leaf=3, min_samples_split=4, splitter=best;, score=-3294.547 total time=   0.1s\n",
      "[CV 5/5] END max_depth=18, min_samples_leaf=3, min_samples_split=4, splitter=best;, score=-5057.282 total time=   0.1s\n",
      "[CV 1/5] END max_depth=18, min_samples_leaf=3, min_samples_split=4, splitter=random;, score=-5341.275 total time=   0.0s\n",
      "[CV 2/5] END max_depth=18, min_samples_leaf=3, min_samples_split=4, splitter=random;, score=-5044.550 total time=   0.0s\n",
      "[CV 3/5] END max_depth=18, min_samples_leaf=3, min_samples_split=4, splitter=random;, score=-5236.210 total time=   0.0s\n",
      "[CV 4/5] END max_depth=18, min_samples_leaf=3, min_samples_split=4, splitter=random;, score=-10894.897 total time=   0.0s\n",
      "[CV 5/5] END max_depth=18, min_samples_leaf=3, min_samples_split=4, splitter=random;, score=-4870.651 total time=   0.0s\n"
     ]
    },
    {
     "name": "stdout",
     "output_type": "stream",
     "text": [
      "[CV 1/5] END max_depth=18, min_samples_leaf=4, min_samples_split=2, splitter=best;, score=-3466.151 total time=   0.1s\n",
      "[CV 2/5] END max_depth=18, min_samples_leaf=4, min_samples_split=2, splitter=best;, score=-1643.158 total time=   0.1s\n",
      "[CV 3/5] END max_depth=18, min_samples_leaf=4, min_samples_split=2, splitter=best;, score=-4621.124 total time=   0.1s\n",
      "[CV 4/5] END max_depth=18, min_samples_leaf=4, min_samples_split=2, splitter=best;, score=-3178.794 total time=   0.1s\n",
      "[CV 5/5] END max_depth=18, min_samples_leaf=4, min_samples_split=2, splitter=best;, score=-4364.061 total time=   0.1s\n",
      "[CV 1/5] END max_depth=18, min_samples_leaf=4, min_samples_split=2, splitter=random;, score=-4415.914 total time=   0.0s\n",
      "[CV 2/5] END max_depth=18, min_samples_leaf=4, min_samples_split=2, splitter=random;, score=-1502.122 total time=   0.0s\n",
      "[CV 3/5] END max_depth=18, min_samples_leaf=4, min_samples_split=2, splitter=random;, score=-5559.312 total time=   0.0s\n",
      "[CV 4/5] END max_depth=18, min_samples_leaf=4, min_samples_split=2, splitter=random;, score=-7252.024 total time=   0.0s\n",
      "[CV 5/5] END max_depth=18, min_samples_leaf=4, min_samples_split=2, splitter=random;, score=-5729.250 total time=   0.0s\n",
      "[CV 1/5] END max_depth=18, min_samples_leaf=4, min_samples_split=3, splitter=best;, score=-3379.569 total time=   0.1s\n",
      "[CV 2/5] END max_depth=18, min_samples_leaf=4, min_samples_split=3, splitter=best;, score=-1640.108 total time=   0.1s\n",
      "[CV 3/5] END max_depth=18, min_samples_leaf=4, min_samples_split=3, splitter=best;, score=-4691.060 total time=   0.1s\n",
      "[CV 4/5] END max_depth=18, min_samples_leaf=4, min_samples_split=3, splitter=best;, score=-3197.312 total time=   0.1s\n",
      "[CV 5/5] END max_depth=18, min_samples_leaf=4, min_samples_split=3, splitter=best;, score=-4358.922 total time=   0.1s\n",
      "[CV 1/5] END max_depth=18, min_samples_leaf=4, min_samples_split=3, splitter=random;, score=-3389.108 total time=   0.0s\n",
      "[CV 2/5] END max_depth=18, min_samples_leaf=4, min_samples_split=3, splitter=random;, score=-3816.519 total time=   0.0s\n",
      "[CV 3/5] END max_depth=18, min_samples_leaf=4, min_samples_split=3, splitter=random;, score=-6122.219 total time=   0.0s\n",
      "[CV 4/5] END max_depth=18, min_samples_leaf=4, min_samples_split=3, splitter=random;, score=-4909.756 total time=   0.0s\n",
      "[CV 5/5] END max_depth=18, min_samples_leaf=4, min_samples_split=3, splitter=random;, score=-10085.557 total time=   0.0s\n",
      "[CV 1/5] END max_depth=18, min_samples_leaf=4, min_samples_split=4, splitter=best;, score=-3383.406 total time=   0.1s\n",
      "[CV 2/5] END max_depth=18, min_samples_leaf=4, min_samples_split=4, splitter=best;, score=-1635.187 total time=   0.1s\n",
      "[CV 3/5] END max_depth=18, min_samples_leaf=4, min_samples_split=4, splitter=best;, score=-4348.042 total time=   0.1s\n",
      "[CV 4/5] END max_depth=18, min_samples_leaf=4, min_samples_split=4, splitter=best;, score=-3171.813 total time=   0.1s\n",
      "[CV 5/5] END max_depth=18, min_samples_leaf=4, min_samples_split=4, splitter=best;, score=-4779.700 total time=   0.1s\n",
      "[CV 1/5] END max_depth=18, min_samples_leaf=4, min_samples_split=4, splitter=random;, score=-2769.325 total time=   0.0s\n",
      "[CV 2/5] END max_depth=18, min_samples_leaf=4, min_samples_split=4, splitter=random;, score=-3230.171 total time=   0.0s\n",
      "[CV 3/5] END max_depth=18, min_samples_leaf=4, min_samples_split=4, splitter=random;, score=-4954.933 total time=   0.0s\n",
      "[CV 4/5] END max_depth=18, min_samples_leaf=4, min_samples_split=4, splitter=random;, score=-6231.925 total time=   0.0s\n",
      "[CV 5/5] END max_depth=18, min_samples_leaf=4, min_samples_split=4, splitter=random;, score=-4639.396 total time=   0.0s\n",
      "[CV 1/5] END max_depth=18, min_samples_leaf=6, min_samples_split=2, splitter=best;, score=-3219.867 total time=   0.1s\n",
      "[CV 2/5] END max_depth=18, min_samples_leaf=6, min_samples_split=2, splitter=best;, score=-1509.995 total time=   0.1s\n",
      "[CV 3/5] END max_depth=18, min_samples_leaf=6, min_samples_split=2, splitter=best;, score=-3982.697 total time=   0.1s\n",
      "[CV 4/5] END max_depth=18, min_samples_leaf=6, min_samples_split=2, splitter=best;, score=-3625.422 total time=   0.1s\n",
      "[CV 5/5] END max_depth=18, min_samples_leaf=6, min_samples_split=2, splitter=best;, score=-4352.221 total time=   0.1s\n",
      "[CV 1/5] END max_depth=18, min_samples_leaf=6, min_samples_split=2, splitter=random;, score=-3222.371 total time=   0.0s\n",
      "[CV 2/5] END max_depth=18, min_samples_leaf=6, min_samples_split=2, splitter=random;, score=-4123.159 total time=   0.0s\n",
      "[CV 3/5] END max_depth=18, min_samples_leaf=6, min_samples_split=2, splitter=random;, score=-5282.241 total time=   0.0s\n",
      "[CV 4/5] END max_depth=18, min_samples_leaf=6, min_samples_split=2, splitter=random;, score=-4945.309 total time=   0.0s\n",
      "[CV 5/5] END max_depth=18, min_samples_leaf=6, min_samples_split=2, splitter=random;, score=-8032.773 total time=   0.0s\n",
      "[CV 1/5] END max_depth=18, min_samples_leaf=6, min_samples_split=3, splitter=best;, score=-3380.476 total time=   0.1s\n",
      "[CV 2/5] END max_depth=18, min_samples_leaf=6, min_samples_split=3, splitter=best;, score=-1498.796 total time=   0.1s\n",
      "[CV 3/5] END max_depth=18, min_samples_leaf=6, min_samples_split=3, splitter=best;, score=-3948.358 total time=   0.1s\n",
      "[CV 4/5] END max_depth=18, min_samples_leaf=6, min_samples_split=3, splitter=best;, score=-3623.962 total time=   0.1s\n",
      "[CV 5/5] END max_depth=18, min_samples_leaf=6, min_samples_split=3, splitter=best;, score=-4348.620 total time=   0.1s\n",
      "[CV 1/5] END max_depth=18, min_samples_leaf=6, min_samples_split=3, splitter=random;, score=-4415.417 total time=   0.0s\n",
      "[CV 2/5] END max_depth=18, min_samples_leaf=6, min_samples_split=3, splitter=random;, score=-2213.480 total time=   0.0s\n",
      "[CV 3/5] END max_depth=18, min_samples_leaf=6, min_samples_split=3, splitter=random;, score=-3827.954 total time=   0.0s\n",
      "[CV 4/5] END max_depth=18, min_samples_leaf=6, min_samples_split=3, splitter=random;, score=-10603.851 total time=   0.0s\n",
      "[CV 5/5] END max_depth=18, min_samples_leaf=6, min_samples_split=3, splitter=random;, score=-8514.488 total time=   0.0s\n",
      "[CV 1/5] END max_depth=18, min_samples_leaf=6, min_samples_split=4, splitter=best;, score=-3218.647 total time=   0.1s\n",
      "[CV 2/5] END max_depth=18, min_samples_leaf=6, min_samples_split=4, splitter=best;, score=-1518.921 total time=   0.1s\n",
      "[CV 3/5] END max_depth=18, min_samples_leaf=6, min_samples_split=4, splitter=best;, score=-3971.552 total time=   0.1s\n",
      "[CV 4/5] END max_depth=18, min_samples_leaf=6, min_samples_split=4, splitter=best;, score=-3625.454 total time=   0.1s\n",
      "[CV 5/5] END max_depth=18, min_samples_leaf=6, min_samples_split=4, splitter=best;, score=-4346.694 total time=   0.1s\n",
      "[CV 1/5] END max_depth=18, min_samples_leaf=6, min_samples_split=4, splitter=random;, score=-2717.427 total time=   0.0s\n",
      "[CV 2/5] END max_depth=18, min_samples_leaf=6, min_samples_split=4, splitter=random;, score=-2987.812 total time=   0.0s\n",
      "[CV 3/5] END max_depth=18, min_samples_leaf=6, min_samples_split=4, splitter=random;, score=-5907.060 total time=   0.0s\n",
      "[CV 4/5] END max_depth=18, min_samples_leaf=6, min_samples_split=4, splitter=random;, score=-7971.841 total time=   0.0s\n",
      "[CV 5/5] END max_depth=18, min_samples_leaf=6, min_samples_split=4, splitter=random;, score=-8502.222 total time=   0.0s\n",
      "[CV 1/5] END max_depth=18, min_samples_leaf=10, min_samples_split=2, splitter=best;, score=-3520.728 total time=   0.1s\n",
      "[CV 2/5] END max_depth=18, min_samples_leaf=10, min_samples_split=2, splitter=best;, score=-1978.299 total time=   0.1s\n",
      "[CV 3/5] END max_depth=18, min_samples_leaf=10, min_samples_split=2, splitter=best;, score=-4097.219 total time=   0.2s\n",
      "[CV 4/5] END max_depth=18, min_samples_leaf=10, min_samples_split=2, splitter=best;, score=-3402.110 total time=   0.1s\n",
      "[CV 5/5] END max_depth=18, min_samples_leaf=10, min_samples_split=2, splitter=best;, score=-4355.056 total time=   0.1s\n",
      "[CV 1/5] END max_depth=18, min_samples_leaf=10, min_samples_split=2, splitter=random;, score=-3558.814 total time=   0.0s\n",
      "[CV 2/5] END max_depth=18, min_samples_leaf=10, min_samples_split=2, splitter=random;, score=-3864.373 total time=   0.0s\n",
      "[CV 3/5] END max_depth=18, min_samples_leaf=10, min_samples_split=2, splitter=random;, score=-5107.583 total time=   0.0s\n",
      "[CV 4/5] END max_depth=18, min_samples_leaf=10, min_samples_split=2, splitter=random;, score=-10262.986 total time=   0.0s\n",
      "[CV 5/5] END max_depth=18, min_samples_leaf=10, min_samples_split=2, splitter=random;, score=-5206.845 total time=   0.0s\n"
     ]
    },
    {
     "name": "stdout",
     "output_type": "stream",
     "text": [
      "[CV 1/5] END max_depth=18, min_samples_leaf=10, min_samples_split=3, splitter=best;, score=-3529.167 total time=   0.1s\n",
      "[CV 2/5] END max_depth=18, min_samples_leaf=10, min_samples_split=3, splitter=best;, score=-1960.376 total time=   0.1s\n",
      "[CV 3/5] END max_depth=18, min_samples_leaf=10, min_samples_split=3, splitter=best;, score=-4105.344 total time=   0.1s\n",
      "[CV 4/5] END max_depth=18, min_samples_leaf=10, min_samples_split=3, splitter=best;, score=-3402.441 total time=   0.1s\n",
      "[CV 5/5] END max_depth=18, min_samples_leaf=10, min_samples_split=3, splitter=best;, score=-4355.058 total time=   0.1s\n",
      "[CV 1/5] END max_depth=18, min_samples_leaf=10, min_samples_split=3, splitter=random;, score=-2495.909 total time=   0.0s\n",
      "[CV 2/5] END max_depth=18, min_samples_leaf=10, min_samples_split=3, splitter=random;, score=-3007.963 total time=   0.0s\n",
      "[CV 3/5] END max_depth=18, min_samples_leaf=10, min_samples_split=3, splitter=random;, score=-6031.162 total time=   0.0s\n",
      "[CV 4/5] END max_depth=18, min_samples_leaf=10, min_samples_split=3, splitter=random;, score=-13118.556 total time=   0.0s\n",
      "[CV 5/5] END max_depth=18, min_samples_leaf=10, min_samples_split=3, splitter=random;, score=-7054.557 total time=   0.0s\n",
      "[CV 1/5] END max_depth=18, min_samples_leaf=10, min_samples_split=4, splitter=best;, score=-3519.257 total time=   0.1s\n",
      "[CV 2/5] END max_depth=18, min_samples_leaf=10, min_samples_split=4, splitter=best;, score=-1960.376 total time=   0.1s\n",
      "[CV 3/5] END max_depth=18, min_samples_leaf=10, min_samples_split=4, splitter=best;, score=-4104.127 total time=   0.1s\n",
      "[CV 4/5] END max_depth=18, min_samples_leaf=10, min_samples_split=4, splitter=best;, score=-3402.197 total time=   0.1s\n",
      "[CV 5/5] END max_depth=18, min_samples_leaf=10, min_samples_split=4, splitter=best;, score=-4357.298 total time=   0.1s\n",
      "[CV 1/5] END max_depth=18, min_samples_leaf=10, min_samples_split=4, splitter=random;, score=-3392.826 total time=   0.0s\n",
      "[CV 2/5] END max_depth=18, min_samples_leaf=10, min_samples_split=4, splitter=random;, score=-3127.506 total time=   0.0s\n",
      "[CV 3/5] END max_depth=18, min_samples_leaf=10, min_samples_split=4, splitter=random;, score=-4107.494 total time=   0.0s\n",
      "[CV 4/5] END max_depth=18, min_samples_leaf=10, min_samples_split=4, splitter=random;, score=-8803.169 total time=   0.0s\n",
      "[CV 5/5] END max_depth=18, min_samples_leaf=10, min_samples_split=4, splitter=random;, score=-9149.699 total time=   0.0s\n",
      "[CV 1/5] END max_depth=20, min_samples_leaf=2, min_samples_split=2, splitter=best;, score=-3634.559 total time=   0.1s\n",
      "[CV 2/5] END max_depth=20, min_samples_leaf=2, min_samples_split=2, splitter=best;, score=-1930.418 total time=   0.1s\n",
      "[CV 3/5] END max_depth=20, min_samples_leaf=2, min_samples_split=2, splitter=best;, score=-5049.573 total time=   0.1s\n",
      "[CV 4/5] END max_depth=20, min_samples_leaf=2, min_samples_split=2, splitter=best;, score=-3360.592 total time=   0.1s\n",
      "[CV 5/5] END max_depth=20, min_samples_leaf=2, min_samples_split=2, splitter=best;, score=-5183.564 total time=   0.1s\n",
      "[CV 1/5] END max_depth=20, min_samples_leaf=2, min_samples_split=2, splitter=random;, score=-3268.802 total time=   0.0s\n",
      "[CV 2/5] END max_depth=20, min_samples_leaf=2, min_samples_split=2, splitter=random;, score=-3688.919 total time=   0.0s\n",
      "[CV 3/5] END max_depth=20, min_samples_leaf=2, min_samples_split=2, splitter=random;, score=-4944.060 total time=   0.0s\n",
      "[CV 4/5] END max_depth=20, min_samples_leaf=2, min_samples_split=2, splitter=random;, score=-14732.951 total time=   0.0s\n",
      "[CV 5/5] END max_depth=20, min_samples_leaf=2, min_samples_split=2, splitter=random;, score=-7169.489 total time=   0.0s\n",
      "[CV 1/5] END max_depth=20, min_samples_leaf=2, min_samples_split=3, splitter=best;, score=-3578.877 total time=   0.1s\n",
      "[CV 2/5] END max_depth=20, min_samples_leaf=2, min_samples_split=3, splitter=best;, score=-1886.644 total time=   0.1s\n",
      "[CV 3/5] END max_depth=20, min_samples_leaf=2, min_samples_split=3, splitter=best;, score=-4926.454 total time=   0.1s\n",
      "[CV 4/5] END max_depth=20, min_samples_leaf=2, min_samples_split=3, splitter=best;, score=-3298.879 total time=   0.1s\n",
      "[CV 5/5] END max_depth=20, min_samples_leaf=2, min_samples_split=3, splitter=best;, score=-5084.724 total time=   0.1s\n",
      "[CV 1/5] END max_depth=20, min_samples_leaf=2, min_samples_split=3, splitter=random;, score=-3727.018 total time=   0.0s\n",
      "[CV 2/5] END max_depth=20, min_samples_leaf=2, min_samples_split=3, splitter=random;, score=-2693.313 total time=   0.0s\n",
      "[CV 3/5] END max_depth=20, min_samples_leaf=2, min_samples_split=3, splitter=random;, score=-5984.709 total time=   0.0s\n",
      "[CV 4/5] END max_depth=20, min_samples_leaf=2, min_samples_split=3, splitter=random;, score=-4662.130 total time=   0.0s\n",
      "[CV 5/5] END max_depth=20, min_samples_leaf=2, min_samples_split=3, splitter=random;, score=-8949.873 total time=   0.0s\n",
      "[CV 1/5] END max_depth=20, min_samples_leaf=2, min_samples_split=4, splitter=best;, score=-3599.170 total time=   0.1s\n",
      "[CV 2/5] END max_depth=20, min_samples_leaf=2, min_samples_split=4, splitter=best;, score=-1937.897 total time=   0.1s\n",
      "[CV 3/5] END max_depth=20, min_samples_leaf=2, min_samples_split=4, splitter=best;, score=-5041.540 total time=   0.1s\n",
      "[CV 4/5] END max_depth=20, min_samples_leaf=2, min_samples_split=4, splitter=best;, score=-3437.147 total time=   0.1s\n",
      "[CV 5/5] END max_depth=20, min_samples_leaf=2, min_samples_split=4, splitter=best;, score=-5179.462 total time=   0.1s\n",
      "[CV 1/5] END max_depth=20, min_samples_leaf=2, min_samples_split=4, splitter=random;, score=-4089.998 total time=   0.0s\n",
      "[CV 2/5] END max_depth=20, min_samples_leaf=2, min_samples_split=4, splitter=random;, score=-2411.175 total time=   0.0s\n",
      "[CV 3/5] END max_depth=20, min_samples_leaf=2, min_samples_split=4, splitter=random;, score=-9720.450 total time=   0.0s\n",
      "[CV 4/5] END max_depth=20, min_samples_leaf=2, min_samples_split=4, splitter=random;, score=-4788.619 total time=   0.0s\n",
      "[CV 5/5] END max_depth=20, min_samples_leaf=2, min_samples_split=4, splitter=random;, score=-6130.293 total time=   0.0s\n",
      "[CV 1/5] END max_depth=20, min_samples_leaf=3, min_samples_split=2, splitter=best;, score=-3509.114 total time=   0.1s\n",
      "[CV 2/5] END max_depth=20, min_samples_leaf=3, min_samples_split=2, splitter=best;, score=-1656.600 total time=   0.1s\n",
      "[CV 3/5] END max_depth=20, min_samples_leaf=3, min_samples_split=2, splitter=best;, score=-4846.313 total time=   0.1s\n",
      "[CV 4/5] END max_depth=20, min_samples_leaf=3, min_samples_split=2, splitter=best;, score=-3327.637 total time=   0.1s\n",
      "[CV 5/5] END max_depth=20, min_samples_leaf=3, min_samples_split=2, splitter=best;, score=-5007.781 total time=   0.1s\n",
      "[CV 1/5] END max_depth=20, min_samples_leaf=3, min_samples_split=2, splitter=random;, score=-3589.455 total time=   0.0s\n",
      "[CV 2/5] END max_depth=20, min_samples_leaf=3, min_samples_split=2, splitter=random;, score=-2750.020 total time=   0.0s\n",
      "[CV 3/5] END max_depth=20, min_samples_leaf=3, min_samples_split=2, splitter=random;, score=-5911.765 total time=   0.0s\n",
      "[CV 4/5] END max_depth=20, min_samples_leaf=3, min_samples_split=2, splitter=random;, score=-4792.239 total time=   0.0s\n",
      "[CV 5/5] END max_depth=20, min_samples_leaf=3, min_samples_split=2, splitter=random;, score=-7187.841 total time=   0.0s\n",
      "[CV 1/5] END max_depth=20, min_samples_leaf=3, min_samples_split=3, splitter=best;, score=-3435.668 total time=   0.1s\n",
      "[CV 2/5] END max_depth=20, min_samples_leaf=3, min_samples_split=3, splitter=best;, score=-1646.130 total time=   0.1s\n",
      "[CV 3/5] END max_depth=20, min_samples_leaf=3, min_samples_split=3, splitter=best;, score=-4818.086 total time=   0.1s\n",
      "[CV 4/5] END max_depth=20, min_samples_leaf=3, min_samples_split=3, splitter=best;, score=-3248.568 total time=   0.1s\n",
      "[CV 5/5] END max_depth=20, min_samples_leaf=3, min_samples_split=3, splitter=best;, score=-5054.175 total time=   0.1s\n",
      "[CV 1/5] END max_depth=20, min_samples_leaf=3, min_samples_split=3, splitter=random;, score=-4613.403 total time=   0.0s\n",
      "[CV 2/5] END max_depth=20, min_samples_leaf=3, min_samples_split=3, splitter=random;, score=-3023.426 total time=   0.0s\n",
      "[CV 3/5] END max_depth=20, min_samples_leaf=3, min_samples_split=3, splitter=random;, score=-3768.610 total time=   0.0s\n",
      "[CV 4/5] END max_depth=20, min_samples_leaf=3, min_samples_split=3, splitter=random;, score=-6901.162 total time=   0.0s\n",
      "[CV 5/5] END max_depth=20, min_samples_leaf=3, min_samples_split=3, splitter=random;, score=-5364.640 total time=   0.0s\n"
     ]
    },
    {
     "name": "stdout",
     "output_type": "stream",
     "text": [
      "[CV 1/5] END max_depth=20, min_samples_leaf=3, min_samples_split=4, splitter=best;, score=-3513.286 total time=   0.1s\n",
      "[CV 2/5] END max_depth=20, min_samples_leaf=3, min_samples_split=4, splitter=best;, score=-1664.821 total time=   0.1s\n",
      "[CV 3/5] END max_depth=20, min_samples_leaf=3, min_samples_split=4, splitter=best;, score=-4761.007 total time=   0.1s\n",
      "[CV 4/5] END max_depth=20, min_samples_leaf=3, min_samples_split=4, splitter=best;, score=-3333.283 total time=   0.1s\n",
      "[CV 5/5] END max_depth=20, min_samples_leaf=3, min_samples_split=4, splitter=best;, score=-5014.050 total time=   0.1s\n",
      "[CV 1/5] END max_depth=20, min_samples_leaf=3, min_samples_split=4, splitter=random;, score=-2716.404 total time=   0.0s\n",
      "[CV 2/5] END max_depth=20, min_samples_leaf=3, min_samples_split=4, splitter=random;, score=-2913.716 total time=   0.0s\n",
      "[CV 3/5] END max_depth=20, min_samples_leaf=3, min_samples_split=4, splitter=random;, score=-5415.591 total time=   0.0s\n",
      "[CV 4/5] END max_depth=20, min_samples_leaf=3, min_samples_split=4, splitter=random;, score=-7714.482 total time=   0.0s\n",
      "[CV 5/5] END max_depth=20, min_samples_leaf=3, min_samples_split=4, splitter=random;, score=-4399.816 total time=   0.0s\n",
      "[CV 1/5] END max_depth=20, min_samples_leaf=4, min_samples_split=2, splitter=best;, score=-3373.362 total time=   0.1s\n",
      "[CV 2/5] END max_depth=20, min_samples_leaf=4, min_samples_split=2, splitter=best;, score=-1636.553 total time=   0.1s\n",
      "[CV 3/5] END max_depth=20, min_samples_leaf=4, min_samples_split=2, splitter=best;, score=-4444.752 total time=   0.1s\n",
      "[CV 4/5] END max_depth=20, min_samples_leaf=4, min_samples_split=2, splitter=best;, score=-3207.254 total time=   0.1s\n",
      "[CV 5/5] END max_depth=20, min_samples_leaf=4, min_samples_split=2, splitter=best;, score=-4755.672 total time=   0.1s\n",
      "[CV 1/5] END max_depth=20, min_samples_leaf=4, min_samples_split=2, splitter=random;, score=-3059.806 total time=   0.0s\n",
      "[CV 2/5] END max_depth=20, min_samples_leaf=4, min_samples_split=2, splitter=random;, score=-2359.644 total time=   0.0s\n",
      "[CV 3/5] END max_depth=20, min_samples_leaf=4, min_samples_split=2, splitter=random;, score=-4703.882 total time=   0.0s\n",
      "[CV 4/5] END max_depth=20, min_samples_leaf=4, min_samples_split=2, splitter=random;, score=-4386.229 total time=   0.0s\n",
      "[CV 5/5] END max_depth=20, min_samples_leaf=4, min_samples_split=2, splitter=random;, score=-5782.261 total time=   0.0s\n",
      "[CV 1/5] END max_depth=20, min_samples_leaf=4, min_samples_split=3, splitter=best;, score=-3451.759 total time=   0.1s\n",
      "[CV 2/5] END max_depth=20, min_samples_leaf=4, min_samples_split=3, splitter=best;, score=-1644.325 total time=   0.1s\n",
      "[CV 3/5] END max_depth=20, min_samples_leaf=4, min_samples_split=3, splitter=best;, score=-4651.751 total time=   0.1s\n",
      "[CV 4/5] END max_depth=20, min_samples_leaf=4, min_samples_split=3, splitter=best;, score=-3187.255 total time=   0.1s\n",
      "[CV 5/5] END max_depth=20, min_samples_leaf=4, min_samples_split=3, splitter=best;, score=-4336.527 total time=   0.1s\n",
      "[CV 1/5] END max_depth=20, min_samples_leaf=4, min_samples_split=3, splitter=random;, score=-3686.513 total time=   0.0s\n",
      "[CV 2/5] END max_depth=20, min_samples_leaf=4, min_samples_split=3, splitter=random;, score=-4383.347 total time=   0.0s\n",
      "[CV 3/5] END max_depth=20, min_samples_leaf=4, min_samples_split=3, splitter=random;, score=-4989.844 total time=   0.0s\n",
      "[CV 4/5] END max_depth=20, min_samples_leaf=4, min_samples_split=3, splitter=random;, score=-4869.934 total time=   0.0s\n",
      "[CV 5/5] END max_depth=20, min_samples_leaf=4, min_samples_split=3, splitter=random;, score=-10315.853 total time=   0.0s\n",
      "[CV 1/5] END max_depth=20, min_samples_leaf=4, min_samples_split=4, splitter=best;, score=-3493.299 total time=   0.1s\n",
      "[CV 2/5] END max_depth=20, min_samples_leaf=4, min_samples_split=4, splitter=best;, score=-1644.167 total time=   0.1s\n",
      "[CV 3/5] END max_depth=20, min_samples_leaf=4, min_samples_split=4, splitter=best;, score=-4513.249 total time=   0.1s\n",
      "[CV 4/5] END max_depth=20, min_samples_leaf=4, min_samples_split=4, splitter=best;, score=-3195.264 total time=   0.1s\n",
      "[CV 5/5] END max_depth=20, min_samples_leaf=4, min_samples_split=4, splitter=best;, score=-4359.471 total time=   0.1s\n",
      "[CV 1/5] END max_depth=20, min_samples_leaf=4, min_samples_split=4, splitter=random;, score=-3731.045 total time=   0.0s\n",
      "[CV 2/5] END max_depth=20, min_samples_leaf=4, min_samples_split=4, splitter=random;, score=-3515.973 total time=   0.0s\n",
      "[CV 3/5] END max_depth=20, min_samples_leaf=4, min_samples_split=4, splitter=random;, score=-6666.188 total time=   0.0s\n",
      "[CV 4/5] END max_depth=20, min_samples_leaf=4, min_samples_split=4, splitter=random;, score=-9915.466 total time=   0.0s\n",
      "[CV 5/5] END max_depth=20, min_samples_leaf=4, min_samples_split=4, splitter=random;, score=-4889.639 total time=   0.0s\n",
      "[CV 1/5] END max_depth=20, min_samples_leaf=6, min_samples_split=2, splitter=best;, score=-3224.885 total time=   0.1s\n",
      "[CV 2/5] END max_depth=20, min_samples_leaf=6, min_samples_split=2, splitter=best;, score=-1499.120 total time=   0.1s\n",
      "[CV 3/5] END max_depth=20, min_samples_leaf=6, min_samples_split=2, splitter=best;, score=-4084.439 total time=   0.1s\n",
      "[CV 4/5] END max_depth=20, min_samples_leaf=6, min_samples_split=2, splitter=best;, score=-3623.564 total time=   0.1s\n",
      "[CV 5/5] END max_depth=20, min_samples_leaf=6, min_samples_split=2, splitter=best;, score=-4350.838 total time=   0.1s\n",
      "[CV 1/5] END max_depth=20, min_samples_leaf=6, min_samples_split=2, splitter=random;, score=-3900.510 total time=   0.0s\n",
      "[CV 2/5] END max_depth=20, min_samples_leaf=6, min_samples_split=2, splitter=random;, score=-2714.351 total time=   0.0s\n",
      "[CV 3/5] END max_depth=20, min_samples_leaf=6, min_samples_split=2, splitter=random;, score=-7114.929 total time=   0.0s\n",
      "[CV 4/5] END max_depth=20, min_samples_leaf=6, min_samples_split=2, splitter=random;, score=-8930.822 total time=   0.0s\n",
      "[CV 5/5] END max_depth=20, min_samples_leaf=6, min_samples_split=2, splitter=random;, score=-6978.888 total time=   0.0s\n",
      "[CV 1/5] END max_depth=20, min_samples_leaf=6, min_samples_split=3, splitter=best;, score=-3263.877 total time=   0.1s\n",
      "[CV 2/5] END max_depth=20, min_samples_leaf=6, min_samples_split=3, splitter=best;, score=-1520.075 total time=   0.1s\n",
      "[CV 3/5] END max_depth=20, min_samples_leaf=6, min_samples_split=3, splitter=best;, score=-3956.692 total time=   0.1s\n",
      "[CV 4/5] END max_depth=20, min_samples_leaf=6, min_samples_split=3, splitter=best;, score=-3625.498 total time=   0.1s\n",
      "[CV 5/5] END max_depth=20, min_samples_leaf=6, min_samples_split=3, splitter=best;, score=-4338.871 total time=   0.1s\n",
      "[CV 1/5] END max_depth=20, min_samples_leaf=6, min_samples_split=3, splitter=random;, score=-3164.055 total time=   0.0s\n",
      "[CV 2/5] END max_depth=20, min_samples_leaf=6, min_samples_split=3, splitter=random;, score=-2633.516 total time=   0.0s\n",
      "[CV 3/5] END max_depth=20, min_samples_leaf=6, min_samples_split=3, splitter=random;, score=-4662.838 total time=   0.0s\n",
      "[CV 4/5] END max_depth=20, min_samples_leaf=6, min_samples_split=3, splitter=random;, score=-11052.964 total time=   0.0s\n",
      "[CV 5/5] END max_depth=20, min_samples_leaf=6, min_samples_split=3, splitter=random;, score=-5687.724 total time=   0.0s\n",
      "[CV 1/5] END max_depth=20, min_samples_leaf=6, min_samples_split=4, splitter=best;, score=-3229.234 total time=   0.1s\n",
      "[CV 2/5] END max_depth=20, min_samples_leaf=6, min_samples_split=4, splitter=best;, score=-1511.541 total time=   0.1s\n",
      "[CV 3/5] END max_depth=20, min_samples_leaf=6, min_samples_split=4, splitter=best;, score=-4057.871 total time=   0.1s\n",
      "[CV 4/5] END max_depth=20, min_samples_leaf=6, min_samples_split=4, splitter=best;, score=-3615.291 total time=   0.1s\n",
      "[CV 5/5] END max_depth=20, min_samples_leaf=6, min_samples_split=4, splitter=best;, score=-4349.442 total time=   0.1s\n",
      "[CV 1/5] END max_depth=20, min_samples_leaf=6, min_samples_split=4, splitter=random;, score=-4078.716 total time=   0.0s\n",
      "[CV 2/5] END max_depth=20, min_samples_leaf=6, min_samples_split=4, splitter=random;, score=-3208.250 total time=   0.0s\n",
      "[CV 3/5] END max_depth=20, min_samples_leaf=6, min_samples_split=4, splitter=random;, score=-5286.260 total time=   0.0s\n",
      "[CV 4/5] END max_depth=20, min_samples_leaf=6, min_samples_split=4, splitter=random;, score=-4583.071 total time=   0.0s\n",
      "[CV 5/5] END max_depth=20, min_samples_leaf=6, min_samples_split=4, splitter=random;, score=-5109.969 total time=   0.0s\n"
     ]
    },
    {
     "name": "stdout",
     "output_type": "stream",
     "text": [
      "[CV 1/5] END max_depth=20, min_samples_leaf=10, min_samples_split=2, splitter=best;, score=-3529.167 total time=   0.1s\n",
      "[CV 2/5] END max_depth=20, min_samples_leaf=10, min_samples_split=2, splitter=best;, score=-1978.147 total time=   0.1s\n",
      "[CV 3/5] END max_depth=20, min_samples_leaf=10, min_samples_split=2, splitter=best;, score=-4103.330 total time=   0.1s\n",
      "[CV 4/5] END max_depth=20, min_samples_leaf=10, min_samples_split=2, splitter=best;, score=-3402.391 total time=   0.1s\n",
      "[CV 5/5] END max_depth=20, min_samples_leaf=10, min_samples_split=2, splitter=best;, score=-4357.298 total time=   0.1s\n",
      "[CV 1/5] END max_depth=20, min_samples_leaf=10, min_samples_split=2, splitter=random;, score=-4910.122 total time=   0.0s\n",
      "[CV 2/5] END max_depth=20, min_samples_leaf=10, min_samples_split=2, splitter=random;, score=-5500.870 total time=   0.0s\n",
      "[CV 3/5] END max_depth=20, min_samples_leaf=10, min_samples_split=2, splitter=random;, score=-4480.167 total time=   0.0s\n",
      "[CV 4/5] END max_depth=20, min_samples_leaf=10, min_samples_split=2, splitter=random;, score=-5832.093 total time=   0.0s\n",
      "[CV 5/5] END max_depth=20, min_samples_leaf=10, min_samples_split=2, splitter=random;, score=-6434.763 total time=   0.0s\n",
      "[CV 1/5] END max_depth=20, min_samples_leaf=10, min_samples_split=3, splitter=best;, score=-3529.135 total time=   0.1s\n",
      "[CV 2/5] END max_depth=20, min_samples_leaf=10, min_samples_split=3, splitter=best;, score=-1978.299 total time=   0.1s\n",
      "[CV 3/5] END max_depth=20, min_samples_leaf=10, min_samples_split=3, splitter=best;, score=-4104.746 total time=   0.1s\n",
      "[CV 4/5] END max_depth=20, min_samples_leaf=10, min_samples_split=3, splitter=best;, score=-3402.128 total time=   0.1s\n",
      "[CV 5/5] END max_depth=20, min_samples_leaf=10, min_samples_split=3, splitter=best;, score=-4357.298 total time=   0.1s\n",
      "[CV 1/5] END max_depth=20, min_samples_leaf=10, min_samples_split=3, splitter=random;, score=-5046.813 total time=   0.0s\n",
      "[CV 2/5] END max_depth=20, min_samples_leaf=10, min_samples_split=3, splitter=random;, score=-4354.839 total time=   0.0s\n",
      "[CV 3/5] END max_depth=20, min_samples_leaf=10, min_samples_split=3, splitter=random;, score=-6227.222 total time=   0.0s\n",
      "[CV 4/5] END max_depth=20, min_samples_leaf=10, min_samples_split=3, splitter=random;, score=-5472.367 total time=   0.0s\n",
      "[CV 5/5] END max_depth=20, min_samples_leaf=10, min_samples_split=3, splitter=random;, score=-5698.153 total time=   0.0s\n",
      "[CV 1/5] END max_depth=20, min_samples_leaf=10, min_samples_split=4, splitter=best;, score=-3519.225 total time=   0.1s\n",
      "[CV 2/5] END max_depth=20, min_samples_leaf=10, min_samples_split=4, splitter=best;, score=-1978.147 total time=   0.1s\n",
      "[CV 3/5] END max_depth=20, min_samples_leaf=10, min_samples_split=4, splitter=best;, score=-4090.229 total time=   0.1s\n",
      "[CV 4/5] END max_depth=20, min_samples_leaf=10, min_samples_split=4, splitter=best;, score=-3401.866 total time=   0.1s\n",
      "[CV 5/5] END max_depth=20, min_samples_leaf=10, min_samples_split=4, splitter=best;, score=-4355.056 total time=   0.1s\n",
      "[CV 1/5] END max_depth=20, min_samples_leaf=10, min_samples_split=4, splitter=random;, score=-5217.285 total time=   0.0s\n",
      "[CV 2/5] END max_depth=20, min_samples_leaf=10, min_samples_split=4, splitter=random;, score=-6322.856 total time=   0.0s\n",
      "[CV 3/5] END max_depth=20, min_samples_leaf=10, min_samples_split=4, splitter=random;, score=-4418.453 total time=   0.0s\n",
      "[CV 4/5] END max_depth=20, min_samples_leaf=10, min_samples_split=4, splitter=random;, score=-6514.207 total time=   0.0s\n",
      "[CV 5/5] END max_depth=20, min_samples_leaf=10, min_samples_split=4, splitter=random;, score=-6837.490 total time=   0.0s\n"
     ]
    },
    {
     "data": {
      "text/plain": [
       "GridSearchCV(cv=5, estimator=DecisionTreeRegressor(),\n",
       "             param_grid={'max_depth': [1, 3, 5, 7, 10, 12, 15, 16, 18, 20],\n",
       "                         'min_samples_leaf': [2, 3, 4, 6, 10],\n",
       "                         'min_samples_split': [2, 3, 4],\n",
       "                         'splitter': ['best', 'random']},\n",
       "             scoring='neg_mean_squared_error', verbose=3)"
      ]
     },
     "execution_count": 122,
     "metadata": {},
     "output_type": "execute_result"
    }
   ],
   "source": [
    "tuning_model.fit(X,Y)"
   ]
  },
  {
   "cell_type": "code",
   "execution_count": null,
   "id": "99cd60f1",
   "metadata": {
    "id": "99cd60f1",
    "outputId": "ad4ace3c-1926-49bc-d93f-314be1434fc6"
   },
   "outputs": [
    {
     "data": {
      "text/plain": [
       "{'max_depth': 18,\n",
       " 'min_samples_leaf': 6,\n",
       " 'min_samples_split': 4,\n",
       " 'splitter': 'best'}"
      ]
     },
     "execution_count": 123,
     "metadata": {},
     "output_type": "execute_result"
    }
   ],
   "source": [
    "  tuning_model.best_params_"
   ]
  },
  {
   "cell_type": "code",
   "execution_count": null,
   "id": "6a09a6d1",
   "metadata": {
    "id": "6a09a6d1"
   },
   "outputs": [],
   "source": [
    "\n",
    "tuned_hyper_model= DecisionTreeRegressor(max_depth=18,min_samples_leaf=6,min_samples_split=4,splitter='best')"
   ]
  },
  {
   "cell_type": "code",
   "execution_count": null,
   "id": "ef1fd01a",
   "metadata": {
    "id": "ef1fd01a",
    "outputId": "f8eda0f9-ff96-44d2-8c5a-612c80322a88"
   },
   "outputs": [
    {
     "data": {
      "text/plain": [
       "DecisionTreeRegressor(max_depth=18, min_samples_leaf=6, min_samples_split=4)"
      ]
     },
     "execution_count": 126,
     "metadata": {},
     "output_type": "execute_result"
    }
   ],
   "source": [
    "\n",
    "tuned_hyper_model.fit(x_train,y_train)"
   ]
  },
  {
   "cell_type": "markdown",
   "id": "dd434837",
   "metadata": {
    "id": "dd434837"
   },
   "source": [
    "### Evaluating the model performance"
   ]
  },
  {
   "cell_type": "code",
   "execution_count": null,
   "id": "3f369460",
   "metadata": {
    "id": "3f369460"
   },
   "outputs": [],
   "source": [
    "tuned_pred=tuned_hyper_model.predict(x_test)"
   ]
  },
  {
   "cell_type": "code",
   "execution_count": null,
   "id": "8bc94e82",
   "metadata": {
    "id": "8bc94e82",
    "outputId": "4865abaf-63a2-4e90-d569-6a506cad35be"
   },
   "outputs": [
    {
     "data": {
      "text/plain": [
       "0.9426857602130964"
      ]
     },
     "execution_count": 128,
     "metadata": {},
     "output_type": "execute_result"
    }
   ],
   "source": [
    "r2_score(y_test,tuned_pred)"
   ]
  },
  {
   "cell_type": "code",
   "execution_count": null,
   "id": "05f899fe",
   "metadata": {
    "id": "05f899fe",
    "outputId": "d7a14df6-8cad-4b37-e0d2-ef0d23e30dde"
   },
   "outputs": [
    {
     "data": {
      "text/plain": [
       "0.9381305637982196"
      ]
     },
     "execution_count": 132,
     "metadata": {},
     "output_type": "execute_result"
    }
   ],
   "source": [
    "adjustedr2 = adjustedr2 = 1-(1-0.94)*(3476-1)/(3476-105-1)\n",
    "adjustedr2"
   ]
  },
  {
   "cell_type": "code",
   "execution_count": null,
   "id": "b131930c",
   "metadata": {
    "id": "b131930c",
    "outputId": "0ead678c-1094-492f-b925-23aed3250842"
   },
   "outputs": [
    {
     "data": {
      "text/plain": [
       "0.983532813813719"
      ]
     },
     "execution_count": 129,
     "metadata": {},
     "output_type": "execute_result"
    }
   ],
   "source": [
    "tuned_hyper_model.score(x_train,y_train)"
   ]
  },
  {
   "cell_type": "code",
   "execution_count": null,
   "id": "17fa3ba2",
   "metadata": {
    "id": "17fa3ba2",
    "outputId": "029d7707-df20-4e5c-e001-69aca450353d"
   },
   "outputs": [
    {
     "data": {
      "text/plain": [
       "25.974947011063325"
      ]
     },
     "execution_count": 130,
     "metadata": {},
     "output_type": "execute_result"
    }
   ],
   "source": [
    "mean_absolute_error(y_test,tuned_pred)"
   ]
  },
  {
   "cell_type": "markdown",
   "id": "c08416f5",
   "metadata": {
    "id": "c08416f5"
   },
   "source": [
    "## Conclusion:"
   ]
  },
  {
   "cell_type": "markdown",
   "id": "1ac0aadc",
   "metadata": {
    "id": "1ac0aadc"
   },
   "source": [
    "* And here the purpose for which this model was used was fulfilled.\n",
    "* We received 98% model performance which means this model is 98% fully trained and 94% r2_score which means on testing side it is performing well with 94%.  \n",
    "* On Comparing the errors and accuracy score with simple decision tree model this tuned modelis working better.\n",
    "* Now lets take a walk through the ensemble techniques to increase accuracy_score more than this."
   ]
  },
  {
   "cell_type": "markdown",
   "id": "aff11590",
   "metadata": {
    "id": "aff11590"
   },
   "source": [
    "# 4.) Random Forest"
   ]
  },
  {
   "cell_type": "code",
   "execution_count": 111,
   "id": "24687fb9",
   "metadata": {
    "colab": {
     "base_uri": "https://localhost:8080/"
    },
    "id": "24687fb9",
    "outputId": "f822a981-33bc-4894-8ad9-9f1aea8f1ed0"
   },
   "outputs": [
    {
     "data": {
      "text/plain": [
       "RandomForestRegressor(n_estimators=800)"
      ]
     },
     "execution_count": 111,
     "metadata": {},
     "output_type": "execute_result"
    }
   ],
   "source": [
    "from sklearn.ensemble import RandomForestRegressor\n",
    "\n",
    "rf_reg = RandomForestRegressor(n_estimators=800)\n",
    "rf_reg.fit(x_train,y_train)"
   ]
  },
  {
   "cell_type": "code",
   "execution_count": 112,
   "id": "66e4fc70",
   "metadata": {
    "id": "66e4fc70"
   },
   "outputs": [],
   "source": [
    "y_predict_rf=rf_reg.predict(x_test)"
   ]
  },
  {
   "cell_type": "markdown",
   "id": "273139d9",
   "metadata": {
    "id": "273139d9"
   },
   "source": [
    "### EVALUATION PART"
   ]
  },
  {
   "cell_type": "code",
   "execution_count": 113,
   "id": "045ed295",
   "metadata": {
    "colab": {
     "base_uri": "https://localhost:8080/"
    },
    "id": "045ed295",
    "outputId": "9f1c1235-c196-4bb5-dedb-c43c4144aac8"
   },
   "outputs": [
    {
     "name": "stdout",
     "output_type": "stream",
     "text": [
      "Mean Squared Error : 33.24392294160916\n",
      "Mean Absolute Error : 20.09398446490219\n"
     ]
    }
   ],
   "source": [
    "import math\n",
    "print(\"Mean Squared Error :\",math.sqrt(mean_squared_error(y_test,y_predict_rf)))\n",
    "print(\"Mean Absolute Error :\",mean_absolute_error(y_test,y_predict_rf))"
   ]
  },
  {
   "cell_type": "code",
   "execution_count": 114,
   "id": "2dd50191",
   "metadata": {
    "colab": {
     "base_uri": "https://localhost:8080/"
    },
    "id": "2dd50191",
    "outputId": "2faac0e6-685b-4640-be56-f92552d51610"
   },
   "outputs": [
    {
     "data": {
      "text/plain": [
       "0.9954317258139604"
      ]
     },
     "execution_count": 114,
     "metadata": {},
     "output_type": "execute_result"
    }
   ],
   "source": [
    "rf_reg.score(x_train,y_train)"
   ]
  },
  {
   "cell_type": "code",
   "execution_count": 115,
   "id": "31489064",
   "metadata": {
    "colab": {
     "base_uri": "https://localhost:8080/"
    },
    "id": "31489064",
    "outputId": "bf37ea3b-af11-4ec0-9f3b-53c3140906c2"
   },
   "outputs": [
    {
     "data": {
      "text/plain": [
       "0.9650988771058449"
      ]
     },
     "execution_count": 115,
     "metadata": {},
     "output_type": "execute_result"
    }
   ],
   "source": [
    "r2_score(y_test,y_predict_rf)"
   ]
  },
  {
   "cell_type": "markdown",
   "id": "459320c0",
   "metadata": {
    "id": "459320c0"
   },
   "source": [
    "# Conclusion:\n",
    "\n",
    "* So random forest model score is 99% and r2_score is 96% which is not bad.\n",
    "* with random forest we got 1% increase in performance."
   ]
  },
  {
   "cell_type": "markdown",
   "id": "1a29ce28",
   "metadata": {
    "id": "1a29ce28"
   },
   "source": [
    "### Hyperparameter tuning"
   ]
  },
  {
   "cell_type": "code",
   "execution_count": null,
   "id": "5313d0ca",
   "metadata": {
    "id": "5313d0ca"
   },
   "outputs": [],
   "source": [
    "# from sklearn.model_selection import RandomizedSearchCV\n",
    "# n_estimators = [int(x) for x in np.linspace(start=200, stop=1000, num=10)]\n",
    "# max_features = ['auto', 'sqrt']   \n",
    "# max_depth = [int(x) for x in np.linspace(10, 99, num=11)]\n",
    "# max_depth.append(None)\n",
    "# min_samples_split = [2, 5, 10]\n",
    "# min_samples_leaf = [1, 2, 4]\n",
    "\n",
    "\n",
    "# random_grid = {'n_estimators': n_estimators, 'max_features': max_features,\n",
    "#                'max_depth': max_depth, 'min_samples_split': min_samples_split,\n",
    "#                'min_samples_leaf': min_samples_leaf}\n",
    "# rf_regr = RandomForestRegressor(random_state=42)\n",
    "\n",
    "# rf_regr= RandomizedSearchCV(estimator=rf_regr, scoring=\"neg_mean_squared_error\",param_distributions=random_grid, n_iter=50, cv=3, \n",
    "#                                verbose=3, random_state=42, n_jobs=-1)\n",
    "\n",
    "# rf_regr.fit(x_train, y_train)  "
   ]
  },
  {
   "cell_type": "markdown",
   "id": "2dba7cf6",
   "metadata": {
    "id": "2dba7cf6"
   },
   "source": [
    "###  We tried alot with hyper paarameter tuning but we're unable to do that because of our system."
   ]
  },
  {
   "cell_type": "markdown",
   "id": "5add0078",
   "metadata": {
    "id": "5add0078"
   },
   "source": [
    "# Croos_Validation_Prediction"
   ]
  },
  {
   "cell_type": "code",
   "execution_count": null,
   "id": "d6118358",
   "metadata": {
    "id": "d6118358",
    "outputId": "058878ae-6089-480a-9c58-2440af40b8b7"
   },
   "outputs": [
    {
     "data": {
      "text/plain": [
       "array([ 93.5875 , 538.37125,   3.17625, ..., 151.80375, 100.27375,\n",
       "       783.8525 ])"
      ]
     },
     "execution_count": 53,
     "metadata": {},
     "output_type": "execute_result"
    }
   ],
   "source": [
    "# cross validation prediction\n",
    "from sklearn.model_selection import cross_val_score,cross_val_predict\n",
    "predict = cross_val_predict(rf_reg,x_train,y_train,cv=3)\n",
    "predict"
   ]
  },
  {
   "cell_type": "code",
   "execution_count": null,
   "id": "96fe8d20",
   "metadata": {
    "id": "96fe8d20"
   },
   "outputs": [],
   "source": [
    "r2_score = cross_val_score(rf_reg,x_train,y_train,cv=3)"
   ]
  },
  {
   "cell_type": "code",
   "execution_count": null,
   "id": "dad2a6f6",
   "metadata": {
    "id": "dad2a6f6",
    "outputId": "c29b77cc-021b-4c53-82b3-cdb7849b5005"
   },
   "outputs": [
    {
     "name": "stdout",
     "output_type": "stream",
     "text": [
      "R-Squared scores : 0.9625683232668013\n"
     ]
    }
   ],
   "source": [
    "print(\"R-Squared scores :\",np.average(r2_score))"
   ]
  },
  {
   "cell_type": "code",
   "execution_count": null,
   "id": "4eeb8c80",
   "metadata": {
    "id": "4eeb8c80",
    "outputId": "03a22534-8482-478c-86de-d735ff23fa67"
   },
   "outputs": [
    {
     "name": "stdout",
     "output_type": "stream",
     "text": [
      "Root mean squared error : 33.26820322569056\n",
      "Mean absolute error : 20.130910169735326\n"
     ]
    }
   ],
   "source": [
    "rmse = math.sqrt(mean_squared_error(y_test,y_predict))\n",
    "print(\"Root mean squared error :\",rmse)\n",
    "mae= mean_absolute_error(y_test,y_predict)\n",
    "print(\"Mean absolute error :\",mae)"
   ]
  },
  {
   "cell_type": "markdown",
   "id": "edd43eb4",
   "metadata": {
    "id": "edd43eb4"
   },
   "source": [
    "# Conclusion:\n",
    "\n",
    "* WE received 96% r2_score using cross_validation\n",
    "* AND got an increase of 2% in testing accuracy using cross-validation"
   ]
  },
  {
   "cell_type": "markdown",
   "id": "7CqdmHOyTdsk",
   "metadata": {
    "id": "7CqdmHOyTdsk"
   },
   "source": [
    "# 5.) **BAGGING**"
   ]
  },
  {
   "cell_type": "code",
   "execution_count": 97,
   "id": "fDUtaZXBTXCA",
   "metadata": {
    "id": "fDUtaZXBTXCA"
   },
   "outputs": [],
   "source": [
    "from sklearn.ensemble import RandomForestRegressor\n",
    "from sklearn.ensemble import BaggingRegressor\n",
    "rf_reg_bagg = RandomForestRegressor() \n",
    "model_bagg1=BaggingRegressor(base_estimator=rf_reg_bagg,n_estimators=52) ## model objet creation\n",
    "#base_estimator---> algorithm which you want to pass\n",
    "#n_estimotors-----> number of base learners\n",
    "model_bagg1.fit(x_train,y_train) ## fitting the model\n",
    "y_hat_bagg=model_bagg1.predict(x_test)"
   ]
  },
  {
   "cell_type": "code",
   "execution_count": 100,
   "id": "APKjLRYncGd-",
   "metadata": {
    "colab": {
     "base_uri": "https://localhost:8080/"
    },
    "id": "APKjLRYncGd-",
    "outputId": "f34005c0-b7ed-41cf-9c6b-d5a868e2780c"
   },
   "outputs": [
    {
     "data": {
      "text/plain": [
       "0.987244489995039"
      ]
     },
     "execution_count": 100,
     "metadata": {},
     "output_type": "execute_result"
    }
   ],
   "source": [
    "model_bagg1.score(x_train,y_train)"
   ]
  },
  {
   "cell_type": "code",
   "execution_count": 99,
   "id": "VnCix8iJcGn3",
   "metadata": {
    "colab": {
     "base_uri": "https://localhost:8080/"
    },
    "id": "VnCix8iJcGn3",
    "outputId": "2bd6c715-f11b-4a26-89de-ca12060e65ba"
   },
   "outputs": [
    {
     "data": {
      "text/plain": [
       "0.9637185037944594"
      ]
     },
     "execution_count": 99,
     "metadata": {},
     "output_type": "execute_result"
    }
   ],
   "source": [
    "r2_score(y_test,y_hat_bagg)"
   ]
  },
  {
   "cell_type": "code",
   "execution_count": 102,
   "id": "OLeYY9T9nZPj",
   "metadata": {
    "colab": {
     "base_uri": "https://localhost:8080/"
    },
    "id": "OLeYY9T9nZPj",
    "outputId": "1b3167aa-caa4-4315-9a99-2eaa0e3141b1"
   },
   "outputs": [
    {
     "name": "stdout",
     "output_type": "stream",
     "text": [
      "Mean Squared Error : 33.89496277104511\n",
      "Mean Absolute Error : 20.85899204434806\n"
     ]
    }
   ],
   "source": [
    "print(\"Mean Squared Error :\",math.sqrt(mean_squared_error(y_test,y_hat_bagg)))\n",
    "print(\"Mean Absolute Error :\",mean_absolute_error(y_test,y_hat_bagg))"
   ]
  },
  {
   "cell_type": "markdown",
   "id": "a5e1fb32",
   "metadata": {
    "id": "a5e1fb32"
   },
   "source": [
    "# Conclusion:\n",
    "\n",
    "* With bagging no change shown in model performance.\n",
    "* Now let us use boosting ensemble technique."
   ]
  },
  {
   "cell_type": "markdown",
   "id": "3gbuiPdEenwg",
   "metadata": {
    "id": "3gbuiPdEenwg"
   },
   "source": [
    "# 6.) **BOOSTING**"
   ]
  },
  {
   "cell_type": "code",
   "execution_count": 103,
   "id": "_XuFqvTEemX5",
   "metadata": {
    "id": "_XuFqvTEemX5"
   },
   "outputs": [],
   "source": [
    "from sklearn.ensemble import GradientBoostingRegressor\n",
    "gbm=GradientBoostingRegressor() ## object creation"
   ]
  },
  {
   "cell_type": "code",
   "execution_count": 104,
   "id": "UILPZMcKempn",
   "metadata": {
    "colab": {
     "base_uri": "https://localhost:8080/"
    },
    "id": "UILPZMcKempn",
    "outputId": "b267fd6b-3f00-4744-bc9f-2364cd9ff032"
   },
   "outputs": [
    {
     "data": {
      "text/plain": [
       "GradientBoostingRegressor()"
      ]
     },
     "execution_count": 104,
     "metadata": {},
     "output_type": "execute_result"
    }
   ],
   "source": [
    "gbm.fit(x_train,y_train) ## fitting the data"
   ]
  },
  {
   "cell_type": "code",
   "execution_count": 105,
   "id": "4nmRthcwem48",
   "metadata": {
    "id": "4nmRthcwem48"
   },
   "outputs": [],
   "source": [
    "y_gbm=gbm.predict(x_test)"
   ]
  },
  {
   "cell_type": "code",
   "execution_count": 106,
   "id": "1LXoMvgXfYDo",
   "metadata": {
    "colab": {
     "base_uri": "https://localhost:8080/"
    },
    "id": "1LXoMvgXfYDo",
    "outputId": "a2fee86a-aa73-4f72-8cf0-7adf8337543b"
   },
   "outputs": [
    {
     "data": {
      "text/plain": [
       "0.9489426433900207"
      ]
     },
     "execution_count": 106,
     "metadata": {},
     "output_type": "execute_result"
    }
   ],
   "source": [
    "gbm.score(x_train,y_train)"
   ]
  },
  {
   "cell_type": "code",
   "execution_count": 107,
   "id": "SzRUxISLfYNG",
   "metadata": {
    "colab": {
     "base_uri": "https://localhost:8080/"
    },
    "id": "SzRUxISLfYNG",
    "outputId": "7fd6e5b8-4134-470e-9eb5-bb9fec99804c"
   },
   "outputs": [
    {
     "data": {
      "text/plain": [
       "0.9433782605109229"
      ]
     },
     "execution_count": 107,
     "metadata": {},
     "output_type": "execute_result"
    }
   ],
   "source": [
    "r2_score(y_test,y_gbm)"
   ]
  },
  {
   "cell_type": "code",
   "execution_count": 108,
   "id": "-1nR4PbZnyj_",
   "metadata": {
    "colab": {
     "base_uri": "https://localhost:8080/"
    },
    "id": "-1nR4PbZnyj_",
    "outputId": "b512913b-07e2-4d3b-dd2c-f7b3c0e082a0"
   },
   "outputs": [
    {
     "name": "stdout",
     "output_type": "stream",
     "text": [
      "Mean Squared Error : 42.34324823991803\n",
      "Mean Absolute Error : 28.52156617194926\n"
     ]
    }
   ],
   "source": [
    "print(\"Mean Squared Error :\",math.sqrt(mean_squared_error(y_test,y_gbm)))\n",
    "print(\"Mean Absolute Error :\",mean_absolute_error(y_test,y_gbm))"
   ]
  },
  {
   "cell_type": "markdown",
   "id": "fa612369",
   "metadata": {
    "id": "fa612369"
   },
   "source": [
    "# Conclusion:\n",
    "\n",
    "* By using Boosting we're getting approx. 95% model performance.\n",
    "* And testing score 94% testing accuracy so this model is doing well as its neither overfitted nor underfitted model.\n",
    "* But the problem here is that we're getting increase in errors. "
   ]
  },
  {
   "cell_type": "markdown",
   "id": "oOG9jMeNgchW",
   "metadata": {
    "id": "oOG9jMeNgchW"
   },
   "source": [
    "# The actual values and the predicted values "
   ]
  },
  {
   "cell_type": "code",
   "execution_count": 117,
   "id": "8c18fc15",
   "metadata": {
    "colab": {
     "base_uri": "https://localhost:8080/",
     "height": 423
    },
    "id": "8c18fc15",
    "outputId": "a3a7d44f-a9a4-4bed-96d2-f8614aa228ee"
   },
   "outputs": [
    {
     "data": {
      "text/html": [
       "\n",
       "  <div id=\"df-8e284800-3715-4a35-81de-8244239f8fd5\">\n",
       "    <div class=\"colab-df-container\">\n",
       "      <div>\n",
       "<style scoped>\n",
       "    .dataframe tbody tr th:only-of-type {\n",
       "        vertical-align: middle;\n",
       "    }\n",
       "\n",
       "    .dataframe tbody tr th {\n",
       "        vertical-align: top;\n",
       "    }\n",
       "\n",
       "    .dataframe thead th {\n",
       "        text-align: right;\n",
       "    }\n",
       "</style>\n",
       "<table border=\"1\" class=\"dataframe\">\n",
       "  <thead>\n",
       "    <tr style=\"text-align: right;\">\n",
       "      <th></th>\n",
       "      <th>y_test</th>\n",
       "      <th>y_hat_bagg</th>\n",
       "    </tr>\n",
       "  </thead>\n",
       "  <tbody>\n",
       "    <tr>\n",
       "      <th>0</th>\n",
       "      <td>425</td>\n",
       "      <td>470.71625</td>\n",
       "    </tr>\n",
       "    <tr>\n",
       "      <th>1</th>\n",
       "      <td>88</td>\n",
       "      <td>91.60250</td>\n",
       "    </tr>\n",
       "    <tr>\n",
       "      <th>2</th>\n",
       "      <td>4</td>\n",
       "      <td>9.48375</td>\n",
       "    </tr>\n",
       "    <tr>\n",
       "      <th>3</th>\n",
       "      <td>526</td>\n",
       "      <td>536.29375</td>\n",
       "    </tr>\n",
       "    <tr>\n",
       "      <th>4</th>\n",
       "      <td>13</td>\n",
       "      <td>16.64375</td>\n",
       "    </tr>\n",
       "    <tr>\n",
       "      <th>...</th>\n",
       "      <td>...</td>\n",
       "      <td>...</td>\n",
       "    </tr>\n",
       "    <tr>\n",
       "      <th>3471</th>\n",
       "      <td>17</td>\n",
       "      <td>19.40375</td>\n",
       "    </tr>\n",
       "    <tr>\n",
       "      <th>3472</th>\n",
       "      <td>85</td>\n",
       "      <td>94.26500</td>\n",
       "    </tr>\n",
       "    <tr>\n",
       "      <th>3473</th>\n",
       "      <td>98</td>\n",
       "      <td>75.91500</td>\n",
       "    </tr>\n",
       "    <tr>\n",
       "      <th>3474</th>\n",
       "      <td>266</td>\n",
       "      <td>356.56625</td>\n",
       "    </tr>\n",
       "    <tr>\n",
       "      <th>3475</th>\n",
       "      <td>267</td>\n",
       "      <td>192.39250</td>\n",
       "    </tr>\n",
       "  </tbody>\n",
       "</table>\n",
       "<p>3476 rows × 2 columns</p>\n",
       "</div>\n",
       "      <button class=\"colab-df-convert\" onclick=\"convertToInteractive('df-8e284800-3715-4a35-81de-8244239f8fd5')\"\n",
       "              title=\"Convert this dataframe to an interactive table.\"\n",
       "              style=\"display:none;\">\n",
       "        \n",
       "  <svg xmlns=\"http://www.w3.org/2000/svg\" height=\"24px\"viewBox=\"0 0 24 24\"\n",
       "       width=\"24px\">\n",
       "    <path d=\"M0 0h24v24H0V0z\" fill=\"none\"/>\n",
       "    <path d=\"M18.56 5.44l.94 2.06.94-2.06 2.06-.94-2.06-.94-.94-2.06-.94 2.06-2.06.94zm-11 1L8.5 8.5l.94-2.06 2.06-.94-2.06-.94L8.5 2.5l-.94 2.06-2.06.94zm10 10l.94 2.06.94-2.06 2.06-.94-2.06-.94-.94-2.06-.94 2.06-2.06.94z\"/><path d=\"M17.41 7.96l-1.37-1.37c-.4-.4-.92-.59-1.43-.59-.52 0-1.04.2-1.43.59L10.3 9.45l-7.72 7.72c-.78.78-.78 2.05 0 2.83L4 21.41c.39.39.9.59 1.41.59.51 0 1.02-.2 1.41-.59l7.78-7.78 2.81-2.81c.8-.78.8-2.07 0-2.86zM5.41 20L4 18.59l7.72-7.72 1.47 1.35L5.41 20z\"/>\n",
       "  </svg>\n",
       "      </button>\n",
       "      \n",
       "  <style>\n",
       "    .colab-df-container {\n",
       "      display:flex;\n",
       "      flex-wrap:wrap;\n",
       "      gap: 12px;\n",
       "    }\n",
       "\n",
       "    .colab-df-convert {\n",
       "      background-color: #E8F0FE;\n",
       "      border: none;\n",
       "      border-radius: 50%;\n",
       "      cursor: pointer;\n",
       "      display: none;\n",
       "      fill: #1967D2;\n",
       "      height: 32px;\n",
       "      padding: 0 0 0 0;\n",
       "      width: 32px;\n",
       "    }\n",
       "\n",
       "    .colab-df-convert:hover {\n",
       "      background-color: #E2EBFA;\n",
       "      box-shadow: 0px 1px 2px rgba(60, 64, 67, 0.3), 0px 1px 3px 1px rgba(60, 64, 67, 0.15);\n",
       "      fill: #174EA6;\n",
       "    }\n",
       "\n",
       "    [theme=dark] .colab-df-convert {\n",
       "      background-color: #3B4455;\n",
       "      fill: #D2E3FC;\n",
       "    }\n",
       "\n",
       "    [theme=dark] .colab-df-convert:hover {\n",
       "      background-color: #434B5C;\n",
       "      box-shadow: 0px 1px 3px 1px rgba(0, 0, 0, 0.15);\n",
       "      filter: drop-shadow(0px 1px 2px rgba(0, 0, 0, 0.3));\n",
       "      fill: #FFFFFF;\n",
       "    }\n",
       "  </style>\n",
       "\n",
       "      <script>\n",
       "        const buttonEl =\n",
       "          document.querySelector('#df-8e284800-3715-4a35-81de-8244239f8fd5 button.colab-df-convert');\n",
       "        buttonEl.style.display =\n",
       "          google.colab.kernel.accessAllowed ? 'block' : 'none';\n",
       "\n",
       "        async function convertToInteractive(key) {\n",
       "          const element = document.querySelector('#df-8e284800-3715-4a35-81de-8244239f8fd5');\n",
       "          const dataTable =\n",
       "            await google.colab.kernel.invokeFunction('convertToInteractive',\n",
       "                                                     [key], {});\n",
       "          if (!dataTable) return;\n",
       "\n",
       "          const docLinkHtml = 'Like what you see? Visit the ' +\n",
       "            '<a target=\"_blank\" href=https://colab.research.google.com/notebooks/data_table.ipynb>data table notebook</a>'\n",
       "            + ' to learn more about interactive tables.';\n",
       "          element.innerHTML = '';\n",
       "          dataTable['output_type'] = 'display_data';\n",
       "          await google.colab.output.renderOutput(dataTable, element);\n",
       "          const docLink = document.createElement('div');\n",
       "          docLink.innerHTML = docLinkHtml;\n",
       "          element.appendChild(docLink);\n",
       "        }\n",
       "      </script>\n",
       "    </div>\n",
       "  </div>\n",
       "  "
      ],
      "text/plain": [
       "      y_test  y_hat_bagg\n",
       "0        425   470.71625\n",
       "1         88    91.60250\n",
       "2          4     9.48375\n",
       "3        526   536.29375\n",
       "4         13    16.64375\n",
       "...      ...         ...\n",
       "3471      17    19.40375\n",
       "3472      85    94.26500\n",
       "3473      98    75.91500\n",
       "3474     266   356.56625\n",
       "3475     267   192.39250\n",
       "\n",
       "[3476 rows x 2 columns]"
      ]
     },
     "execution_count": 117,
     "metadata": {},
     "output_type": "execute_result"
    }
   ],
   "source": [
    "data1 = pd.DataFrame(y_test,columns=[\"y_test\"])\n",
    "data2 = pd.DataFrame(y_predict_rf,columns=[\"y_predict_rf\"])\n",
    "future_predictions = pd.merge(data1,data2,left_index = True,right_index=True )\n",
    "future_predictions.to_csv(\"Bike_Rental_predictions.csv\")\n",
    "future_predictions"
   ]
  },
  {
   "cell_type": "code",
   "execution_count": null,
   "id": "HX04nhJTo45I",
   "metadata": {
    "id": "HX04nhJTo45I"
   },
   "outputs": [],
   "source": []
  }
 ],
 "metadata": {
  "colab": {
   "collapsed_sections": [
    "2fa128e8",
    "e2e70dfd",
    "aeb67163",
    "8097a1cb",
    "a001f537",
    "d7e8d45b",
    "f61f1aa8",
    "5169e26e",
    "22b711b7",
    "cc231cb8"
   ],
   "name": "BikeRental_hourly_project.ipynb",
   "provenance": []
  },
  "kernelspec": {
   "display_name": "Python 3",
   "language": "python",
   "name": "python3"
  },
  "language_info": {
   "codemirror_mode": {
    "name": "ipython",
    "version": 3
   },
   "file_extension": ".py",
   "mimetype": "text/x-python",
   "name": "python",
   "nbconvert_exporter": "python",
   "pygments_lexer": "ipython3",
   "version": "3.8.8"
  }
 },
 "nbformat": 4,
 "nbformat_minor": 5
}
At Last, after comparing all the models , random forest model is recommended for making predictions.
